{
 "cells": [
  {
   "cell_type": "markdown",
   "metadata": {},
   "source": [
    "# Tomography reconstruction using TomoPy interactively"
   ]
  },
  {
   "cell_type": "code",
   "execution_count": 1,
   "metadata": {
    "collapsed": true
   },
   "outputs": [],
   "source": [
    "%matplotlib inline\n",
    "from IPython.display import set_matplotlib_formats\n",
    "set_matplotlib_formats('png', 'pdf')\n",
    "\n",
    "import numpy as np\n",
    "import matplotlib.pyplot as plt\n",
    "\n",
    "import tifffile\n",
    "import tomopy\n",
    "import ipywidgets\n",
    "\n",
    "# check variable info\n",
    "def varinfo(arr):\n",
    "    print arr.dtype, arr.shape, arr.min(), arr.max()"
   ]
  },
  {
   "cell_type": "markdown",
   "metadata": {},
   "source": [
    "## Load images\n",
    "Provide the paths for the projection, open beam and dark current images, respectively."
   ]
  },
  {
   "cell_type": "code",
   "execution_count": 2,
   "metadata": {
    "collapsed": true
   },
   "outputs": [],
   "source": [
    "path_proj = '/Users/zhouzhou/Work/2017/TomoPy_vs_Octopus/20160630_turbineblade_Octopus/resized/turbine_*.tif'\n",
    "path_ob = '/Users/zhouzhou/Work/2017/TomoPy_vs_Octopus/20160630_turbineblade_Octopus/resized/empty_*.tif'\n",
    "path_dc = '/Users/zhouzhou/Work/2017/TomoPy_vs_Octopus/20160630_turbineblade_Octopus/resized/dark_*.tif'\n",
    "\n",
    "# where you want to save the data\n",
    "path_save = '/Users/zhouzhou/Work/2017/Reconstruction/tomopy/'\n",
    "\n",
    "proj = tifffile.imread(path_proj)\n",
    "ob = tifffile.imread(path_ob)\n",
    "dc = tifffile.imread(path_dc)"
   ]
  },
  {
   "cell_type": "markdown",
   "metadata": {},
   "source": [
    "Display the image you want to have a look at the data."
   ]
  },
  {
   "cell_type": "code",
   "execution_count": 3,
   "metadata": {
    "collapsed": false,
    "scrolled": true
   },
   "outputs": [
    {
     "name": "stdout",
     "output_type": "stream",
     "text": [
      "There are 801 projections, 20 open beam images, and 20 dark images.\n"
     ]
    },
    {
     "data": {
      "application/vnd.jupyter.widget-view+json": {
       "model_id": "3b58df48ee0f43ab9a8cf046bd60e45e"
      }
     },
     "metadata": {},
     "output_type": "display_data"
    },
    {
     "data": {
      "text/plain": [
       "<function __main__.disp_im>"
      ]
     },
     "execution_count": 3,
     "metadata": {},
     "output_type": "execute_result"
    }
   ],
   "source": [
    "n_proj = proj.shape[0]\n",
    "n_ob = ob.shape[0]\n",
    "n_dc = dc.shape[0]\n",
    "\n",
    "print 'There are %d projections, %d open beam images, and %d dark images.' % (n_proj, n_ob, n_dc)\n",
    "\n",
    "def disp_im(ims, i=0, vmin=0, vmax=65536):\n",
    "    if ims == 'Projections':\n",
    "        data = proj\n",
    "    elif ims == 'Open beam images':\n",
    "        data = ob\n",
    "    elif ims == 'Dark images':\n",
    "        data = dc\n",
    "    plt.imshow(data[i,:,:], cmap='gray', vmin=vmin, vmax=vmax)\n",
    "    plt.show()\n",
    "    \n",
    "ipywidgets.interact(disp_im, \n",
    "                    ims=['Projections', 'Open beam images', 'Dark images'], \n",
    "                    i=(0, n_proj-1, 1), \n",
    "                    vmin=(0,65535), \n",
    "                    vmax=(0,65535))"
   ]
  },
  {
   "cell_type": "markdown",
   "metadata": {},
   "source": [
    "## Remove outliers"
   ]
  },
  {
   "cell_type": "code",
   "execution_count": 4,
   "metadata": {
    "collapsed": false
   },
   "outputs": [
    {
     "data": {
      "application/vnd.jupyter.widget-view+json": {
       "model_id": "1eb91518bce34f9db6013dbe4b43bb5b"
      }
     },
     "metadata": {},
     "output_type": "display_data"
    },
    {
     "data": {
      "text/plain": [
       "<function __main__.clean_im>"
      ]
     },
     "execution_count": 4,
     "metadata": {},
     "output_type": "execute_result"
    }
   ],
   "source": [
    "def clean_im(diff=1000, size=3):\n",
    "    # remove outliers\n",
    "    global proj_clean\n",
    "    global ob_clean\n",
    "    global dc_clean\n",
    "    proj_clean = tomopy.remove_outlier(proj, dif=diff, size=size)\n",
    "    ob_clean = tomopy.remove_outlier(ob, dif=diff, size=size)\n",
    "    dc_clean = tomopy.remove_outlier(dc, dif=diff, size=size)\n",
    "    # \n",
    "    f = np.float32(np.count_nonzero(proj-proj_clean))/proj.size\n",
    "    print 'Fraction of spots have been cleaned: %f' % f\n",
    "\n",
    "ipywidgets.interact(clean_im, \n",
    "                    diff = [10, 100, 250, 500, 750, 1000],\n",
    "                    size = [3, 5, 7])\n"
   ]
  },
  {
   "cell_type": "code",
   "execution_count": 5,
   "metadata": {
    "collapsed": false
   },
   "outputs": [
    {
     "data": {
      "application/vnd.jupyter.widget-view+json": {
       "model_id": "8eba827b38334833a6bbb22fa8c8171a"
      }
     },
     "metadata": {},
     "output_type": "display_data"
    },
    {
     "data": {
      "text/plain": [
       "<function __main__.disp_im_clean>"
      ]
     },
     "execution_count": 5,
     "metadata": {},
     "output_type": "execute_result"
    }
   ],
   "source": [
    "def disp_im_clean(ims, i=0, vmin=0, vmax=65536):\n",
    "    # display results\n",
    "    if ims == 'Projections':\n",
    "        data = proj_clean\n",
    "        original = proj\n",
    "    elif ims == 'Open beam images':\n",
    "        data = ob_clean\n",
    "        original = ob\n",
    "    elif ims == 'Dark images':\n",
    "        data = dc_clean\n",
    "        original = dc\n",
    "        \n",
    "    fig, ax = plt.subplots(1, 2, sharex=True, sharey=True, figsize=[15,8])\n",
    "    plt.subplots_adjust(wspace=0.05, hspace=0.05)\n",
    "    ax[0].imshow(data[i,:,:], cmap='gray', vmin=vmin, vmax=vmax)\n",
    "    ax[0].axis('off')\n",
    "    ax[0].set_adjustable('box-forced')\n",
    "    ax[0].set_title('Cleaned image')\n",
    "    ax[1].imshow(original[i,:,:]-data[i,:,:], cmap='gray', vmin=0, vmax=1000)\n",
    "    ax[1].axis('off')\n",
    "    ax[1].set_adjustable('box-forced')\n",
    "    ax[1].set_title('Cleaned spots')\n",
    "    plt.show()\n",
    "    \n",
    "ipywidgets.interact(disp_im_clean, \n",
    "                    ims=['Projections', 'Open beam images', 'Dark images'], \n",
    "                    i=(0, n_proj-1, 1), \n",
    "                    vmin=(0,65535), \n",
    "                    vmax=(0,65535))"
   ]
  },
  {
   "cell_type": "code",
   "execution_count": 6,
   "metadata": {
    "collapsed": false
   },
   "outputs": [],
   "source": [
    "# save cleaned images\n",
    "tifffile.imsave(path_save + 'proj_cleaned.tiff', proj_clean)\n",
    "tifffile.imsave(path_save + 'ob_cleaned.tiff', ob_clean)\n",
    "tifffile.imsave(path_save + 'dc_cleaned.tiff', dc_clean)"
   ]
  },
  {
   "cell_type": "markdown",
   "metadata": {},
   "source": [
    "## Normalisation"
   ]
  },
  {
   "cell_type": "code",
   "execution_count": 7,
   "metadata": {
    "collapsed": false
   },
   "outputs": [],
   "source": [
    "# Define cutoff value for the normalisation, default is 1.4\n",
    "cutoff_nor = 1.4\n",
    "\n",
    "# normalisation\n",
    "proj_nor = tomopy.normalize(proj_clean, ob_clean, dc_clean, cutoff=cutoff_nor)\n",
    "# replace negative values with 0.0\n",
    "proj_nor = tomopy.remove_neg(proj_nor)\n",
    "# rescale from [0.0 1.4] to [0.0 1.0]\n",
    "proj_nor = proj_nor/1.4"
   ]
  },
  {
   "cell_type": "code",
   "execution_count": 8,
   "metadata": {
    "collapsed": false
   },
   "outputs": [
    {
     "name": "stdout",
     "output_type": "stream",
     "text": [
      "float32 (801, 370, 470) 0.0 1.0\n"
     ]
    },
    {
     "data": {
      "application/vnd.jupyter.widget-view+json": {
       "model_id": "f670e17db8664f9da10e2be2255560a2"
      }
     },
     "metadata": {},
     "output_type": "display_data"
    },
    {
     "data": {
      "text/plain": [
       "<function __main__.disp_nor>"
      ]
     },
     "execution_count": 8,
     "metadata": {},
     "output_type": "execute_result"
    }
   ],
   "source": [
    "varinfo(proj_nor)\n",
    "def disp_nor(i=0, vmin=0, vmax=1.0):\n",
    "    plt.imshow(proj_nor[i,:,:], cmap='gray', vmin=vmin, vmax=vmax)\n",
    "    plt.show()\n",
    "    \n",
    "ipywidgets.interact(disp_nor, \n",
    "                    i=(0, n_proj-1, 1), \n",
    "                    vmin=(0.0,1.0), \n",
    "                    vmax=(0.0,1.0))"
   ]
  },
  {
   "cell_type": "code",
   "execution_count": 9,
   "metadata": {
    "collapsed": true
   },
   "outputs": [],
   "source": [
    "# save normalised images\n",
    "tifffile.imsave(path_save + 'proj_norm.tiff', proj_nor)"
   ]
  },
  {
   "cell_type": "markdown",
   "metadata": {},
   "source": [
    "## Find the center of rotation"
   ]
  },
  {
   "cell_type": "code",
   "execution_count": 10,
   "metadata": {
    "collapsed": true
   },
   "outputs": [],
   "source": [
    "# rotation angle range\n",
    "angle = 180\n",
    "# rotation angle in radians\n",
    "theta = np.linspace(0, angle, n_proj) / 180.0 * np.pi"
   ]
  },
  {
   "cell_type": "code",
   "execution_count": 11,
   "metadata": {
    "collapsed": false
   },
   "outputs": [
    {
     "name": "stdout",
     "output_type": "stream",
     "text": [
      "COR found from projections at 0 and 180 degree: 241.895000\n",
      "COR found using image entropy as the error metric: 242.114258\n"
     ]
    }
   ],
   "source": [
    "# find rotation axis from projections at 0 and 180 degree\n",
    "c1 = tomopy.find_center_pc(proj_nor[0,:,:], proj_nor[n_proj-1,:,:], tol=1e-3)\n",
    "# find rotation axis using image entropy as the error metric and ‘’Nelder-Mead’’ routine as the optimizer\n",
    "c2 = tomopy.find_center(proj_nor, theta=theta, tol=0.01, ratio=0.95)\n",
    "print 'COR found from projections at 0 and 180 degree: %f' % c1\n",
    "print 'COR found using image entropy as the error metric: %f' % c2"
   ]
  },
  {
   "cell_type": "code",
   "execution_count": 12,
   "metadata": {
    "collapsed": true
   },
   "outputs": [],
   "source": [
    "# choose which ceter you want\n",
    "center = c2"
   ]
  },
  {
   "cell_type": "markdown",
   "metadata": {},
   "source": [
    "## Calculate minus log of normalised images"
   ]
  },
  {
   "cell_type": "code",
   "execution_count": 13,
   "metadata": {
    "collapsed": false,
    "scrolled": false
   },
   "outputs": [
    {
     "name": "stderr",
     "output_type": "stream",
     "text": [
      "/Users/zhouzhou/anaconda/lib/python2.7/site-packages/tomopy/prep/normalize.py:92: RuntimeWarning: divide by zero encountered in log\n",
      "  arr = np.log(arr, out) # in-place\n"
     ]
    },
    {
     "name": "stdout",
     "output_type": "stream",
     "text": [
      "float32 (801, 370, 470) -0.0 inf\n"
     ]
    },
    {
     "data": {
      "application/pdf": "[encoded data removed]",
      "image/png": "[encoded data removed]",
      "text/plain": [
       "<matplotlib.figure.Figure at 0x1175c0210>"
      ]
     },
     "metadata": {},
     "output_type": "display_data"
    }
   ],
   "source": [
    "# calculate minus log of normalised images\n",
    "proj_minus_log = tomopy.minus_log(proj_nor)\n",
    "\n",
    "# the results have values of inf because of 0 in normalised images\n",
    "varinfo(proj_minus_log)\n",
    "plt.hist(proj_minus_log.ravel(), bins=256, range=(0,5), log=True)\n",
    "plt.show()"
   ]
  },
  {
   "cell_type": "markdown",
   "metadata": {},
   "source": [
    "Some pixels have value of **inf**, which will lead to **NAN** voxels resulting *missing* slices in the reconstruction. To avoid this, these **inf** values are replaced with a large number, and then replaced by the median value of neighour pixels. \n",
    "\n",
    "***Make sure there are no large numbers anymore, which otherwise will produce line artifacts!***"
   ]
  },
  {
   "cell_type": "code",
   "execution_count": 14,
   "metadata": {
    "collapsed": false
   },
   "outputs": [
    {
     "name": "stdout",
     "output_type": "stream",
     "text": [
      "float32 (801, 370, 470) 0.0 3.16937\n"
     ]
    },
    {
     "data": {
      "application/pdf": "[encoded data removed]",
      "image/png": "[encoded data removed]",
      "text/plain": [
       "<matplotlib.figure.Figure at 0x12aa473d0>"
      ]
     },
     "metadata": {},
     "output_type": "display_data"
    }
   ],
   "source": [
    "# replace inf with a large number\n",
    "proj_minus_log = tomopy.adjust_range(proj_minus_log, dmin=0, dmax=100)\n",
    "# replace these large numbers with median values of neighbours\n",
    "proj_minus_log = tomopy.remove_outlier(proj_minus_log, dif=50, size=3)\n",
    "# display the results\n",
    "varinfo(proj_minus_log)\n",
    "plt.hist(proj_minus_log.ravel(), bins=256, log=True)\n",
    "plt.show()"
   ]
  },
  {
   "cell_type": "markdown",
   "metadata": {},
   "source": [
    "## Reconstruction"
   ]
  },
  {
   "cell_type": "code",
   "execution_count": 15,
   "metadata": {
    "collapsed": false
   },
   "outputs": [],
   "source": [
    "# do reconstruction with gridrec and the default filter\n",
    "rec = tomopy.recon(proj_minus_log, theta, center=center, algorithm='gridrec')"
   ]
  },
  {
   "cell_type": "markdown",
   "metadata": {},
   "source": [
    "Apply circular mask. The rest pixels are replaced with value of the minimum of the reconstruction."
   ]
  },
  {
   "cell_type": "code",
   "execution_count": 16,
   "metadata": {
    "collapsed": true
   },
   "outputs": [],
   "source": [
    "rec= tomopy.circ_mask(rec, axis=0, ratio=0.95, val=rec.min())"
   ]
  },
  {
   "cell_type": "code",
   "execution_count": 17,
   "metadata": {
    "collapsed": false
   },
   "outputs": [
    {
     "name": "stdout",
     "output_type": "stream",
     "text": [
      "float32 (370, 470, 470) -0.0204084 0.0110136\n"
     ]
    },
    {
     "data": {
      "application/pdf": "[encoded data removed]",
      "image/png": "[encoded data removed]",
      "text/plain": [
       "<matplotlib.figure.Figure at 0x128e62310>"
      ]
     },
     "metadata": {},
     "output_type": "display_data"
    }
   ],
   "source": [
    "# display histogram of the reconstruction\n",
    "varinfo(rec)\n",
    "plt.hist(rec.ravel(), bins=256, log=True)\n",
    "plt.gca().xaxis.grid(True)\n",
    "plt.show()"
   ]
  },
  {
   "cell_type": "markdown",
   "metadata": {},
   "source": [
    "Adjust the dynamic range."
   ]
  },
  {
   "cell_type": "code",
   "execution_count": 18,
   "metadata": {
    "collapsed": false
   },
   "outputs": [
    {
     "name": "stdout",
     "output_type": "stream",
     "text": [
      "float32 (370, 470, 470) -0.001 0.009\n"
     ]
    }
   ],
   "source": [
    "rec = tomopy.adjust_range(rec, dmin=-0.001, dmax=0.009)\n",
    "varinfo(rec)"
   ]
  },
  {
   "cell_type": "code",
   "execution_count": 19,
   "metadata": {
    "collapsed": false
   },
   "outputs": [
    {
     "data": {
      "application/vnd.jupyter.widget-view+json": {
       "model_id": "3474624adf5a4d5684b400c2f0b5fb28"
      }
     },
     "metadata": {},
     "output_type": "display_data"
    },
    {
     "data": {
      "text/plain": [
       "<function __main__.disp_rec>"
      ]
     },
     "execution_count": 19,
     "metadata": {},
     "output_type": "execute_result"
    }
   ],
   "source": [
    "def disp_rec(i=150, vmin=rec.min(), vmax=rec.max()):\n",
    "    plt.imshow(rec[i,:,:], cmap='gray', vmin=vmin, vmax=vmax)\n",
    "    plt.show()\n",
    "\n",
    "ipywidgets.interact(disp_rec, \n",
    "                    i=(0,rec.shape[0]-1),\n",
    "                    vmin=ipywidgets.FloatSlider(value=rec.min(), \n",
    "                                                min=rec.min(), max=rec.max(), step=0.001, \n",
    "                                                readout_format='.3f'), \n",
    "                    vmax=ipywidgets.FloatSlider(value=rec.max(), \n",
    "                                                min=rec.min(), max=rec.max(), step=0.001, \n",
    "                                                readout_format='.3f'))"
   ]
  },
  {
   "cell_type": "code",
   "execution_count": 20,
   "metadata": {
    "collapsed": true
   },
   "outputs": [],
   "source": [
    "# save reconstructed images\n",
    "tifffile.imsave(path_save + 'rec_v0.tiff', rec)"
   ]
  },
  {
   "cell_type": "markdown",
   "metadata": {},
   "source": [
    "## Remove ring noise"
   ]
  },
  {
   "cell_type": "code",
   "execution_count": 21,
   "metadata": {
    "collapsed": true
   },
   "outputs": [],
   "source": [
    "rec = tifffile.imread(path_save + 'rec_v0.tiff')\n",
    "rec_clean = tomopy.remove_ring(rec, thresh=0.0006)"
   ]
  },
  {
   "cell_type": "code",
   "execution_count": 22,
   "metadata": {
    "collapsed": false
   },
   "outputs": [
    {
     "data": {
      "application/vnd.jupyter.widget-view+json": {
       "model_id": "6fef860fb6d94ae8b6836df3b9f7a926"
      }
     },
     "metadata": {},
     "output_type": "display_data"
    },
    {
     "data": {
      "text/plain": [
       "<function __main__.disp_rec_clean>"
      ]
     },
     "execution_count": 22,
     "metadata": {},
     "output_type": "execute_result"
    }
   ],
   "source": [
    "def disp_rec_clean(i=150, vmin=rec.min(), vmax=rec.max()):\n",
    "    plt.imshow(rec_clean[i,:,:], cmap='gray', vmin=vmin, vmax=vmax)\n",
    "    plt.show()\n",
    "    \n",
    "ipywidgets.interact(disp_rec_clean, \n",
    "                    i=(0,rec_clean.shape[0]-1),\n",
    "                    vmin=ipywidgets.FloatSlider(value=rec_clean.min(), \n",
    "                                                min=rec.min(), max=rec.max(), step=0.001, \n",
    "                                                readout_format='.3f'), \n",
    "                    vmax=ipywidgets.FloatSlider(value=rec_clean.max(), \n",
    "                                                min=rec.min(), max=rec.max(), step=0.001, \n",
    "                                                readout_format='.3f'))"
   ]
  },
  {
   "cell_type": "code",
   "execution_count": 23,
   "metadata": {
    "collapsed": true
   },
   "outputs": [],
   "source": [
    "# save cleaned reconstructed images\n",
    "tifffile.imsave(path_save + 'rec_v1.tiff', rec_clean)"
   ]
  },
  {
   "cell_type": "markdown",
   "metadata": {},
   "source": [
    "## Output"
   ]
  },
  {
   "cell_type": "code",
   "execution_count": 24,
   "metadata": {
    "collapsed": true
   },
   "outputs": [],
   "source": [
    "rec = tifffile.imread(path_save + 'rec_v1.tiff')\n",
    "rec_out = np.uint8((rec-rec.min())/(rec.max()-rec.min())*255)"
   ]
  },
  {
   "cell_type": "code",
   "execution_count": 25,
   "metadata": {
    "collapsed": false
   },
   "outputs": [
    {
     "name": "stdout",
     "output_type": "stream",
     "text": [
      "uint8 (370, 470, 470) 0 255\n"
     ]
    },
    {
     "data": {
      "application/pdf": "[encoded data removed]",
      "image/png": "[encoded data removed]",
      "text/plain": [
       "<matplotlib.figure.Figure at 0x12a018550>"
      ]
     },
     "metadata": {},
     "output_type": "display_data"
    }
   ],
   "source": [
    "varinfo(rec_out)\n",
    "plt.hist(rec_out.ravel(), bins=255, range=(1, 255))\n",
    "plt.gca().xaxis.grid(True)\n",
    "plt.show()"
   ]
  },
  {
   "cell_type": "code",
   "execution_count": 26,
   "metadata": {
    "collapsed": true
   },
   "outputs": [],
   "source": [
    "# save cleaned reconstructed images as 8-bit\n",
    "tifffile.imsave(path_save + 'rec_out.tiff', rec_out)"
   ]
  }
 ],
 "metadata": {
  "kernelspec": {
   "display_name": "Python 2",
   "language": "python",
   "name": "python2"
  },
  "language_info": {
   "codemirror_mode": {
    "name": "ipython",
    "version": 2
   },
   "file_extension": ".py",
   "mimetype": "text/x-python",
   "name": "python",
   "nbconvert_exporter": "python",
   "pygments_lexer": "ipython2",
   "version": "2.7.12"
  },
  "widgets": {
   "application/vnd.jupyter.widget-state+json": {
    "state": {
     "005a7a4f423c4c6c86b7f67b1a9ed769": {
      "model_module": "jupyter-js-widgets",
      "model_module_version": "~2.1.4",
      "model_name": "LayoutModel",
      "state": {
       "_model_module_version": "~2.1.4",
       "_view_module_version": "~2.1.4"
      }
     },
     "007c89829aab451a8a03fdc4040193e5": {
      "model_module": "jupyter-js-widgets",
      "model_module_version": "~2.1.4",
      "model_name": "LayoutModel",
      "state": {
       "_model_module_version": "~2.1.4",
       "_view_module_version": "~2.1.4"
      }
     },
     "007d72e6275d4be6824ad88754bc723f": {
      "model_module": "jupyter-js-widgets",
      "model_module_version": "~2.1.4",
      "model_name": "DropdownModel",
      "state": {
       "_model_module_version": "~2.1.4",
       "_options_labels": [
        "Projections",
        "Open beam images",
        "Dark images"
       ],
       "_view_module_version": "~2.1.4",
       "description": "ims",
       "layout": "IPY_MODEL_c1a7a69814a04b549a413b6fd66d69df",
       "value": "Projections"
      }
     },
     "00a5c4c7a41947448783191b65bd18e4": {
      "model_module": "jupyter-js-widgets",
      "model_module_version": "~2.1.4",
      "model_name": "IntSliderModel",
      "state": {
       "_model_module_version": "~2.1.4",
       "_view_module_version": "~2.1.4",
       "description": "i",
       "layout": "IPY_MODEL_e60cff02e5484b25931312c3b865feb7",
       "max": 369,
       "style": "IPY_MODEL_e84009630aaa4de8b8418d041400c6fb",
       "value": 150
      }
     },
     "00b01f85e5244e239e282fe1ff9e18ea": {
      "model_module": "jupyter-js-widgets",
      "model_module_version": "~2.1.4",
      "model_name": "LayoutModel",
      "state": {
       "_model_module_version": "~2.1.4",
       "_view_module_version": "~2.1.4"
      }
     },
     "00c75ffd322c42539994ad4d9f32bc4a": {
      "model_module": "jupyter-js-widgets",
      "model_module_version": "~2.1.4",
      "model_name": "LayoutModel",
      "state": {
       "_model_module_version": "~2.1.4",
       "_view_module_version": "~2.1.4"
      }
     },
     "00cc1747864347aa9f326026eddd8fff": {
      "model_module": "jupyter-js-widgets",
      "model_module_version": "~2.1.4",
      "model_name": "LayoutModel",
      "state": {
       "_model_module_version": "~2.1.4",
       "_view_module_version": "~2.1.4"
      }
     },
     "00ea75783f5242fab87ba211a538b955": {
      "model_module": "jupyter-js-widgets",
      "model_module_version": "~2.1.4",
      "model_name": "SliderStyleModel",
      "state": {
       "_model_module_version": "~2.1.4",
       "_view_module_version": "~2.1.4"
      }
     },
     "0101c46c03dc4ccbbd3211ece86e628e": {
      "model_module": "jupyter-js-widgets",
      "model_module_version": "~2.1.4",
      "model_name": "LayoutModel",
      "state": {
       "_model_module_version": "~2.1.4",
       "_view_module_version": "~2.1.4"
      }
     },
     "013fd28570bb44d68af58cbc93e424de": {
      "model_module": "jupyter-js-widgets",
      "model_module_version": "~2.1.4",
      "model_name": "IntSliderModel",
      "state": {
       "_model_module_version": "~2.1.4",
       "_view_module_version": "~2.1.4",
       "description": "i",
       "layout": "IPY_MODEL_bdb57d4595f74ecc83a18faffd8dc8bb",
       "max": 800,
       "style": "IPY_MODEL_daae0d87afc0411a832ecf36f0dc41a8"
      }
     },
     "01dd77cfe50444fa949d89fb92a6215c": {
      "model_module": "jupyter-js-widgets",
      "model_module_version": "~2.1.4",
      "model_name": "FloatSliderModel",
      "state": {
       "_model_module_version": "~2.1.4",
       "_view_module_version": "~2.1.4",
       "description": "vmax",
       "layout": "IPY_MODEL_7f6d46678ee84b9c970cfefc0c90000e",
       "max": 0.009999999776482582,
       "min": -0.005170748569071293,
       "step": 0.001,
       "value": 0.009999999776482582
      }
     },
     "0235a2ae374a40b9ab8a1b99343d94cc": {
      "model_module": "jupyter-js-widgets",
      "model_module_version": "~2.1.4",
      "model_name": "LayoutModel",
      "state": {
       "_model_module_version": "~2.1.4",
       "_view_module_version": "~2.1.4"
      }
     },
     "027f0e1d1ca949a3a4461b9bc1119062": {
      "model_module": "jupyter-js-widgets",
      "model_module_version": "~2.1.4",
      "model_name": "OutputModel",
      "state": {
       "_dom_classes": [],
       "_model_module": "jupyter-js-widgets",
       "_model_module_version": "~2.1.4",
       "_view_module": "jupyter-js-widgets",
       "_view_module_version": "~2.1.4",
       "layout": "IPY_MODEL_ea1aebd4be984c37b676b5c87a2bc145",
       "msg_throttle": 1
      }
     },
     "02c12be037e14dc385716ddd9ecddb09": {
      "model_module": "jupyter-js-widgets",
      "model_module_version": "~2.1.4",
      "model_name": "LayoutModel",
      "state": {
       "_model_module_version": "~2.1.4",
       "_view_module_version": "~2.1.4"
      }
     },
     "02c6344a276b4146832f907c10e3a0bb": {
      "model_module": "jupyter-js-widgets",
      "model_module_version": "~2.1.4",
      "model_name": "LayoutModel",
      "state": {
       "_model_module_version": "~2.1.4",
       "_view_module_version": "~2.1.4"
      }
     },
     "02c97666ee294196868c556c352326c7": {
      "model_module": "jupyter-js-widgets",
      "model_module_version": "~2.1.4",
      "model_name": "LayoutModel",
      "state": {
       "_model_module_version": "~2.1.4",
       "_view_module_version": "~2.1.4"
      }
     },
     "02d24ede26884fe1adcc3a113f3fa47a": {
      "model_module": "jupyter-js-widgets",
      "model_module_version": "~2.1.4",
      "model_name": "LayoutModel",
      "state": {
       "_model_module_version": "~2.1.4",
       "_view_module_version": "~2.1.4"
      }
     },
     "0310c775be9a46ceb6c556ca77efbf43": {
      "model_module": "jupyter-js-widgets",
      "model_module_version": "~2.1.4",
      "model_name": "FloatSliderModel",
      "state": {
       "_model_module_version": "~2.1.4",
       "_view_module_version": "~2.1.4",
       "description": "vmin",
       "layout": "IPY_MODEL_8b225d8d9b0d4b69bd35fdb7bbd79769",
       "max": 0.009999999776482582,
       "min": -0.004999999888241291,
       "step": 0.001,
       "value": -0.004999999888241291
      }
     },
     "035e3f89c3094852a438673b3d4d9b4c": {
      "model_module": "jupyter-js-widgets",
      "model_module_version": "~2.1.4",
      "model_name": "OutputModel",
      "state": {
       "_dom_classes": [],
       "_model_module": "jupyter-js-widgets",
       "_model_module_version": "~2.1.4",
       "_view_module": "jupyter-js-widgets",
       "_view_module_version": "~2.1.4",
       "layout": "IPY_MODEL_b941239405ac4e9db2bf1cf0f65023ce",
       "msg_throttle": 1
      }
     },
     "0381a7a6ccf640b4bd5c5e07af8f851f": {
      "model_module": "jupyter-js-widgets",
      "model_module_version": "~2.1.4",
      "model_name": "LayoutModel",
      "state": {
       "_model_module_version": "~2.1.4",
       "_view_module_version": "~2.1.4"
      }
     },
     "03adf569e34e43348ccd5412669b0d5e": {
      "model_module": "jupyter-js-widgets",
      "model_module_version": "~2.1.4",
      "model_name": "VBoxModel",
      "state": {
       "_dom_classes": [
        "widget-interact"
       ],
       "_model_module_version": "~2.1.4",
       "_view_module_version": "~2.1.4",
       "children": [
        "IPY_MODEL_bf33866b9fd3426fac130cc258770657",
        "IPY_MODEL_f726590b1b104d9a8faa170416824c2d",
        "IPY_MODEL_f805ef9c707840d988f1ee327cf58d17",
        "IPY_MODEL_d30facfe48df468cae8fd7b23d6abdb5",
        "IPY_MODEL_f0052ca9b59645eeacd63a6174e213f2"
       ],
       "layout": "IPY_MODEL_98d9101f656049aab64b8599f7808542"
      }
     },
     "03b5765ddbcc475b8a764fa3a4f41667": {
      "model_module": "jupyter-js-widgets",
      "model_module_version": "~2.1.4",
      "model_name": "OutputModel",
      "state": {
       "_dom_classes": [],
       "_model_module": "jupyter-js-widgets",
       "_model_module_version": "~2.1.4",
       "_view_module": "jupyter-js-widgets",
       "_view_module_version": "~2.1.4",
       "layout": "IPY_MODEL_0afa95f4ac2f4f25ad8074098fe285ff",
       "msg_throttle": 1
      }
     },
     "03de6bf91f9e49a49ef6e25993c378df": {
      "model_module": "jupyter-js-widgets",
      "model_module_version": "~2.1.4",
      "model_name": "LayoutModel",
      "state": {
       "_model_module_version": "~2.1.4",
       "_view_module_version": "~2.1.4"
      }
     },
     "0433c6d6f95847bf99da61f595e48e54": {
      "model_module": "jupyter-js-widgets",
      "model_module_version": "~2.1.4",
      "model_name": "LayoutModel",
      "state": {
       "_model_module_version": "~2.1.4",
       "_view_module_version": "~2.1.4"
      }
     },
     "045515b1fd7c40c6868ed485f3e6cb7b": {
      "model_module": "jupyter-js-widgets",
      "model_module_version": "~2.1.4",
      "model_name": "DropdownModel",
      "state": {
       "_model_module_version": "~2.1.4",
       "_options_labels": [
        "Projections",
        "Open beam images",
        "Dark images"
       ],
       "_view_module_version": "~2.1.4",
       "description": "ims",
       "layout": "IPY_MODEL_fbbc204476e140c4bd4f664254bd7b7d",
       "value": "Projections"
      }
     },
     "0475f556857648e290d1a58e1bd590c9": {
      "model_module": "jupyter-js-widgets",
      "model_module_version": "~2.1.4",
      "model_name": "SliderStyleModel",
      "state": {
       "_model_module_version": "~2.1.4",
       "_view_module_version": "~2.1.4"
      }
     },
     "04cf29f6bf3c4f6f997aeadbb8678d25": {
      "model_module": "jupyter-js-widgets",
      "model_module_version": "~2.1.4",
      "model_name": "DropdownModel",
      "state": {
       "_model_module_version": "~2.1.4",
       "_options_labels": [
        "Projections",
        "Open beam images",
        "Dark images"
       ],
       "_view_module_version": "~2.1.4",
       "description": "ims",
       "layout": "IPY_MODEL_d2e613df053a4773a81557c29b53bdbd",
       "value": "Projections"
      }
     },
     "04e312e71fe3463d92d73d472235fbc1": {
      "model_module": "jupyter-js-widgets",
      "model_module_version": "~2.1.4",
      "model_name": "LayoutModel",
      "state": {
       "_model_module_version": "~2.1.4",
       "_view_module_version": "~2.1.4"
      }
     },
     "04f77c8974c24d39a56b603a2b6d9326": {
      "model_module": "jupyter-js-widgets",
      "model_module_version": "~2.1.4",
      "model_name": "LayoutModel",
      "state": {
       "_model_module_version": "~2.1.4",
       "_view_module_version": "~2.1.4"
      }
     },
     "0530a8aa8abd4574bc97a0d0127960db": {
      "model_module": "jupyter-js-widgets",
      "model_module_version": "~2.1.4",
      "model_name": "OutputModel",
      "state": {
       "_dom_classes": [],
       "_model_module": "jupyter-js-widgets",
       "_model_module_version": "~2.1.4",
       "_view_module": "jupyter-js-widgets",
       "_view_module_version": "~2.1.4",
       "layout": "IPY_MODEL_0fe309ae0158400e929831fe6f0b13cf",
       "msg_throttle": 1
      }
     },
     "053cebca330b4e4abe47930d19de133b": {
      "model_module": "jupyter-js-widgets",
      "model_module_version": "~2.1.4",
      "model_name": "LayoutModel",
      "state": {
       "_model_module_version": "~2.1.4",
       "_view_module_version": "~2.1.4"
      }
     },
     "054fb7ab31e044f7bfeedc78e07faf1b": {
      "model_module": "jupyter-js-widgets",
      "model_module_version": "~2.1.4",
      "model_name": "OutputModel",
      "state": {
       "_dom_classes": [],
       "_model_module": "jupyter-js-widgets",
       "_model_module_version": "~2.1.4",
       "_view_module": "jupyter-js-widgets",
       "_view_module_version": "~2.1.4",
       "layout": "IPY_MODEL_676cf8a2f8ea40b1bb2b43ccf1491aaa",
       "msg_throttle": 1
      }
     },
     "05664d11277d4ad9b869221baf5c68b1": {
      "model_module": "jupyter-js-widgets",
      "model_module_version": "~2.1.4",
      "model_name": "VBoxModel",
      "state": {
       "_dom_classes": [
        "widget-interact"
       ],
       "_model_module_version": "~2.1.4",
       "_view_module_version": "~2.1.4",
       "children": [
        "IPY_MODEL_f9e8c745b1af41378c7ac0a9155d7f3c",
        "IPY_MODEL_584349d81e6c45599819dd0a46f80092",
        "IPY_MODEL_57cc164c5e7441898638b26dea54fb87",
        "IPY_MODEL_67526496e98d48e6a6a0f70782dfccf4",
        "IPY_MODEL_e6b9a49f9e6744e4adee7f5095b09e18"
       ],
       "layout": "IPY_MODEL_9962af3933fb44f5921b9950fab3a931"
      }
     },
     "056d86cd3d384e4b960529ed072bb136": {
      "model_module": "jupyter-js-widgets",
      "model_module_version": "~2.1.4",
      "model_name": "IntSliderModel",
      "state": {
       "_model_module_version": "~2.1.4",
       "_view_module_version": "~2.1.4",
       "description": "vmax",
       "layout": "IPY_MODEL_bc5a42cf705c4148b6331b8699ad6764",
       "max": 65535,
       "style": "IPY_MODEL_e822aeafbf60452b9ef5b061115ffb9e",
       "value": 65535
      }
     },
     "056e52c058f04e839b6455d082981283": {
      "model_module": "jupyter-js-widgets",
      "model_module_version": "~2.1.4",
      "model_name": "LayoutModel",
      "state": {
       "_model_module_version": "~2.1.4",
       "_view_module_version": "~2.1.4"
      }
     },
     "0581b10163424c6889272c5a0789ae38": {
      "model_module": "jupyter-js-widgets",
      "model_module_version": "~2.1.4",
      "model_name": "LayoutModel",
      "state": {
       "_model_module_version": "~2.1.4",
       "_view_module_version": "~2.1.4"
      }
     },
     "058f27573e094b2796fff581318329e0": {
      "model_module": "jupyter-js-widgets",
      "model_module_version": "~2.1.4",
      "model_name": "OutputModel",
      "state": {
       "_dom_classes": [],
       "_model_module": "jupyter-js-widgets",
       "_model_module_version": "~2.1.4",
       "_view_module": "jupyter-js-widgets",
       "_view_module_version": "~2.1.4",
       "layout": "IPY_MODEL_103fd52ebe8c4438850ecfc8f10092cd",
       "msg_throttle": 1
      }
     },
     "05e2b9fda7244750b8e4efc7e44c4446": {
      "model_module": "jupyter-js-widgets",
      "model_module_version": "~2.1.4",
      "model_name": "LayoutModel",
      "state": {
       "_model_module_version": "~2.1.4",
       "_view_module_version": "~2.1.4"
      }
     },
     "05ebd25ee8744fd2a2f78ba742d4e657": {
      "model_module": "jupyter-js-widgets",
      "model_module_version": "~2.1.4",
      "model_name": "IntSliderModel",
      "state": {
       "_model_module_version": "~2.1.4",
       "_view_module_version": "~2.1.4",
       "description": "i",
       "layout": "IPY_MODEL_ca3b537e61af4ec986ff5a32eee0de5d",
       "max": 370,
       "style": "IPY_MODEL_5e1959af52094efd9d4ed0508a560dae",
       "value": 341
      }
     },
     "061aebb3f67a4a98a23a29a1c3c21897": {
      "model_module": "jupyter-js-widgets",
      "model_module_version": "~2.1.4",
      "model_name": "LayoutModel",
      "state": {
       "_model_module_version": "~2.1.4",
       "_view_module_version": "~2.1.4"
      }
     },
     "064d7f035c2a461db41684febfdbd047": {
      "model_module": "jupyter-js-widgets",
      "model_module_version": "~2.1.4",
      "model_name": "IntSliderModel",
      "state": {
       "_model_module_version": "~2.1.4",
       "_view_module_version": "~2.1.4",
       "description": "vmax",
       "layout": "IPY_MODEL_0e1000499f5f4477a8fb1b9ee0f6d4dc",
       "max": 65535,
       "style": "IPY_MODEL_cbd342fa4bf94b3eaa7aaef56bf137fc",
       "value": 65535
      }
     },
     "071ab780fa434ffb9598e3bb468b4771": {
      "model_module": "jupyter-js-widgets",
      "model_module_version": "~2.1.4",
      "model_name": "IntSliderModel",
      "state": {
       "_model_module_version": "~2.1.4",
       "_view_module_version": "~2.1.4",
       "description": "i",
       "layout": "IPY_MODEL_d795921b340c4c69b7dd940aa93092ba",
       "max": 369,
       "style": "IPY_MODEL_f8c805c2bdf140e38c3587ca1654a369",
       "value": 150
      }
     },
     "075a0cb119234d12a36bb76e414837f8": {
      "model_module": "jupyter-js-widgets",
      "model_module_version": "~2.1.4",
      "model_name": "LayoutModel",
      "state": {
       "_model_module_version": "~2.1.4",
       "_view_module_version": "~2.1.4"
      }
     },
     "077c0abd415c4541a23764a787ddbfa3": {
      "model_module": "jupyter-js-widgets",
      "model_module_version": "~2.1.4",
      "model_name": "OutputModel",
      "state": {
       "_dom_classes": [],
       "_model_module": "jupyter-js-widgets",
       "_model_module_version": "~2.1.4",
       "_view_module": "jupyter-js-widgets",
       "_view_module_version": "~2.1.4",
       "layout": "IPY_MODEL_914bfe851f57419f91f8406a2cb17e7d",
       "msg_throttle": 1
      }
     },
     "079b2bbae175401f9e4bb5d3b316eaec": {
      "model_module": "jupyter-js-widgets",
      "model_module_version": "~2.1.4",
      "model_name": "IntSliderModel",
      "state": {
       "_model_module_version": "~2.1.4",
       "_view_module_version": "~2.1.4",
       "description": "vmax",
       "layout": "IPY_MODEL_f34bca96f92c4b1e94cf3022590e18ab",
       "max": 65535,
       "style": "IPY_MODEL_4cd4471fb49c40f195956362213a7446",
       "value": 65535
      }
     },
     "07b1ef448d2e476c9b2d9825a80e9c97": {
      "model_module": "jupyter-js-widgets",
      "model_module_version": "~2.1.4",
      "model_name": "SliderStyleModel",
      "state": {
       "_model_module_version": "~2.1.4",
       "_view_module_version": "~2.1.4"
      }
     },
     "07b95c4ffe7640c78c2add5f1c78f2ad": {
      "model_module": "jupyter-js-widgets",
      "model_module_version": "~2.1.4",
      "model_name": "OutputModel",
      "state": {
       "_dom_classes": [],
       "_model_module": "jupyter-js-widgets",
       "_model_module_version": "~2.1.4",
       "_view_module": "jupyter-js-widgets",
       "_view_module_version": "~2.1.4",
       "layout": "IPY_MODEL_77bf0aa436e34a668302a34778919288",
       "msg_throttle": 1
      }
     },
     "07f330eeb4fa446f86911908953ff63d": {
      "model_module": "jupyter-js-widgets",
      "model_module_version": "~2.1.4",
      "model_name": "SliderStyleModel",
      "state": {
       "_model_module_version": "~2.1.4",
       "_view_module_version": "~2.1.4"
      }
     },
     "07f7a6415c1045bfad86470b57f6a865": {
      "model_module": "jupyter-js-widgets",
      "model_module_version": "~2.1.4",
      "model_name": "LayoutModel",
      "state": {
       "_model_module_version": "~2.1.4",
       "_view_module_version": "~2.1.4"
      }
     },
     "07fea42d5a8140d5acc9150b69020dad": {
      "model_module": "jupyter-js-widgets",
      "model_module_version": "~2.1.4",
      "model_name": "IntSliderModel",
      "state": {
       "_model_module_version": "~2.1.4",
       "_view_module_version": "~2.1.4",
       "description": "i",
       "layout": "IPY_MODEL_678f6f28848c472fb2c9ff54175a82f0",
       "max": 800,
       "style": "IPY_MODEL_b3d8bfe199c94cbf80ea3be4939a74e2",
       "value": 10
      }
     },
     "081db6b19fbc48acb7d14ea76710e241": {
      "model_module": "jupyter-js-widgets",
      "model_module_version": "~2.1.4",
      "model_name": "OutputModel",
      "state": {
       "_dom_classes": [],
       "_model_module": "jupyter-js-widgets",
       "_model_module_version": "~2.1.4",
       "_view_module": "jupyter-js-widgets",
       "_view_module_version": "~2.1.4",
       "layout": "IPY_MODEL_2990ef911fe8406aad1de8df1ad92aeb",
       "msg_throttle": 1
      }
     },
     "08270dd8762b49299c4064b96262d9ac": {
      "model_module": "jupyter-js-widgets",
      "model_module_version": "~2.1.4",
      "model_name": "VBoxModel",
      "state": {
       "_dom_classes": [
        "widget-interact"
       ],
       "_model_module_version": "~2.1.4",
       "_view_module_version": "~2.1.4",
       "children": [
        "IPY_MODEL_ae712843620e40778e5cdffc6c605f80",
        "IPY_MODEL_f35053c33b9947759cce29b6c0c6dceb",
        "IPY_MODEL_76c22410d06d4a61ab6fb8c330529676",
        "IPY_MODEL_c6d92f5bd95e4b5dad1a25d889bb6972"
       ],
       "layout": "IPY_MODEL_0381a7a6ccf640b4bd5c5e07af8f851f"
      }
     },
     "085466e7760c438e8feb5ec88754cbec": {
      "model_module": "jupyter-js-widgets",
      "model_module_version": "~2.1.4",
      "model_name": "OutputModel",
      "state": {
       "_dom_classes": [],
       "_model_module": "jupyter-js-widgets",
       "_model_module_version": "~2.1.4",
       "_view_module": "jupyter-js-widgets",
       "_view_module_version": "~2.1.4",
       "layout": "IPY_MODEL_6c79dd058ae24165aad07b7c30687b3a",
       "msg_throttle": 1
      }
     },
     "08630f01ed004499890364565d0f41f5": {
      "model_module": "jupyter-js-widgets",
      "model_module_version": "~2.1.4",
      "model_name": "LayoutModel",
      "state": {
       "_model_module_version": "~2.1.4",
       "_view_module_version": "~2.1.4"
      }
     },
     "094bda9aef3047f9bc48290f9d3c552a": {
      "model_module": "jupyter-js-widgets",
      "model_module_version": "~2.1.4",
      "model_name": "LayoutModel",
      "state": {
       "_model_module_version": "~2.1.4",
       "_view_module_version": "~2.1.4"
      }
     },
     "0954c7efc17e4647863f47f26a5cc5a6": {
      "model_module": "jupyter-js-widgets",
      "model_module_version": "~2.1.4",
      "model_name": "LayoutModel",
      "state": {
       "_model_module_version": "~2.1.4",
       "_view_module_version": "~2.1.4"
      }
     },
     "097aaa3d348d4397badda1067ca8defc": {
      "model_module": "jupyter-js-widgets",
      "model_module_version": "~2.1.4",
      "model_name": "IntSliderModel",
      "state": {
       "_model_module_version": "~2.1.4",
       "_view_module_version": "~2.1.4",
       "description": "vmin",
       "layout": "IPY_MODEL_5a62c6f0d2de4035b293a1b10ffff348",
       "max": 65535,
       "style": "IPY_MODEL_90a6033edece4664b278dea0610c8f64"
      }
     },
     "0990e7e4a7a74aff9670fd2e2b7fe76c": {
      "model_module": "jupyter-js-widgets",
      "model_module_version": "~2.1.4",
      "model_name": "LayoutModel",
      "state": {
       "_model_module_version": "~2.1.4",
       "_view_module_version": "~2.1.4"
      }
     },
     "0a6223d2f2204b87aabc9e41a061738e": {
      "model_module": "jupyter-js-widgets",
      "model_module_version": "~2.1.4",
      "model_name": "LayoutModel",
      "state": {
       "_model_module_version": "~2.1.4",
       "_view_module_version": "~2.1.4"
      }
     },
     "0a7442eb78364f809e4ae844303231bc": {
      "model_module": "jupyter-js-widgets",
      "model_module_version": "~2.1.4",
      "model_name": "VBoxModel",
      "state": {
       "_dom_classes": [
        "widget-interact"
       ],
       "_model_module_version": "~2.1.4",
       "_view_module_version": "~2.1.4",
       "children": [
        "IPY_MODEL_13d238f8c1ad4107919dab1060b67b04",
        "IPY_MODEL_5156a054fc884e3393d71c4aa30eb710",
        "IPY_MODEL_df5f8e0ee5604f27bc4e29c0d4c3383e",
        "IPY_MODEL_67632ed716134d019a020e1194338374",
        "IPY_MODEL_ce5fc5dc445d4629bda3bee9c024d581",
        "IPY_MODEL_8676cf1ebd4f4eafaf35bad40ead8a02",
        "IPY_MODEL_8fd0d4643a3c4510bac4338c19601ddc"
       ],
       "layout": "IPY_MODEL_7ec987cf50894bf8b495138fdb521b1e"
      }
     },
     "0aa04b7b27bc423992b9ac81ab05703b": {
      "model_module": "jupyter-js-widgets",
      "model_module_version": "~2.1.4",
      "model_name": "IntSliderModel",
      "state": {
       "_model_module_version": "~2.1.4",
       "_view_module_version": "~2.1.4",
       "description": "i",
       "layout": "IPY_MODEL_92cacce59edc434788859c636a4ef57e",
       "max": 800,
       "style": "IPY_MODEL_0f128ddb064247989a2873de956d2df7",
       "value": 547
      }
     },
     "0afa95f4ac2f4f25ad8074098fe285ff": {
      "model_module": "jupyter-js-widgets",
      "model_module_version": "~2.1.4",
      "model_name": "LayoutModel",
      "state": {
       "_model_module_version": "~2.1.4",
       "_view_module_version": "~2.1.4"
      }
     },
     "0b44d4cb89fe43758bc0e8a4482a0142": {
      "model_module": "jupyter-js-widgets",
      "model_module_version": "~2.1.4",
      "model_name": "LayoutModel",
      "state": {
       "_model_module_version": "~2.1.4",
       "_view_module_version": "~2.1.4"
      }
     },
     "0b58b2b9307c42cdba53e3605322c032": {
      "model_module": "jupyter-js-widgets",
      "model_module_version": "~2.1.4",
      "model_name": "VBoxModel",
      "state": {
       "_dom_classes": [
        "widget-interact"
       ],
       "_model_module_version": "~2.1.4",
       "_view_module_version": "~2.1.4",
       "children": [
        "IPY_MODEL_a3da71f8ae254b799d33e5ea872e357c",
        "IPY_MODEL_ea92e51e7d6d42ddbc7e8d192b09253a",
        "IPY_MODEL_c644f008fc5041f39c6dc2797c66b907",
        "IPY_MODEL_5636c5dec92c4a74b38c241822ea18f4",
        "IPY_MODEL_b9cbd4b576b340839196aa5b8d64ddd8",
        "IPY_MODEL_a7cd6a2bfd2c4a53823095c5c131f61c",
        "IPY_MODEL_2fb75b8ced724dcda28a611ea0e94a28"
       ],
       "layout": "IPY_MODEL_43b2a54a9b564508ba2f9569d69b9c8e"
      }
     },
     "0b711e6795ce48cda4cf7e0b23a40b0f": {
      "model_module": "jupyter-js-widgets",
      "model_module_version": "~2.1.4",
      "model_name": "SliderStyleModel",
      "state": {
       "_model_module_version": "~2.1.4",
       "_view_module_version": "~2.1.4"
      }
     },
     "0bdebc39aec84ec9b497a7b4e27b874e": {
      "model_module": "jupyter-js-widgets",
      "model_module_version": "~2.1.4",
      "model_name": "LayoutModel",
      "state": {
       "_model_module_version": "~2.1.4",
       "_view_module_version": "~2.1.4"
      }
     },
     "0bfbedb626174553b58311377a2af13f": {
      "model_module": "jupyter-js-widgets",
      "model_module_version": "~2.1.4",
      "model_name": "DropdownModel",
      "state": {
       "_model_module_version": "~2.1.4",
       "_options_labels": [
        "Projections",
        "Open beam images",
        "Dark images"
       ],
       "_view_module_version": "~2.1.4",
       "description": "ims",
       "layout": "IPY_MODEL_056e52c058f04e839b6455d082981283",
       "value": "Projections"
      }
     },
     "0c161bb75582425d9829194c3c73ae58": {
      "model_module": "jupyter-js-widgets",
      "model_module_version": "~2.1.4",
      "model_name": "LayoutModel",
      "state": {
       "_model_module_version": "~2.1.4",
       "_view_module_version": "~2.1.4"
      }
     },
     "0c35c730a62c47408abcd2aad487728c": {
      "model_module": "jupyter-js-widgets",
      "model_module_version": "~2.1.4",
      "model_name": "LayoutModel",
      "state": {
       "_model_module_version": "~2.1.4",
       "_view_module_version": "~2.1.4"
      }
     },
     "0c7fa7b87dd04541804a3206c408957d": {
      "model_module": "jupyter-js-widgets",
      "model_module_version": "~2.1.4",
      "model_name": "FloatSliderModel",
      "state": {
       "_model_module_version": "~2.1.4",
       "_view_module_version": "~2.1.4",
       "description": "vmin",
       "layout": "IPY_MODEL_fa351b3f4e3746309e65546646f98588",
       "max": 0.008999999612569809,
       "min": -0.0010000000474974513,
       "readout_format": ".3f",
       "step": 0.001,
       "value": -0.0010000000474974513
      }
     },
     "0ca5ceaa655d4c44815a5c172ccec0a8": {
      "model_module": "jupyter-js-widgets",
      "model_module_version": "~2.1.4",
      "model_name": "SliderStyleModel",
      "state": {
       "_model_module_version": "~2.1.4",
       "_view_module_version": "~2.1.4"
      }
     },
     "0cd64879b7024d219161033e30017d7f": {
      "model_module": "jupyter-js-widgets",
      "model_module_version": "~2.1.4",
      "model_name": "SliderStyleModel",
      "state": {
       "_model_module_version": "~2.1.4",
       "_view_module_version": "~2.1.4"
      }
     },
     "0ce0c241a33c4638bcb9401cc27f397d": {
      "model_module": "jupyter-js-widgets",
      "model_module_version": "~2.1.4",
      "model_name": "VBoxModel",
      "state": {
       "_dom_classes": [
        "widget-interact"
       ],
       "_model_module_version": "~2.1.4",
       "_view_module_version": "~2.1.4",
       "children": [
        "IPY_MODEL_2b267240095146eea609e792130ab145",
        "IPY_MODEL_42a70d6e19444748a4de1ac780b79871"
       ],
       "layout": "IPY_MODEL_0e0033ca8c3c48ccbd5217bc6ea40949"
      }
     },
     "0cf8ad124a434ca2ad5dec8c7db57f5f": {
      "model_module": "jupyter-js-widgets",
      "model_module_version": "~2.1.4",
      "model_name": "VBoxModel",
      "state": {
       "_dom_classes": [
        "widget-interact"
       ],
       "_model_module_version": "~2.1.4",
       "_view_module_version": "~2.1.4",
       "children": [
        "IPY_MODEL_79fdef4ac3314e83aeee77388c7a8b34",
        "IPY_MODEL_a4f0631c09b54cb0b985cb19be1debe3"
       ],
       "layout": "IPY_MODEL_5c51650059b041d099798912cf0eef8e"
      }
     },
     "0d76f3bffc524f6fa6f74d91b9405ba5": {
      "model_module": "jupyter-js-widgets",
      "model_module_version": "~2.1.4",
      "model_name": "VBoxModel",
      "state": {
       "_dom_classes": [
        "widget-interact"
       ],
       "_model_module_version": "~2.1.4",
       "_view_module_version": "~2.1.4",
       "children": [
        "IPY_MODEL_d7f8440853664baa89ff8ce7739ea4de",
        "IPY_MODEL_f729d4d1484d47dcb3fe023831fa65db",
        "IPY_MODEL_eacddac28a404cabb668b5bf96be78d5",
        "IPY_MODEL_9e15c41170bc404e80c840ec53ec070b",
        "IPY_MODEL_17ba1869eb0d4471ac61e9a0f22718f0"
       ],
       "layout": "IPY_MODEL_2a860561135f4e65b5fad84fd9acfcfe"
      }
     },
     "0d8b7b59c39b4c629f267e1e283f2a46": {
      "model_module": "jupyter-js-widgets",
      "model_module_version": "~2.1.4",
      "model_name": "LayoutModel",
      "state": {
       "_model_module_version": "~2.1.4",
       "_view_module_version": "~2.1.4"
      }
     },
     "0deb21e70bb74430be7e1491851202fe": {
      "model_module": "jupyter-js-widgets",
      "model_module_version": "~2.1.4",
      "model_name": "FloatSliderModel",
      "state": {
       "_model_module_version": "~2.1.4",
       "_view_module_version": "~2.1.4",
       "description": "vmax",
       "layout": "IPY_MODEL_9a1667a400a54501ac80947691790329",
       "max": 0.008999999612569809,
       "min": -0.0010000000474974513,
       "readout_format": ".3f",
       "step": 0.001,
       "value": 0.008999999612569809
      }
     },
     "0e0033ca8c3c48ccbd5217bc6ea40949": {
      "model_module": "jupyter-js-widgets",
      "model_module_version": "~2.1.4",
      "model_name": "LayoutModel",
      "state": {
       "_model_module_version": "~2.1.4",
       "_view_module_version": "~2.1.4"
      }
     },
     "0e1000499f5f4477a8fb1b9ee0f6d4dc": {
      "model_module": "jupyter-js-widgets",
      "model_module_version": "~2.1.4",
      "model_name": "LayoutModel",
      "state": {
       "_model_module_version": "~2.1.4",
       "_view_module_version": "~2.1.4"
      }
     },
     "0e54ddf390674fb5a96ce66fe4d36e74": {
      "model_module": "jupyter-js-widgets",
      "model_module_version": "~2.1.4",
      "model_name": "VBoxModel",
      "state": {
       "_dom_classes": [
        "widget-interact"
       ],
       "_model_module_version": "~2.1.4",
       "_view_module_version": "~2.1.4",
       "children": [
        "IPY_MODEL_8d31019a172e4c8b938e686e11737545",
        "IPY_MODEL_6837a80a9f7f4557b62f493589a47a37",
        "IPY_MODEL_2b5b49f49ad5419a86ba5a003723f285",
        "IPY_MODEL_98f9b09b66b844239d788b674616e769",
        "IPY_MODEL_7573115040f74de0afe48496232dc88a"
       ],
       "layout": "IPY_MODEL_dec9a998346e40da89c487d990b9912d"
      }
     },
     "0e9dabed3d634369899ba489cdf27343": {
      "model_module": "jupyter-js-widgets",
      "model_module_version": "~2.1.4",
      "model_name": "SliderStyleModel",
      "state": {
       "_model_module_version": "~2.1.4",
       "_view_module_version": "~2.1.4"
      }
     },
     "0ea9358f3d334199bcf4c024af9281bb": {
      "model_module": "jupyter-js-widgets",
      "model_module_version": "~2.1.4",
      "model_name": "VBoxModel",
      "state": {
       "_dom_classes": [
        "widget-interact"
       ],
       "_model_module_version": "~2.1.4",
       "_view_module_version": "~2.1.4",
       "layout": "IPY_MODEL_0a6223d2f2204b87aabc9e41a061738e"
      }
     },
     "0ec63175315846bcae6938334b86e8b8": {
      "model_module": "jupyter-js-widgets",
      "model_module_version": "~2.1.4",
      "model_name": "LayoutModel",
      "state": {
       "_model_module_version": "~2.1.4",
       "_view_module_version": "~2.1.4"
      }
     },
     "0ed31c310b5f4a9eb17bd70ac47beffd": {
      "model_module": "jupyter-js-widgets",
      "model_module_version": "~2.1.4",
      "model_name": "LayoutModel",
      "state": {
       "_model_module_version": "~2.1.4",
       "_view_module_version": "~2.1.4"
      }
     },
     "0f128ddb064247989a2873de956d2df7": {
      "model_module": "jupyter-js-widgets",
      "model_module_version": "~2.1.4",
      "model_name": "SliderStyleModel",
      "state": {
       "_model_module_version": "~2.1.4",
       "_view_module_version": "~2.1.4"
      }
     },
     "0f1b85e7f3a945d494b0eeab8e37fe7d": {
      "model_module": "jupyter-js-widgets",
      "model_module_version": "~2.1.4",
      "model_name": "LayoutModel",
      "state": {
       "_model_module_version": "~2.1.4",
       "_view_module_version": "~2.1.4"
      }
     },
     "0f2a46ea478640ba8fa1bf176bff9fe9": {
      "model_module": "jupyter-js-widgets",
      "model_module_version": "~2.1.4",
      "model_name": "DropdownModel",
      "state": {
       "_model_module_version": "~2.1.4",
       "_options_labels": [
        "3",
        "5",
        "7"
       ],
       "_view_module_version": "~2.1.4",
       "description": "size",
       "layout": "IPY_MODEL_16e6a0292ff5420bb33ad95254c76047",
       "value": "3"
      }
     },
     "0f2cd0344b074a83b66ed38b386ac560": {
      "model_module": "jupyter-js-widgets",
      "model_module_version": "~2.1.4",
      "model_name": "IntSliderModel",
      "state": {
       "_model_module_version": "~2.1.4",
       "_view_module_version": "~2.1.4",
       "description": "vmin",
       "layout": "IPY_MODEL_6c612474442b405cabb4ec7218eab442",
       "max": 65535,
       "style": "IPY_MODEL_8a072204b59441c1818afcb5b1f9e79c"
      }
     },
     "0f41b94fc0fe4e3a8e7ec034e7ce487a": {
      "model_module": "jupyter-js-widgets",
      "model_module_version": "~2.1.4",
      "model_name": "LayoutModel",
      "state": {
       "_model_module_version": "~2.1.4",
       "_view_module_version": "~2.1.4"
      }
     },
     "0f4efb3201e14a5f9083bd706f362eba": {
      "model_module": "jupyter-js-widgets",
      "model_module_version": "~2.1.4",
      "model_name": "IntSliderModel",
      "state": {
       "_model_module_version": "~2.1.4",
       "_view_module_version": "~2.1.4",
       "description": "vmin",
       "layout": "IPY_MODEL_c628e6ea332f439db76bec5afe63af03",
       "max": 65535,
       "style": "IPY_MODEL_2ea7e9d702de431681cec1706b2c54f7"
      }
     },
     "0f5e1413e96248a584969dbc1ca9032c": {
      "model_module": "jupyter-js-widgets",
      "model_module_version": "~2.1.4",
      "model_name": "SliderStyleModel",
      "state": {
       "_model_module_version": "~2.1.4",
       "_view_module_version": "~2.1.4"
      }
     },
     "0fe309ae0158400e929831fe6f0b13cf": {
      "model_module": "jupyter-js-widgets",
      "model_module_version": "~2.1.4",
      "model_name": "LayoutModel",
      "state": {
       "_model_module_version": "~2.1.4",
       "_view_module_version": "~2.1.4"
      }
     },
     "1028f912807d4b518e633b97a4c1d6c1": {
      "model_module": "jupyter-js-widgets",
      "model_module_version": "~2.1.4",
      "model_name": "VBoxModel",
      "state": {
       "_dom_classes": [
        "widget-interact"
       ],
       "_model_module_version": "~2.1.4",
       "_view_module_version": "~2.1.4",
       "children": [
        "IPY_MODEL_38683999f3214e058e1d19e3258ba477",
        "IPY_MODEL_33792eec211d46beb62088b34387f562"
       ],
       "layout": "IPY_MODEL_2fc5196faaf44663921c47bb82f40be8"
      }
     },
     "10295a8639dc4ab0b5f1e81ae9d3a1cb": {
      "model_module": "jupyter-js-widgets",
      "model_module_version": "~2.1.4",
      "model_name": "FloatSliderModel",
      "state": {
       "_model_module_version": "~2.1.4",
       "_view_module_version": "~2.1.4",
       "description": "vmax",
       "layout": "IPY_MODEL_ebd2dda6e8324d7ab2d056c8721720aa",
       "max": 1,
       "step": 0.1,
       "value": 1
      }
     },
     "103fd52ebe8c4438850ecfc8f10092cd": {
      "model_module": "jupyter-js-widgets",
      "model_module_version": "~2.1.4",
      "model_name": "LayoutModel",
      "state": {
       "_model_module_version": "~2.1.4",
       "_view_module_version": "~2.1.4"
      }
     },
     "114a738a4d784e03810889f64d3f7546": {
      "model_module": "jupyter-js-widgets",
      "model_module_version": "~2.1.4",
      "model_name": "VBoxModel",
      "state": {
       "_dom_classes": [
        "widget-interact"
       ],
       "_model_module_version": "~2.1.4",
       "_view_module_version": "~2.1.4",
       "children": [
        "IPY_MODEL_cba6a09128a94acdbae828623e54a08b",
        "IPY_MODEL_82fab683b6104282a5a8e7768b3da9bb",
        "IPY_MODEL_4600842404ca447c94148b0024584248",
        "IPY_MODEL_70dc0d4a16844e0785671520ca2ad99a",
        "IPY_MODEL_90b5cd54a8314a4aad73b37106fc8330"
       ],
       "layout": "IPY_MODEL_9763b96b3d0143f1b70ffd75246e4ee1"
      }
     },
     "117f106f2f774d218f679d44b786b96d": {
      "model_module": "jupyter-js-widgets",
      "model_module_version": "~2.1.4",
      "model_name": "LayoutModel",
      "state": {
       "_model_module_version": "~2.1.4",
       "_view_module_version": "~2.1.4"
      }
     },
     "11bf7b9312a84fceb7330e14594dc6ae": {
      "model_module": "jupyter-js-widgets",
      "model_module_version": "~2.1.4",
      "model_name": "OutputModel",
      "state": {
       "_dom_classes": [],
       "_model_module": "jupyter-js-widgets",
       "_model_module_version": "~2.1.4",
       "_view_module": "jupyter-js-widgets",
       "_view_module_version": "~2.1.4",
       "layout": "IPY_MODEL_ad68c5f17bce4f03b4b99e0af44e8ba4",
       "msg_throttle": 1
      }
     },
     "12637d8a9d7145b68d6ac8739bfa88d0": {
      "model_module": "jupyter-js-widgets",
      "model_module_version": "~2.1.4",
      "model_name": "IntSliderModel",
      "state": {
       "_model_module_version": "~2.1.4",
       "_view_module_version": "~2.1.4",
       "description": "i",
       "layout": "IPY_MODEL_07f7a6415c1045bfad86470b57f6a865",
       "max": 800,
       "style": "IPY_MODEL_ec23d410ab1c4aa7927f98fd7d3e3279"
      }
     },
     "128e6997e077490482a12671d5876270": {
      "model_module": "jupyter-js-widgets",
      "model_module_version": "~2.1.4",
      "model_name": "LayoutModel",
      "state": {
       "_model_module_version": "~2.1.4",
       "_view_module_version": "~2.1.4"
      }
     },
     "135897022b0a44919a5cc18694aa5f3a": {
      "model_module": "jupyter-js-widgets",
      "model_module_version": "~2.1.4",
      "model_name": "LayoutModel",
      "state": {
       "_model_module_version": "~2.1.4",
       "_view_module_version": "~2.1.4"
      }
     },
     "13d238f8c1ad4107919dab1060b67b04": {
      "model_module": "jupyter-js-widgets",
      "model_module_version": "~2.1.4",
      "model_name": "DropdownModel",
      "state": {
       "_model_module_version": "~2.1.4",
       "_options_labels": [
        "Projections",
        "Open beam images",
        "Dark images"
       ],
       "_view_module_version": "~2.1.4",
       "description": "ims",
       "layout": "IPY_MODEL_b99b399e29764056b34dfbe19398e11c",
       "value": "Projections"
      }
     },
     "13da316decd64b11a30012a7231e33a5": {
      "model_module": "jupyter-js-widgets",
      "model_module_version": "~2.1.4",
      "model_name": "SliderStyleModel",
      "state": {
       "_model_module_version": "~2.1.4",
       "_view_module_version": "~2.1.4"
      }
     },
     "13e9d4c43a95417880903c4df8c8e682": {
      "model_module": "jupyter-js-widgets",
      "model_module_version": "~2.1.4",
      "model_name": "LayoutModel",
      "state": {
       "_model_module_version": "~2.1.4",
       "_view_module_version": "~2.1.4"
      }
     },
     "13fafe445d1343e3b6b9552e1cb49864": {
      "model_module": "jupyter-js-widgets",
      "model_module_version": "~2.1.4",
      "model_name": "VBoxModel",
      "state": {
       "_dom_classes": [
        "widget-interact"
       ],
       "_model_module_version": "~2.1.4",
       "_view_module_version": "~2.1.4",
       "children": [
        "IPY_MODEL_dd2626d41ce647b5b56b5148db218112",
        "IPY_MODEL_242a9a5746f744ff97ded277ed4fe7b8",
        "IPY_MODEL_6f79cfdf132843a49289fd810654432c",
        "IPY_MODEL_5d49a3b0e4e9409c93c8ece925bc84a0"
       ],
       "layout": "IPY_MODEL_f891c708ee3e42f28bde8a0a7014eac4"
      }
     },
     "1402ee8a25f942ef8474584ee652d513": {
      "model_module": "jupyter-js-widgets",
      "model_module_version": "~2.1.4",
      "model_name": "LayoutModel",
      "state": {
       "_model_module_version": "~2.1.4",
       "_view_module_version": "~2.1.4"
      }
     },
     "1407e75bc19d40e78bfc9e6fdeca1ff8": {
      "model_module": "jupyter-js-widgets",
      "model_module_version": "~2.1.4",
      "model_name": "SliderStyleModel",
      "state": {
       "_model_module_version": "~2.1.4",
       "_view_module_version": "~2.1.4"
      }
     },
     "1434737d2b9d4a37a50440f34f4bf61f": {
      "model_module": "jupyter-js-widgets",
      "model_module_version": "~2.1.4",
      "model_name": "LayoutModel",
      "state": {
       "_model_module_version": "~2.1.4",
       "_view_module_version": "~2.1.4"
      }
     },
     "14389f835e204f33a0a680afa34d650b": {
      "model_module": "jupyter-js-widgets",
      "model_module_version": "~2.1.4",
      "model_name": "OutputModel",
      "state": {
       "_dom_classes": [],
       "_model_module": "jupyter-js-widgets",
       "_model_module_version": "~2.1.4",
       "_view_module": "jupyter-js-widgets",
       "_view_module_version": "~2.1.4",
       "layout": "IPY_MODEL_0101c46c03dc4ccbbd3211ece86e628e",
       "msg_throttle": 1
      }
     },
     "143b5d38ed4545899f1f183a95f5fef4": {
      "model_module": "jupyter-js-widgets",
      "model_module_version": "~2.1.4",
      "model_name": "LayoutModel",
      "state": {
       "_model_module_version": "~2.1.4",
       "_view_module_version": "~2.1.4"
      }
     },
     "144ab003edde4356a7f7dc0397cfa3ca": {
      "model_module": "jupyter-js-widgets",
      "model_module_version": "~2.1.4",
      "model_name": "SliderStyleModel",
      "state": {
       "_model_module_version": "~2.1.4",
       "_view_module_version": "~2.1.4"
      }
     },
     "145133f6379e4227812a5f0c5d55e8d3": {
      "model_module": "jupyter-js-widgets",
      "model_module_version": "~2.1.4",
      "model_name": "DropdownModel",
      "state": {
       "_model_module_version": "~2.1.4",
       "_options_labels": [
        "10",
        "100",
        "250",
        "500",
        "750",
        "1000"
       ],
       "_view_module_version": "~2.1.4",
       "description": "diff",
       "layout": "IPY_MODEL_433b4d2db3b34a9dbf30b249d63c49c5",
       "value": "500"
      }
     },
     "14a6a29d36ac43a0a230c8419d560fc3": {
      "model_module": "jupyter-js-widgets",
      "model_module_version": "~2.1.4",
      "model_name": "LayoutModel",
      "state": {
       "_model_module_version": "~2.1.4",
       "_view_module_version": "~2.1.4"
      }
     },
     "14e00029e53c406c8fa974ce80402a55": {
      "model_module": "jupyter-js-widgets",
      "model_module_version": "~2.1.4",
      "model_name": "SliderStyleModel",
      "state": {
       "_model_module_version": "~2.1.4",
       "_view_module_version": "~2.1.4"
      }
     },
     "1529b42e972e4f5182d61ddb37eb61a7": {
      "model_module": "jupyter-js-widgets",
      "model_module_version": "~2.1.4",
      "model_name": "LayoutModel",
      "state": {
       "_model_module_version": "~2.1.4",
       "_view_module_version": "~2.1.4"
      }
     },
     "15623819dc5d496fbf26dd11555903b3": {
      "model_module": "jupyter-js-widgets",
      "model_module_version": "~2.1.4",
      "model_name": "VBoxModel",
      "state": {
       "_dom_classes": [
        "widget-interact"
       ],
       "_model_module_version": "~2.1.4",
       "_view_module_version": "~2.1.4",
       "children": [
        "IPY_MODEL_8a6f23bde0a3419f8eaae0f947facdcf",
        "IPY_MODEL_e535535231a44ee88068c9631fd7df3b",
        "IPY_MODEL_840c234cfa444110bed898e3ee5c8f6c",
        "IPY_MODEL_84694719e9f34b878df81764da4669e7"
       ],
       "layout": "IPY_MODEL_fa0fb33c45474f72b42446cc99d7a788"
      }
     },
     "1571a72d848c40db9ccf1f4a8d3fbba7": {
      "model_module": "jupyter-js-widgets",
      "model_module_version": "~2.1.4",
      "model_name": "LayoutModel",
      "state": {
       "_model_module_version": "~2.1.4",
       "_view_module_version": "~2.1.4"
      }
     },
     "158f6029b6c848879862c3893c8e7933": {
      "model_module": "jupyter-js-widgets",
      "model_module_version": "~2.1.4",
      "model_name": "SliderStyleModel",
      "state": {
       "_model_module_version": "~2.1.4",
       "_view_module_version": "~2.1.4"
      }
     },
     "15ba364c744543228c1932c97e14aa4e": {
      "model_module": "jupyter-js-widgets",
      "model_module_version": "~2.1.4",
      "model_name": "IntSliderModel",
      "state": {
       "_model_module_version": "~2.1.4",
       "_view_module_version": "~2.1.4",
       "description": "i",
       "layout": "IPY_MODEL_39d1d431f15849e99bac4cfadb805908",
       "max": 800,
       "style": "IPY_MODEL_fa52a103cdb2475eb48a0da3c9baa5f7"
      }
     },
     "1622eec504f44534abce450bc061c6a4": {
      "model_module": "jupyter-js-widgets",
      "model_module_version": "~2.1.4",
      "model_name": "IntSliderModel",
      "state": {
       "_model_module_version": "~2.1.4",
       "_view_module_version": "~2.1.4",
       "description": "i",
       "layout": "IPY_MODEL_350abcfde95d4e2ea7bcd4064527ab03",
       "max": 800,
       "style": "IPY_MODEL_493ce18b62144891b860cf126a59b792"
      }
     },
     "163db811f6c84f5d902f972734a1cca0": {
      "model_module": "jupyter-js-widgets",
      "model_module_version": "~2.1.4",
      "model_name": "LayoutModel",
      "state": {
       "_model_module_version": "~2.1.4",
       "_view_module_version": "~2.1.4"
      }
     },
     "1648feb503a44764a3719e24a5c32ec0": {
      "model_module": "jupyter-js-widgets",
      "model_module_version": "~2.1.4",
      "model_name": "LayoutModel",
      "state": {
       "_model_module_version": "~2.1.4",
       "_view_module_version": "~2.1.4"
      }
     },
     "1652c3b171784ad48ffb9112c6e6df63": {
      "model_module": "jupyter-js-widgets",
      "model_module_version": "~2.1.4",
      "model_name": "LayoutModel",
      "state": {
       "_model_module_version": "~2.1.4",
       "_view_module_version": "~2.1.4"
      }
     },
     "165623f213a546e4bd2ca80d87ce6c20": {
      "model_module": "jupyter-js-widgets",
      "model_module_version": "~2.1.4",
      "model_name": "IntSliderModel",
      "state": {
       "_model_module_version": "~2.1.4",
       "_view_module_version": "~2.1.4",
       "description": "vmin",
       "layout": "IPY_MODEL_e7d8f137c797478da3638d46b85864b5",
       "max": 65535,
       "style": "IPY_MODEL_22aacd1817494326804bf4e3826d0310"
      }
     },
     "1664705f880243a4add82c796b28c530": {
      "model_module": "jupyter-js-widgets",
      "model_module_version": "~2.1.4",
      "model_name": "SliderStyleModel",
      "state": {
       "_model_module_version": "~2.1.4",
       "_view_module_version": "~2.1.4"
      }
     },
     "16739dbfb5b54eb2aa6fd664cb4f9130": {
      "model_module": "jupyter-js-widgets",
      "model_module_version": "~2.1.4",
      "model_name": "VBoxModel",
      "state": {
       "_dom_classes": [
        "widget-interact"
       ],
       "_model_module_version": "~2.1.4",
       "_view_module_version": "~2.1.4",
       "children": [
        "IPY_MODEL_a19fd442db214a6fa487edfa9dcbab9a",
        "IPY_MODEL_f909f9c549d94c3caa9a8468cb911fab",
        "IPY_MODEL_273bfc247b90435c8c753f4bd27c5a28",
        "IPY_MODEL_bf076f9f529947bdae07f13be4abdaac",
        "IPY_MODEL_6639557fa7c046009d6364447f7d4b22",
        "IPY_MODEL_637187a387fc489e980a8475a8457141",
        "IPY_MODEL_95f0894fc5c24ce4b672015097dace5a"
       ],
       "layout": "IPY_MODEL_1a901a78abbc4fa4b7b78afda4912033"
      }
     },
     "16e6a0292ff5420bb33ad95254c76047": {
      "model_module": "jupyter-js-widgets",
      "model_module_version": "~2.1.4",
      "model_name": "LayoutModel",
      "state": {
       "_model_module_version": "~2.1.4",
       "_view_module_version": "~2.1.4"
      }
     },
     "1752180fbec0419f9e5caec96fa4adac": {
      "model_module": "jupyter-js-widgets",
      "model_module_version": "~2.1.4",
      "model_name": "LayoutModel",
      "state": {
       "_model_module_version": "~2.1.4",
       "_view_module_version": "~2.1.4"
      }
     },
     "17ba1869eb0d4471ac61e9a0f22718f0": {
      "model_module": "jupyter-js-widgets",
      "model_module_version": "~2.1.4",
      "model_name": "OutputModel",
      "state": {
       "_dom_classes": [],
       "_model_module": "jupyter-js-widgets",
       "_model_module_version": "~2.1.4",
       "_view_module": "jupyter-js-widgets",
       "_view_module_version": "~2.1.4",
       "layout": "IPY_MODEL_95a7022deeef4fa4b88d4f57b651c7e9",
       "msg_throttle": 1
      }
     },
     "17bb6705137847b881434b695dbcdfc7": {
      "model_module": "jupyter-js-widgets",
      "model_module_version": "~2.1.4",
      "model_name": "LayoutModel",
      "state": {
       "_model_module_version": "~2.1.4",
       "_view_module_version": "~2.1.4"
      }
     },
     "1827bda36a10426eb5433c2582f45638": {
      "model_module": "jupyter-js-widgets",
      "model_module_version": "~2.1.4",
      "model_name": "VBoxModel",
      "state": {
       "_dom_classes": [
        "widget-interact"
       ],
       "_model_module_version": "~2.1.4",
       "_view_module_version": "~2.1.4",
       "children": [
        "IPY_MODEL_f853adc07d044a84bbe38b56654dfe9d",
        "IPY_MODEL_25ed2bdafdfa4ae29820df7cf699ae26",
        "IPY_MODEL_2fd481527b364fb4a3ece1a7542115ce",
        "IPY_MODEL_663416bd21fd4e9b8560376c8ea3a926",
        "IPY_MODEL_077c0abd415c4541a23764a787ddbfa3"
       ],
       "layout": "IPY_MODEL_d23c6f7acb01482f815c74c2bdb33894"
      }
     },
     "1832c6f74e724ad5b8027da47f6037aa": {
      "model_module": "jupyter-js-widgets",
      "model_module_version": "~2.1.4",
      "model_name": "SliderStyleModel",
      "state": {
       "_model_module_version": "~2.1.4",
       "_view_module_version": "~2.1.4"
      }
     },
     "189b8db0a94748d9b6cb6dd6a5cbbe69": {
      "model_module": "jupyter-js-widgets",
      "model_module_version": "~2.1.4",
      "model_name": "LayoutModel",
      "state": {
       "_model_module_version": "~2.1.4",
       "_view_module_version": "~2.1.4"
      }
     },
     "18e58770df014a3597da836bdb112700": {
      "model_module": "jupyter-js-widgets",
      "model_module_version": "~2.1.4",
      "model_name": "LayoutModel",
      "state": {
       "_model_module_version": "~2.1.4",
       "_view_module_version": "~2.1.4"
      }
     },
     "18f50c5475a5415a8b779dd73d691d66": {
      "model_module": "jupyter-js-widgets",
      "model_module_version": "~2.1.4",
      "model_name": "SliderStyleModel",
      "state": {
       "_model_module_version": "~2.1.4",
       "_view_module_version": "~2.1.4"
      }
     },
     "18f75b3e0e064fea92e0ab2290428a7c": {
      "model_module": "jupyter-js-widgets",
      "model_module_version": "~2.1.4",
      "model_name": "DropdownModel",
      "state": {
       "_model_module_version": "~2.1.4",
       "_options_labels": [
        "Projections",
        "Open beam images",
        "Dark images"
       ],
       "_view_module_version": "~2.1.4",
       "description": "ims",
       "layout": "IPY_MODEL_2d36c7de92d54643b51d3a2aa59cf1b1",
       "value": "Projections"
      }
     },
     "192746064615431184de4a67f10dea1b": {
      "model_module": "jupyter-js-widgets",
      "model_module_version": "~2.1.4",
      "model_name": "FloatSliderModel",
      "state": {
       "_model_module_version": "~2.1.4",
       "_view_module_version": "~2.1.4",
       "description": "vmax",
       "layout": "IPY_MODEL_0581b10163424c6889272c5a0789ae38",
       "max": 0.078,
       "min": -0.026,
       "step": 0.1,
       "value": 0.026
      }
     },
     "1935d5d86aac4fca8708642bee48890a": {
      "model_module": "jupyter-js-widgets",
      "model_module_version": "~2.1.4",
      "model_name": "IntSliderModel",
      "state": {
       "_model_module_version": "~2.1.4",
       "_view_module_version": "~2.1.4",
       "description": "i",
       "layout": "IPY_MODEL_5e36eb241f6144c1af6ffb7162613b6c",
       "max": 369,
       "style": "IPY_MODEL_d553fa6b0c914ae0b6c79684f1e8fb6c",
       "value": 150
      }
     },
     "194fffd796554f1aa06c2b13faa0fbf2": {
      "model_module": "jupyter-js-widgets",
      "model_module_version": "~2.1.4",
      "model_name": "LayoutModel",
      "state": {
       "_model_module_version": "~2.1.4",
       "_view_module_version": "~2.1.4"
      }
     },
     "196b54d1cf5f46d294ad0d17467ffb63": {
      "model_module": "jupyter-js-widgets",
      "model_module_version": "~2.1.4",
      "model_name": "DropdownModel",
      "state": {
       "_model_module_version": "~2.1.4",
       "_options_labels": [
        "Projections",
        "Open beam images",
        "Dark images"
       ],
       "_view_module_version": "~2.1.4",
       "layout": "IPY_MODEL_1c9fd180f8584143bb05efe67a00888b",
       "value": "Projections"
      }
     },
     "1992db6c018c4a638d60830c55cfde9b": {
      "model_module": "jupyter-js-widgets",
      "model_module_version": "~2.1.4",
      "model_name": "FloatSliderModel",
      "state": {
       "_model_module_version": "~2.1.4",
       "_view_module_version": "~2.1.4",
       "description": "vmax",
       "layout": "IPY_MODEL_2725817aa6654a739c8f086aeb2a3327",
       "max": 0.015653500333428383,
       "min": -0.020783809944987297,
       "step": 0.00014233324327506125,
       "value": 0.00697
      }
     },
     "19f5bd03d44348e0a396743b44369e37": {
      "model_module": "jupyter-js-widgets",
      "model_module_version": "~2.1.4",
      "model_name": "FloatSliderModel",
      "state": {
       "_model_module_version": "~2.1.4",
       "_view_module_version": "~2.1.4",
       "description": "vmax",
       "layout": "IPY_MODEL_3bf57771a85643ecac93fc2116b8a5ab",
       "max": 0.015653500333428383,
       "min": -0.020783809944987297,
       "step": 0.001,
       "value": 0.00822
      }
     },
     "19f86bfca17649e19e3d496deda8b72d": {
      "model_module": "jupyter-js-widgets",
      "model_module_version": "~2.1.4",
      "model_name": "LayoutModel",
      "state": {
       "_model_module_version": "~2.1.4",
       "_view_module_version": "~2.1.4"
      }
     },
     "1a901a78abbc4fa4b7b78afda4912033": {
      "model_module": "jupyter-js-widgets",
      "model_module_version": "~2.1.4",
      "model_name": "LayoutModel",
      "state": {
       "_model_module_version": "~2.1.4",
       "_view_module_version": "~2.1.4"
      }
     },
     "1add6708df914d358a9647c38a67f90c": {
      "model_module": "jupyter-js-widgets",
      "model_module_version": "~2.1.4",
      "model_name": "VBoxModel",
      "state": {
       "_dom_classes": [
        "widget-interact"
       ],
       "_model_module_version": "~2.1.4",
       "_view_module_version": "~2.1.4",
       "children": [
        "IPY_MODEL_333b921a1b7c4103a75cb4780c7a2155",
        "IPY_MODEL_59de69800a294d1ab7f653d7ac5cbd8c",
        "IPY_MODEL_7e44207f7d8d4d18b029bf093a6f06cb",
        "IPY_MODEL_4d53fa270133456bbaa4e6cb78cab981"
       ],
       "layout": "IPY_MODEL_7d5c99b4bfc144d79aff4ffd65bbaea3"
      }
     },
     "1bad7f1566b243b0a0f0012345925ec6": {
      "model_module": "jupyter-js-widgets",
      "model_module_version": "~2.1.4",
      "model_name": "IntSliderModel",
      "state": {
       "_model_module_version": "~2.1.4",
       "_view_module_version": "~2.1.4",
       "description": "i",
       "layout": "IPY_MODEL_6ca8024caa0d42ba97a92b5a5ddd3226",
       "max": 369,
       "style": "IPY_MODEL_3a204c5c7be142419d8b927d4fde0e2a",
       "value": 110
      }
     },
     "1bbe4cc779d54931aea4bf335ad31b92": {
      "model_module": "jupyter-js-widgets",
      "model_module_version": "~2.1.4",
      "model_name": "OutputModel",
      "state": {
       "_dom_classes": [],
       "_model_module": "jupyter-js-widgets",
       "_model_module_version": "~2.1.4",
       "_view_module": "jupyter-js-widgets",
       "_view_module_version": "~2.1.4",
       "layout": "IPY_MODEL_f3c2297b7c7a4e5f9cf17bafe73df6c2",
       "msg_throttle": 1
      }
     },
     "1c0309f5d2ea4eb889a57134f145dc4f": {
      "model_module": "jupyter-js-widgets",
      "model_module_version": "~2.1.4",
      "model_name": "SliderStyleModel",
      "state": {
       "_model_module_version": "~2.1.4",
       "_view_module_version": "~2.1.4"
      }
     },
     "1c15d23964f74a048afb0158f8fafb3b": {
      "model_module": "jupyter-js-widgets",
      "model_module_version": "~2.1.4",
      "model_name": "LayoutModel",
      "state": {
       "_model_module_version": "~2.1.4",
       "_view_module_version": "~2.1.4"
      }
     },
     "1c45fecff416419faddb6be786cdbda3": {
      "model_module": "jupyter-js-widgets",
      "model_module_version": "~2.1.4",
      "model_name": "DropdownModel",
      "state": {
       "_model_module_version": "~2.1.4",
       "_options_labels": [
        "Projections",
        "Open beam images",
        "Dark images"
       ],
       "_view_module_version": "~2.1.4",
       "description": "ims",
       "layout": "IPY_MODEL_ffa66bea1eee4078b68c882304925b85",
       "value": "Projections"
      }
     },
     "1c6c720917434ca0851acc31ac511a3b": {
      "model_module": "jupyter-js-widgets",
      "model_module_version": "~2.1.4",
      "model_name": "VBoxModel",
      "state": {
       "_dom_classes": [
        "widget-interact"
       ],
       "_model_module_version": "~2.1.4",
       "_view_module_version": "~2.1.4",
       "children": [
        "IPY_MODEL_1935d5d86aac4fca8708642bee48890a",
        "IPY_MODEL_3463c84dd9784b4d9afc8c70afa3bc8a",
        "IPY_MODEL_da82304be83e42679f0f4010ca9f9265",
        "IPY_MODEL_f6dc352658de4bab902b5518a91d14f4"
       ],
       "layout": "IPY_MODEL_862f5ae7b28540dd8ac3b89285289e49"
      }
     },
     "1c7510405cf54302ab5ccfc020ed3f72": {
      "model_module": "jupyter-js-widgets",
      "model_module_version": "~2.1.4",
      "model_name": "VBoxModel",
      "state": {
       "_dom_classes": [
        "widget-interact"
       ],
       "_model_module_version": "~2.1.4",
       "_view_module_version": "~2.1.4",
       "children": [
        "IPY_MODEL_91058ee2eace438e80a4bfdc59c67e23",
        "IPY_MODEL_c90e63e7b8974b74844251d230ccc5ba",
        "IPY_MODEL_590341a6260a4f86a9f35f098be3854b",
        "IPY_MODEL_081db6b19fbc48acb7d14ea76710e241"
       ],
       "layout": "IPY_MODEL_6a6384d6b9ef4e8098edeeea962e52e5"
      }
     },
     "1c9fd180f8584143bb05efe67a00888b": {
      "model_module": "jupyter-js-widgets",
      "model_module_version": "~2.1.4",
      "model_name": "LayoutModel",
      "state": {
       "_model_module_version": "~2.1.4",
       "_view_module_version": "~2.1.4"
      }
     },
     "1cd1d923a1cb491481988a6f7703639a": {
      "model_module": "jupyter-js-widgets",
      "model_module_version": "~2.1.4",
      "model_name": "LayoutModel",
      "state": {
       "_model_module_version": "~2.1.4",
       "_view_module_version": "~2.1.4"
      }
     },
     "1d0529a62ba34f4a9cac72d2bc402b5c": {
      "model_module": "jupyter-js-widgets",
      "model_module_version": "~2.1.4",
      "model_name": "LayoutModel",
      "state": {
       "_model_module_version": "~2.1.4",
       "_view_module_version": "~2.1.4"
      }
     },
     "1d316807991a4b20b0efd7e6a16a441c": {
      "model_module": "jupyter-js-widgets",
      "model_module_version": "~2.1.4",
      "model_name": "LayoutModel",
      "state": {
       "_model_module_version": "~2.1.4",
       "_view_module_version": "~2.1.4"
      }
     },
     "1d3ea5fe345b4b158b14941a117cd44e": {
      "model_module": "jupyter-js-widgets",
      "model_module_version": "~2.1.4",
      "model_name": "DropdownModel",
      "state": {
       "_model_module_version": "~2.1.4",
       "_options_labels": [
        "3",
        "5",
        "7"
       ],
       "_view_module_version": "~2.1.4",
       "description": "size",
       "layout": "IPY_MODEL_642f619f411c43f8882f55b246db6dc4",
       "value": "3"
      }
     },
     "1dbfc897a8b34e2188723a31d5a7ef2c": {
      "model_module": "jupyter-js-widgets",
      "model_module_version": "~2.1.4",
      "model_name": "LayoutModel",
      "state": {
       "_model_module_version": "~2.1.4",
       "_view_module_version": "~2.1.4"
      }
     },
     "1e0984dc568540eea96c81bee0867af1": {
      "model_module": "jupyter-js-widgets",
      "model_module_version": "~2.1.4",
      "model_name": "VBoxModel",
      "state": {
       "_dom_classes": [
        "widget-interact"
       ],
       "_model_module_version": "~2.1.4",
       "_view_module_version": "~2.1.4",
       "children": [
        "IPY_MODEL_c0462da754f9466c9c35057afe3ef4bc",
        "IPY_MODEL_c6a3e3b9191c4e38b9b28ee41fbfb68d",
        "IPY_MODEL_192746064615431184de4a67f10dea1b",
        "IPY_MODEL_30ab790c976c4b52b78c1411e77a638f"
       ],
       "layout": "IPY_MODEL_938402220d3740308b7ccd7ef35880f8"
      }
     },
     "1e71755c208a46a39c964da0a40be7eb": {
      "model_module": "jupyter-js-widgets",
      "model_module_version": "~2.1.4",
      "model_name": "OutputModel",
      "state": {
       "_dom_classes": [],
       "_model_module": "jupyter-js-widgets",
       "_model_module_version": "~2.1.4",
       "_view_module": "jupyter-js-widgets",
       "_view_module_version": "~2.1.4",
       "layout": "IPY_MODEL_786ac57a8de74ae1b95e851f44aa48b4",
       "msg_throttle": 1
      }
     },
     "1ea4659c43204a16b0e3011029900cfd": {
      "model_module": "jupyter-js-widgets",
      "model_module_version": "~2.1.4",
      "model_name": "SliderStyleModel",
      "state": {
       "_model_module_version": "~2.1.4",
       "_view_module_version": "~2.1.4"
      }
     },
     "1eb91518bce34f9db6013dbe4b43bb5b": {
      "model_module": "jupyter-js-widgets",
      "model_module_version": "~2.1.4",
      "model_name": "VBoxModel",
      "state": {
       "_dom_classes": [
        "widget-interact"
       ],
       "_model_module_version": "~2.1.4",
       "_view_module_version": "~2.1.4",
       "children": [
        "IPY_MODEL_37fb83159fb942ec875e1b30d1f00f46",
        "IPY_MODEL_0f2a46ea478640ba8fa1bf176bff9fe9",
        "IPY_MODEL_97b899022be84bc992dcb966ddb599b6"
       ],
       "layout": "IPY_MODEL_af9ce2b589f54a7587025b24a1b2ecbe"
      }
     },
     "1efd944ebf534de0853a06d7f43aceeb": {
      "model_module": "jupyter-js-widgets",
      "model_module_version": "~2.1.4",
      "model_name": "LayoutModel",
      "state": {
       "_model_module_version": "~2.1.4",
       "_view_module_version": "~2.1.4"
      }
     },
     "1feb132a7e3349228f0c573f7d148c35": {
      "model_module": "jupyter-js-widgets",
      "model_module_version": "~2.1.4",
      "model_name": "LayoutModel",
      "state": {
       "_model_module_version": "~2.1.4",
       "_view_module_version": "~2.1.4"
      }
     },
     "20377a1dd7ad43cbbadf25263bc460e8": {
      "model_module": "jupyter-js-widgets",
      "model_module_version": "~2.1.4",
      "model_name": "LayoutModel",
      "state": {
       "_model_module_version": "~2.1.4",
       "_view_module_version": "~2.1.4"
      }
     },
     "20ccfab7c65145458d44b960d1baa0ea": {
      "model_module": "jupyter-js-widgets",
      "model_module_version": "~2.1.4",
      "model_name": "OutputModel",
      "state": {
       "_dom_classes": [],
       "_model_module": "jupyter-js-widgets",
       "_model_module_version": "~2.1.4",
       "_view_module": "jupyter-js-widgets",
       "_view_module_version": "~2.1.4",
       "layout": "IPY_MODEL_ab15e6f9a25b48bbbcda5f015916b506",
       "msg_throttle": 1
      }
     },
     "210628b6340f493fa61735a755a74301": {
      "model_module": "jupyter-js-widgets",
      "model_module_version": "~2.1.4",
      "model_name": "FloatSliderModel",
      "state": {
       "_model_module_version": "~2.1.4",
       "_view_module_version": "~2.1.4",
       "description": "vmax",
       "layout": "IPY_MODEL_4e61b26b53af4ceea9792f3cb669212b",
       "max": 0.015653500333428383,
       "min": -0.020783809944987297,
       "step": 0.00014233324327506125,
       "value": 0.015653500333428383
      }
     },
     "216f7e53507444098ea7e0e04447ce4c": {
      "model_module": "jupyter-js-widgets",
      "model_module_version": "~2.1.4",
      "model_name": "FloatSliderModel",
      "state": {
       "_model_module_version": "~2.1.4",
       "_view_module_version": "~2.1.4",
       "description": "vmin",
       "layout": "IPY_MODEL_e9ffbd6f00ba4eeda133bf1b0664b76d",
       "max": 0.009999999776482582,
       "min": -0.004999999888241291,
       "step": 0.001,
       "value": -0.004999999888241291
      }
     },
     "21ee275b4430482096ec42747c26bf02": {
      "model_module": "jupyter-js-widgets",
      "model_module_version": "~2.1.4",
      "model_name": "LayoutModel",
      "state": {
       "_model_module_version": "~2.1.4",
       "_view_module_version": "~2.1.4"
      }
     },
     "225ca3c498c641968386a3a6ccd26173": {
      "model_module": "jupyter-js-widgets",
      "model_module_version": "~2.1.4",
      "model_name": "OutputModel",
      "state": {
       "_dom_classes": [],
       "_model_module": "jupyter-js-widgets",
       "_model_module_version": "~2.1.4",
       "_view_module": "jupyter-js-widgets",
       "_view_module_version": "~2.1.4",
       "layout": "IPY_MODEL_264dd6e27cce4c59ac8e723ddde7e88a",
       "msg_throttle": 1
      }
     },
     "22aacd1817494326804bf4e3826d0310": {
      "model_module": "jupyter-js-widgets",
      "model_module_version": "~2.1.4",
      "model_name": "SliderStyleModel",
      "state": {
       "_model_module_version": "~2.1.4",
       "_view_module_version": "~2.1.4"
      }
     },
     "22dd886ad8be4c5090b95b32613af167": {
      "model_module": "jupyter-js-widgets",
      "model_module_version": "~2.1.4",
      "model_name": "LayoutModel",
      "state": {
       "_model_module_version": "~2.1.4",
       "_view_module_version": "~2.1.4"
      }
     },
     "22e351117314431cba0f105ed1a87640": {
      "model_module": "jupyter-js-widgets",
      "model_module_version": "~2.1.4",
      "model_name": "SliderStyleModel",
      "state": {
       "_model_module_version": "~2.1.4",
       "_view_module_version": "~2.1.4"
      }
     },
     "22e507d468214c2f9be0d71e910c75b6": {
      "model_module": "jupyter-js-widgets",
      "model_module_version": "~2.1.4",
      "model_name": "LayoutModel",
      "state": {
       "_model_module_version": "~2.1.4",
       "_view_module_version": "~2.1.4"
      }
     },
     "22ef691ff6d6411282dba8fa94f40a23": {
      "model_module": "jupyter-js-widgets",
      "model_module_version": "~2.1.4",
      "model_name": "OutputModel",
      "state": {
       "_dom_classes": [],
       "_model_module": "jupyter-js-widgets",
       "_model_module_version": "~2.1.4",
       "_view_module": "jupyter-js-widgets",
       "_view_module_version": "~2.1.4",
       "layout": "IPY_MODEL_726f55502b3a4f27aa26641697ff9d12",
       "msg_throttle": 1
      }
     },
     "23096a6f95a247ab822ae61106db0e58": {
      "model_module": "jupyter-js-widgets",
      "model_module_version": "~2.1.4",
      "model_name": "LayoutModel",
      "state": {
       "_model_module_version": "~2.1.4",
       "_view_module_version": "~2.1.4"
      }
     },
     "2322e1f989a04fab87ed6f405db86316": {
      "model_module": "jupyter-js-widgets",
      "model_module_version": "~2.1.4",
      "model_name": "LayoutModel",
      "state": {
       "_model_module_version": "~2.1.4",
       "_view_module_version": "~2.1.4"
      }
     },
     "239338bba7c84b4d95c53e3df0266b56": {
      "model_module": "jupyter-js-widgets",
      "model_module_version": "~2.1.4",
      "model_name": "OutputModel",
      "state": {
       "_dom_classes": [],
       "_model_module": "jupyter-js-widgets",
       "_model_module_version": "~2.1.4",
       "_view_module": "jupyter-js-widgets",
       "_view_module_version": "~2.1.4",
       "layout": "IPY_MODEL_a1b81be078ff49d89975106f1c7eca0d",
       "msg_throttle": 1
      }
     },
     "242a9a5746f744ff97ded277ed4fe7b8": {
      "model_module": "jupyter-js-widgets",
      "model_module_version": "~2.1.4",
      "model_name": "FloatSliderModel",
      "state": {
       "_model_module_version": "~2.1.4",
       "_view_module_version": "~2.1.4",
       "description": "vmin",
       "layout": "IPY_MODEL_8ba5c4919df34181ad0b021288cb6cb5",
       "max": 1.4,
       "step": 0.1
      }
     },
     "244a25f439c542f397184b505a420e13": {
      "model_module": "jupyter-js-widgets",
      "model_module_version": "~2.1.4",
      "model_name": "LayoutModel",
      "state": {
       "_model_module_version": "~2.1.4",
       "_view_module_version": "~2.1.4"
      }
     },
     "248630b34db44da1bffc185a36e92cdf": {
      "model_module": "jupyter-js-widgets",
      "model_module_version": "~2.1.4",
      "model_name": "LayoutModel",
      "state": {
       "_model_module_version": "~2.1.4",
       "_view_module_version": "~2.1.4"
      }
     },
     "2494985ac2584bcebf9881c3a69916c4": {
      "model_module": "jupyter-js-widgets",
      "model_module_version": "~2.1.4",
      "model_name": "SliderStyleModel",
      "state": {
       "_model_module_version": "~2.1.4",
       "_view_module_version": "~2.1.4"
      }
     },
     "250b01dc17c8415abb164423b0485d41": {
      "model_module": "jupyter-js-widgets",
      "model_module_version": "~2.1.4",
      "model_name": "LayoutModel",
      "state": {
       "_model_module_version": "~2.1.4",
       "_view_module_version": "~2.1.4"
      }
     },
     "2516a157e3074fae800052645f2e8407": {
      "model_module": "jupyter-js-widgets",
      "model_module_version": "~2.1.4",
      "model_name": "FloatSliderModel",
      "state": {
       "_model_module_version": "~2.1.4",
       "_view_module_version": "~2.1.4",
       "description": "vmin",
       "layout": "IPY_MODEL_33d94ba0e1484337b71c135765f67e59",
       "max": 0.010969985276460648,
       "min": -0.009999999776482582,
       "step": 0.001,
       "value": -0.005
      }
     },
     "254489f1b9f24d3b817e0288cbbf47e5": {
      "model_module": "jupyter-js-widgets",
      "model_module_version": "~2.1.4",
      "model_name": "IntSliderModel",
      "state": {
       "_model_module_version": "~2.1.4",
       "_view_module_version": "~2.1.4",
       "description": "i",
       "layout": "IPY_MODEL_ab19f67f2d814f8f86bb634128a08510",
       "max": 369,
       "style": "IPY_MODEL_1407e75bc19d40e78bfc9e6fdeca1ff8",
       "value": 306
      }
     },
     "254503888a5e43c28e403d66a11d2a88": {
      "model_module": "jupyter-js-widgets",
      "model_module_version": "~2.1.4",
      "model_name": "SliderStyleModel",
      "state": {
       "_model_module_version": "~2.1.4",
       "_view_module_version": "~2.1.4"
      }
     },
     "255731254dd5455bb28a2d9dc479e650": {
      "model_module": "jupyter-js-widgets",
      "model_module_version": "~2.1.4",
      "model_name": "LayoutModel",
      "state": {
       "_model_module_version": "~2.1.4",
       "_view_module_version": "~2.1.4"
      }
     },
     "257469b60a8c4d12a46cdaff75375f9d": {
      "model_module": "jupyter-js-widgets",
      "model_module_version": "~2.1.4",
      "model_name": "FloatSliderModel",
      "state": {
       "_model_module_version": "~2.1.4",
       "_view_module_version": "~2.1.4",
       "description": "vmin",
       "layout": "IPY_MODEL_dceefe8885194aa2a87c5009e56f6587",
       "max": 1,
       "min": -1,
       "step": 0.1
      }
     },
     "258fab6201814ab3b721cea6d23a30fb": {
      "model_module": "jupyter-js-widgets",
      "model_module_version": "~2.1.4",
      "model_name": "LayoutModel",
      "state": {
       "_model_module_version": "~2.1.4",
       "_view_module_version": "~2.1.4"
      }
     },
     "25b569464f894adfb1cb6947e9b8bb41": {
      "model_module": "jupyter-js-widgets",
      "model_module_version": "~2.1.4",
      "model_name": "LayoutModel",
      "state": {
       "_model_module_version": "~2.1.4",
       "_view_module_version": "~2.1.4"
      }
     },
     "25ebc3151be441bb9e134c07aa3adacd": {
      "model_module": "jupyter-js-widgets",
      "model_module_version": "~2.1.4",
      "model_name": "LayoutModel",
      "state": {
       "_model_module_version": "~2.1.4",
       "_view_module_version": "~2.1.4"
      }
     },
     "25ed2bdafdfa4ae29820df7cf699ae26": {
      "model_module": "jupyter-js-widgets",
      "model_module_version": "~2.1.4",
      "model_name": "IntSliderModel",
      "state": {
       "_model_module_version": "~2.1.4",
       "_view_module_version": "~2.1.4",
       "description": "i",
       "layout": "IPY_MODEL_ce94850c361542edab13f9a2f448d67c",
       "max": 800,
       "style": "IPY_MODEL_8ec3eeb2856744228d0d7a21f51b5cf4"
      }
     },
     "264dd6e27cce4c59ac8e723ddde7e88a": {
      "model_module": "jupyter-js-widgets",
      "model_module_version": "~2.1.4",
      "model_name": "LayoutModel",
      "state": {
       "_model_module_version": "~2.1.4",
       "_view_module_version": "~2.1.4"
      }
     },
     "26848ec19bb8415685c1a2a8d44ced83": {
      "model_module": "jupyter-js-widgets",
      "model_module_version": "~2.1.4",
      "model_name": "FloatSliderModel",
      "state": {
       "_model_module_version": "~2.1.4",
       "_view_module_version": "~2.1.4",
       "description": "vmin",
       "layout": "IPY_MODEL_79a00c8912d64f3abe4c0b0a39530742",
       "max": 1.4,
       "step": 0.1
      }
     },
     "2686691a35ad41899795075fbb4d40de": {
      "model_module": "jupyter-js-widgets",
      "model_module_version": "~2.1.4",
      "model_name": "IntSliderModel",
      "state": {
       "_model_module_version": "~2.1.4",
       "_view_module_version": "~2.1.4",
       "description": "i",
       "layout": "IPY_MODEL_e202ba2a34764922951ab5d9f37ab182",
       "max": 600,
       "min": -200,
       "style": "IPY_MODEL_158f6029b6c848879862c3893c8e7933",
       "value": 200
      }
     },
     "26c575198f564fcd850e8bd4f20c56ec": {
      "model_module": "jupyter-js-widgets",
      "model_module_version": "~2.1.4",
      "model_name": "LayoutModel",
      "state": {
       "_model_module_version": "~2.1.4",
       "_view_module_version": "~2.1.4"
      }
     },
     "26ca88d200c64749b58f56a6f1221c95": {
      "model_module": "jupyter-js-widgets",
      "model_module_version": "~2.1.4",
      "model_name": "OutputModel",
      "state": {
       "_dom_classes": [],
       "_model_module": "jupyter-js-widgets",
       "_model_module_version": "~2.1.4",
       "_view_module": "jupyter-js-widgets",
       "_view_module_version": "~2.1.4",
       "layout": "IPY_MODEL_ff0be982d77a434b9f71e65ef10de8bb",
       "msg_throttle": 1
      }
     },
     "26cb89c371f64b668094214753082b37": {
      "model_module": "jupyter-js-widgets",
      "model_module_version": "~2.1.4",
      "model_name": "LayoutModel",
      "state": {
       "_model_module_version": "~2.1.4",
       "_view_module_version": "~2.1.4"
      }
     },
     "2725817aa6654a739c8f086aeb2a3327": {
      "model_module": "jupyter-js-widgets",
      "model_module_version": "~2.1.4",
      "model_name": "LayoutModel",
      "state": {
       "_model_module_version": "~2.1.4",
       "_view_module_version": "~2.1.4"
      }
     },
     "273bfc247b90435c8c753f4bd27c5a28": {
      "model_module": "jupyter-js-widgets",
      "model_module_version": "~2.1.4",
      "model_name": "DropdownModel",
      "state": {
       "_model_module_version": "~2.1.4",
       "_options_labels": [
        "3",
        "5",
        "7"
       ],
       "_view_module_version": "~2.1.4",
       "description": "size",
       "layout": "IPY_MODEL_62b6425c7c484e0ebfae02b00f01b884",
       "value": "3"
      }
     },
     "273cf81c2b98460ca5e0b316651dde16": {
      "model_module": "jupyter-js-widgets",
      "model_module_version": "~2.1.4",
      "model_name": "LayoutModel",
      "state": {
       "_model_module_version": "~2.1.4",
       "_view_module_version": "~2.1.4"
      }
     },
     "274c67a887cc448a98ff9174b093c15a": {
      "model_module": "jupyter-js-widgets",
      "model_module_version": "~2.1.4",
      "model_name": "IntSliderModel",
      "state": {
       "_model_module_version": "~2.1.4",
       "_view_module_version": "~2.1.4",
       "description": "i",
       "layout": "IPY_MODEL_d334f626b8dd40219120e214a095d55c",
       "max": 800,
       "style": "IPY_MODEL_e6def0bfb6d045fabed2426c26c1d7f2",
       "value": 1
      }
     },
     "275b30e240534295ba1e86a7425802ec": {
      "model_module": "jupyter-js-widgets",
      "model_module_version": "~2.1.4",
      "model_name": "LayoutModel",
      "state": {
       "_model_module_version": "~2.1.4",
       "_view_module_version": "~2.1.4"
      }
     },
     "27c6e80b1cfc4a7187f4ff10787d6106": {
      "model_module": "jupyter-js-widgets",
      "model_module_version": "~2.1.4",
      "model_name": "OutputModel",
      "state": {
       "_dom_classes": [],
       "_model_module": "jupyter-js-widgets",
       "_model_module_version": "~2.1.4",
       "_view_module": "jupyter-js-widgets",
       "_view_module_version": "~2.1.4",
       "layout": "IPY_MODEL_bc337e99a09f4c7a81137f0d70914c4c",
       "msg_throttle": 1
      }
     },
     "27d11be27a224e109b6f6a2dbe3478e2": {
      "model_module": "jupyter-js-widgets",
      "model_module_version": "~2.1.4",
      "model_name": "FloatSliderModel",
      "state": {
       "_model_module_version": "~2.1.4",
       "_view_module_version": "~2.1.4",
       "description": "vmax",
       "layout": "IPY_MODEL_3cde8772d0974946ace38185ad929819",
       "max": 0.010969985276460648,
       "min": -0.009999999776482582,
       "step": 0.001,
       "value": 0.010000000223517418
      }
     },
     "27ee6eda19834fbf8266010d5fa1067d": {
      "model_module": "jupyter-js-widgets",
      "model_module_version": "~2.1.4",
      "model_name": "LayoutModel",
      "state": {
       "_model_module_version": "~2.1.4",
       "_view_module_version": "~2.1.4"
      }
     },
     "27ffb88252c645ada0a2d15c0d04277d": {
      "model_module": "jupyter-js-widgets",
      "model_module_version": "~2.1.4",
      "model_name": "SliderStyleModel",
      "state": {
       "_model_module_version": "~2.1.4",
       "_view_module_version": "~2.1.4"
      }
     },
     "280c8a18397e4ce99357f9ccdd1e2793": {
      "model_module": "jupyter-js-widgets",
      "model_module_version": "~2.1.4",
      "model_name": "SliderStyleModel",
      "state": {
       "_model_module_version": "~2.1.4",
       "_view_module_version": "~2.1.4"
      }
     },
     "2830ba472e22469f8f447c87f0e0c691": {
      "model_module": "jupyter-js-widgets",
      "model_module_version": "~2.1.4",
      "model_name": "LayoutModel",
      "state": {
       "_model_module_version": "~2.1.4",
       "_view_module_version": "~2.1.4"
      }
     },
     "284c51d6e2b34415af9f884bdb2c6f24": {
      "model_module": "jupyter-js-widgets",
      "model_module_version": "~2.1.4",
      "model_name": "OutputModel",
      "state": {
       "_dom_classes": [],
       "_model_module": "jupyter-js-widgets",
       "_model_module_version": "~2.1.4",
       "_view_module": "jupyter-js-widgets",
       "_view_module_version": "~2.1.4",
       "layout": "IPY_MODEL_2322e1f989a04fab87ed6f405db86316",
       "msg_throttle": 1
      }
     },
     "28598c78caa640f897b73f06ed7c21fe": {
      "model_module": "jupyter-js-widgets",
      "model_module_version": "~2.1.4",
      "model_name": "FloatSliderModel",
      "state": {
       "_model_module_version": "~2.1.4",
       "_view_module_version": "~2.1.4",
       "description": "vmin",
       "layout": "IPY_MODEL_cb79283f8ddb4b10b80c274f06a74fcf",
       "max": 0.009999999776482582,
       "min": -0.005170748569071293,
       "readout_format": ".3f",
       "step": 0.001,
       "value": -0.00117
      }
     },
     "2861aee50dc7418a8b4bf4acff180783": {
      "model_module": "jupyter-js-widgets",
      "model_module_version": "~2.1.4",
      "model_name": "LayoutModel",
      "state": {
       "_model_module_version": "~2.1.4",
       "_view_module_version": "~2.1.4"
      }
     },
     "28a61995248848fd9567ae734620b52d": {
      "model_module": "jupyter-js-widgets",
      "model_module_version": "~2.1.4",
      "model_name": "VBoxModel",
      "state": {
       "_dom_classes": [
        "widget-interact"
       ],
       "_model_module_version": "~2.1.4",
       "_view_module_version": "~2.1.4",
       "children": [
        "IPY_MODEL_38b9ee99710f4edda0898c22809d2c6c",
        "IPY_MODEL_9dabbe8db0244a719f9c0041392f0357"
       ],
       "layout": "IPY_MODEL_6709cd75951b451f9cfb6fbd02226935"
      }
     },
     "28b3b367638843dc88c2ef01f634a68e": {
      "model_module": "jupyter-js-widgets",
      "model_module_version": "~2.1.4",
      "model_name": "SliderStyleModel",
      "state": {
       "_model_module_version": "~2.1.4",
       "_view_module_version": "~2.1.4"
      }
     },
     "28d162c619ee43248ecbb7f97ac45bed": {
      "model_module": "jupyter-js-widgets",
      "model_module_version": "~2.1.4",
      "model_name": "VBoxModel",
      "state": {
       "_dom_classes": [
        "widget-interact"
       ],
       "_model_module_version": "~2.1.4",
       "_view_module_version": "~2.1.4",
       "children": [
        "IPY_MODEL_de1c062455d84c5c97f3d36c78e4ac4b",
        "IPY_MODEL_a123c444db6a48aab957669ec86d42d5",
        "IPY_MODEL_97a54bf34be941da9640413efe624b80",
        "IPY_MODEL_07b95c4ffe7640c78c2add5f1c78f2ad"
       ],
       "layout": "IPY_MODEL_448f4aa6e7bc4196b1f833cd6d15aa16"
      }
     },
     "28d225dd99fc4153b50c2bdee5fbd476": {
      "model_module": "jupyter-js-widgets",
      "model_module_version": "~2.1.4",
      "model_name": "FloatSliderModel",
      "state": {
       "_model_module_version": "~2.1.4",
       "_view_module_version": "~2.1.4",
       "description": "vmin",
       "layout": "IPY_MODEL_143b5d38ed4545899f1f183a95f5fef4",
       "max": 0.015653500333428383,
       "min": -0.020783809944987297,
       "step": 0.001,
       "value": -0.01078
      }
     },
     "297433e1e8ce49ebb3845f71de756e7c": {
      "model_module": "jupyter-js-widgets",
      "model_module_version": "~2.1.4",
      "model_name": "LayoutModel",
      "state": {
       "_model_module_version": "~2.1.4",
       "_view_module_version": "~2.1.4"
      }
     },
     "298df941f7554284bc3dad47d7ea2186": {
      "model_module": "jupyter-js-widgets",
      "model_module_version": "~2.1.4",
      "model_name": "LayoutModel",
      "state": {
       "_model_module_version": "~2.1.4",
       "_view_module_version": "~2.1.4"
      }
     },
     "2990ef911fe8406aad1de8df1ad92aeb": {
      "model_module": "jupyter-js-widgets",
      "model_module_version": "~2.1.4",
      "model_name": "LayoutModel",
      "state": {
       "_model_module_version": "~2.1.4",
       "_view_module_version": "~2.1.4"
      }
     },
     "299eea3b323b4feaba4666631093e4c2": {
      "model_module": "jupyter-js-widgets",
      "model_module_version": "~2.1.4",
      "model_name": "LayoutModel",
      "state": {
       "_model_module_version": "~2.1.4",
       "_view_module_version": "~2.1.4"
      }
     },
     "29f0d4bbf41b466398184aedfe4aba95": {
      "model_module": "jupyter-js-widgets",
      "model_module_version": "~2.1.4",
      "model_name": "VBoxModel",
      "state": {
       "_dom_classes": [
        "widget-interact"
       ],
       "_model_module_version": "~2.1.4",
       "_view_module_version": "~2.1.4",
       "children": [
        "IPY_MODEL_b7bcc5dfe62a43138c3854a8dbf511a9",
        "IPY_MODEL_26848ec19bb8415685c1a2a8d44ced83",
        "IPY_MODEL_4083e95482724f39a472c454549086e2",
        "IPY_MODEL_c0f5a1c0fe3445b6b2f1dd37df0dff62"
       ],
       "layout": "IPY_MODEL_a12b4a7e2936442bbbdf9023702cce74"
      }
     },
     "2a39635ca0ad4da587ae1c09a4410553": {
      "model_module": "jupyter-js-widgets",
      "model_module_version": "~2.1.4",
      "model_name": "LayoutModel",
      "state": {
       "_model_module_version": "~2.1.4",
       "_view_module_version": "~2.1.4"
      }
     },
     "2a7537968f3744a9a16c9568442a0205": {
      "model_module": "jupyter-js-widgets",
      "model_module_version": "~2.1.4",
      "model_name": "SliderStyleModel",
      "state": {
       "_model_module_version": "~2.1.4",
       "_view_module_version": "~2.1.4"
      }
     },
     "2a860561135f4e65b5fad84fd9acfcfe": {
      "model_module": "jupyter-js-widgets",
      "model_module_version": "~2.1.4",
      "model_name": "LayoutModel",
      "state": {
       "_model_module_version": "~2.1.4",
       "_view_module_version": "~2.1.4"
      }
     },
     "2ab15b5b8ecf498dbd13abc69de51994": {
      "model_module": "jupyter-js-widgets",
      "model_module_version": "~2.1.4",
      "model_name": "OutputModel",
      "state": {
       "_dom_classes": [],
       "_model_module": "jupyter-js-widgets",
       "_model_module_version": "~2.1.4",
       "_view_module": "jupyter-js-widgets",
       "_view_module_version": "~2.1.4",
       "layout": "IPY_MODEL_250b01dc17c8415abb164423b0485d41",
       "msg_throttle": 1
      }
     },
     "2b06f7b147984a5fb6180b9b471afde9": {
      "model_module": "jupyter-js-widgets",
      "model_module_version": "~2.1.4",
      "model_name": "LayoutModel",
      "state": {
       "_model_module_version": "~2.1.4",
       "_view_module_version": "~2.1.4"
      }
     },
     "2b267240095146eea609e792130ab145": {
      "model_module": "jupyter-js-widgets",
      "model_module_version": "~2.1.4",
      "model_name": "IntSliderModel",
      "state": {
       "_model_module_version": "~2.1.4",
       "_view_module_version": "~2.1.4",
       "description": "i",
       "layout": "IPY_MODEL_ac16483f4336408daaac6175224c9f12",
       "max": 300,
       "min": -100,
       "style": "IPY_MODEL_0b711e6795ce48cda4cf7e0b23a40b0f",
       "value": -22
      }
     },
     "2b3df9012f7d4b74bc960791f84a9d4e": {
      "model_module": "jupyter-js-widgets",
      "model_module_version": "~2.1.4",
      "model_name": "LayoutModel",
      "state": {
       "_model_module_version": "~2.1.4",
       "_view_module_version": "~2.1.4"
      }
     },
     "2b507b23ed1041c38d1b2a8d4d50549d": {
      "model_module": "jupyter-js-widgets",
      "model_module_version": "~2.1.4",
      "model_name": "SliderStyleModel",
      "state": {
       "_model_module_version": "~2.1.4",
       "_view_module_version": "~2.1.4"
      }
     },
     "2b5b49f49ad5419a86ba5a003723f285": {
      "model_module": "jupyter-js-widgets",
      "model_module_version": "~2.1.4",
      "model_name": "IntSliderModel",
      "state": {
       "_model_module_version": "~2.1.4",
       "_view_module_version": "~2.1.4",
       "description": "vmin",
       "layout": "IPY_MODEL_128e6997e077490482a12671d5876270",
       "max": 65535,
       "style": "IPY_MODEL_f53b8eb4e09346b5bdeed93f061f6100"
      }
     },
     "2b5f9750b1514890ae3420fb41bfef23": {
      "model_module": "jupyter-js-widgets",
      "model_module_version": "~2.1.4",
      "model_name": "FloatSliderModel",
      "state": {
       "_model_module_version": "~2.1.4",
       "_view_module_version": "~2.1.4",
       "description": "vmin",
       "layout": "IPY_MODEL_6ccf83c1d6db4b0aa7b76aa97c9516f7",
       "max": 0.010969985276460648,
       "min": -0.020783809944987297,
       "step": 0.001,
       "value": -0.00378
      }
     },
     "2b99d48268a4499caabc60dd64c6766c": {
      "model_module": "jupyter-js-widgets",
      "model_module_version": "~2.1.4",
      "model_name": "LayoutModel",
      "state": {
       "_model_module_version": "~2.1.4",
       "_view_module_version": "~2.1.4"
      }
     },
     "2b9a38cced5441a8be8f93d556527943": {
      "model_module": "jupyter-js-widgets",
      "model_module_version": "~2.1.4",
      "model_name": "LayoutModel",
      "state": {
       "_model_module_version": "~2.1.4",
       "_view_module_version": "~2.1.4"
      }
     },
     "2bc78cdfca0d461b818b1afee7437923": {
      "model_module": "jupyter-js-widgets",
      "model_module_version": "~2.1.4",
      "model_name": "OutputModel",
      "state": {
       "_dom_classes": [],
       "_model_module": "jupyter-js-widgets",
       "_model_module_version": "~2.1.4",
       "_view_module": "jupyter-js-widgets",
       "_view_module_version": "~2.1.4",
       "layout": "IPY_MODEL_43be8ebeb2c14d24a3bc3416e2c0fa44",
       "msg_throttle": 1
      }
     },
     "2be7c74032264665bc3c875e44ccee46": {
      "model_module": "jupyter-js-widgets",
      "model_module_version": "~2.1.4",
      "model_name": "SliderStyleModel",
      "state": {
       "_model_module_version": "~2.1.4",
       "_view_module_version": "~2.1.4"
      }
     },
     "2c1e40780a57445eaa351054d75d9f3e": {
      "model_module": "jupyter-js-widgets",
      "model_module_version": "~2.1.4",
      "model_name": "SliderStyleModel",
      "state": {
       "_model_module_version": "~2.1.4",
       "_view_module_version": "~2.1.4"
      }
     },
     "2c532c747b5446f697d0ebda8269ba55": {
      "model_module": "jupyter-js-widgets",
      "model_module_version": "~2.1.4",
      "model_name": "LayoutModel",
      "state": {
       "_model_module_version": "~2.1.4",
       "_view_module_version": "~2.1.4"
      }
     },
     "2ce1e83168fa434b9fd30bd4c291591d": {
      "model_module": "jupyter-js-widgets",
      "model_module_version": "~2.1.4",
      "model_name": "DropdownModel",
      "state": {
       "_model_module_version": "~2.1.4",
       "_options_labels": [
        "Projections",
        "Open beam images",
        "Dark images"
       ],
       "_view_module_version": "~2.1.4",
       "description": "ims",
       "layout": "IPY_MODEL_297433e1e8ce49ebb3845f71de756e7c",
       "value": "Projections"
      }
     },
     "2d36c7de92d54643b51d3a2aa59cf1b1": {
      "model_module": "jupyter-js-widgets",
      "model_module_version": "~2.1.4",
      "model_name": "LayoutModel",
      "state": {
       "_model_module_version": "~2.1.4",
       "_view_module_version": "~2.1.4"
      }
     },
     "2ddfc5cb653044f7a397f817ec086239": {
      "model_module": "jupyter-js-widgets",
      "model_module_version": "~2.1.4",
      "model_name": "OutputModel",
      "state": {
       "_dom_classes": [],
       "_model_module": "jupyter-js-widgets",
       "_model_module_version": "~2.1.4",
       "_view_module": "jupyter-js-widgets",
       "_view_module_version": "~2.1.4",
       "layout": "IPY_MODEL_9d132941b2c84509aa4c1bcc54e14ece",
       "msg_throttle": 1
      }
     },
     "2e0c066e1a3a489dbdd3ff71799dbcac": {
      "model_module": "jupyter-js-widgets",
      "model_module_version": "~2.1.4",
      "model_name": "IntSliderModel",
      "state": {
       "_model_module_version": "~2.1.4",
       "_view_module_version": "~2.1.4",
       "description": "vmin",
       "layout": "IPY_MODEL_5a7fea6300bc4a8ab410767eb840057f",
       "max": 65535,
       "style": "IPY_MODEL_7ae7f230d0514a3cb50187838cd803e7"
      }
     },
     "2e6c79c0eb044d4781a1bb3a9ed45569": {
      "model_module": "jupyter-js-widgets",
      "model_module_version": "~2.1.4",
      "model_name": "LayoutModel",
      "state": {
       "_model_module_version": "~2.1.4",
       "_view_module_version": "~2.1.4"
      }
     },
     "2e6ee0a7fd2547ae83a7efacc45d81a2": {
      "model_module": "jupyter-js-widgets",
      "model_module_version": "~2.1.4",
      "model_name": "VBoxModel",
      "state": {
       "_dom_classes": [
        "widget-interact"
       ],
       "_model_module_version": "~2.1.4",
       "_view_module_version": "~2.1.4",
       "children": [
        "IPY_MODEL_145133f6379e4227812a5f0c5d55e8d3",
        "IPY_MODEL_874ced8e2ef44bea848055ba14c1e053",
        "IPY_MODEL_225ca3c498c641968386a3a6ccd26173"
       ],
       "layout": "IPY_MODEL_725604c9bcb442368a5d4b581329b59e"
      }
     },
     "2ea7e9d702de431681cec1706b2c54f7": {
      "model_module": "jupyter-js-widgets",
      "model_module_version": "~2.1.4",
      "model_name": "SliderStyleModel",
      "state": {
       "_model_module_version": "~2.1.4",
       "_view_module_version": "~2.1.4"
      }
     },
     "2eace96e9c8a4b6ea5b5139bcab6ee3c": {
      "model_module": "jupyter-js-widgets",
      "model_module_version": "~2.1.4",
      "model_name": "IntSliderModel",
      "state": {
       "_model_module_version": "~2.1.4",
       "_view_module_version": "~2.1.4",
       "description": "i",
       "layout": "IPY_MODEL_418ad5154a0b46899535312eea1df30d",
       "max": 800,
       "style": "IPY_MODEL_7eb17a0167754dd69172834241957abd"
      }
     },
     "2ecc706c478b4839a1eb38f1b0089e5c": {
      "model_module": "jupyter-js-widgets",
      "model_module_version": "~2.1.4",
      "model_name": "SliderStyleModel",
      "state": {
       "_model_module_version": "~2.1.4",
       "_view_module_version": "~2.1.4"
      }
     },
     "2eea14482e664dd68208ad91691863b2": {
      "model_module": "jupyter-js-widgets",
      "model_module_version": "~2.1.4",
      "model_name": "FloatSliderModel",
      "state": {
       "_model_module_version": "~2.1.4",
       "_view_module_version": "~2.1.4",
       "description": "vmin",
       "layout": "IPY_MODEL_eaaa0023876341b2be09ff8bacfa40d4",
       "max": 0.015653500333428383,
       "min": -0.020783809944987297,
       "step": 0.001,
       "value": -0.00278
      }
     },
     "2f025772a8bf449a8455199fde064312": {
      "model_module": "jupyter-js-widgets",
      "model_module_version": "~2.1.4",
      "model_name": "SliderStyleModel",
      "state": {
       "_model_module_version": "~2.1.4",
       "_view_module_version": "~2.1.4"
      }
     },
     "2f6b8522e63a4a77b54ae4f8c4f0ac68": {
      "model_module": "jupyter-js-widgets",
      "model_module_version": "~2.1.4",
      "model_name": "VBoxModel",
      "state": {
       "_dom_classes": [
        "widget-interact"
       ],
       "_model_module_version": "~2.1.4",
       "_view_module_version": "~2.1.4",
       "children": [
        "IPY_MODEL_94f4033f5153425b935a2ffe4dcc2aae",
        "IPY_MODEL_e3b7afc29e0649ef994cdaa95c69a756",
        "IPY_MODEL_4d313f1fb5fa4e2a83aa7e4dee932ec8",
        "IPY_MODEL_ac3b7ba596ac4d7481ccb65426bd0d78",
        "IPY_MODEL_058f27573e094b2796fff581318329e0"
       ],
       "layout": "IPY_MODEL_90feb99aa8cd4173884a270316660e82"
      }
     },
     "2fb5e5790bbf46d7849a9220a0678d37": {
      "model_module": "jupyter-js-widgets",
      "model_module_version": "~2.1.4",
      "model_name": "LayoutModel",
      "state": {
       "_model_module_version": "~2.1.4",
       "_view_module_version": "~2.1.4"
      }
     },
     "2fb75b8ced724dcda28a611ea0e94a28": {
      "model_module": "jupyter-js-widgets",
      "model_module_version": "~2.1.4",
      "model_name": "OutputModel",
      "state": {
       "_dom_classes": [],
       "_model_module": "jupyter-js-widgets",
       "_model_module_version": "~2.1.4",
       "_view_module": "jupyter-js-widgets",
       "_view_module_version": "~2.1.4",
       "layout": "IPY_MODEL_a5248bc9916c44bdacbbca1168c2067d",
       "msg_throttle": 1
      }
     },
     "2fc5196faaf44663921c47bb82f40be8": {
      "model_module": "jupyter-js-widgets",
      "model_module_version": "~2.1.4",
      "model_name": "LayoutModel",
      "state": {
       "_model_module_version": "~2.1.4",
       "_view_module_version": "~2.1.4"
      }
     },
     "2fd481527b364fb4a3ece1a7542115ce": {
      "model_module": "jupyter-js-widgets",
      "model_module_version": "~2.1.4",
      "model_name": "IntSliderModel",
      "state": {
       "_model_module_version": "~2.1.4",
       "_view_module_version": "~2.1.4",
       "description": "vmin",
       "layout": "IPY_MODEL_255731254dd5455bb28a2d9dc479e650",
       "max": 65535,
       "style": "IPY_MODEL_d373eabcd8bb489a9c2b56f34d453a62"
      }
     },
     "2fd64cdf89c045619bf2114d5adf9e99": {
      "model_module": "jupyter-js-widgets",
      "model_module_version": "~2.1.4",
      "model_name": "LayoutModel",
      "state": {
       "_model_module_version": "~2.1.4",
       "_view_module_version": "~2.1.4"
      }
     },
     "301c790bfcf14f6ab043f6db2b77eaf3": {
      "model_module": "jupyter-js-widgets",
      "model_module_version": "~2.1.4",
      "model_name": "SliderStyleModel",
      "state": {
       "_model_module_version": "~2.1.4",
       "_view_module_version": "~2.1.4"
      }
     },
     "30717d36d7a6431eaf69e697e888fce8": {
      "model_module": "jupyter-js-widgets",
      "model_module_version": "~2.1.4",
      "model_name": "LayoutModel",
      "state": {
       "_model_module_version": "~2.1.4",
       "_view_module_version": "~2.1.4"
      }
     },
     "308731867f8f4edaba4e5311627038bc": {
      "model_module": "jupyter-js-widgets",
      "model_module_version": "~2.1.4",
      "model_name": "IntSliderModel",
      "state": {
       "_model_module_version": "~2.1.4",
       "_view_module_version": "~2.1.4",
       "description": "vmin",
       "layout": "IPY_MODEL_d7e26106c4ed406c989436ee7d3bfe94",
       "max": 65535,
       "style": "IPY_MODEL_418e75a3dd8c41a19a34c153103ddf7d"
      }
     },
     "30ab790c976c4b52b78c1411e77a638f": {
      "model_module": "jupyter-js-widgets",
      "model_module_version": "~2.1.4",
      "model_name": "OutputModel",
      "state": {
       "_dom_classes": [],
       "_model_module": "jupyter-js-widgets",
       "_model_module_version": "~2.1.4",
       "_view_module": "jupyter-js-widgets",
       "_view_module_version": "~2.1.4",
       "layout": "IPY_MODEL_884b2eac4fe245b28439653d286db3c0",
       "msg_throttle": 1
      }
     },
     "3181102284d74eebac559decc6c917e3": {
      "model_module": "jupyter-js-widgets",
      "model_module_version": "~2.1.4",
      "model_name": "SliderStyleModel",
      "state": {
       "_model_module_version": "~2.1.4",
       "_view_module_version": "~2.1.4"
      }
     },
     "32300793e6f24bf3828b600ae5bd39bd": {
      "model_module": "jupyter-js-widgets",
      "model_module_version": "~2.1.4",
      "model_name": "SliderStyleModel",
      "state": {
       "_model_module_version": "~2.1.4",
       "_view_module_version": "~2.1.4"
      }
     },
     "3264785ede254224a015e9568de244db": {
      "model_module": "jupyter-js-widgets",
      "model_module_version": "~2.1.4",
      "model_name": "FloatSliderModel",
      "state": {
       "_model_module_version": "~2.1.4",
       "_view_module_version": "~2.1.4",
       "description": "vmax",
       "layout": "IPY_MODEL_d0d02cea4bcc4007b0f80506304a5a46",
       "max": 1,
       "step": 0.1,
       "value": 1
      }
     },
     "32a1bb6b946d4e6b9174fb6c3f081b4b": {
      "model_module": "jupyter-js-widgets",
      "model_module_version": "~2.1.4",
      "model_name": "LayoutModel",
      "state": {
       "_model_module_version": "~2.1.4",
       "_view_module_version": "~2.1.4"
      }
     },
     "332d448cc28346cab9588e2f9a8b1a14": {
      "model_module": "jupyter-js-widgets",
      "model_module_version": "~2.1.4",
      "model_name": "SliderStyleModel",
      "state": {
       "_model_module_version": "~2.1.4",
       "_view_module_version": "~2.1.4"
      }
     },
     "333b30dd86e545c68d4b8a1b8d4825ae": {
      "model_module": "jupyter-js-widgets",
      "model_module_version": "~2.1.4",
      "model_name": "LayoutModel",
      "state": {
       "_model_module_version": "~2.1.4",
       "_view_module_version": "~2.1.4"
      }
     },
     "333b921a1b7c4103a75cb4780c7a2155": {
      "model_module": "jupyter-js-widgets",
      "model_module_version": "~2.1.4",
      "model_name": "IntSliderModel",
      "state": {
       "_model_module_version": "~2.1.4",
       "_view_module_version": "~2.1.4",
       "description": "i",
       "layout": "IPY_MODEL_80627349d8de448fa4489fc84e92543d",
       "max": 369,
       "style": "IPY_MODEL_c7f35fcd89374d2684bb21d7ecb2a817",
       "value": 48
      }
     },
     "333bde74ac8a42988a9ab3ea0c970500": {
      "model_module": "jupyter-js-widgets",
      "model_module_version": "~2.1.4",
      "model_name": "VBoxModel",
      "state": {
       "_dom_classes": [
        "widget-interact"
       ],
       "_model_module_version": "~2.1.4",
       "_view_module_version": "~2.1.4",
       "children": [
        "IPY_MODEL_bece6be21d424325bbe815a8801ad4a9",
        "IPY_MODEL_3d010288977547aabee2cdbb3ae5cfae",
        "IPY_MODEL_72c1fe3f05be48fa9b584773ebaede27",
        "IPY_MODEL_4e8f622230d24a438128b057ad1cb2de",
        "IPY_MODEL_d856cdda558a469496591fed5f1c0eb1"
       ],
       "layout": "IPY_MODEL_e5a0ed4cd3d54dc0b7003055b4b251c8"
      }
     },
     "335e044a76d34996bcdc3a7ed9e95842": {
      "model_module": "jupyter-js-widgets",
      "model_module_version": "~2.1.4",
      "model_name": "DropdownModel",
      "state": {
       "_model_module_version": "~2.1.4",
       "_options_labels": [
        "Projections",
        "Open beam images",
        "Dark images"
       ],
       "_view_module_version": "~2.1.4",
       "description": "ims",
       "layout": "IPY_MODEL_9cd1c447367e474193abaf48ac93bbfc",
       "value": "Projections"
      }
     },
     "33792eec211d46beb62088b34387f562": {
      "model_module": "jupyter-js-widgets",
      "model_module_version": "~2.1.4",
      "model_name": "OutputModel",
      "state": {
       "_dom_classes": [],
       "_model_module": "jupyter-js-widgets",
       "_model_module_version": "~2.1.4",
       "_view_module": "jupyter-js-widgets",
       "_view_module_version": "~2.1.4",
       "layout": "IPY_MODEL_edcf7b3329f7492dbb558b45880b3fa2",
       "msg_throttle": 1
      }
     },
     "33bdf427175444e493a729686d56799a": {
      "model_module": "jupyter-js-widgets",
      "model_module_version": "~2.1.4",
      "model_name": "LayoutModel",
      "state": {
       "_model_module_version": "~2.1.4",
       "_view_module_version": "~2.1.4"
      }
     },
     "33d94ba0e1484337b71c135765f67e59": {
      "model_module": "jupyter-js-widgets",
      "model_module_version": "~2.1.4",
      "model_name": "LayoutModel",
      "state": {
       "_model_module_version": "~2.1.4",
       "_view_module_version": "~2.1.4"
      }
     },
     "342b7f07c32c4f1bac35b4d0698016b0": {
      "model_module": "jupyter-js-widgets",
      "model_module_version": "~2.1.4",
      "model_name": "DropdownModel",
      "state": {
       "_model_module_version": "~2.1.4",
       "_options_labels": [
        "Projections",
        "Open beam images",
        "Dark images"
       ],
       "_view_module_version": "~2.1.4",
       "description": "ims",
       "layout": "IPY_MODEL_71745693dc5d4c4a99984ee9d53a87aa",
       "value": "Projections"
      }
     },
     "3456be755552480283556de4c9648fdd": {
      "model_module": "jupyter-js-widgets",
      "model_module_version": "~2.1.4",
      "model_name": "VBoxModel",
      "state": {
       "_dom_classes": [
        "widget-interact"
       ],
       "_model_module_version": "~2.1.4",
       "_view_module_version": "~2.1.4",
       "children": [
        "IPY_MODEL_045515b1fd7c40c6868ed485f3e6cb7b",
        "IPY_MODEL_af8fc53eae32414d8b9991cff9831c0f",
        "IPY_MODEL_58459c551b8b4d4abdf845ed76b9aad7",
        "IPY_MODEL_f66849ca8a864236aadf8da3a0b177bb",
        "IPY_MODEL_b927cdee1b1f4fb9a3e297ae2b4f944a"
       ],
       "layout": "IPY_MODEL_4a3569fa1ae74df8a67365538c0fea2b"
      }
     },
     "3463c84dd9784b4d9afc8c70afa3bc8a": {
      "model_module": "jupyter-js-widgets",
      "model_module_version": "~2.1.4",
      "model_name": "FloatSliderModel",
      "state": {
       "_model_module_version": "~2.1.4",
       "_view_module_version": "~2.1.4",
       "description": "vmin",
       "layout": "IPY_MODEL_f61d6fee01c94aaba6e9b56f517a8964",
       "max": 0.009999999776482582,
       "min": -0.005170748569071293,
       "readout_format": ".3f",
       "step": 0.001,
       "value": -0.00317
      }
     },
     "3474624adf5a4d5684b400c2f0b5fb28": {
      "model_module": "jupyter-js-widgets",
      "model_module_version": "~2.1.4",
      "model_name": "VBoxModel",
      "state": {
       "_dom_classes": [
        "widget-interact"
       ],
       "_model_module_version": "~2.1.4",
       "_view_module_version": "~2.1.4",
       "children": [
        "IPY_MODEL_071ab780fa434ffb9598e3bb468b4771",
        "IPY_MODEL_675f196d0b4d4055aeb74262b369f681",
        "IPY_MODEL_9b6aba2be8374203834efca335cd19c5",
        "IPY_MODEL_c8b1563608bb470a8df3d0312500be27"
       ],
       "layout": "IPY_MODEL_9a5c6fb3319e4bf398096e47539d2255"
      }
     },
     "34af6eda08d34fa395b37d63991eb313": {
      "model_module": "jupyter-js-widgets",
      "model_module_version": "~2.1.4",
      "model_name": "VBoxModel",
      "state": {
       "_dom_classes": [
        "widget-interact"
       ],
       "_model_module_version": "~2.1.4",
       "_view_module_version": "~2.1.4",
       "children": [
        "IPY_MODEL_00a5c4c7a41947448783191b65bd18e4",
        "IPY_MODEL_2516a157e3074fae800052645f2e8407",
        "IPY_MODEL_27d11be27a224e109b6f6a2dbe3478e2",
        "IPY_MODEL_9d8385e2cbfb4f3e9cc55e375ae9c614"
       ],
       "layout": "IPY_MODEL_b7b7917c4c934c37abad0d91641458e9"
      }
     },
     "34bba7a008f248d98b8f989f588b6398": {
      "model_module": "jupyter-js-widgets",
      "model_module_version": "~2.1.4",
      "model_name": "LayoutModel",
      "state": {
       "_model_module_version": "~2.1.4",
       "_view_module_version": "~2.1.4"
      }
     },
     "350abcfde95d4e2ea7bcd4064527ab03": {
      "model_module": "jupyter-js-widgets",
      "model_module_version": "~2.1.4",
      "model_name": "LayoutModel",
      "state": {
       "_model_module_version": "~2.1.4",
       "_view_module_version": "~2.1.4"
      }
     },
     "35a423673aee4fcf995fc8de47a3ac99": {
      "model_module": "jupyter-js-widgets",
      "model_module_version": "~2.1.4",
      "model_name": "DropdownModel",
      "state": {
       "_model_module_version": "~2.1.4",
       "_options_labels": [
        "Projections",
        "Open beam images",
        "Dark images"
       ],
       "_view_module_version": "~2.1.4",
       "layout": "IPY_MODEL_075a0cb119234d12a36bb76e414837f8",
       "value": "Open beam images"
      }
     },
     "35d43eb1fbc14740bade413235744cd6": {
      "model_module": "jupyter-js-widgets",
      "model_module_version": "~2.1.4",
      "model_name": "SliderStyleModel",
      "state": {
       "_model_module_version": "~2.1.4",
       "_view_module_version": "~2.1.4"
      }
     },
     "35f29d99860d4e8d8ddc11d76712ca6d": {
      "model_module": "jupyter-js-widgets",
      "model_module_version": "~2.1.4",
      "model_name": "OutputModel",
      "state": {
       "_dom_classes": [],
       "_model_module": "jupyter-js-widgets",
       "_model_module_version": "~2.1.4",
       "_view_module": "jupyter-js-widgets",
       "_view_module_version": "~2.1.4",
       "layout": "IPY_MODEL_3ba1a944f82440b2999cac2fe7f22fd1",
       "msg_throttle": 1
      }
     },
     "361e648efe5d4ba19b26047b79a45fcd": {
      "model_module": "jupyter-js-widgets",
      "model_module_version": "~2.1.4",
      "model_name": "SliderStyleModel",
      "state": {
       "_model_module_version": "~2.1.4",
       "_view_module_version": "~2.1.4"
      }
     },
     "36a3a73c34cf435d81be0ebd27d9b26b": {
      "model_module": "jupyter-js-widgets",
      "model_module_version": "~2.1.4",
      "model_name": "OutputModel",
      "state": {
       "_dom_classes": [],
       "_model_module": "jupyter-js-widgets",
       "_model_module_version": "~2.1.4",
       "_view_module": "jupyter-js-widgets",
       "_view_module_version": "~2.1.4",
       "layout": "IPY_MODEL_a0a9bef9815b4ccc852f461285354875",
       "msg_throttle": 1
      }
     },
     "3775b30859a74e6cb2be55839601db77": {
      "model_module": "jupyter-js-widgets",
      "model_module_version": "~2.1.4",
      "model_name": "VBoxModel",
      "state": {
       "_dom_classes": [
        "widget-interact"
       ],
       "_model_module_version": "~2.1.4",
       "_view_module_version": "~2.1.4",
       "children": [
        "IPY_MODEL_83ea64083ecf463787510b1d7cd08345",
        "IPY_MODEL_07fea42d5a8140d5acc9150b69020dad",
        "IPY_MODEL_d8ca75316c414a18a8edf877944d4309"
       ],
       "layout": "IPY_MODEL_5fe91e75de9b4e18a7bacc76ed545cf7"
      }
     },
     "37aa69331cff4148bcd00f90feb69699": {
      "model_module": "jupyter-js-widgets",
      "model_module_version": "~2.1.4",
      "model_name": "SliderStyleModel",
      "state": {
       "_model_module_version": "~2.1.4",
       "_view_module_version": "~2.1.4"
      }
     },
     "37b3d7bb948b426780c99bb28161108a": {
      "model_module": "jupyter-js-widgets",
      "model_module_version": "~2.1.4",
      "model_name": "LayoutModel",
      "state": {
       "_model_module_version": "~2.1.4",
       "_view_module_version": "~2.1.4"
      }
     },
     "37fb83159fb942ec875e1b30d1f00f46": {
      "model_module": "jupyter-js-widgets",
      "model_module_version": "~2.1.4",
      "model_name": "DropdownModel",
      "state": {
       "_model_module_version": "~2.1.4",
       "_options_labels": [
        "10",
        "100",
        "250",
        "500",
        "750",
        "1000"
       ],
       "_view_module_version": "~2.1.4",
       "description": "diff",
       "layout": "IPY_MODEL_02c97666ee294196868c556c352326c7",
       "value": "1000"
      }
     },
     "3833fd287c0546ee8063997b8ac620f4": {
      "model_module": "jupyter-js-widgets",
      "model_module_version": "~2.1.4",
      "model_name": "VBoxModel",
      "state": {
       "_dom_classes": [
        "widget-interact"
       ],
       "_model_module_version": "~2.1.4",
       "_view_module_version": "~2.1.4",
       "children": [
        "IPY_MODEL_74cbe454eab94a81add91584bc4b02d2",
        "IPY_MODEL_5f9ee7ebda46495c8f89447353da7b87",
        "IPY_MODEL_5c235d2272c94f03926af0d2a345414c",
        "IPY_MODEL_fa87502602784591893b35c3d2030305"
       ],
       "layout": "IPY_MODEL_49048eeccccd47b5bade86e25bff44a0"
      }
     },
     "384b9f260cf44acbb795382ee7a9c768": {
      "model_module": "jupyter-js-widgets",
      "model_module_version": "~2.1.4",
      "model_name": "OutputModel",
      "state": {
       "_dom_classes": [],
       "_model_module": "jupyter-js-widgets",
       "_model_module_version": "~2.1.4",
       "_view_module": "jupyter-js-widgets",
       "_view_module_version": "~2.1.4",
       "layout": "IPY_MODEL_6849b721343c42cd916a7062616ac31d",
       "msg_throttle": 1
      }
     },
     "38683999f3214e058e1d19e3258ba477": {
      "model_module": "jupyter-js-widgets",
      "model_module_version": "~2.1.4",
      "model_name": "IntSliderModel",
      "state": {
       "_model_module_version": "~2.1.4",
       "_view_module_version": "~2.1.4",
       "description": "i",
       "layout": "IPY_MODEL_0d8b7b59c39b4c629f267e1e283f2a46",
       "max": 300,
       "min": -100,
       "style": "IPY_MODEL_0cd64879b7024d219161033e30017d7f",
       "value": 148
      }
     },
     "38862e5bc22b4f7ab23a077329a186e6": {
      "model_module": "jupyter-js-widgets",
      "model_module_version": "~2.1.4",
      "model_name": "OutputModel",
      "state": {
       "_dom_classes": [],
       "_model_module": "jupyter-js-widgets",
       "_model_module_version": "~2.1.4",
       "_view_module": "jupyter-js-widgets",
       "_view_module_version": "~2.1.4",
       "layout": "IPY_MODEL_745136cd70814b0faef088d628f2421f",
       "msg_throttle": 1
      }
     },
     "38b9ee99710f4edda0898c22809d2c6c": {
      "model_module": "jupyter-js-widgets",
      "model_module_version": "~2.1.4",
      "model_name": "IntSliderModel",
      "state": {
       "_model_module_version": "~2.1.4",
       "_view_module_version": "~2.1.4",
       "description": "i",
       "layout": "IPY_MODEL_b11adc6f2daf495eb17ba7a50c3d2ac7",
       "max": 800,
       "style": "IPY_MODEL_9a8cf81d53334148937bd58178161b70",
       "value": 400
      }
     },
     "38ca4b18a011486ea690aaa1d5588e7c": {
      "model_module": "jupyter-js-widgets",
      "model_module_version": "~2.1.4",
      "model_name": "VBoxModel",
      "state": {
       "_dom_classes": [
        "widget-interact"
       ],
       "_model_module_version": "~2.1.4",
       "_view_module_version": "~2.1.4",
       "children": [
        "IPY_MODEL_f95a4f1fad5f4e4481f2f95534f1f17d",
        "IPY_MODEL_499c38328a794220ab2eadeaf9a8a448",
        "IPY_MODEL_a728e8de84e043c39c65fab2100feefe",
        "IPY_MODEL_9d9d68d18565485a9d24959ed6ea3681",
        "IPY_MODEL_bc4b0a6f9d134a1dbfba55caa9b6794b"
       ],
       "layout": "IPY_MODEL_ec0e4fbeeef24e93b5b7d3b03226444c"
      }
     },
     "3907ecdd5eed4b2298c96d056d9e3f83": {
      "model_module": "jupyter-js-widgets",
      "model_module_version": "~2.1.4",
      "model_name": "FloatSliderModel",
      "state": {
       "_model_module_version": "~2.1.4",
       "_view_module_version": "~2.1.4",
       "description": "vmin",
       "layout": "IPY_MODEL_58a3b1f9ec514df5a79770f7afd77158",
       "max": 0.03,
       "min": -0.09,
       "step": 0.1,
       "value": -0.03
      }
     },
     "391799eabd3e43369fb95a30f0646f14": {
      "model_module": "jupyter-js-widgets",
      "model_module_version": "~2.1.4",
      "model_name": "LayoutModel",
      "state": {
       "_model_module_version": "~2.1.4",
       "_view_module_version": "~2.1.4"
      }
     },
     "394a73bce11c45e285bd415a5982672a": {
      "model_module": "jupyter-js-widgets",
      "model_module_version": "~2.1.4",
      "model_name": "LayoutModel",
      "state": {
       "_model_module_version": "~2.1.4",
       "_view_module_version": "~2.1.4"
      }
     },
     "39926c3372ec4096b249aff409be88c2": {
      "model_module": "jupyter-js-widgets",
      "model_module_version": "~2.1.4",
      "model_name": "IntSliderModel",
      "state": {
       "_model_module_version": "~2.1.4",
       "_view_module_version": "~2.1.4",
       "description": "i",
       "layout": "IPY_MODEL_d04231326ff14238bf13e01c5ff57edb",
       "max": 800,
       "style": "IPY_MODEL_4fb652ac10484906a572f13bef948890"
      }
     },
     "39d1d431f15849e99bac4cfadb805908": {
      "model_module": "jupyter-js-widgets",
      "model_module_version": "~2.1.4",
      "model_name": "LayoutModel",
      "state": {
       "_model_module_version": "~2.1.4",
       "_view_module_version": "~2.1.4"
      }
     },
     "39f6796a4bf347aab415b1c46202f9b7": {
      "model_module": "jupyter-js-widgets",
      "model_module_version": "~2.1.4",
      "model_name": "DropdownModel",
      "state": {
       "_model_module_version": "~2.1.4",
       "_options_labels": [
        "Projections",
        "Open beam images",
        "Dark images"
       ],
       "_view_module_version": "~2.1.4",
       "layout": "IPY_MODEL_0235a2ae374a40b9ab8a1b99343d94cc",
       "value": "Projections"
      }
     },
     "3a0c318aec24479fac3b702fc9d7c252": {
      "model_module": "jupyter-js-widgets",
      "model_module_version": "~2.1.4",
      "model_name": "LayoutModel",
      "state": {
       "_model_module_version": "~2.1.4",
       "_view_module_version": "~2.1.4"
      }
     },
     "3a204c5c7be142419d8b927d4fde0e2a": {
      "model_module": "jupyter-js-widgets",
      "model_module_version": "~2.1.4",
      "model_name": "SliderStyleModel",
      "state": {
       "_model_module_version": "~2.1.4",
       "_view_module_version": "~2.1.4"
      }
     },
     "3a47b026b7be48ba8dc49628ef7a620a": {
      "model_module": "jupyter-js-widgets",
      "model_module_version": "~2.1.4",
      "model_name": "LayoutModel",
      "state": {
       "_model_module_version": "~2.1.4",
       "_view_module_version": "~2.1.4"
      }
     },
     "3a68d9f63bdb4711a3604ff4c25736bd": {
      "model_module": "jupyter-js-widgets",
      "model_module_version": "~2.1.4",
      "model_name": "SliderStyleModel",
      "state": {
       "_model_module_version": "~2.1.4",
       "_view_module_version": "~2.1.4"
      }
     },
     "3aa092d89a014400995baa91b0698477": {
      "model_module": "jupyter-js-widgets",
      "model_module_version": "~2.1.4",
      "model_name": "SliderStyleModel",
      "state": {
       "_model_module_version": "~2.1.4",
       "_view_module_version": "~2.1.4"
      }
     },
     "3ad5194711694c908beb5ed752dd6eb4": {
      "model_module": "jupyter-js-widgets",
      "model_module_version": "~2.1.4",
      "model_name": "IntSliderModel",
      "state": {
       "_model_module_version": "~2.1.4",
       "_view_module_version": "~2.1.4",
       "description": "vmin",
       "layout": "IPY_MODEL_4aea6f61a8ad4d3fbb3b44b91cc48887",
       "max": 65535,
       "style": "IPY_MODEL_aadc32066bab40bdac1ad6d2a5d430f6"
      }
     },
     "3adecba310544ac6b2ca967185b59518": {
      "model_module": "jupyter-js-widgets",
      "model_module_version": "~2.1.4",
      "model_name": "FloatSliderModel",
      "state": {
       "_model_module_version": "~2.1.4",
       "_view_module_version": "~2.1.4",
       "description": "vmax",
       "layout": "IPY_MODEL_ce11cba607ce43b1afe2e2d030a55500",
       "max": 0.010969985276460648,
       "min": -0.007000000216066837,
       "step": 0.001,
       "value": 0.010969985276460648
      }
     },
     "3afdec896732486fae9744832ee9ef94": {
      "model_module": "jupyter-js-widgets",
      "model_module_version": "~2.1.4",
      "model_name": "IntSliderModel",
      "state": {
       "_model_module_version": "~2.1.4",
       "_view_module_version": "~2.1.4",
       "description": "i",
       "layout": "IPY_MODEL_51772c7bd9154bdf988063f765d87f71",
       "max": 800,
       "style": "IPY_MODEL_2ecc706c478b4839a1eb38f1b0089e5c"
      }
     },
     "3b2a94210f7e410991ede8e46f0ed76e": {
      "model_module": "jupyter-js-widgets",
      "model_module_version": "~2.1.4",
      "model_name": "FloatSliderModel",
      "state": {
       "_model_module_version": "~2.1.4",
       "_view_module_version": "~2.1.4",
       "description": "vmax",
       "layout": "IPY_MODEL_3f1c89ce042b4e5db818ab557933f2c8",
       "max": 3,
       "min": -1,
       "step": 0.1,
       "value": 1
      }
     },
     "3b58df48ee0f43ab9a8cf046bd60e45e": {
      "model_module": "jupyter-js-widgets",
      "model_module_version": "~2.1.4",
      "model_name": "VBoxModel",
      "state": {
       "_dom_classes": [
        "widget-interact"
       ],
       "_model_module_version": "~2.1.4",
       "_view_module_version": "~2.1.4",
       "children": [
        "IPY_MODEL_44185fb31d2b4a818ba0bf6825f90c47",
        "IPY_MODEL_dfbe9ea704e54d029687a1ce026cc8c3",
        "IPY_MODEL_d10caa2a3bd14dde961bf20eed91fec2",
        "IPY_MODEL_e01d02ab7113406d85a41353d284e2d4",
        "IPY_MODEL_a6ea38194c0648a3bed3f2819cf23edb"
       ],
       "layout": "IPY_MODEL_4feeebf876c54cc289bb1935bd4d9847"
      }
     },
     "3b9a92d306104760b87a32c46423c60d": {
      "model_module": "jupyter-js-widgets",
      "model_module_version": "~2.1.4",
      "model_name": "LayoutModel",
      "state": {
       "_model_module_version": "~2.1.4",
       "_view_module_version": "~2.1.4"
      }
     },
     "3ba1a944f82440b2999cac2fe7f22fd1": {
      "model_module": "jupyter-js-widgets",
      "model_module_version": "~2.1.4",
      "model_name": "LayoutModel",
      "state": {
       "_model_module_version": "~2.1.4",
       "_view_module_version": "~2.1.4"
      }
     },
     "3bcc942be4ac461fb10c6700feb9b984": {
      "model_module": "jupyter-js-widgets",
      "model_module_version": "~2.1.4",
      "model_name": "VBoxModel",
      "state": {
       "_dom_classes": [
        "widget-interact"
       ],
       "_model_module_version": "~2.1.4",
       "_view_module_version": "~2.1.4",
       "children": [
        "IPY_MODEL_509521dd5f1541739a70e9695f6487d5",
        "IPY_MODEL_eb961537982c45ad88c6d43cead368e4",
        "IPY_MODEL_435db9e39235439d84ebf0e33eac0efd"
       ],
       "layout": "IPY_MODEL_90592d96034641c2b0a692e1744a9d8c"
      }
     },
     "3bf57771a85643ecac93fc2116b8a5ab": {
      "model_module": "jupyter-js-widgets",
      "model_module_version": "~2.1.4",
      "model_name": "LayoutModel",
      "state": {
       "_model_module_version": "~2.1.4",
       "_view_module_version": "~2.1.4"
      }
     },
     "3c27e53e3cba45da9728fb5f7cbf3bfe": {
      "model_module": "jupyter-js-widgets",
      "model_module_version": "~2.1.4",
      "model_name": "LayoutModel",
      "state": {
       "_model_module_version": "~2.1.4",
       "_view_module_version": "~2.1.4"
      }
     },
     "3c68da0a50944739986853f0dd5e59ae": {
      "model_module": "jupyter-js-widgets",
      "model_module_version": "~2.1.4",
      "model_name": "LayoutModel",
      "state": {
       "_model_module_version": "~2.1.4",
       "_view_module_version": "~2.1.4"
      }
     },
     "3c80fac7c307472eb55021dfdd53d7ed": {
      "model_module": "jupyter-js-widgets",
      "model_module_version": "~2.1.4",
      "model_name": "LayoutModel",
      "state": {
       "_model_module_version": "~2.1.4",
       "_view_module_version": "~2.1.4"
      }
     },
     "3c8fd1b2c3b44253bd2427a11800d965": {
      "model_module": "jupyter-js-widgets",
      "model_module_version": "~2.1.4",
      "model_name": "LayoutModel",
      "state": {
       "_model_module_version": "~2.1.4",
       "_view_module_version": "~2.1.4"
      }
     },
     "3cde8772d0974946ace38185ad929819": {
      "model_module": "jupyter-js-widgets",
      "model_module_version": "~2.1.4",
      "model_name": "LayoutModel",
      "state": {
       "_model_module_version": "~2.1.4",
       "_view_module_version": "~2.1.4"
      }
     },
     "3d010288977547aabee2cdbb3ae5cfae": {
      "model_module": "jupyter-js-widgets",
      "model_module_version": "~2.1.4",
      "model_name": "IntSliderModel",
      "state": {
       "_model_module_version": "~2.1.4",
       "_view_module_version": "~2.1.4",
       "description": "i",
       "layout": "IPY_MODEL_2fb5e5790bbf46d7849a9220a0678d37",
       "max": 800,
       "style": "IPY_MODEL_144ab003edde4356a7f7dc0397cfa3ca"
      }
     },
     "3d29717aff5f4031acee792b31248d68": {
      "model_module": "jupyter-js-widgets",
      "model_module_version": "~2.1.4",
      "model_name": "LayoutModel",
      "state": {
       "_model_module_version": "~2.1.4",
       "_view_module_version": "~2.1.4"
      }
     },
     "3d30d91ee7a44e7b94b30aeaa35a8515": {
      "model_module": "jupyter-js-widgets",
      "model_module_version": "~2.1.4",
      "model_name": "LayoutModel",
      "state": {
       "_model_module_version": "~2.1.4",
       "_view_module_version": "~2.1.4"
      }
     },
     "3d45876b5fd94ae98a689fa2cf0939cb": {
      "model_module": "jupyter-js-widgets",
      "model_module_version": "~2.1.4",
      "model_name": "LayoutModel",
      "state": {
       "_model_module_version": "~2.1.4",
       "_view_module_version": "~2.1.4"
      }
     },
     "3e243363ad7643a39b5ee03444312f11": {
      "model_module": "jupyter-js-widgets",
      "model_module_version": "~2.1.4",
      "model_name": "LayoutModel",
      "state": {
       "_model_module_version": "~2.1.4",
       "_view_module_version": "~2.1.4"
      }
     },
     "3ead620a51e044aebf38285132d4f8a3": {
      "model_module": "jupyter-js-widgets",
      "model_module_version": "~2.1.4",
      "model_name": "VBoxModel",
      "state": {
       "_dom_classes": [
        "widget-interact"
       ],
       "_model_module_version": "~2.1.4",
       "_view_module_version": "~2.1.4",
       "children": [
        "IPY_MODEL_2ce1e83168fa434b9fd30bd4c291591d",
        "IPY_MODEL_a176886cf9ee473db6b6529ebb118cc1",
        "IPY_MODEL_bfed9c638a834c91955048277f31518c",
        "IPY_MODEL_079b2bbae175401f9e4bb5d3b316eaec",
        "IPY_MODEL_fa7f6f66bebe43ffaa23cbbfc1cab09c"
       ],
       "layout": "IPY_MODEL_3c27e53e3cba45da9728fb5f7cbf3bfe"
      }
     },
     "3ee8f0fca770407dbfce0c2678b5f3e7": {
      "model_module": "jupyter-js-widgets",
      "model_module_version": "~2.1.4",
      "model_name": "FloatSliderModel",
      "state": {
       "_model_module_version": "~2.1.4",
       "_view_module_version": "~2.1.4",
       "description": "vmax",
       "layout": "IPY_MODEL_37b3d7bb948b426780c99bb28161108a",
       "max": 0.078,
       "min": -0.026,
       "step": 0.1,
       "value": 0.026
      }
     },
     "3f160fae6b7e40e69c92d7033dfc340f": {
      "model_module": "jupyter-js-widgets",
      "model_module_version": "~2.1.4",
      "model_name": "VBoxModel",
      "state": {
       "_dom_classes": [
        "widget-interact"
       ],
       "_model_module_version": "~2.1.4",
       "_view_module_version": "~2.1.4",
       "children": [
        "IPY_MODEL_55780929bfae40cdb542e27dfb1860b4",
        "IPY_MODEL_dd254f150dbd4c20b8380f375c8d1d33"
       ],
       "layout": "IPY_MODEL_c4d2939249f24fe5bdaebba9650d0e9e"
      }
     },
     "3f1c89ce042b4e5db818ab557933f2c8": {
      "model_module": "jupyter-js-widgets",
      "model_module_version": "~2.1.4",
      "model_name": "LayoutModel",
      "state": {
       "_model_module_version": "~2.1.4",
       "_view_module_version": "~2.1.4"
      }
     },
     "3f210b263a1e48f093adfad7cbcd0649": {
      "model_module": "jupyter-js-widgets",
      "model_module_version": "~2.1.4",
      "model_name": "LayoutModel",
      "state": {
       "_model_module_version": "~2.1.4",
       "_view_module_version": "~2.1.4"
      }
     },
     "3f58bca62df04b8783dd19d4357c320d": {
      "model_module": "jupyter-js-widgets",
      "model_module_version": "~2.1.4",
      "model_name": "DropdownModel",
      "state": {
       "_model_module_version": "~2.1.4",
       "_options_labels": [
        "10",
        "100",
        "250",
        "500",
        "750",
        "1000"
       ],
       "_view_module_version": "~2.1.4",
       "description": "diff",
       "layout": "IPY_MODEL_abdadfd7f60b4802bf2782e26989d174",
       "value": "1000"
      }
     },
     "3f5fb3db05054b5b9f697e401f699f47": {
      "model_module": "jupyter-js-widgets",
      "model_module_version": "~2.1.4",
      "model_name": "LayoutModel",
      "state": {
       "_model_module_version": "~2.1.4",
       "_view_module_version": "~2.1.4"
      }
     },
     "3f8e0548651a4beabb9fb1c0469dfec9": {
      "model_module": "jupyter-js-widgets",
      "model_module_version": "~2.1.4",
      "model_name": "FloatSliderModel",
      "state": {
       "_model_module_version": "~2.1.4",
       "_view_module_version": "~2.1.4",
       "description": "vmax",
       "layout": "IPY_MODEL_d0e4a96bb0e14f7885a4f74c962410c7",
       "max": 1,
       "step": 0.1,
       "value": 1
      }
     },
     "3f93c554d2fa4218a4798807f101419c": {
      "model_module": "jupyter-js-widgets",
      "model_module_version": "~2.1.4",
      "model_name": "LayoutModel",
      "state": {
       "_model_module_version": "~2.1.4",
       "_view_module_version": "~2.1.4"
      }
     },
     "3fadd05b3ef146198dd02dc892c3f3b4": {
      "model_module": "jupyter-js-widgets",
      "model_module_version": "~2.1.4",
      "model_name": "LayoutModel",
      "state": {
       "_model_module_version": "~2.1.4",
       "_view_module_version": "~2.1.4"
      }
     },
     "3fe36d31584b43e58fb8416a2d6a98ad": {
      "model_module": "jupyter-js-widgets",
      "model_module_version": "~2.1.4",
      "model_name": "LayoutModel",
      "state": {
       "_model_module_version": "~2.1.4",
       "_view_module_version": "~2.1.4"
      }
     },
     "4004b7d97f184e08b6a254c6c5e55904": {
      "model_module": "jupyter-js-widgets",
      "model_module_version": "~2.1.4",
      "model_name": "IntSliderModel",
      "state": {
       "_model_module_version": "~2.1.4",
       "_view_module_version": "~2.1.4",
       "description": "vmax",
       "layout": "IPY_MODEL_56097f8b71544752b28cd21d0d395938",
       "max": 65535,
       "style": "IPY_MODEL_a40b1f4a24804f03a415aec304f62c7e",
       "value": 65535
      }
     },
     "400e430594224b21b337f16831abdc20": {
      "model_module": "jupyter-js-widgets",
      "model_module_version": "~2.1.4",
      "model_name": "LayoutModel",
      "state": {
       "_model_module_version": "~2.1.4",
       "_view_module_version": "~2.1.4"
      }
     },
     "4083e95482724f39a472c454549086e2": {
      "model_module": "jupyter-js-widgets",
      "model_module_version": "~2.1.4",
      "model_name": "FloatSliderModel",
      "state": {
       "_model_module_version": "~2.1.4",
       "_view_module_version": "~2.1.4",
       "description": "vmax",
       "layout": "IPY_MODEL_ba86abd0920849d692d7efcfc1a4c3c4",
       "max": 1.4,
       "step": 0.1,
       "value": 1.3
      }
     },
     "410d0bea958e4b45b37b5250bebdbc62": {
      "model_module": "jupyter-js-widgets",
      "model_module_version": "~2.1.4",
      "model_name": "LayoutModel",
      "state": {
       "_model_module_version": "~2.1.4",
       "_view_module_version": "~2.1.4"
      }
     },
     "413a1ba0c10d43bea655a074eecb9ffc": {
      "model_module": "jupyter-js-widgets",
      "model_module_version": "~2.1.4",
      "model_name": "SliderStyleModel",
      "state": {
       "_model_module_version": "~2.1.4",
       "_view_module_version": "~2.1.4"
      }
     },
     "41631bb627e14b149b69ce9eb68b9d9c": {
      "model_module": "jupyter-js-widgets",
      "model_module_version": "~2.1.4",
      "model_name": "IntSliderModel",
      "state": {
       "_model_module_version": "~2.1.4",
       "_view_module_version": "~2.1.4",
       "description": "vmin",
       "layout": "IPY_MODEL_23096a6f95a247ab822ae61106db0e58",
       "max": 65535,
       "style": "IPY_MODEL_254503888a5e43c28e403d66a11d2a88"
      }
     },
     "416dc96b3d534664aa320db8e5c95fb4": {
      "model_module": "jupyter-js-widgets",
      "model_module_version": "~2.1.4",
      "model_name": "VBoxModel",
      "state": {
       "_dom_classes": [
        "widget-interact"
       ],
       "_model_module_version": "~2.1.4",
       "_view_module_version": "~2.1.4",
       "children": [
        "IPY_MODEL_a7e1495bdc114f2da999d0202649bfcc",
        "IPY_MODEL_fa4e041079a2474c985f63466078f987",
        "IPY_MODEL_fdb8e5372aa344e8999e28df31b18e96",
        "IPY_MODEL_4ecb54be87454f379cd9e9ba96260f00"
       ],
       "layout": "IPY_MODEL_c07243f67601486883d384246255a9a5"
      }
     },
     "417faccab4c94505ab81deb4920ff77e": {
      "model_module": "jupyter-js-widgets",
      "model_module_version": "~2.1.4",
      "model_name": "LayoutModel",
      "state": {
       "_model_module_version": "~2.1.4",
       "_view_module_version": "~2.1.4"
      }
     },
     "418ad5154a0b46899535312eea1df30d": {
      "model_module": "jupyter-js-widgets",
      "model_module_version": "~2.1.4",
      "model_name": "LayoutModel",
      "state": {
       "_model_module_version": "~2.1.4",
       "_view_module_version": "~2.1.4"
      }
     },
     "418e75a3dd8c41a19a34c153103ddf7d": {
      "model_module": "jupyter-js-widgets",
      "model_module_version": "~2.1.4",
      "model_name": "SliderStyleModel",
      "state": {
       "_model_module_version": "~2.1.4",
       "_view_module_version": "~2.1.4"
      }
     },
     "41d9284e43944999b4b62db8f282b901": {
      "model_module": "jupyter-js-widgets",
      "model_module_version": "~2.1.4",
      "model_name": "SliderStyleModel",
      "state": {
       "_model_module_version": "~2.1.4",
       "_view_module_version": "~2.1.4"
      }
     },
     "426a0dbb60c848fdad61073e05bd7503": {
      "model_module": "jupyter-js-widgets",
      "model_module_version": "~2.1.4",
      "model_name": "FloatSliderModel",
      "state": {
       "_model_module_version": "~2.1.4",
       "_view_module_version": "~2.1.4",
       "description": "vmin",
       "layout": "IPY_MODEL_26cb89c371f64b668094214753082b37",
       "max": 0.015653500333428383,
       "min": -0.020783809944987297,
       "step": 0.001,
       "value": -0.00178
      }
     },
     "42a70d6e19444748a4de1ac780b79871": {
      "model_module": "jupyter-js-widgets",
      "model_module_version": "~2.1.4",
      "model_name": "OutputModel",
      "state": {
       "_dom_classes": [],
       "_model_module": "jupyter-js-widgets",
       "_model_module_version": "~2.1.4",
       "_view_module": "jupyter-js-widgets",
       "_view_module_version": "~2.1.4",
       "layout": "IPY_MODEL_55d42aa3356e430ea84ffd1e7e4f2a64",
       "msg_throttle": 1
      }
     },
     "42b1705969d94fb0ac518b2fedadb79e": {
      "model_module": "jupyter-js-widgets",
      "model_module_version": "~2.1.4",
      "model_name": "SliderStyleModel",
      "state": {
       "_model_module_version": "~2.1.4",
       "_view_module_version": "~2.1.4"
      }
     },
     "433b4d2db3b34a9dbf30b249d63c49c5": {
      "model_module": "jupyter-js-widgets",
      "model_module_version": "~2.1.4",
      "model_name": "LayoutModel",
      "state": {
       "_model_module_version": "~2.1.4",
       "_view_module_version": "~2.1.4"
      }
     },
     "434aaa49a2a2441f82bb8175eb228d42": {
      "model_module": "jupyter-js-widgets",
      "model_module_version": "~2.1.4",
      "model_name": "IntSliderModel",
      "state": {
       "_model_module_version": "~2.1.4",
       "_view_module_version": "~2.1.4",
       "description": "i",
       "layout": "IPY_MODEL_6966501b22264017959525ea42bebbdd",
       "max": 369,
       "style": "IPY_MODEL_748113ce56d944e78fbd1f0416b9f8c6",
       "value": 76
      }
     },
     "435db9e39235439d84ebf0e33eac0efd": {
      "model_module": "jupyter-js-widgets",
      "model_module_version": "~2.1.4",
      "model_name": "OutputModel",
      "state": {
       "_dom_classes": [],
       "_model_module": "jupyter-js-widgets",
       "_model_module_version": "~2.1.4",
       "_view_module": "jupyter-js-widgets",
       "_view_module_version": "~2.1.4",
       "layout": "IPY_MODEL_a63a372264cd421a8713b47b12f9e99a",
       "msg_throttle": 1
      }
     },
     "4392d21b174a4170b8c648d637271092": {
      "model_module": "jupyter-js-widgets",
      "model_module_version": "~2.1.4",
      "model_name": "FloatSliderModel",
      "state": {
       "_model_module_version": "~2.1.4",
       "_view_module_version": "~2.1.4",
       "description": "vmin",
       "layout": "IPY_MODEL_7663eed97be84aeca4c9a8845bd2bcab",
       "max": 1,
       "step": 0.1
      }
     },
     "439f5cb30d894490b274f7c67f384679": {
      "model_module": "jupyter-js-widgets",
      "model_module_version": "~2.1.4",
      "model_name": "SliderStyleModel",
      "state": {
       "_model_module_version": "~2.1.4",
       "_view_module_version": "~2.1.4"
      }
     },
     "43b2a54a9b564508ba2f9569d69b9c8e": {
      "model_module": "jupyter-js-widgets",
      "model_module_version": "~2.1.4",
      "model_name": "LayoutModel",
      "state": {
       "_model_module_version": "~2.1.4",
       "_view_module_version": "~2.1.4"
      }
     },
     "43be8ebeb2c14d24a3bc3416e2c0fa44": {
      "model_module": "jupyter-js-widgets",
      "model_module_version": "~2.1.4",
      "model_name": "LayoutModel",
      "state": {
       "_model_module_version": "~2.1.4",
       "_view_module_version": "~2.1.4"
      }
     },
     "43cb7e0f10c7482b98c11c753b0715cb": {
      "model_module": "jupyter-js-widgets",
      "model_module_version": "~2.1.4",
      "model_name": "VBoxModel",
      "state": {
       "_dom_classes": [
        "widget-interact"
       ],
       "_model_module_version": "~2.1.4",
       "_view_module_version": "~2.1.4",
       "children": [
        "IPY_MODEL_8fd6e9e0a547488c96894036b9470a2e",
        "IPY_MODEL_9b78dd6a8fa7483cad737781a83edeb4",
        "IPY_MODEL_f88a59fe9b3f4963af3e3ddd0ff45748",
        "IPY_MODEL_dd0b36fee27c4189bf8fc5771af52ad3"
       ],
       "layout": "IPY_MODEL_ca81171dccf846dda142f4e8fdb2e536"
      }
     },
     "43e2080e26d44ae3b7ec97cb536daf73": {
      "model_module": "jupyter-js-widgets",
      "model_module_version": "~2.1.4",
      "model_name": "LayoutModel",
      "state": {
       "_model_module_version": "~2.1.4",
       "_view_module_version": "~2.1.4"
      }
     },
     "441331df1152404cb41c9e4603d92f6d": {
      "model_module": "jupyter-js-widgets",
      "model_module_version": "~2.1.4",
      "model_name": "LayoutModel",
      "state": {
       "_model_module_version": "~2.1.4",
       "_view_module_version": "~2.1.4"
      }
     },
     "44185fb31d2b4a818ba0bf6825f90c47": {
      "model_module": "jupyter-js-widgets",
      "model_module_version": "~2.1.4",
      "model_name": "DropdownModel",
      "state": {
       "_model_module_version": "~2.1.4",
       "_options_labels": [
        "Projections",
        "Open beam images",
        "Dark images"
       ],
       "_view_module_version": "~2.1.4",
       "description": "ims",
       "layout": "IPY_MODEL_a125324c0267408fb4c02f75fd923a56",
       "value": "Projections"
      }
     },
     "448f4aa6e7bc4196b1f833cd6d15aa16": {
      "model_module": "jupyter-js-widgets",
      "model_module_version": "~2.1.4",
      "model_name": "LayoutModel",
      "state": {
       "_model_module_version": "~2.1.4",
       "_view_module_version": "~2.1.4"
      }
     },
     "44a2fbfc75d64533830537060b5667b1": {
      "model_module": "jupyter-js-widgets",
      "model_module_version": "~2.1.4",
      "model_name": "LayoutModel",
      "state": {
       "_model_module_version": "~2.1.4",
       "_view_module_version": "~2.1.4"
      }
     },
     "451b238948a2450a91a76e91295d86aa": {
      "model_module": "jupyter-js-widgets",
      "model_module_version": "~2.1.4",
      "model_name": "OutputModel",
      "state": {
       "_dom_classes": [],
       "_model_module": "jupyter-js-widgets",
       "_model_module_version": "~2.1.4",
       "_view_module": "jupyter-js-widgets",
       "_view_module_version": "~2.1.4",
       "layout": "IPY_MODEL_9c4c3840ae3c4bcf8512c745f45b4413",
       "msg_throttle": 1
      }
     },
     "453dbee36f584ef9836ffb73f1143a1f": {
      "model_module": "jupyter-js-widgets",
      "model_module_version": "~2.1.4",
      "model_name": "DropdownModel",
      "state": {
       "_model_module_version": "~2.1.4",
       "_options_labels": [
        "Projections",
        "Open beam images",
        "Dark images"
       ],
       "_view_module_version": "~2.1.4",
       "description": "ims",
       "layout": "IPY_MODEL_b0ac5edb31aa4107ab16b275010dc007",
       "value": "Projections"
      }
     },
     "4600842404ca447c94148b0024584248": {
      "model_module": "jupyter-js-widgets",
      "model_module_version": "~2.1.4",
      "model_name": "IntSliderModel",
      "state": {
       "_model_module_version": "~2.1.4",
       "_view_module_version": "~2.1.4",
       "description": "vmin",
       "layout": "IPY_MODEL_e4fc968d4f8643a09bddd4177c7372c7",
       "max": 65535,
       "style": "IPY_MODEL_27ffb88252c645ada0a2d15c0d04277d"
      }
     },
     "4633c84b1b794a9a94d3069751d2e816": {
      "model_module": "jupyter-js-widgets",
      "model_module_version": "~2.1.4",
      "model_name": "IntSliderModel",
      "state": {
       "_model_module_version": "~2.1.4",
       "_view_module_version": "~2.1.4",
       "description": "vmax",
       "layout": "IPY_MODEL_a1bbce1ec5f74b95b47a834f41117f7a",
       "max": 65535,
       "style": "IPY_MODEL_13da316decd64b11a30012a7231e33a5",
       "value": 65535
      }
     },
     "467d4bcea0cf4e94b24330ef613cc3e2": {
      "model_module": "jupyter-js-widgets",
      "model_module_version": "~2.1.4",
      "model_name": "SliderStyleModel",
      "state": {
       "_model_module_version": "~2.1.4",
       "_view_module_version": "~2.1.4"
      }
     },
     "46a2b5f741a14e7a89e303e86206f47e": {
      "model_module": "jupyter-js-widgets",
      "model_module_version": "~2.1.4",
      "model_name": "LayoutModel",
      "state": {
       "_model_module_version": "~2.1.4",
       "_view_module_version": "~2.1.4"
      }
     },
     "46bda2159dae4d4ab9c6159df4d5ac66": {
      "model_module": "jupyter-js-widgets",
      "model_module_version": "~2.1.4",
      "model_name": "LayoutModel",
      "state": {
       "_model_module_version": "~2.1.4",
       "_view_module_version": "~2.1.4"
      }
     },
     "46eaa2ce00d3440cbdd34de403948c89": {
      "model_module": "jupyter-js-widgets",
      "model_module_version": "~2.1.4",
      "model_name": "LayoutModel",
      "state": {
       "_model_module_version": "~2.1.4",
       "_view_module_version": "~2.1.4"
      }
     },
     "46efee66f7c447d6b5e22802c7f27253": {
      "model_module": "jupyter-js-widgets",
      "model_module_version": "~2.1.4",
      "model_name": "LayoutModel",
      "state": {
       "_model_module_version": "~2.1.4",
       "_view_module_version": "~2.1.4"
      }
     },
     "473030c292434c0584b5bc25407184d7": {
      "model_module": "jupyter-js-widgets",
      "model_module_version": "~2.1.4",
      "model_name": "LayoutModel",
      "state": {
       "_model_module_version": "~2.1.4",
       "_view_module_version": "~2.1.4"
      }
     },
     "4737f227e83547faa35adf49e1f74316": {
      "model_module": "jupyter-js-widgets",
      "model_module_version": "~2.1.4",
      "model_name": "VBoxModel",
      "state": {
       "_dom_classes": [
        "widget-interact"
       ],
       "_model_module_version": "~2.1.4",
       "_view_module_version": "~2.1.4",
       "children": [
        "IPY_MODEL_a5eeb505b5ee41a8be715348e4da54fd",
        "IPY_MODEL_013fd28570bb44d68af58cbc93e424de",
        "IPY_MODEL_ef6df42c06e549939cc5b550c2619fdd",
        "IPY_MODEL_8eaa09653d5d40feb1559b3e6d7a87d9",
        "IPY_MODEL_035e3f89c3094852a438673b3d4d9b4c"
       ],
       "layout": "IPY_MODEL_43e2080e26d44ae3b7ec97cb536daf73"
      }
     },
     "47384ef95dd14d2bba9f6095576a846c": {
      "model_module": "jupyter-js-widgets",
      "model_module_version": "~2.1.4",
      "model_name": "SliderStyleModel",
      "state": {
       "_model_module_version": "~2.1.4",
       "_view_module_version": "~2.1.4"
      }
     },
     "4738a70508a34a9b856f5dd5992a1c94": {
      "model_module": "jupyter-js-widgets",
      "model_module_version": "~2.1.4",
      "model_name": "DropdownModel",
      "state": {
       "_model_module_version": "~2.1.4",
       "_options_labels": [
        "Projections",
        "Open beam images",
        "Dark images"
       ],
       "_view_module_version": "~2.1.4",
       "description": "ims",
       "layout": "IPY_MODEL_6032d3ffab5d4cfba80b6ec4b66966c6",
       "value": "Projections"
      }
     },
     "4744221c68ae4828aa16e28fb72f9a36": {
      "model_module": "jupyter-js-widgets",
      "model_module_version": "~2.1.4",
      "model_name": "LayoutModel",
      "state": {
       "_model_module_version": "~2.1.4",
       "_view_module_version": "~2.1.4"
      }
     },
     "4790598404b3413ca74846a98eab448a": {
      "model_module": "jupyter-js-widgets",
      "model_module_version": "~2.1.4",
      "model_name": "LayoutModel",
      "state": {
       "_model_module_version": "~2.1.4",
       "_view_module_version": "~2.1.4"
      }
     },
     "479c0259f9a24f80924e046a77a49e10": {
      "model_module": "jupyter-js-widgets",
      "model_module_version": "~2.1.4",
      "model_name": "LayoutModel",
      "state": {
       "_model_module_version": "~2.1.4",
       "_view_module_version": "~2.1.4"
      }
     },
     "482125f6b1b149a4a267788773c55b71": {
      "model_module": "jupyter-js-widgets",
      "model_module_version": "~2.1.4",
      "model_name": "DropdownModel",
      "state": {
       "_model_module_version": "~2.1.4",
       "_options_labels": [
        "10",
        "100",
        "500",
        "1000"
       ],
       "_view_module_version": "~2.1.4",
       "description": "diff",
       "layout": "IPY_MODEL_81fc217a16464a468a54cc1ffee50bb8",
       "value": "1000"
      }
     },
     "487d1d4d83b44906b37a02de8488dd33": {
      "model_module": "jupyter-js-widgets",
      "model_module_version": "~2.1.4",
      "model_name": "FloatSliderModel",
      "state": {
       "_model_module_version": "~2.1.4",
       "_view_module_version": "~2.1.4",
       "description": "vmin",
       "layout": "IPY_MODEL_98794d2a444e4bbca8218f76fb0e0cd3",
       "max": 0.015653500333428383,
       "min": -0.020783809944987297,
       "step": 0.001,
       "value": -0.020783809944987297
      }
     },
     "4895971377cb485a9af6d6c2794d2d56": {
      "model_module": "jupyter-js-widgets",
      "model_module_version": "~2.1.4",
      "model_name": "SliderStyleModel",
      "state": {
       "_model_module_version": "~2.1.4",
       "_view_module_version": "~2.1.4"
      }
     },
     "48d9a6356e614d37891f6e05a6796ea7": {
      "model_module": "jupyter-js-widgets",
      "model_module_version": "~2.1.4",
      "model_name": "SliderStyleModel",
      "state": {
       "_model_module_version": "~2.1.4",
       "_view_module_version": "~2.1.4"
      }
     },
     "49048eeccccd47b5bade86e25bff44a0": {
      "model_module": "jupyter-js-widgets",
      "model_module_version": "~2.1.4",
      "model_name": "LayoutModel",
      "state": {
       "_model_module_version": "~2.1.4",
       "_view_module_version": "~2.1.4"
      }
     },
     "493ce18b62144891b860cf126a59b792": {
      "model_module": "jupyter-js-widgets",
      "model_module_version": "~2.1.4",
      "model_name": "SliderStyleModel",
      "state": {
       "_model_module_version": "~2.1.4",
       "_view_module_version": "~2.1.4"
      }
     },
     "4944f05afbcf4d0db6b313c433e94a59": {
      "model_module": "jupyter-js-widgets",
      "model_module_version": "~2.1.4",
      "model_name": "LayoutModel",
      "state": {
       "_model_module_version": "~2.1.4",
       "_view_module_version": "~2.1.4"
      }
     },
     "499c38328a794220ab2eadeaf9a8a448": {
      "model_module": "jupyter-js-widgets",
      "model_module_version": "~2.1.4",
      "model_name": "IntSliderModel",
      "state": {
       "_model_module_version": "~2.1.4",
       "_view_module_version": "~2.1.4",
       "description": "i",
       "layout": "IPY_MODEL_2830ba472e22469f8f447c87f0e0c691",
       "max": 800,
       "style": "IPY_MODEL_76dcb96fd52f4c62bd29b45110b78769"
      }
     },
     "49c32a763eef4c179708efdb629cbf15": {
      "model_module": "jupyter-js-widgets",
      "model_module_version": "~2.1.4",
      "model_name": "LayoutModel",
      "state": {
       "_model_module_version": "~2.1.4",
       "_view_module_version": "~2.1.4"
      }
     },
     "49da4f0af41d4613b98d2d28cfb4220d": {
      "model_module": "jupyter-js-widgets",
      "model_module_version": "~2.1.4",
      "model_name": "OutputModel",
      "state": {
       "_dom_classes": [],
       "_model_module": "jupyter-js-widgets",
       "_model_module_version": "~2.1.4",
       "_view_module": "jupyter-js-widgets",
       "_view_module_version": "~2.1.4",
       "layout": "IPY_MODEL_8df464f1cb7544eb8cdf32acba4dbca5",
       "msg_throttle": 1
      }
     },
     "4a0177fc1f8a45818f82d67cc67625de": {
      "model_module": "jupyter-js-widgets",
      "model_module_version": "~2.1.4",
      "model_name": "VBoxModel",
      "state": {
       "_dom_classes": [
        "widget-interact"
       ],
       "_model_module_version": "~2.1.4",
       "_view_module_version": "~2.1.4",
       "children": [
        "IPY_MODEL_a7c8a629cda846acae12ad7dda641884",
        "IPY_MODEL_72c0bd9c6d154313bc6172520c44eb8c",
        "IPY_MODEL_814c00112c034a5c9520585b100bde9c"
       ],
       "layout": "IPY_MODEL_ae724c1671e8499190d1435b4d32a19a"
      }
     },
     "4a3569fa1ae74df8a67365538c0fea2b": {
      "model_module": "jupyter-js-widgets",
      "model_module_version": "~2.1.4",
      "model_name": "LayoutModel",
      "state": {
       "_model_module_version": "~2.1.4",
       "_view_module_version": "~2.1.4"
      }
     },
     "4a46058ab0704a1bba261d9a5cd32c40": {
      "model_module": "jupyter-js-widgets",
      "model_module_version": "~2.1.4",
      "model_name": "IntSliderModel",
      "state": {
       "_model_module_version": "~2.1.4",
       "_view_module_version": "~2.1.4",
       "description": "i",
       "layout": "IPY_MODEL_f62d20623c4e461282c83420d031cb21",
       "max": 369,
       "style": "IPY_MODEL_b33db7ca9ce44a0ebbadc4d5b610ff1d",
       "value": 150
      }
     },
     "4a86172d818d45cc8541347a3f5cebb0": {
      "model_module": "jupyter-js-widgets",
      "model_module_version": "~2.1.4",
      "model_name": "LayoutModel",
      "state": {
       "_model_module_version": "~2.1.4",
       "_view_module_version": "~2.1.4"
      }
     },
     "4aa1c06a2af742ffb5594fcb09235cbe": {
      "model_module": "jupyter-js-widgets",
      "model_module_version": "~2.1.4",
      "model_name": "LayoutModel",
      "state": {
       "_model_module_version": "~2.1.4",
       "_view_module_version": "~2.1.4"
      }
     },
     "4ac19b83204848dcaed93293fab17651": {
      "model_module": "jupyter-js-widgets",
      "model_module_version": "~2.1.4",
      "model_name": "OutputModel",
      "state": {
       "_dom_classes": [],
       "_model_module": "jupyter-js-widgets",
       "_model_module_version": "~2.1.4",
       "_view_module": "jupyter-js-widgets",
       "_view_module_version": "~2.1.4",
       "layout": "IPY_MODEL_05e2b9fda7244750b8e4efc7e44c4446",
       "msg_throttle": 1
      }
     },
     "4ae983736fa8493e90cc83beeaed4ea3": {
      "model_module": "jupyter-js-widgets",
      "model_module_version": "~2.1.4",
      "model_name": "VBoxModel",
      "state": {
       "_dom_classes": [
        "widget-interact"
       ],
       "_model_module_version": "~2.1.4",
       "_view_module_version": "~2.1.4",
       "children": [
        "IPY_MODEL_92e3b3070e22460f9bc866d88352e5ff",
        "IPY_MODEL_4b01d50788ed47f99795a3275c416dc9",
        "IPY_MODEL_94cac28a495a42018d2b42870f385f30",
        "IPY_MODEL_2bc78cdfca0d461b818b1afee7437923"
       ],
       "layout": "IPY_MODEL_b60a403dbefd4f06b95b005a74d87350"
      }
     },
     "4aea6f61a8ad4d3fbb3b44b91cc48887": {
      "model_module": "jupyter-js-widgets",
      "model_module_version": "~2.1.4",
      "model_name": "LayoutModel",
      "state": {
       "_model_module_version": "~2.1.4",
       "_view_module_version": "~2.1.4"
      }
     },
     "4b01d50788ed47f99795a3275c416dc9": {
      "model_module": "jupyter-js-widgets",
      "model_module_version": "~2.1.4",
      "model_name": "FloatSliderModel",
      "state": {
       "_model_module_version": "~2.1.4",
       "_view_module_version": "~2.1.4",
       "description": "vmin",
       "layout": "IPY_MODEL_d40e2bf61c5f44eead6cd7fc3383d125",
       "max": 0.009999999776482582,
       "min": -0.007000000216066837,
       "step": 0.001,
       "value": -0.007000000216066837
      }
     },
     "4b121c96a9a14f4682e9e709d063f14c": {
      "model_module": "jupyter-js-widgets",
      "model_module_version": "~2.1.4",
      "model_name": "LayoutModel",
      "state": {
       "_model_module_version": "~2.1.4",
       "_view_module_version": "~2.1.4"
      }
     },
     "4babb9a503c647c8aa1d24a6c1cf417f": {
      "model_module": "jupyter-js-widgets",
      "model_module_version": "~2.1.4",
      "model_name": "LayoutModel",
      "state": {
       "_model_module_version": "~2.1.4",
       "_view_module_version": "~2.1.4"
      }
     },
     "4bfc27695a60402bae66cf4938cf5900": {
      "model_module": "jupyter-js-widgets",
      "model_module_version": "~2.1.4",
      "model_name": "LayoutModel",
      "state": {
       "_model_module_version": "~2.1.4",
       "_view_module_version": "~2.1.4"
      }
     },
     "4c144bf2a74745e29c78ecd76be938ec": {
      "model_module": "jupyter-js-widgets",
      "model_module_version": "~2.1.4",
      "model_name": "SliderStyleModel",
      "state": {
       "_model_module_version": "~2.1.4",
       "_view_module_version": "~2.1.4"
      }
     },
     "4c4bb85785864a8684a3916bf7ee6594": {
      "model_module": "jupyter-js-widgets",
      "model_module_version": "~2.1.4",
      "model_name": "VBoxModel",
      "state": {
       "_dom_classes": [
        "widget-interact"
       ],
       "_model_module_version": "~2.1.4",
       "_view_module_version": "~2.1.4",
       "children": [
        "IPY_MODEL_e805de422b0a4cbebd4925e21a371cf3",
        "IPY_MODEL_426a0dbb60c848fdad61073e05bd7503",
        "IPY_MODEL_19f5bd03d44348e0a396743b44369e37",
        "IPY_MODEL_085466e7760c438e8feb5ec88754cbec"
       ],
       "layout": "IPY_MODEL_8a1570af0a4848a2a0335b6ec7733a9a"
      }
     },
     "4ca8399f3247497a8dd63c727cc4829e": {
      "model_module": "jupyter-js-widgets",
      "model_module_version": "~2.1.4",
      "model_name": "LayoutModel",
      "state": {
       "_model_module_version": "~2.1.4",
       "_view_module_version": "~2.1.4"
      }
     },
     "4ccee4f1287f4f688ecb665f28104c12": {
      "model_module": "jupyter-js-widgets",
      "model_module_version": "~2.1.4",
      "model_name": "LayoutModel",
      "state": {
       "_model_module_version": "~2.1.4",
       "_view_module_version": "~2.1.4"
      }
     },
     "4cd4471fb49c40f195956362213a7446": {
      "model_module": "jupyter-js-widgets",
      "model_module_version": "~2.1.4",
      "model_name": "SliderStyleModel",
      "state": {
       "_model_module_version": "~2.1.4",
       "_view_module_version": "~2.1.4"
      }
     },
     "4d2866d25f6e4856bef317d7c9410503": {
      "model_module": "jupyter-js-widgets",
      "model_module_version": "~2.1.4",
      "model_name": "LayoutModel",
      "state": {
       "_model_module_version": "~2.1.4",
       "_view_module_version": "~2.1.4"
      }
     },
     "4d2c5fad6be645ddbdd7e819e00b99cf": {
      "model_module": "jupyter-js-widgets",
      "model_module_version": "~2.1.4",
      "model_name": "IntSliderModel",
      "state": {
       "_model_module_version": "~2.1.4",
       "_view_module_version": "~2.1.4",
       "description": "i",
       "layout": "IPY_MODEL_6ba47f0ac0704ae8b12b59b1aa2b2239",
       "max": 800,
       "style": "IPY_MODEL_c51432c6340b4dd282b4026d28970158"
      }
     },
     "4d313f1fb5fa4e2a83aa7e4dee932ec8": {
      "model_module": "jupyter-js-widgets",
      "model_module_version": "~2.1.4",
      "model_name": "IntSliderModel",
      "state": {
       "_model_module_version": "~2.1.4",
       "_view_module_version": "~2.1.4",
       "description": "vmin",
       "layout": "IPY_MODEL_46eaa2ce00d3440cbdd34de403948c89",
       "max": 65535,
       "style": "IPY_MODEL_e7594df32a734e469182af450b69bbe9"
      }
     },
     "4d53fa270133456bbaa4e6cb78cab981": {
      "model_module": "jupyter-js-widgets",
      "model_module_version": "~2.1.4",
      "model_name": "OutputModel",
      "state": {
       "_dom_classes": [],
       "_model_module": "jupyter-js-widgets",
       "_model_module_version": "~2.1.4",
       "_view_module": "jupyter-js-widgets",
       "_view_module_version": "~2.1.4",
       "layout": "IPY_MODEL_7950ca760a7642fa8d55d70510d3c768",
       "msg_throttle": 1
      }
     },
     "4dcea4bd0d1f474280f722d2140eded1": {
      "model_module": "jupyter-js-widgets",
      "model_module_version": "~2.1.4",
      "model_name": "SliderStyleModel",
      "state": {
       "_model_module_version": "~2.1.4",
       "_view_module_version": "~2.1.4"
      }
     },
     "4e1428cc1a934022b142539c50b5fd7a": {
      "model_module": "jupyter-js-widgets",
      "model_module_version": "~2.1.4",
      "model_name": "IntSliderModel",
      "state": {
       "_model_module_version": "~2.1.4",
       "_view_module_version": "~2.1.4",
       "description": "vmax",
       "layout": "IPY_MODEL_7cd4080a206c4f1194e30e2c3bc4f95c",
       "max": 65535,
       "style": "IPY_MODEL_97318983af3f46cdba5d2b06d2430a1c",
       "value": 65535
      }
     },
     "4e22be24acae4d488c2d8cd62912a793": {
      "model_module": "jupyter-js-widgets",
      "model_module_version": "~2.1.4",
      "model_name": "LayoutModel",
      "state": {
       "_model_module_version": "~2.1.4",
       "_view_module_version": "~2.1.4"
      }
     },
     "4e23eef385404bf3b99a31cedddf4027": {
      "model_module": "jupyter-js-widgets",
      "model_module_version": "~2.1.4",
      "model_name": "SliderStyleModel",
      "state": {
       "_model_module_version": "~2.1.4",
       "_view_module_version": "~2.1.4"
      }
     },
     "4e61b26b53af4ceea9792f3cb669212b": {
      "model_module": "jupyter-js-widgets",
      "model_module_version": "~2.1.4",
      "model_name": "LayoutModel",
      "state": {
       "_model_module_version": "~2.1.4",
       "_view_module_version": "~2.1.4"
      }
     },
     "4e8f622230d24a438128b057ad1cb2de": {
      "model_module": "jupyter-js-widgets",
      "model_module_version": "~2.1.4",
      "model_name": "IntSliderModel",
      "state": {
       "_model_module_version": "~2.1.4",
       "_view_module_version": "~2.1.4",
       "description": "vmax",
       "layout": "IPY_MODEL_f7c60321d2f64809996ec8c7bd600000",
       "max": 65535,
       "style": "IPY_MODEL_3aa092d89a014400995baa91b0698477",
       "value": 65535
      }
     },
     "4ecb54be87454f379cd9e9ba96260f00": {
      "model_module": "jupyter-js-widgets",
      "model_module_version": "~2.1.4",
      "model_name": "OutputModel",
      "state": {
       "_dom_classes": [],
       "_model_module": "jupyter-js-widgets",
       "_model_module_version": "~2.1.4",
       "_view_module": "jupyter-js-widgets",
       "_view_module_version": "~2.1.4",
       "layout": "IPY_MODEL_9a99b92410334e70aab9f5458aa512f8",
       "msg_throttle": 1
      }
     },
     "4ee18df6c0ef4bc996ddd28afaa5e97f": {
      "model_module": "jupyter-js-widgets",
      "model_module_version": "~2.1.4",
      "model_name": "FloatSliderModel",
      "state": {
       "_model_module_version": "~2.1.4",
       "_view_module_version": "~2.1.4",
       "description": "vmax",
       "layout": "IPY_MODEL_c5d27323ff5840c2bcdc0f3e5b103b61",
       "max": 1,
       "min": -1,
       "step": 0.1,
       "value": 1
      }
     },
     "4fb652ac10484906a572f13bef948890": {
      "model_module": "jupyter-js-widgets",
      "model_module_version": "~2.1.4",
      "model_name": "SliderStyleModel",
      "state": {
       "_model_module_version": "~2.1.4",
       "_view_module_version": "~2.1.4"
      }
     },
     "4fd1e751eb5b4ebbb37818804b07e9e2": {
      "model_module": "jupyter-js-widgets",
      "model_module_version": "~2.1.4",
      "model_name": "LayoutModel",
      "state": {
       "_model_module_version": "~2.1.4",
       "_view_module_version": "~2.1.4"
      }
     },
     "4feeebf876c54cc289bb1935bd4d9847": {
      "model_module": "jupyter-js-widgets",
      "model_module_version": "~2.1.4",
      "model_name": "LayoutModel",
      "state": {
       "_model_module_version": "~2.1.4",
       "_view_module_version": "~2.1.4"
      }
     },
     "501a12035e7a49ee8f59f3e1c71056f6": {
      "model_module": "jupyter-js-widgets",
      "model_module_version": "~2.1.4",
      "model_name": "SliderStyleModel",
      "state": {
       "_model_module_version": "~2.1.4",
       "_view_module_version": "~2.1.4"
      }
     },
     "507ea09556fe4187b85ed8bbcdb0c236": {
      "model_module": "jupyter-js-widgets",
      "model_module_version": "~2.1.4",
      "model_name": "LayoutModel",
      "state": {
       "_model_module_version": "~2.1.4",
       "_view_module_version": "~2.1.4"
      }
     },
     "5087eaf6191541988ca06aa6a2cee484": {
      "model_module": "jupyter-js-widgets",
      "model_module_version": "~2.1.4",
      "model_name": "LayoutModel",
      "state": {
       "_model_module_version": "~2.1.4",
       "_view_module_version": "~2.1.4"
      }
     },
     "509521dd5f1541739a70e9695f6487d5": {
      "model_module": "jupyter-js-widgets",
      "model_module_version": "~2.1.4",
      "model_name": "DropdownModel",
      "state": {
       "_model_module_version": "~2.1.4",
       "_options_labels": [
        "10",
        "100",
        "250",
        "500",
        "750",
        "1000"
       ],
       "_view_module_version": "~2.1.4",
       "description": "diff",
       "layout": "IPY_MODEL_c12e8ad870d34e0eb47dfe44d0ea1eb1",
       "value": "1000"
      }
     },
     "509541bef6554701b86cb87367f02ba0": {
      "model_module": "jupyter-js-widgets",
      "model_module_version": "~2.1.4",
      "model_name": "IntSliderModel",
      "state": {
       "_model_module_version": "~2.1.4",
       "_view_module_version": "~2.1.4",
       "description": "i",
       "layout": "IPY_MODEL_04f77c8974c24d39a56b603a2b6d9326",
       "max": 800,
       "style": "IPY_MODEL_ed41591bd6a847c4900dbfc746f4b224"
      }
     },
     "512fd77a976148f296b6ac78d4ab4fd0": {
      "model_module": "jupyter-js-widgets",
      "model_module_version": "~2.1.4",
      "model_name": "SliderStyleModel",
      "state": {
       "_model_module_version": "~2.1.4",
       "_view_module_version": "~2.1.4"
      }
     },
     "51457d611d464f2b9aa28cba4bdd490d": {
      "model_module": "jupyter-js-widgets",
      "model_module_version": "~2.1.4",
      "model_name": "IntSliderModel",
      "state": {
       "_model_module_version": "~2.1.4",
       "_view_module_version": "~2.1.4",
       "description": "i",
       "layout": "IPY_MODEL_ea74c8bdea55451a9ee749f50e4cc77f",
       "max": 800,
       "style": "IPY_MODEL_b13fb1ba7c1e4cbc8456a76d34498ace"
      }
     },
     "5156a054fc884e3393d71c4aa30eb710": {
      "model_module": "jupyter-js-widgets",
      "model_module_version": "~2.1.4",
      "model_name": "DropdownModel",
      "state": {
       "_model_module_version": "~2.1.4",
       "_options_labels": [
        "10",
        "100",
        "500",
        "1000"
       ],
       "_view_module_version": "~2.1.4",
       "description": "diff",
       "layout": "IPY_MODEL_847cba517f474328a49c8366c5b5bb8c",
       "value": "1000"
      }
     },
     "5158f269782246be9f7fa8af0c1b7a06": {
      "model_module": "jupyter-js-widgets",
      "model_module_version": "~2.1.4",
      "model_name": "DropdownModel",
      "state": {
       "_model_module_version": "~2.1.4",
       "_options_labels": [
        "Projections",
        "Open beam images",
        "Dark images"
       ],
       "_view_module_version": "~2.1.4",
       "description": "ims",
       "layout": "IPY_MODEL_b51f972b40b44075bd09376cb153268a",
       "value": "Projections"
      }
     },
     "51772c7bd9154bdf988063f765d87f71": {
      "model_module": "jupyter-js-widgets",
      "model_module_version": "~2.1.4",
      "model_name": "LayoutModel",
      "state": {
       "_model_module_version": "~2.1.4",
       "_view_module_version": "~2.1.4"
      }
     },
     "51ab1b9a3ad84549bc32e9fb6e329932": {
      "model_module": "jupyter-js-widgets",
      "model_module_version": "~2.1.4",
      "model_name": "OutputModel",
      "state": {
       "_dom_classes": [],
       "_model_module": "jupyter-js-widgets",
       "_model_module_version": "~2.1.4",
       "_view_module": "jupyter-js-widgets",
       "_view_module_version": "~2.1.4",
       "layout": "IPY_MODEL_b16b62d3547144a8a85e00a3cbd2a548",
       "msg_throttle": 1
      }
     },
     "51f11599912245fdabb640a69282263b": {
      "model_module": "jupyter-js-widgets",
      "model_module_version": "~2.1.4",
      "model_name": "LayoutModel",
      "state": {
       "_model_module_version": "~2.1.4",
       "_view_module_version": "~2.1.4"
      }
     },
     "520deb91a07a47508e334f2bcda6e05d": {
      "model_module": "jupyter-js-widgets",
      "model_module_version": "~2.1.4",
      "model_name": "LayoutModel",
      "state": {
       "_model_module_version": "~2.1.4",
       "_view_module_version": "~2.1.4"
      }
     },
     "521af78f233f4ea49c827f83d8415582": {
      "model_module": "jupyter-js-widgets",
      "model_module_version": "~2.1.4",
      "model_name": "OutputModel",
      "state": {
       "_dom_classes": [],
       "_model_module": "jupyter-js-widgets",
       "_model_module_version": "~2.1.4",
       "_view_module": "jupyter-js-widgets",
       "_view_module_version": "~2.1.4",
       "layout": "IPY_MODEL_8db19a34d998442b9bb170a2d610c259",
       "msg_throttle": 1
      }
     },
     "52682ff8f60542c6a9cc48c6cca5a637": {
      "model_module": "jupyter-js-widgets",
      "model_module_version": "~2.1.4",
      "model_name": "OutputModel",
      "state": {
       "_dom_classes": [],
       "_model_module": "jupyter-js-widgets",
       "_model_module_version": "~2.1.4",
       "_view_module": "jupyter-js-widgets",
       "_view_module_version": "~2.1.4",
       "layout": "IPY_MODEL_7a60ccb3dd0e493aa842e862c36ca137",
       "msg_throttle": 1
      }
     },
     "529c6d2c74e44032abb4fa21a61e9f66": {
      "model_module": "jupyter-js-widgets",
      "model_module_version": "~2.1.4",
      "model_name": "LayoutModel",
      "state": {
       "_model_module_version": "~2.1.4",
       "_view_module_version": "~2.1.4"
      }
     },
     "531e5bd1e33a43ada998cfaa1eda0f63": {
      "model_module": "jupyter-js-widgets",
      "model_module_version": "~2.1.4",
      "model_name": "IntSliderModel",
      "state": {
       "_model_module_version": "~2.1.4",
       "_view_module_version": "~2.1.4",
       "description": "i",
       "layout": "IPY_MODEL_902b0a5c3ab248ff873929a119846d88",
       "max": 369,
       "style": "IPY_MODEL_a8add150f61b43c2886d0055e774e752",
       "value": 232
      }
     },
     "5351ba85a4624102aaec5dd016339d20": {
      "model_module": "jupyter-js-widgets",
      "model_module_version": "~2.1.4",
      "model_name": "LayoutModel",
      "state": {
       "_model_module_version": "~2.1.4",
       "_view_module_version": "~2.1.4"
      }
     },
     "53bd050ea49240889729582a26d7bb81": {
      "model_module": "jupyter-js-widgets",
      "model_module_version": "~2.1.4",
      "model_name": "LayoutModel",
      "state": {
       "_model_module_version": "~2.1.4",
       "_view_module_version": "~2.1.4"
      }
     },
     "53c7331a7808406380130bd860ee2f8f": {
      "model_module": "jupyter-js-widgets",
      "model_module_version": "~2.1.4",
      "model_name": "DropdownModel",
      "state": {
       "_model_module_version": "~2.1.4",
       "_options_labels": [
        "Projections",
        "Open beam images",
        "Dark images"
       ],
       "_view_module_version": "~2.1.4",
       "layout": "IPY_MODEL_8b69d21b0ab943b58ffca05623554109",
       "value": "Projections"
      }
     },
     "542c0f3f2399436cae8eaf4acc12f8e3": {
      "model_module": "jupyter-js-widgets",
      "model_module_version": "~2.1.4",
      "model_name": "IntSliderModel",
      "state": {
       "_model_module_version": "~2.1.4",
       "_view_module_version": "~2.1.4",
       "description": "vmax",
       "layout": "IPY_MODEL_cfed4b862ea54adba7fd8e5c7424268c",
       "max": 65535,
       "style": "IPY_MODEL_07b1ef448d2e476c9b2d9825a80e9c97",
       "value": 65535
      }
     },
     "5450004eabf6423cabdbcdba4ce1b524": {
      "model_module": "jupyter-js-widgets",
      "model_module_version": "~2.1.4",
      "model_name": "LayoutModel",
      "state": {
       "_model_module_version": "~2.1.4",
       "_view_module_version": "~2.1.4"
      }
     },
     "548dc5e9cac64357a84e642209692f02": {
      "model_module": "jupyter-js-widgets",
      "model_module_version": "~2.1.4",
      "model_name": "LayoutModel",
      "state": {
       "_model_module_version": "~2.1.4",
       "_view_module_version": "~2.1.4"
      }
     },
     "54c447bc411f49e491c33a76baa26e6d": {
      "model_module": "jupyter-js-widgets",
      "model_module_version": "~2.1.4",
      "model_name": "IntSliderModel",
      "state": {
       "_model_module_version": "~2.1.4",
       "_view_module_version": "~2.1.4",
       "description": "vmax",
       "layout": "IPY_MODEL_dc0ef82302744edfb35737eb4466759a",
       "max": 65535,
       "style": "IPY_MODEL_32300793e6f24bf3828b600ae5bd39bd",
       "value": 65535
      }
     },
     "54d0420ee50744b69533fa036748d4b8": {
      "model_module": "jupyter-js-widgets",
      "model_module_version": "~2.1.4",
      "model_name": "IntSliderModel",
      "state": {
       "_model_module_version": "~2.1.4",
       "_view_module_version": "~2.1.4",
       "description": "i",
       "layout": "IPY_MODEL_2e6c79c0eb044d4781a1bb3a9ed45569",
       "max": 800,
       "style": "IPY_MODEL_18f50c5475a5415a8b779dd73d691d66",
       "value": 391
      }
     },
     "54f513fae4464d87a853bb49e2788d99": {
      "model_module": "jupyter-js-widgets",
      "model_module_version": "~2.1.4",
      "model_name": "LayoutModel",
      "state": {
       "_model_module_version": "~2.1.4",
       "_view_module_version": "~2.1.4"
      }
     },
     "5509693f9ceb4b459646317c9ed730c4": {
      "model_module": "jupyter-js-widgets",
      "model_module_version": "~2.1.4",
      "model_name": "IntSliderModel",
      "state": {
       "_model_module_version": "~2.1.4",
       "_view_module_version": "~2.1.4",
       "description": "i",
       "layout": "IPY_MODEL_0954c7efc17e4647863f47f26a5cc5a6",
       "max": 800,
       "style": "IPY_MODEL_5ea02fd4d9614af28d41011b464aba20"
      }
     },
     "556648568b67417db573e2ef27728ff4": {
      "model_module": "jupyter-js-widgets",
      "model_module_version": "~2.1.4",
      "model_name": "LayoutModel",
      "state": {
       "_model_module_version": "~2.1.4",
       "_view_module_version": "~2.1.4"
      }
     },
     "556f72dcf9b34625926d6af6e5e924cc": {
      "model_module": "jupyter-js-widgets",
      "model_module_version": "~2.1.4",
      "model_name": "IntSliderModel",
      "state": {
       "_model_module_version": "~2.1.4",
       "_view_module_version": "~2.1.4",
       "description": "i",
       "layout": "IPY_MODEL_273cf81c2b98460ca5e0b316651dde16",
       "max": 800,
       "style": "IPY_MODEL_ad56e14eac314a68a44c52f681fee595",
       "value": 206
      }
     },
     "55780929bfae40cdb542e27dfb1860b4": {
      "model_module": "jupyter-js-widgets",
      "model_module_version": "~2.1.4",
      "model_name": "IntSliderModel",
      "state": {
       "_model_module_version": "~2.1.4",
       "_view_module_version": "~2.1.4",
       "description": "i",
       "layout": "IPY_MODEL_6e6904cdce2848c680bf3cb1a9ee789a",
       "max": 800,
       "style": "IPY_MODEL_d3f7b8737d01490d926f06280a2e4709",
       "value": 400
      }
     },
     "55d42aa3356e430ea84ffd1e7e4f2a64": {
      "model_module": "jupyter-js-widgets",
      "model_module_version": "~2.1.4",
      "model_name": "LayoutModel",
      "state": {
       "_model_module_version": "~2.1.4",
       "_view_module_version": "~2.1.4"
      }
     },
     "55e4e0658f814197b3adb3964e2d685f": {
      "model_module": "jupyter-js-widgets",
      "model_module_version": "~2.1.4",
      "model_name": "SliderStyleModel",
      "state": {
       "_model_module_version": "~2.1.4",
       "_view_module_version": "~2.1.4"
      }
     },
     "56097f8b71544752b28cd21d0d395938": {
      "model_module": "jupyter-js-widgets",
      "model_module_version": "~2.1.4",
      "model_name": "LayoutModel",
      "state": {
       "_model_module_version": "~2.1.4",
       "_view_module_version": "~2.1.4"
      }
     },
     "5636c5dec92c4a74b38c241822ea18f4": {
      "model_module": "jupyter-js-widgets",
      "model_module_version": "~2.1.4",
      "model_name": "IntSliderModel",
      "state": {
       "_model_module_version": "~2.1.4",
       "_view_module_version": "~2.1.4",
       "description": "i",
       "layout": "IPY_MODEL_4ccee4f1287f4f688ecb665f28104c12",
       "max": 800,
       "style": "IPY_MODEL_efc2f4d0a7c9444ca675b696f7ea0bad",
       "value": 513
      }
     },
     "5636dc6814c243e7915c4937b6c354a6": {
      "model_module": "jupyter-js-widgets",
      "model_module_version": "~2.1.4",
      "model_name": "VBoxModel",
      "state": {
       "_dom_classes": [
        "widget-interact"
       ],
       "_model_module_version": "~2.1.4",
       "_view_module_version": "~2.1.4",
       "children": [
        "IPY_MODEL_fb73b1b46be74cae859fc3134a1f504b",
        "IPY_MODEL_88319bd76753421cad33598e6b4e00d3",
        "IPY_MODEL_11bf7b9312a84fceb7330e14594dc6ae"
       ],
       "layout": "IPY_MODEL_5bf0ebb3f72f4346ac0f1bc5c6d41c08"
      }
     },
     "5676c2ced68343b4996d1bcc5df2e329": {
      "model_module": "jupyter-js-widgets",
      "model_module_version": "~2.1.4",
      "model_name": "LayoutModel",
      "state": {
       "_model_module_version": "~2.1.4",
       "_view_module_version": "~2.1.4"
      }
     },
     "56c8d118c5dc4bcb8572108be1b03e1f": {
      "model_module": "jupyter-js-widgets",
      "model_module_version": "~2.1.4",
      "model_name": "DropdownModel",
      "state": {
       "_model_module_version": "~2.1.4",
       "_options_labels": [
        "3",
        "5",
        "7"
       ],
       "_view_module_version": "~2.1.4",
       "description": "size",
       "layout": "IPY_MODEL_645ed835deda4c33b318f2a3d14c9671",
       "value": "3"
      }
     },
     "56c8f12fdf204cb494381c95921f95dd": {
      "model_module": "jupyter-js-widgets",
      "model_module_version": "~2.1.4",
      "model_name": "LayoutModel",
      "state": {
       "_model_module_version": "~2.1.4",
       "_view_module_version": "~2.1.4"
      }
     },
     "56ce175bc9714667a82a607f401f50b1": {
      "model_module": "jupyter-js-widgets",
      "model_module_version": "~2.1.4",
      "model_name": "SliderStyleModel",
      "state": {
       "_model_module_version": "~2.1.4",
       "_view_module_version": "~2.1.4"
      }
     },
     "5788574bd18a453799588c0f2bccdea0": {
      "model_module": "jupyter-js-widgets",
      "model_module_version": "~2.1.4",
      "model_name": "SliderStyleModel",
      "state": {
       "_model_module_version": "~2.1.4",
       "_view_module_version": "~2.1.4"
      }
     },
     "57cc164c5e7441898638b26dea54fb87": {
      "model_module": "jupyter-js-widgets",
      "model_module_version": "~2.1.4",
      "model_name": "IntSliderModel",
      "state": {
       "_model_module_version": "~2.1.4",
       "_view_module_version": "~2.1.4",
       "description": "vmin",
       "layout": "IPY_MODEL_ee01252007eb45d19c7dc3fc5dfcc6cd",
       "max": 65535,
       "style": "IPY_MODEL_eac58d8b3d6b47a0a0a57a6f1a40356f",
       "value": 32767
      }
     },
     "57e29a8da4c2412b907ab38d7a290ee5": {
      "model_module": "jupyter-js-widgets",
      "model_module_version": "~2.1.4",
      "model_name": "LayoutModel",
      "state": {
       "_model_module_version": "~2.1.4",
       "_view_module_version": "~2.1.4"
      }
     },
     "57eda9a3b62740ceac88f5f9cd5e428e": {
      "model_module": "jupyter-js-widgets",
      "model_module_version": "~2.1.4",
      "model_name": "LayoutModel",
      "state": {
       "_model_module_version": "~2.1.4",
       "_view_module_version": "~2.1.4"
      }
     },
     "581a40571f224198b4c7f67dd197c8c8": {
      "model_module": "jupyter-js-widgets",
      "model_module_version": "~2.1.4",
      "model_name": "SliderStyleModel",
      "state": {
       "_model_module_version": "~2.1.4",
       "_view_module_version": "~2.1.4"
      }
     },
     "584349d81e6c45599819dd0a46f80092": {
      "model_module": "jupyter-js-widgets",
      "model_module_version": "~2.1.4",
      "model_name": "IntSliderModel",
      "state": {
       "_model_module_version": "~2.1.4",
       "_view_module_version": "~2.1.4",
       "description": "i",
       "layout": "IPY_MODEL_3e243363ad7643a39b5ee03444312f11",
       "max": 800,
       "style": "IPY_MODEL_77b6d87ab95249a0891fe9d65c26a979",
       "value": 400
      }
     },
     "58459c551b8b4d4abdf845ed76b9aad7": {
      "model_module": "jupyter-js-widgets",
      "model_module_version": "~2.1.4",
      "model_name": "IntSliderModel",
      "state": {
       "_model_module_version": "~2.1.4",
       "_view_module_version": "~2.1.4",
       "description": "vmin",
       "layout": "IPY_MODEL_56c8f12fdf204cb494381c95921f95dd",
       "max": 65535,
       "style": "IPY_MODEL_332d448cc28346cab9588e2f9a8b1a14"
      }
     },
     "58467eba2740499fa03042483d1ade80": {
      "model_module": "jupyter-js-widgets",
      "model_module_version": "~2.1.4",
      "model_name": "FloatSliderModel",
      "state": {
       "_model_module_version": "~2.1.4",
       "_view_module_version": "~2.1.4",
       "description": "vmax",
       "layout": "IPY_MODEL_0f1b85e7f3a945d494b0eeab8e37fe7d",
       "max": 1,
       "step": 0.1,
       "value": 1
      }
     },
     "588e187315f945ba84be2d60883355ca": {
      "model_module": "jupyter-js-widgets",
      "model_module_version": "~2.1.4",
      "model_name": "FloatSliderModel",
      "state": {
       "_model_module_version": "~2.1.4",
       "_view_module_version": "~2.1.4",
       "description": "vmax",
       "layout": "IPY_MODEL_f701de0c011c47629756245087acbe78",
       "max": 0.009999999776482582,
       "min": -0.004999999888241291,
       "step": 0.001,
       "value": 0.009999999776482582
      }
     },
     "58a3b1f9ec514df5a79770f7afd77158": {
      "model_module": "jupyter-js-widgets",
      "model_module_version": "~2.1.4",
      "model_name": "LayoutModel",
      "state": {
       "_model_module_version": "~2.1.4",
       "_view_module_version": "~2.1.4"
      }
     },
     "58d2bdda904840a5b515a50335f56f6d": {
      "model_module": "jupyter-js-widgets",
      "model_module_version": "~2.1.4",
      "model_name": "OutputModel",
      "state": {
       "_dom_classes": [],
       "_model_module": "jupyter-js-widgets",
       "_model_module_version": "~2.1.4",
       "_view_module": "jupyter-js-widgets",
       "_view_module_version": "~2.1.4",
       "layout": "IPY_MODEL_c6594ebc84244bd7b71358bbeab92968",
       "msg_throttle": 1
      }
     },
     "58f2cacfb7764c52bd63ff03a5aa16b1": {
      "model_module": "jupyter-js-widgets",
      "model_module_version": "~2.1.4",
      "model_name": "LayoutModel",
      "state": {
       "_model_module_version": "~2.1.4",
       "_view_module_version": "~2.1.4"
      }
     },
     "590341a6260a4f86a9f35f098be3854b": {
      "model_module": "jupyter-js-widgets",
      "model_module_version": "~2.1.4",
      "model_name": "FloatSliderModel",
      "state": {
       "_model_module_version": "~2.1.4",
       "_view_module_version": "~2.1.4",
       "description": "vmax",
       "layout": "IPY_MODEL_6e506f0701124b30be002f36996f016d",
       "max": 0.078,
       "min": -0.026,
       "step": 0.1,
       "value": 0.074
      }
     },
     "599693cfd2a448aeb5e87776810a9d9e": {
      "model_module": "jupyter-js-widgets",
      "model_module_version": "~2.1.4",
      "model_name": "LayoutModel",
      "state": {
       "_model_module_version": "~2.1.4",
       "_view_module_version": "~2.1.4"
      }
     },
     "59de69800a294d1ab7f653d7ac5cbd8c": {
      "model_module": "jupyter-js-widgets",
      "model_module_version": "~2.1.4",
      "model_name": "FloatSliderModel",
      "state": {
       "_model_module_version": "~2.1.4",
       "_view_module_version": "~2.1.4",
       "description": "vmin",
       "layout": "IPY_MODEL_fc7df9c4f7da481b96b79d7170ba871c",
       "max": 0.009999999776482582,
       "min": -0.004999999888241291,
       "step": 0.001,
       "value": -0.004999999888241291
      }
     },
     "59e00f28e13545b1a9b3883a559ffe90": {
      "model_module": "jupyter-js-widgets",
      "model_module_version": "~2.1.4",
      "model_name": "LayoutModel",
      "state": {
       "_model_module_version": "~2.1.4",
       "_view_module_version": "~2.1.4"
      }
     },
     "59e806fca6fe4c12ab15120e1d51ae19": {
      "model_module": "jupyter-js-widgets",
      "model_module_version": "~2.1.4",
      "model_name": "FloatSliderModel",
      "state": {
       "_model_module_version": "~2.1.4",
       "_view_module_version": "~2.1.4",
       "description": "vmin",
       "layout": "IPY_MODEL_548dc5e9cac64357a84e642209692f02",
       "max": 0.010969985276460648,
       "min": -0.007000000216066837,
       "step": 0.001,
       "value": -0.007000000216066837
      }
     },
     "5a175e56d2d1478f9f62b73c469ad6cc": {
      "model_module": "jupyter-js-widgets",
      "model_module_version": "~2.1.4",
      "model_name": "LayoutModel",
      "state": {
       "_model_module_version": "~2.1.4",
       "_view_module_version": "~2.1.4"
      }
     },
     "5a3e276543e44646903787ff2b9158e4": {
      "model_module": "jupyter-js-widgets",
      "model_module_version": "~2.1.4",
      "model_name": "OutputModel",
      "state": {
       "_dom_classes": [],
       "_model_module": "jupyter-js-widgets",
       "_model_module_version": "~2.1.4",
       "_view_module": "jupyter-js-widgets",
       "_view_module_version": "~2.1.4",
       "layout": "IPY_MODEL_51f11599912245fdabb640a69282263b",
       "msg_throttle": 1
      }
     },
     "5a62c6f0d2de4035b293a1b10ffff348": {
      "model_module": "jupyter-js-widgets",
      "model_module_version": "~2.1.4",
      "model_name": "LayoutModel",
      "state": {
       "_model_module_version": "~2.1.4",
       "_view_module_version": "~2.1.4"
      }
     },
     "5a7fea6300bc4a8ab410767eb840057f": {
      "model_module": "jupyter-js-widgets",
      "model_module_version": "~2.1.4",
      "model_name": "LayoutModel",
      "state": {
       "_model_module_version": "~2.1.4",
       "_view_module_version": "~2.1.4"
      }
     },
     "5ac6eee6a3b844c8933363c1929e2846": {
      "model_module": "jupyter-js-widgets",
      "model_module_version": "~2.1.4",
      "model_name": "LayoutModel",
      "state": {
       "_model_module_version": "~2.1.4",
       "_view_module_version": "~2.1.4"
      }
     },
     "5b421bf3ebb2437598e0a42c5ff463e5": {
      "model_module": "jupyter-js-widgets",
      "model_module_version": "~2.1.4",
      "model_name": "LayoutModel",
      "state": {
       "_model_module_version": "~2.1.4",
       "_view_module_version": "~2.1.4"
      }
     },
     "5b7611458e4b4e17872cd3f75f505f1c": {
      "model_module": "jupyter-js-widgets",
      "model_module_version": "~2.1.4",
      "model_name": "SliderStyleModel",
      "state": {
       "_model_module_version": "~2.1.4",
       "_view_module_version": "~2.1.4"
      }
     },
     "5b7c3d25a41a4adeaedce8b861501661": {
      "model_module": "jupyter-js-widgets",
      "model_module_version": "~2.1.4",
      "model_name": "LayoutModel",
      "state": {
       "_model_module_version": "~2.1.4",
       "_view_module_version": "~2.1.4"
      }
     },
     "5b8c93726d2b46c38431b0fd0289166b": {
      "model_module": "jupyter-js-widgets",
      "model_module_version": "~2.1.4",
      "model_name": "VBoxModel",
      "state": {
       "_dom_classes": [
        "widget-interact"
       ],
       "_model_module_version": "~2.1.4",
       "_view_module_version": "~2.1.4",
       "children": [
        "IPY_MODEL_92228cfbbc634cfea85bb7c54b41f856",
        "IPY_MODEL_7c2668196bac47b2afb000bd6a33c3e1",
        "IPY_MODEL_e0b1095333654cc0affa6f02ae0afff3",
        "IPY_MODEL_89fe13002f37460faa0c4a89bf4b6d7f"
       ],
       "layout": "IPY_MODEL_b2cbdd9b07d0449a9301575f52d7f0ba"
      }
     },
     "5bad3c1a5bc64e709e0e7e018eec9036": {
      "model_module": "jupyter-js-widgets",
      "model_module_version": "~2.1.4",
      "model_name": "FloatSliderModel",
      "state": {
       "_model_module_version": "~2.1.4",
       "_view_module_version": "~2.1.4",
       "description": "vmax",
       "layout": "IPY_MODEL_6ab8ef92995547ff94cbdf225a937a2f",
       "max": 0.009999999776482582,
       "min": -0.004999999888241291,
       "step": 0.001,
       "value": 0.009999999776482582
      }
     },
     "5bf0ebb3f72f4346ac0f1bc5c6d41c08": {
      "model_module": "jupyter-js-widgets",
      "model_module_version": "~2.1.4",
      "model_name": "LayoutModel",
      "state": {
       "_model_module_version": "~2.1.4",
       "_view_module_version": "~2.1.4"
      }
     },
     "5c0c130742f04d07a6dd14f88392251d": {
      "model_module": "jupyter-js-widgets",
      "model_module_version": "~2.1.4",
      "model_name": "OutputModel",
      "state": {
       "_dom_classes": [],
       "_model_module": "jupyter-js-widgets",
       "_model_module_version": "~2.1.4",
       "_view_module": "jupyter-js-widgets",
       "_view_module_version": "~2.1.4",
       "layout": "IPY_MODEL_b174d3eb160d4cc6b3abe89e76e7a6c9",
       "msg_throttle": 1
      }
     },
     "5c1168fb10d5439d8120b5b9ae151782": {
      "model_module": "jupyter-js-widgets",
      "model_module_version": "~2.1.4",
      "model_name": "FloatSliderModel",
      "state": {
       "_model_module_version": "~2.1.4",
       "_view_module_version": "~2.1.4",
       "description": "vmax",
       "layout": "IPY_MODEL_659227693073454797d0b30c0d2ca054",
       "max": 0.015653500333428383,
       "min": -0.020783809944987297,
       "step": 0.001,
       "value": 0.01122
      }
     },
     "5c11763444ff4a708136bebd3319c16f": {
      "model_module": "jupyter-js-widgets",
      "model_module_version": "~2.1.4",
      "model_name": "LayoutModel",
      "state": {
       "_model_module_version": "~2.1.4",
       "_view_module_version": "~2.1.4"
      }
     },
     "5c235d2272c94f03926af0d2a345414c": {
      "model_module": "jupyter-js-widgets",
      "model_module_version": "~2.1.4",
      "model_name": "FloatSliderModel",
      "state": {
       "_model_module_version": "~2.1.4",
       "_view_module_version": "~2.1.4",
       "description": "vmax",
       "layout": "IPY_MODEL_f1645ad6b58c470492d10d11882428fe",
       "max": 1,
       "min": -1,
       "step": 0.1,
       "value": 1
      }
     },
     "5c25c57724e54a369a64de8335a45be3": {
      "model_module": "jupyter-js-widgets",
      "model_module_version": "~2.1.4",
      "model_name": "VBoxModel",
      "state": {
       "_dom_classes": [
        "widget-interact"
       ],
       "_model_module_version": "~2.1.4",
       "_view_module_version": "~2.1.4",
       "layout": "IPY_MODEL_61f4a3490bee4cd6be9e494bae884f72"
      }
     },
     "5c51650059b041d099798912cf0eef8e": {
      "model_module": "jupyter-js-widgets",
      "model_module_version": "~2.1.4",
      "model_name": "LayoutModel",
      "state": {
       "_model_module_version": "~2.1.4",
       "_view_module_version": "~2.1.4"
      }
     },
     "5c5b4a9c8b0d4134b5fa71d6676382e6": {
      "model_module": "jupyter-js-widgets",
      "model_module_version": "~2.1.4",
      "model_name": "LayoutModel",
      "state": {
       "_model_module_version": "~2.1.4",
       "_view_module_version": "~2.1.4"
      }
     },
     "5c7c5036b51f48d3aa8590fb5956fed9": {
      "model_module": "jupyter-js-widgets",
      "model_module_version": "~2.1.4",
      "model_name": "LayoutModel",
      "state": {
       "_model_module_version": "~2.1.4",
       "_view_module_version": "~2.1.4"
      }
     },
     "5d49a3b0e4e9409c93c8ece925bc84a0": {
      "model_module": "jupyter-js-widgets",
      "model_module_version": "~2.1.4",
      "model_name": "OutputModel",
      "state": {
       "_dom_classes": [],
       "_model_module": "jupyter-js-widgets",
       "_model_module_version": "~2.1.4",
       "_view_module": "jupyter-js-widgets",
       "_view_module_version": "~2.1.4",
       "layout": "IPY_MODEL_5087eaf6191541988ca06aa6a2cee484",
       "msg_throttle": 1
      }
     },
     "5de5bfa25d604c86b8b81cd17f3e70ae": {
      "model_module": "jupyter-js-widgets",
      "model_module_version": "~2.1.4",
      "model_name": "LayoutModel",
      "state": {
       "_model_module_version": "~2.1.4",
       "_view_module_version": "~2.1.4"
      }
     },
     "5e1959af52094efd9d4ed0508a560dae": {
      "model_module": "jupyter-js-widgets",
      "model_module_version": "~2.1.4",
      "model_name": "SliderStyleModel",
      "state": {
       "_model_module_version": "~2.1.4",
       "_view_module_version": "~2.1.4"
      }
     },
     "5e36eb241f6144c1af6ffb7162613b6c": {
      "model_module": "jupyter-js-widgets",
      "model_module_version": "~2.1.4",
      "model_name": "LayoutModel",
      "state": {
       "_model_module_version": "~2.1.4",
       "_view_module_version": "~2.1.4"
      }
     },
     "5e695f15131e4e54ae4cd894f12c5ecf": {
      "model_module": "jupyter-js-widgets",
      "model_module_version": "~2.1.4",
      "model_name": "LayoutModel",
      "state": {
       "_model_module_version": "~2.1.4",
       "_view_module_version": "~2.1.4"
      }
     },
     "5ea02fd4d9614af28d41011b464aba20": {
      "model_module": "jupyter-js-widgets",
      "model_module_version": "~2.1.4",
      "model_name": "SliderStyleModel",
      "state": {
       "_model_module_version": "~2.1.4",
       "_view_module_version": "~2.1.4"
      }
     },
     "5eaaf6f5c3d5460095fe446ac727ae37": {
      "model_module": "jupyter-js-widgets",
      "model_module_version": "~2.1.4",
      "model_name": "IntSliderModel",
      "state": {
       "_model_module_version": "~2.1.4",
       "_view_module_version": "~2.1.4",
       "description": "i",
       "layout": "IPY_MODEL_58f2cacfb7764c52bd63ff03a5aa16b1",
       "max": 800,
       "style": "IPY_MODEL_07f330eeb4fa446f86911908953ff63d"
      }
     },
     "5eb5df451e774afd9938f291697f2797": {
      "model_module": "jupyter-js-widgets",
      "model_module_version": "~2.1.4",
      "model_name": "SliderStyleModel",
      "state": {
       "_model_module_version": "~2.1.4",
       "_view_module_version": "~2.1.4"
      }
     },
     "5ef7afa996d64a9fa05cd781170eded1": {
      "model_module": "jupyter-js-widgets",
      "model_module_version": "~2.1.4",
      "model_name": "SliderStyleModel",
      "state": {
       "_model_module_version": "~2.1.4",
       "_view_module_version": "~2.1.4"
      }
     },
     "5f9ee7ebda46495c8f89447353da7b87": {
      "model_module": "jupyter-js-widgets",
      "model_module_version": "~2.1.4",
      "model_name": "FloatSliderModel",
      "state": {
       "_model_module_version": "~2.1.4",
       "_view_module_version": "~2.1.4",
       "description": "vmin",
       "layout": "IPY_MODEL_7b6421ddcf8749d5b097be54b49470d5",
       "max": 1,
       "min": -1,
       "step": 0.1,
       "value": -1
      }
     },
     "5fd9b017912a457ebffeb910ce1c9859": {
      "model_module": "jupyter-js-widgets",
      "model_module_version": "~2.1.4",
      "model_name": "LayoutModel",
      "state": {
       "_model_module_version": "~2.1.4",
       "_view_module_version": "~2.1.4"
      }
     },
     "5fe91e75de9b4e18a7bacc76ed545cf7": {
      "model_module": "jupyter-js-widgets",
      "model_module_version": "~2.1.4",
      "model_name": "LayoutModel",
      "state": {
       "_model_module_version": "~2.1.4",
       "_view_module_version": "~2.1.4"
      }
     },
     "6004f15e27154adeb317d0edeed86a45": {
      "model_module": "jupyter-js-widgets",
      "model_module_version": "~2.1.4",
      "model_name": "OutputModel",
      "state": {
       "_dom_classes": [],
       "_model_module": "jupyter-js-widgets",
       "_model_module_version": "~2.1.4",
       "_view_module": "jupyter-js-widgets",
       "_view_module_version": "~2.1.4",
       "layout": "IPY_MODEL_1752180fbec0419f9e5caec96fa4adac",
       "msg_throttle": 1
      }
     },
     "6032d3ffab5d4cfba80b6ec4b66966c6": {
      "model_module": "jupyter-js-widgets",
      "model_module_version": "~2.1.4",
      "model_name": "LayoutModel",
      "state": {
       "_model_module_version": "~2.1.4",
       "_view_module_version": "~2.1.4"
      }
     },
     "604242b5015b4efdb2960bc8342d2866": {
      "model_module": "jupyter-js-widgets",
      "model_module_version": "~2.1.4",
      "model_name": "SliderStyleModel",
      "state": {
       "_model_module_version": "~2.1.4",
       "_view_module_version": "~2.1.4"
      }
     },
     "606d2289b03942d9aa80156c264af8ff": {
      "model_module": "jupyter-js-widgets",
      "model_module_version": "~2.1.4",
      "model_name": "VBoxModel",
      "state": {
       "_dom_classes": [
        "widget-interact"
       ],
       "_model_module_version": "~2.1.4",
       "_view_module_version": "~2.1.4",
       "children": [
        "IPY_MODEL_9fdfaf20a9e44796a00b11d007be0228",
        "IPY_MODEL_0310c775be9a46ceb6c556ca77efbf43",
        "IPY_MODEL_5bad3c1a5bc64e709e0e7e018eec9036",
        "IPY_MODEL_027f0e1d1ca949a3a4461b9bc1119062"
       ],
       "layout": "IPY_MODEL_c448dc25bf2949e59cc6068b2f15a71e"
      }
     },
     "60b913cad82949d9b28ded6a5cb18b1d": {
      "model_module": "jupyter-js-widgets",
      "model_module_version": "~2.1.4",
      "model_name": "DropdownModel",
      "state": {
       "_model_module_version": "~2.1.4",
       "_options_labels": [
        "Projections",
        "Open beam images",
        "Dark images"
       ],
       "_view_module_version": "~2.1.4",
       "description": "ims",
       "layout": "IPY_MODEL_391799eabd3e43369fb95a30f0646f14",
       "value": "Projections"
      }
     },
     "615eed2ca4594be1ad4aea876e1795d2": {
      "model_module": "jupyter-js-widgets",
      "model_module_version": "~2.1.4",
      "model_name": "LayoutModel",
      "state": {
       "_model_module_version": "~2.1.4",
       "_view_module_version": "~2.1.4"
      }
     },
     "617c735344174b17abcea9f385ffc078": {
      "model_module": "jupyter-js-widgets",
      "model_module_version": "~2.1.4",
      "model_name": "OutputModel",
      "state": {
       "_dom_classes": [],
       "_model_module": "jupyter-js-widgets",
       "_model_module_version": "~2.1.4",
       "_view_module": "jupyter-js-widgets",
       "_view_module_version": "~2.1.4",
       "layout": "IPY_MODEL_479c0259f9a24f80924e046a77a49e10",
       "msg_throttle": 1
      }
     },
     "61b3b6779e704354b13219f6b02d45b9": {
      "model_module": "jupyter-js-widgets",
      "model_module_version": "~2.1.4",
      "model_name": "LayoutModel",
      "state": {
       "_model_module_version": "~2.1.4",
       "_view_module_version": "~2.1.4"
      }
     },
     "61d19dcb34f64135b0ec9baca10f230c": {
      "model_module": "jupyter-js-widgets",
      "model_module_version": "~2.1.4",
      "model_name": "LayoutModel",
      "state": {
       "_model_module_version": "~2.1.4",
       "_view_module_version": "~2.1.4"
      }
     },
     "61e96e3d3f1c47bb97bd3367166e5d09": {
      "model_module": "jupyter-js-widgets",
      "model_module_version": "~2.1.4",
      "model_name": "OutputModel",
      "state": {
       "_dom_classes": [],
       "_model_module": "jupyter-js-widgets",
       "_model_module_version": "~2.1.4",
       "_view_module": "jupyter-js-widgets",
       "_view_module_version": "~2.1.4",
       "layout": "IPY_MODEL_0ec63175315846bcae6938334b86e8b8",
       "msg_throttle": 1
      }
     },
     "61f4a3490bee4cd6be9e494bae884f72": {
      "model_module": "jupyter-js-widgets",
      "model_module_version": "~2.1.4",
      "model_name": "LayoutModel",
      "state": {
       "_model_module_version": "~2.1.4",
       "_view_module_version": "~2.1.4"
      }
     },
     "623cfb8b072045438d08c2ffebc904e4": {
      "model_module": "jupyter-js-widgets",
      "model_module_version": "~2.1.4",
      "model_name": "LayoutModel",
      "state": {
       "_model_module_version": "~2.1.4",
       "_view_module_version": "~2.1.4"
      }
     },
     "624da99c80494a3da3234975608c7f47": {
      "model_module": "jupyter-js-widgets",
      "model_module_version": "~2.1.4",
      "model_name": "VBoxModel",
      "state": {
       "_dom_classes": [
        "widget-interact"
       ],
       "_model_module_version": "~2.1.4",
       "_view_module_version": "~2.1.4",
       "children": [
        "IPY_MODEL_f8cda9b41feb470686b8d8529111b224",
        "IPY_MODEL_dccec6413fde42da93fe042144e9c3c7",
        "IPY_MODEL_ad8ac44c23904637a6e2d4fb6361495e",
        "IPY_MODEL_54c447bc411f49e491c33a76baa26e6d",
        "IPY_MODEL_38862e5bc22b4f7ab23a077329a186e6"
       ],
       "layout": "IPY_MODEL_d88a1e0cf1d5460eb251bcc6874b5e00"
      }
     },
     "62b6425c7c484e0ebfae02b00f01b884": {
      "model_module": "jupyter-js-widgets",
      "model_module_version": "~2.1.4",
      "model_name": "LayoutModel",
      "state": {
       "_model_module_version": "~2.1.4",
       "_view_module_version": "~2.1.4"
      }
     },
     "62fd61092fc04c72ae88ed1f621e0647": {
      "model_module": "jupyter-js-widgets",
      "model_module_version": "~2.1.4",
      "model_name": "IntSliderModel",
      "state": {
       "_model_module_version": "~2.1.4",
       "_view_module_version": "~2.1.4",
       "description": "i",
       "layout": "IPY_MODEL_b20ea9d44717428d9eb506331f012283",
       "max": 800,
       "style": "IPY_MODEL_1c0309f5d2ea4eb889a57134f145dc4f"
      }
     },
     "632414ed4b3d4a32905e896c9bfb3dad": {
      "model_module": "jupyter-js-widgets",
      "model_module_version": "~2.1.4",
      "model_name": "VBoxModel",
      "state": {
       "_dom_classes": [
        "widget-interact"
       ],
       "_model_module_version": "~2.1.4",
       "_view_module_version": "~2.1.4",
       "children": [
        "IPY_MODEL_0bfbedb626174553b58311377a2af13f",
        "IPY_MODEL_e6f2fdea18e94b54a1068e3805826a9c",
        "IPY_MODEL_3ad5194711694c908beb5ed752dd6eb4",
        "IPY_MODEL_064d7f035c2a461db41684febfdbd047",
        "IPY_MODEL_a51fa8495448493ca3004551b99ae32d"
       ],
       "layout": "IPY_MODEL_c13750f0d8784ca8957671094fad51a4"
      }
     },
     "6324b5c76c36451f8c27305420348d38": {
      "model_module": "jupyter-js-widgets",
      "model_module_version": "~2.1.4",
      "model_name": "LayoutModel",
      "state": {
       "_model_module_version": "~2.1.4",
       "_view_module_version": "~2.1.4"
      }
     },
     "633b5584300b4dc59dcffe0451230418": {
      "model_module": "jupyter-js-widgets",
      "model_module_version": "~2.1.4",
      "model_name": "LayoutModel",
      "state": {
       "_model_module_version": "~2.1.4",
       "_view_module_version": "~2.1.4"
      }
     },
     "637187a387fc489e980a8475a8457141": {
      "model_module": "jupyter-js-widgets",
      "model_module_version": "~2.1.4",
      "model_name": "IntSliderModel",
      "state": {
       "_model_module_version": "~2.1.4",
       "_view_module_version": "~2.1.4",
       "description": "vmax",
       "layout": "IPY_MODEL_ff5c766904d14a33ae6275ddd220d199",
       "max": 65535,
       "style": "IPY_MODEL_7cba0ed4fa6a49ba9e8dd89919219fc3",
       "value": 65535
      }
     },
     "6375552e66b045138930a40cad4f02a6": {
      "model_module": "jupyter-js-widgets",
      "model_module_version": "~2.1.4",
      "model_name": "VBoxModel",
      "state": {
       "_dom_classes": [
        "widget-interact"
       ],
       "_model_module_version": "~2.1.4",
       "_view_module_version": "~2.1.4",
       "children": [
        "IPY_MODEL_3f58bca62df04b8783dd19d4357c320d",
        "IPY_MODEL_1d3ea5fe345b4b158b14941a117cd44e",
        "IPY_MODEL_521af78f233f4ea49c827f83d8415582"
       ],
       "layout": "IPY_MODEL_f83706516c864f11b21ded900074f642"
      }
     },
     "64260e5c109b4cc6b35966ad7f3171b0": {
      "model_module": "jupyter-js-widgets",
      "model_module_version": "~2.1.4",
      "model_name": "LayoutModel",
      "state": {
       "_model_module_version": "~2.1.4",
       "_view_module_version": "~2.1.4"
      }
     },
     "642f619f411c43f8882f55b246db6dc4": {
      "model_module": "jupyter-js-widgets",
      "model_module_version": "~2.1.4",
      "model_name": "LayoutModel",
      "state": {
       "_model_module_version": "~2.1.4",
       "_view_module_version": "~2.1.4"
      }
     },
     "643d8194c4c143198a2c0a5a7e67c3ac": {
      "model_module": "jupyter-js-widgets",
      "model_module_version": "~2.1.4",
      "model_name": "LayoutModel",
      "state": {
       "_model_module_version": "~2.1.4",
       "_view_module_version": "~2.1.4"
      }
     },
     "645ed835deda4c33b318f2a3d14c9671": {
      "model_module": "jupyter-js-widgets",
      "model_module_version": "~2.1.4",
      "model_name": "LayoutModel",
      "state": {
       "_model_module_version": "~2.1.4",
       "_view_module_version": "~2.1.4"
      }
     },
     "6462e69cc198425b8394ddddb0823ea0": {
      "model_module": "jupyter-js-widgets",
      "model_module_version": "~2.1.4",
      "model_name": "LayoutModel",
      "state": {
       "_model_module_version": "~2.1.4",
       "_view_module_version": "~2.1.4"
      }
     },
     "64a2cd9801f14f22a0967acbce3919da": {
      "model_module": "jupyter-js-widgets",
      "model_module_version": "~2.1.4",
      "model_name": "FloatSliderModel",
      "state": {
       "_model_module_version": "~2.1.4",
       "_view_module_version": "~2.1.4",
       "description": "vmax",
       "layout": "IPY_MODEL_5de5bfa25d604c86b8b81cd17f3e70ae",
       "max": 0.009999999776482582,
       "min": -0.004999999888241291,
       "step": 0.001,
       "value": 0.009999999776482582
      }
     },
     "64ec6367b81e46ad80525919cc8fe6ee": {
      "model_module": "jupyter-js-widgets",
      "model_module_version": "~2.1.4",
      "model_name": "IntSliderModel",
      "state": {
       "_model_module_version": "~2.1.4",
       "_view_module_version": "~2.1.4",
       "description": "i",
       "layout": "IPY_MODEL_25b569464f894adfb1cb6947e9b8bb41",
       "max": 800,
       "style": "IPY_MODEL_55e4e0658f814197b3adb3964e2d685f"
      }
     },
     "6501bb5e284c4f658949f03d23ccbc40": {
      "model_module": "jupyter-js-widgets",
      "model_module_version": "~2.1.4",
      "model_name": "LayoutModel",
      "state": {
       "_model_module_version": "~2.1.4",
       "_view_module_version": "~2.1.4"
      }
     },
     "65430231e938493a8b96879ae77db05e": {
      "model_module": "jupyter-js-widgets",
      "model_module_version": "~2.1.4",
      "model_name": "LayoutModel",
      "state": {
       "_model_module_version": "~2.1.4",
       "_view_module_version": "~2.1.4"
      }
     },
     "659227693073454797d0b30c0d2ca054": {
      "model_module": "jupyter-js-widgets",
      "model_module_version": "~2.1.4",
      "model_name": "LayoutModel",
      "state": {
       "_model_module_version": "~2.1.4",
       "_view_module_version": "~2.1.4"
      }
     },
     "6597aecd304d44f7a5c37f0c57c9c920": {
      "model_module": "jupyter-js-widgets",
      "model_module_version": "~2.1.4",
      "model_name": "VBoxModel",
      "state": {
       "_dom_classes": [
        "widget-interact"
       ],
       "_model_module_version": "~2.1.4",
       "_view_module_version": "~2.1.4",
       "children": [
        "IPY_MODEL_b155bc99bd4644bcbdd5a8b50dcec64b",
        "IPY_MODEL_a9395c1bd8f74dd99713bff9fbb89f6b",
        "IPY_MODEL_b8b0fbc527df44d3ba5b456b29adcf22",
        "IPY_MODEL_b435f0b79f6f4ec59d357c0996b2d5ca",
        "IPY_MODEL_d7a91997127c4eda9f08e6abaa02acee"
       ],
       "layout": "IPY_MODEL_72889ea110a0483bbb6e28506d089168"
      }
     },
     "65981aa7e0f24245bccb470297f99c77": {
      "model_module": "jupyter-js-widgets",
      "model_module_version": "~2.1.4",
      "model_name": "IntSliderModel",
      "state": {
       "_model_module_version": "~2.1.4",
       "_view_module_version": "~2.1.4",
       "description": "vmin",
       "layout": "IPY_MODEL_cfe3d69ea9a34a3ba41dd09330ad35e1",
       "max": 65535,
       "style": "IPY_MODEL_cc96a07990f04524ab0e4dfdac0f1f10"
      }
     },
     "65cec3b462b64ed38e9d507dee0e6070": {
      "model_module": "jupyter-js-widgets",
      "model_module_version": "~2.1.4",
      "model_name": "SliderStyleModel",
      "state": {
       "_model_module_version": "~2.1.4",
       "_view_module_version": "~2.1.4"
      }
     },
     "660a06baedd1462a8287da976a7f03d6": {
      "model_module": "jupyter-js-widgets",
      "model_module_version": "~2.1.4",
      "model_name": "VBoxModel",
      "state": {
       "_dom_classes": [
        "widget-interact"
       ],
       "_model_module_version": "~2.1.4",
       "_view_module_version": "~2.1.4",
       "children": [
        "IPY_MODEL_b81544181fbf4b0eb051b72aa1098db9",
        "IPY_MODEL_4d2c5fad6be645ddbdd7e819e00b99cf",
        "IPY_MODEL_165623f213a546e4bd2ca80d87ce6c20",
        "IPY_MODEL_fbe7c49cad11418394297f2fa488dc85",
        "IPY_MODEL_b4719edf87b34a70b086769548464b11"
       ],
       "layout": "IPY_MODEL_b5cd42cb647c4727910e12ea006ea893"
      }
     },
     "661f85772ddd4754b3451e747e307641": {
      "model_module": "jupyter-js-widgets",
      "model_module_version": "~2.1.4",
      "model_name": "IntSliderModel",
      "state": {
       "_model_module_version": "~2.1.4",
       "_view_module_version": "~2.1.4",
       "description": "i",
       "layout": "IPY_MODEL_cda548ff3fdd434db66d5a1312b044c0",
       "max": 369,
       "style": "IPY_MODEL_6d89457c4d9c433eb42b08d516b64487",
       "value": 150
      }
     },
     "662d49d5ef4e4dca8cf4563ed487106b": {
      "model_module": "jupyter-js-widgets",
      "model_module_version": "~2.1.4",
      "model_name": "LayoutModel",
      "state": {
       "_model_module_version": "~2.1.4",
       "_view_module_version": "~2.1.4"
      }
     },
     "663416bd21fd4e9b8560376c8ea3a926": {
      "model_module": "jupyter-js-widgets",
      "model_module_version": "~2.1.4",
      "model_name": "IntSliderModel",
      "state": {
       "_model_module_version": "~2.1.4",
       "_view_module_version": "~2.1.4",
       "description": "vmax",
       "layout": "IPY_MODEL_e0dc556fc2e44736801aba4cfe97079f",
       "max": 65535,
       "style": "IPY_MODEL_1ea4659c43204a16b0e3011029900cfd",
       "value": 65535
      }
     },
     "6639557fa7c046009d6364447f7d4b22": {
      "model_module": "jupyter-js-widgets",
      "model_module_version": "~2.1.4",
      "model_name": "IntSliderModel",
      "state": {
       "_model_module_version": "~2.1.4",
       "_view_module_version": "~2.1.4",
       "description": "vmin",
       "layout": "IPY_MODEL_6b7a3918688249fc831d58e288ef6493",
       "max": 65535,
       "style": "IPY_MODEL_361e648efe5d4ba19b26047b79a45fcd"
      }
     },
     "66da13d47d4441618962664a67adf3f8": {
      "model_module": "jupyter-js-widgets",
      "model_module_version": "~2.1.4",
      "model_name": "LayoutModel",
      "state": {
       "_model_module_version": "~2.1.4",
       "_view_module_version": "~2.1.4"
      }
     },
     "66ec475ddf4449c3b776c21c9be8eb26": {
      "model_module": "jupyter-js-widgets",
      "model_module_version": "~2.1.4",
      "model_name": "VBoxModel",
      "state": {
       "_dom_classes": [
        "widget-interact"
       ],
       "_model_module_version": "~2.1.4",
       "_view_module_version": "~2.1.4",
       "children": [
        "IPY_MODEL_c43bf8c82bda4e54b8648353a42efe2b",
        "IPY_MODEL_f955df4f790d4ce2ab7c6c3cbf3102a8",
        "IPY_MODEL_bc2e42febb0e4717a10bc10e2d7ac457",
        "IPY_MODEL_cc5b5924e0f44e468fc6dd785a60144d"
       ],
       "layout": "IPY_MODEL_135897022b0a44919a5cc18694aa5f3a"
      }
     },
     "6709cd75951b451f9cfb6fbd02226935": {
      "model_module": "jupyter-js-widgets",
      "model_module_version": "~2.1.4",
      "model_name": "LayoutModel",
      "state": {
       "_model_module_version": "~2.1.4",
       "_view_module_version": "~2.1.4"
      }
     },
     "6725f8dc3880435c96cbe32ca46352f8": {
      "model_module": "jupyter-js-widgets",
      "model_module_version": "~2.1.4",
      "model_name": "SliderStyleModel",
      "state": {
       "_model_module_version": "~2.1.4",
       "_view_module_version": "~2.1.4"
      }
     },
     "6726b23f69b14b958fd9f7ccbd1f33e0": {
      "model_module": "jupyter-js-widgets",
      "model_module_version": "~2.1.4",
      "model_name": "IntSliderModel",
      "state": {
       "_model_module_version": "~2.1.4",
       "_view_module_version": "~2.1.4",
       "description": "i",
       "layout": "IPY_MODEL_dcc76d4d3f2d4caf8cd791df1bb91111",
       "max": 800,
       "style": "IPY_MODEL_9a3ba26cd61b4afbbfc713f1b1156361",
       "value": 97
      }
     },
     "674a1e9b6fe44409ab39dbcbe99624cc": {
      "model_module": "jupyter-js-widgets",
      "model_module_version": "~2.1.4",
      "model_name": "LayoutModel",
      "state": {
       "_model_module_version": "~2.1.4",
       "_view_module_version": "~2.1.4"
      }
     },
     "67526496e98d48e6a6a0f70782dfccf4": {
      "model_module": "jupyter-js-widgets",
      "model_module_version": "~2.1.4",
      "model_name": "IntSliderModel",
      "state": {
       "_model_module_version": "~2.1.4",
       "_view_module_version": "~2.1.4",
       "description": "vmax",
       "layout": "IPY_MODEL_e786fd68162a4531a55a755db581f54f",
       "max": 196605,
       "min": -65535,
       "style": "IPY_MODEL_b585ec43855e46d4bec8ebfbd491e240",
       "value": 65535
      }
     },
     "675f196d0b4d4055aeb74262b369f681": {
      "model_module": "jupyter-js-widgets",
      "model_module_version": "~2.1.4",
      "model_name": "FloatSliderModel",
      "state": {
       "_model_module_version": "~2.1.4",
       "_view_module_version": "~2.1.4",
       "description": "vmin",
       "layout": "IPY_MODEL_9bf8210cc83f4f96934a2810f19f238b",
       "max": 0.008999999612569809,
       "min": -0.0010000000474974513,
       "readout_format": ".3f",
       "step": 0.001,
       "value": -0.0010000000474974513
      }
     },
     "67632ed716134d019a020e1194338374": {
      "model_module": "jupyter-js-widgets",
      "model_module_version": "~2.1.4",
      "model_name": "IntSliderModel",
      "state": {
       "_model_module_version": "~2.1.4",
       "_view_module_version": "~2.1.4",
       "description": "i",
       "layout": "IPY_MODEL_a9644260ef9149e5bc7dc7b4ebc1fa94",
       "max": 800,
       "style": "IPY_MODEL_5ef7afa996d64a9fa05cd781170eded1"
      }
     },
     "676cf8a2f8ea40b1bb2b43ccf1491aaa": {
      "model_module": "jupyter-js-widgets",
      "model_module_version": "~2.1.4",
      "model_name": "LayoutModel",
      "state": {
       "_model_module_version": "~2.1.4",
       "_view_module_version": "~2.1.4"
      }
     },
     "678f6f28848c472fb2c9ff54175a82f0": {
      "model_module": "jupyter-js-widgets",
      "model_module_version": "~2.1.4",
      "model_name": "LayoutModel",
      "state": {
       "_model_module_version": "~2.1.4",
       "_view_module_version": "~2.1.4"
      }
     },
     "67ae9bd630ae4ba097124f1250622365": {
      "model_module": "jupyter-js-widgets",
      "model_module_version": "~2.1.4",
      "model_name": "VBoxModel",
      "state": {
       "_dom_classes": [
        "widget-interact"
       ],
       "_model_module_version": "~2.1.4",
       "_view_module_version": "~2.1.4",
       "children": [
        "IPY_MODEL_9951b6e5dfce4a3e84c0bda5e199867e",
        "IPY_MODEL_28598c78caa640f897b73f06ed7c21fe",
        "IPY_MODEL_e12b0f69b5394f5ba56634df5fbdd9c0",
        "IPY_MODEL_36a3a73c34cf435d81be0ebd27d9b26b"
       ],
       "layout": "IPY_MODEL_46bda2159dae4d4ab9c6159df4d5ac66"
      }
     },
     "6818cf2118ac4137802ebfcd12805e9b": {
      "model_module": "jupyter-js-widgets",
      "model_module_version": "~2.1.4",
      "model_name": "FloatSliderModel",
      "state": {
       "_model_module_version": "~2.1.4",
       "_view_module_version": "~2.1.4",
       "description": "vmin",
       "layout": "IPY_MODEL_20377a1dd7ad43cbbadf25263bc460e8",
       "max": 1,
       "step": 0.1
      }
     },
     "6837a80a9f7f4557b62f493589a47a37": {
      "model_module": "jupyter-js-widgets",
      "model_module_version": "~2.1.4",
      "model_name": "IntSliderModel",
      "state": {
       "_model_module_version": "~2.1.4",
       "_view_module_version": "~2.1.4",
       "description": "i",
       "layout": "IPY_MODEL_b0fdba2d8ca246de8ccbf8c9b91445e9",
       "max": 800,
       "style": "IPY_MODEL_501a12035e7a49ee8f59f3e1c71056f6"
      }
     },
     "6846a557206d426b8ca8319fe983cb4f": {
      "model_module": "jupyter-js-widgets",
      "model_module_version": "~2.1.4",
      "model_name": "SliderStyleModel",
      "state": {
       "_model_module_version": "~2.1.4",
       "_view_module_version": "~2.1.4"
      }
     },
     "6849b721343c42cd916a7062616ac31d": {
      "model_module": "jupyter-js-widgets",
      "model_module_version": "~2.1.4",
      "model_name": "LayoutModel",
      "state": {
       "_model_module_version": "~2.1.4",
       "_view_module_version": "~2.1.4"
      }
     },
     "6966501b22264017959525ea42bebbdd": {
      "model_module": "jupyter-js-widgets",
      "model_module_version": "~2.1.4",
      "model_name": "LayoutModel",
      "state": {
       "_model_module_version": "~2.1.4",
       "_view_module_version": "~2.1.4"
      }
     },
     "69a906a9a3fc468ea3cef4ad51f3b32a": {
      "model_module": "jupyter-js-widgets",
      "model_module_version": "~2.1.4",
      "model_name": "OutputModel",
      "state": {
       "_dom_classes": [],
       "_model_module": "jupyter-js-widgets",
       "_model_module_version": "~2.1.4",
       "_view_module": "jupyter-js-widgets",
       "_view_module_version": "~2.1.4",
       "layout": "IPY_MODEL_f24e90b8ea0b4ec4b94c49267ff965ca",
       "msg_throttle": 1
      }
     },
     "6a39aaf70fff4a4c82d83aa05f4e055a": {
      "model_module": "jupyter-js-widgets",
      "model_module_version": "~2.1.4",
      "model_name": "LayoutModel",
      "state": {
       "_model_module_version": "~2.1.4",
       "_view_module_version": "~2.1.4"
      }
     },
     "6a6384d6b9ef4e8098edeeea962e52e5": {
      "model_module": "jupyter-js-widgets",
      "model_module_version": "~2.1.4",
      "model_name": "LayoutModel",
      "state": {
       "_model_module_version": "~2.1.4",
       "_view_module_version": "~2.1.4"
      }
     },
     "6a9ab9b664f24dcebad05b7734b5cb8b": {
      "model_module": "jupyter-js-widgets",
      "model_module_version": "~2.1.4",
      "model_name": "LayoutModel",
      "state": {
       "_model_module_version": "~2.1.4",
       "_view_module_version": "~2.1.4"
      }
     },
     "6ab8ef92995547ff94cbdf225a937a2f": {
      "model_module": "jupyter-js-widgets",
      "model_module_version": "~2.1.4",
      "model_name": "LayoutModel",
      "state": {
       "_model_module_version": "~2.1.4",
       "_view_module_version": "~2.1.4"
      }
     },
     "6ae8d882b0e4426c8b6f5a8e19ea6415": {
      "model_module": "jupyter-js-widgets",
      "model_module_version": "~2.1.4",
      "model_name": "LayoutModel",
      "state": {
       "_model_module_version": "~2.1.4",
       "_view_module_version": "~2.1.4"
      }
     },
     "6affee628303411ca8b2ed0c412a638b": {
      "model_module": "jupyter-js-widgets",
      "model_module_version": "~2.1.4",
      "model_name": "SliderStyleModel",
      "state": {
       "_model_module_version": "~2.1.4",
       "_view_module_version": "~2.1.4"
      }
     },
     "6b7a3918688249fc831d58e288ef6493": {
      "model_module": "jupyter-js-widgets",
      "model_module_version": "~2.1.4",
      "model_name": "LayoutModel",
      "state": {
       "_model_module_version": "~2.1.4",
       "_view_module_version": "~2.1.4"
      }
     },
     "6b8b1d37035a464aa17942f4adad3650": {
      "model_module": "jupyter-js-widgets",
      "model_module_version": "~2.1.4",
      "model_name": "SliderStyleModel",
      "state": {
       "_model_module_version": "~2.1.4",
       "_view_module_version": "~2.1.4"
      }
     },
     "6ba47f0ac0704ae8b12b59b1aa2b2239": {
      "model_module": "jupyter-js-widgets",
      "model_module_version": "~2.1.4",
      "model_name": "LayoutModel",
      "state": {
       "_model_module_version": "~2.1.4",
       "_view_module_version": "~2.1.4"
      }
     },
     "6bf9ed34443645c0837ac669d5bf7b5b": {
      "model_module": "jupyter-js-widgets",
      "model_module_version": "~2.1.4",
      "model_name": "DropdownModel",
      "state": {
       "_model_module_version": "~2.1.4",
       "_options_labels": [
        "10",
        "100",
        "500",
        "1000"
       ],
       "_view_module_version": "~2.1.4",
       "description": "diff",
       "layout": "IPY_MODEL_e6ee14e8f390404ab4218c10a4f6ca71",
       "value": "1000"
      }
     },
     "6c13a5e2454a465087bb766528eb1d79": {
      "model_module": "jupyter-js-widgets",
      "model_module_version": "~2.1.4",
      "model_name": "IntSliderModel",
      "state": {
       "_model_module_version": "~2.1.4",
       "_view_module_version": "~2.1.4",
       "description": "i",
       "layout": "IPY_MODEL_d12eec57882b4cca8b26642ac5321bea",
       "max": 800,
       "style": "IPY_MODEL_6846a557206d426b8ca8319fe983cb4f"
      }
     },
     "6c612474442b405cabb4ec7218eab442": {
      "model_module": "jupyter-js-widgets",
      "model_module_version": "~2.1.4",
      "model_name": "LayoutModel",
      "state": {
       "_model_module_version": "~2.1.4",
       "_view_module_version": "~2.1.4"
      }
     },
     "6c79dd058ae24165aad07b7c30687b3a": {
      "model_module": "jupyter-js-widgets",
      "model_module_version": "~2.1.4",
      "model_name": "LayoutModel",
      "state": {
       "_model_module_version": "~2.1.4",
       "_view_module_version": "~2.1.4"
      }
     },
     "6c9edcb188794b19a11f1442871afe3f": {
      "model_module": "jupyter-js-widgets",
      "model_module_version": "~2.1.4",
      "model_name": "DropdownModel",
      "state": {
       "_model_module_version": "~2.1.4",
       "_options_labels": [
        "Projections",
        "Open beam images",
        "Dark images"
       ],
       "_view_module_version": "~2.1.4",
       "description": "ims",
       "layout": "IPY_MODEL_623cfb8b072045438d08c2ffebc904e4",
       "value": "Projections"
      }
     },
     "6ca8024caa0d42ba97a92b5a5ddd3226": {
      "model_module": "jupyter-js-widgets",
      "model_module_version": "~2.1.4",
      "model_name": "LayoutModel",
      "state": {
       "_model_module_version": "~2.1.4",
       "_view_module_version": "~2.1.4"
      }
     },
     "6cbe56841ff740d6a741514260ca3800": {
      "model_module": "jupyter-js-widgets",
      "model_module_version": "~2.1.4",
      "model_name": "IntSliderModel",
      "state": {
       "_model_module_version": "~2.1.4",
       "_view_module_version": "~2.1.4",
       "description": "vmin",
       "layout": "IPY_MODEL_3f5fb3db05054b5b9f697e401f699f47",
       "max": 65535,
       "style": "IPY_MODEL_b7d07fb348e5470494d5a998a9e2b210"
      }
     },
     "6ccf83c1d6db4b0aa7b76aa97c9516f7": {
      "model_module": "jupyter-js-widgets",
      "model_module_version": "~2.1.4",
      "model_name": "LayoutModel",
      "state": {
       "_model_module_version": "~2.1.4",
       "_view_module_version": "~2.1.4"
      }
     },
     "6d89457c4d9c433eb42b08d516b64487": {
      "model_module": "jupyter-js-widgets",
      "model_module_version": "~2.1.4",
      "model_name": "SliderStyleModel",
      "state": {
       "_model_module_version": "~2.1.4",
       "_view_module_version": "~2.1.4"
      }
     },
     "6db3d1e0d6e343eb82415f470b680bac": {
      "model_module": "jupyter-js-widgets",
      "model_module_version": "~2.1.4",
      "model_name": "IntSliderModel",
      "state": {
       "_model_module_version": "~2.1.4",
       "_view_module_version": "~2.1.4",
       "description": "i",
       "layout": "IPY_MODEL_959bb466e0a44d9db3814f2548c906b1",
       "max": 369,
       "style": "IPY_MODEL_864d06d92c9949708f5cf453efdd04d0",
       "value": 312
      }
     },
     "6e17d84cb61343e5bb429add2cd84180": {
      "model_module": "jupyter-js-widgets",
      "model_module_version": "~2.1.4",
      "model_name": "FloatSliderModel",
      "state": {
       "_model_module_version": "~2.1.4",
       "_view_module_version": "~2.1.4",
       "description": "vmax",
       "layout": "IPY_MODEL_e5e4b26d954d41cda51e6d8d46ecc53d",
       "max": 0.009999999776482582,
       "min": -0.007000000216066837,
       "step": 0.001,
       "value": 0.009999999776482582
      }
     },
     "6e506f0701124b30be002f36996f016d": {
      "model_module": "jupyter-js-widgets",
      "model_module_version": "~2.1.4",
      "model_name": "LayoutModel",
      "state": {
       "_model_module_version": "~2.1.4",
       "_view_module_version": "~2.1.4"
      }
     },
     "6e6904cdce2848c680bf3cb1a9ee789a": {
      "model_module": "jupyter-js-widgets",
      "model_module_version": "~2.1.4",
      "model_name": "LayoutModel",
      "state": {
       "_model_module_version": "~2.1.4",
       "_view_module_version": "~2.1.4"
      }
     },
     "6ea853ca40cd4465b7dd829904bcf28f": {
      "model_module": "jupyter-js-widgets",
      "model_module_version": "~2.1.4",
      "model_name": "LayoutModel",
      "state": {
       "_model_module_version": "~2.1.4",
       "_view_module_version": "~2.1.4"
      }
     },
     "6ed3e79133e344aea09904b2cdf906d6": {
      "model_module": "jupyter-js-widgets",
      "model_module_version": "~2.1.4",
      "model_name": "LayoutModel",
      "state": {
       "_model_module_version": "~2.1.4",
       "_view_module_version": "~2.1.4"
      }
     },
     "6f45334a3e22492e9d1c8ae348911c03": {
      "model_module": "jupyter-js-widgets",
      "model_module_version": "~2.1.4",
      "model_name": "LayoutModel",
      "state": {
       "_model_module_version": "~2.1.4",
       "_view_module_version": "~2.1.4"
      }
     },
     "6f4e35e65c6040a08fdd4e6d9ee29b94": {
      "model_module": "jupyter-js-widgets",
      "model_module_version": "~2.1.4",
      "model_name": "LayoutModel",
      "state": {
       "_model_module_version": "~2.1.4",
       "_view_module_version": "~2.1.4"
      }
     },
     "6f569ff6d1bd4efa903159bcdb2a6236": {
      "model_module": "jupyter-js-widgets",
      "model_module_version": "~2.1.4",
      "model_name": "LayoutModel",
      "state": {
       "_model_module_version": "~2.1.4",
       "_view_module_version": "~2.1.4"
      }
     },
     "6f79cfdf132843a49289fd810654432c": {
      "model_module": "jupyter-js-widgets",
      "model_module_version": "~2.1.4",
      "model_name": "FloatSliderModel",
      "state": {
       "_model_module_version": "~2.1.4",
       "_view_module_version": "~2.1.4",
       "description": "vmax",
       "layout": "IPY_MODEL_d1f5d379985942b29e96f006f5531c55",
       "max": 1.4,
       "step": 0.1,
       "value": 1.4
      }
     },
     "6f881bff1bb1415ab15a9231093b8e22": {
      "model_module": "jupyter-js-widgets",
      "model_module_version": "~2.1.4",
      "model_name": "LayoutModel",
      "state": {
       "_model_module_version": "~2.1.4",
       "_view_module_version": "~2.1.4"
      }
     },
     "6fac86f8dbbd41aeb138feb47442117e": {
      "model_module": "jupyter-js-widgets",
      "model_module_version": "~2.1.4",
      "model_name": "SliderStyleModel",
      "state": {
       "_model_module_version": "~2.1.4",
       "_view_module_version": "~2.1.4"
      }
     },
     "6fd9881d715140c48668207ee73d4a6b": {
      "model_module": "jupyter-js-widgets",
      "model_module_version": "~2.1.4",
      "model_name": "LayoutModel",
      "state": {
       "_model_module_version": "~2.1.4",
       "_view_module_version": "~2.1.4"
      }
     },
     "6fef860fb6d94ae8b6836df3b9f7a926": {
      "model_module": "jupyter-js-widgets",
      "model_module_version": "~2.1.4",
      "model_name": "VBoxModel",
      "state": {
       "_dom_classes": [
        "widget-interact"
       ],
       "_model_module_version": "~2.1.4",
       "_view_module_version": "~2.1.4",
       "children": [
        "IPY_MODEL_661f85772ddd4754b3451e747e307641",
        "IPY_MODEL_0c7fa7b87dd04541804a3206c408957d",
        "IPY_MODEL_0deb21e70bb74430be7e1491851202fe",
        "IPY_MODEL_d83aeb2f29c74f7194dc8e792fba22a4"
       ],
       "layout": "IPY_MODEL_9b836578f19441caa3d36c8f400cd970"
      }
     },
     "703ee7b286d34fed85e40a37ec8a4ceb": {
      "model_module": "jupyter-js-widgets",
      "model_module_version": "~2.1.4",
      "model_name": "LayoutModel",
      "state": {
       "_model_module_version": "~2.1.4",
       "_view_module_version": "~2.1.4"
      }
     },
     "7043874f96f84808b374041baf1b7fff": {
      "model_module": "jupyter-js-widgets",
      "model_module_version": "~2.1.4",
      "model_name": "LayoutModel",
      "state": {
       "_model_module_version": "~2.1.4",
       "_view_module_version": "~2.1.4"
      }
     },
     "70875e05e4cb467c8fa2aff45ce289c3": {
      "model_module": "jupyter-js-widgets",
      "model_module_version": "~2.1.4",
      "model_name": "LayoutModel",
      "state": {
       "_model_module_version": "~2.1.4",
       "_view_module_version": "~2.1.4"
      }
     },
     "708dd96405314d559316db27d949fd93": {
      "model_module": "jupyter-js-widgets",
      "model_module_version": "~2.1.4",
      "model_name": "LayoutModel",
      "state": {
       "_model_module_version": "~2.1.4",
       "_view_module_version": "~2.1.4"
      }
     },
     "70d5430f8a114b7981b29fb0773e17c1": {
      "model_module": "jupyter-js-widgets",
      "model_module_version": "~2.1.4",
      "model_name": "LayoutModel",
      "state": {
       "_model_module_version": "~2.1.4",
       "_view_module_version": "~2.1.4"
      }
     },
     "70dc0d4a16844e0785671520ca2ad99a": {
      "model_module": "jupyter-js-widgets",
      "model_module_version": "~2.1.4",
      "model_name": "IntSliderModel",
      "state": {
       "_model_module_version": "~2.1.4",
       "_view_module_version": "~2.1.4",
       "description": "vmax",
       "layout": "IPY_MODEL_bceaa03126314a21bdf158d4fe5703ac",
       "max": 65535,
       "style": "IPY_MODEL_e961123fc5994bb7872670a5e69287b5",
       "value": 65535
      }
     },
     "710f4f84aa6d448db89a37b1d42033ad": {
      "model_module": "jupyter-js-widgets",
      "model_module_version": "~2.1.4",
      "model_name": "DropdownModel",
      "state": {
       "_model_module_version": "~2.1.4",
       "_options_labels": [
        "3",
        "5",
        "7"
       ],
       "_view_module_version": "~2.1.4",
       "description": "size",
       "layout": "IPY_MODEL_8f74636f1e0e49c095bfbed80a6961da",
       "value": "3"
      }
     },
     "71745693dc5d4c4a99984ee9d53a87aa": {
      "model_module": "jupyter-js-widgets",
      "model_module_version": "~2.1.4",
      "model_name": "LayoutModel",
      "state": {
       "_model_module_version": "~2.1.4",
       "_view_module_version": "~2.1.4"
      }
     },
     "721c83cf1feb41d488232455ffbb864e": {
      "model_module": "jupyter-js-widgets",
      "model_module_version": "~2.1.4",
      "model_name": "LayoutModel",
      "state": {
       "_model_module_version": "~2.1.4",
       "_view_module_version": "~2.1.4"
      }
     },
     "7226bc2e5c224653bb955d4cb6c01344": {
      "model_module": "jupyter-js-widgets",
      "model_module_version": "~2.1.4",
      "model_name": "LayoutModel",
      "state": {
       "_model_module_version": "~2.1.4",
       "_view_module_version": "~2.1.4"
      }
     },
     "725604c9bcb442368a5d4b581329b59e": {
      "model_module": "jupyter-js-widgets",
      "model_module_version": "~2.1.4",
      "model_name": "LayoutModel",
      "state": {
       "_model_module_version": "~2.1.4",
       "_view_module_version": "~2.1.4"
      }
     },
     "726f55502b3a4f27aa26641697ff9d12": {
      "model_module": "jupyter-js-widgets",
      "model_module_version": "~2.1.4",
      "model_name": "LayoutModel",
      "state": {
       "_model_module_version": "~2.1.4",
       "_view_module_version": "~2.1.4"
      }
     },
     "7284f23af436483e82224f4ecc068dbb": {
      "model_module": "jupyter-js-widgets",
      "model_module_version": "~2.1.4",
      "model_name": "LayoutModel",
      "state": {
       "_model_module_version": "~2.1.4",
       "_view_module_version": "~2.1.4"
      }
     },
     "72889ea110a0483bbb6e28506d089168": {
      "model_module": "jupyter-js-widgets",
      "model_module_version": "~2.1.4",
      "model_name": "LayoutModel",
      "state": {
       "_model_module_version": "~2.1.4",
       "_view_module_version": "~2.1.4"
      }
     },
     "72a1212d690b431589970ab6dae6a818": {
      "model_module": "jupyter-js-widgets",
      "model_module_version": "~2.1.4",
      "model_name": "IntSliderModel",
      "state": {
       "_model_module_version": "~2.1.4",
       "_view_module_version": "~2.1.4",
       "description": "vmin",
       "layout": "IPY_MODEL_2c532c747b5446f697d0ebda8269ba55",
       "max": 65535,
       "style": "IPY_MODEL_467d4bcea0cf4e94b24330ef613cc3e2"
      }
     },
     "72c0bd9c6d154313bc6172520c44eb8c": {
      "model_module": "jupyter-js-widgets",
      "model_module_version": "~2.1.4",
      "model_name": "DropdownModel",
      "state": {
       "_model_module_version": "~2.1.4",
       "_options_labels": [
        "3",
        "5",
        "7"
       ],
       "_view_module_version": "~2.1.4",
       "description": "size",
       "layout": "IPY_MODEL_7226bc2e5c224653bb955d4cb6c01344",
       "value": "3"
      }
     },
     "72c1fe3f05be48fa9b584773ebaede27": {
      "model_module": "jupyter-js-widgets",
      "model_module_version": "~2.1.4",
      "model_name": "IntSliderModel",
      "state": {
       "_model_module_version": "~2.1.4",
       "_view_module_version": "~2.1.4",
       "description": "vmin",
       "layout": "IPY_MODEL_88186722c8c64ddbb137e1cbaa90b70d",
       "max": 65535,
       "style": "IPY_MODEL_c5f48f9a2dc0499eaf41c64503ab1e67"
      }
     },
     "730fcdaff0d04756a13d5cde179b4950": {
      "model_module": "jupyter-js-widgets",
      "model_module_version": "~2.1.4",
      "model_name": "OutputModel",
      "state": {
       "_dom_classes": [],
       "_model_module": "jupyter-js-widgets",
       "_model_module_version": "~2.1.4",
       "_view_module": "jupyter-js-widgets",
       "_view_module_version": "~2.1.4",
       "layout": "IPY_MODEL_615eed2ca4594be1ad4aea876e1795d2",
       "msg_throttle": 1
      }
     },
     "736b3cd5b1cd4d2eb170953099c6bc92": {
      "model_module": "jupyter-js-widgets",
      "model_module_version": "~2.1.4",
      "model_name": "DropdownModel",
      "state": {
       "_model_module_version": "~2.1.4",
       "_options_labels": [
        "10",
        "100",
        "500",
        "1000"
       ],
       "_view_module_version": "~2.1.4",
       "description": "diff",
       "layout": "IPY_MODEL_0c35c730a62c47408abcd2aad487728c",
       "value": "1000"
      }
     },
     "745136cd70814b0faef088d628f2421f": {
      "model_module": "jupyter-js-widgets",
      "model_module_version": "~2.1.4",
      "model_name": "LayoutModel",
      "state": {
       "_model_module_version": "~2.1.4",
       "_view_module_version": "~2.1.4"
      }
     },
     "748113ce56d944e78fbd1f0416b9f8c6": {
      "model_module": "jupyter-js-widgets",
      "model_module_version": "~2.1.4",
      "model_name": "SliderStyleModel",
      "state": {
       "_model_module_version": "~2.1.4",
       "_view_module_version": "~2.1.4"
      }
     },
     "74cbe454eab94a81add91584bc4b02d2": {
      "model_module": "jupyter-js-widgets",
      "model_module_version": "~2.1.4",
      "model_name": "IntSliderModel",
      "state": {
       "_model_module_version": "~2.1.4",
       "_view_module_version": "~2.1.4",
       "description": "i",
       "layout": "IPY_MODEL_5c7c5036b51f48d3aa8590fb5956fed9",
       "max": 600,
       "min": -200,
       "style": "IPY_MODEL_41d9284e43944999b4b62db8f282b901",
       "value": 102
      }
     },
     "74e4fc51c4b74ff1a1b15a1ef232387b": {
      "model_module": "jupyter-js-widgets",
      "model_module_version": "~2.1.4",
      "model_name": "FloatSliderModel",
      "state": {
       "_model_module_version": "~2.1.4",
       "_view_module_version": "~2.1.4",
       "description": "vmin",
       "layout": "IPY_MODEL_d4fab5c18ca64c76a4a1eb3be36ebc55",
       "max": 0.03,
       "min": -0.09,
       "step": 0.1,
       "value": -0.03
      }
     },
     "751d7d61f41341e0a47ce0e914765a08": {
      "model_module": "jupyter-js-widgets",
      "model_module_version": "~2.1.4",
      "model_name": "OutputModel",
      "state": {
       "_dom_classes": [],
       "_model_module": "jupyter-js-widgets",
       "_model_module_version": "~2.1.4",
       "_view_module": "jupyter-js-widgets",
       "_view_module_version": "~2.1.4",
       "layout": "IPY_MODEL_703ee7b286d34fed85e40a37ec8a4ceb",
       "msg_throttle": 1
      }
     },
     "7573115040f74de0afe48496232dc88a": {
      "model_module": "jupyter-js-widgets",
      "model_module_version": "~2.1.4",
      "model_name": "OutputModel",
      "state": {
       "_dom_classes": [],
       "_model_module": "jupyter-js-widgets",
       "_model_module_version": "~2.1.4",
       "_view_module": "jupyter-js-widgets",
       "_view_module_version": "~2.1.4",
       "layout": "IPY_MODEL_32a1bb6b946d4e6b9174fb6c3f081b4b",
       "msg_throttle": 1
      }
     },
     "75a8ddf8af964105836c282c7ddf4e00": {
      "model_module": "jupyter-js-widgets",
      "model_module_version": "~2.1.4",
      "model_name": "LayoutModel",
      "state": {
       "_model_module_version": "~2.1.4",
       "_view_module_version": "~2.1.4"
      }
     },
     "75cea502ec4847eeb6878129097adb69": {
      "model_module": "jupyter-js-widgets",
      "model_module_version": "~2.1.4",
      "model_name": "LayoutModel",
      "state": {
       "_model_module_version": "~2.1.4",
       "_view_module_version": "~2.1.4"
      }
     },
     "75e1f667d4b241d38357da9cc6d30bb9": {
      "model_module": "jupyter-js-widgets",
      "model_module_version": "~2.1.4",
      "model_name": "LayoutModel",
      "state": {
       "_model_module_version": "~2.1.4",
       "_view_module_version": "~2.1.4"
      }
     },
     "75e99f5ac0d44784b9e5a71c81ba2cf5": {
      "model_module": "jupyter-js-widgets",
      "model_module_version": "~2.1.4",
      "model_name": "FloatSliderModel",
      "state": {
       "_model_module_version": "~2.1.4",
       "_view_module_version": "~2.1.4",
       "description": "vmax",
       "layout": "IPY_MODEL_b1b04bc420bd4e8c94995cceb1928bc3",
       "max": 1,
       "step": 0.1,
       "value": 1
      }
     },
     "75ec1a648d8a4f7187292d4ceb9e9432": {
      "model_module": "jupyter-js-widgets",
      "model_module_version": "~2.1.4",
      "model_name": "IntSliderModel",
      "state": {
       "_model_module_version": "~2.1.4",
       "_view_module_version": "~2.1.4",
       "description": "i",
       "layout": "IPY_MODEL_da2d52724d2d400f93612d2a832af961",
       "max": 369,
       "style": "IPY_MODEL_3181102284d74eebac559decc6c917e3",
       "value": 150
      }
     },
     "75fd76cae21149e8843ae905d49fb154": {
      "model_module": "jupyter-js-widgets",
      "model_module_version": "~2.1.4",
      "model_name": "DropdownModel",
      "state": {
       "_model_module_version": "~2.1.4",
       "_options_labels": [
        "10",
        "100",
        "500",
        "1000"
       ],
       "_view_module_version": "~2.1.4",
       "description": "diff",
       "layout": "IPY_MODEL_275b30e240534295ba1e86a7425802ec",
       "value": "500"
      }
     },
     "76370756d9f04867b2d5fcb129d3c44f": {
      "model_module": "jupyter-js-widgets",
      "model_module_version": "~2.1.4",
      "model_name": "LayoutModel",
      "state": {
       "_model_module_version": "~2.1.4",
       "_view_module_version": "~2.1.4"
      }
     },
     "7662e8d4e2124333b49959ee8a65c7d0": {
      "model_module": "jupyter-js-widgets",
      "model_module_version": "~2.1.4",
      "model_name": "VBoxModel",
      "state": {
       "_dom_classes": [
        "widget-interact"
       ],
       "_model_module_version": "~2.1.4",
       "_view_module_version": "~2.1.4",
       "children": [
        "IPY_MODEL_9306558ccec9434b9feb37715fd423ae",
        "IPY_MODEL_e2f73c30bde84140913db0c3fd234dea",
        "IPY_MODEL_b79c0c695b064ad593c1eb69aa0f63cb",
        "IPY_MODEL_49da4f0af41d4613b98d2d28cfb4220d"
       ],
       "layout": "IPY_MODEL_95d2481dc4e1403ea0b431092323e472"
      }
     },
     "7663eed97be84aeca4c9a8845bd2bcab": {
      "model_module": "jupyter-js-widgets",
      "model_module_version": "~2.1.4",
      "model_name": "LayoutModel",
      "state": {
       "_model_module_version": "~2.1.4",
       "_view_module_version": "~2.1.4"
      }
     },
     "76b83eb530e1454a8aa14ddc2066a7cc": {
      "model_module": "jupyter-js-widgets",
      "model_module_version": "~2.1.4",
      "model_name": "VBoxModel",
      "state": {
       "_dom_classes": [
        "widget-interact"
       ],
       "_model_module_version": "~2.1.4",
       "_view_module_version": "~2.1.4",
       "layout": "IPY_MODEL_a0de2516898a49b18cf57ef22ab2a1b3"
      }
     },
     "76c22410d06d4a61ab6fb8c330529676": {
      "model_module": "jupyter-js-widgets",
      "model_module_version": "~2.1.4",
      "model_name": "FloatSliderModel",
      "state": {
       "_model_module_version": "~2.1.4",
       "_view_module_version": "~2.1.4",
       "description": "vmax",
       "layout": "IPY_MODEL_70d5430f8a114b7981b29fb0773e17c1",
       "max": 0.015653500333428383,
       "min": -0.020783809944987297,
       "step": 0.1,
       "value": 0.015653500333428383
      }
     },
     "76dcb96fd52f4c62bd29b45110b78769": {
      "model_module": "jupyter-js-widgets",
      "model_module_version": "~2.1.4",
      "model_name": "SliderStyleModel",
      "state": {
       "_model_module_version": "~2.1.4",
       "_view_module_version": "~2.1.4"
      }
     },
     "76fc0995f8f146eab4cf1b8b4568b9b6": {
      "model_module": "jupyter-js-widgets",
      "model_module_version": "~2.1.4",
      "model_name": "DropdownModel",
      "state": {
       "_model_module_version": "~2.1.4",
       "_options_labels": [
        "Projections",
        "Open beam images",
        "Dark images"
       ],
       "_view_module_version": "~2.1.4",
       "description": "ims",
       "layout": "IPY_MODEL_969e0f2681d249afb9fff938a824f529",
       "value": "Projections"
      }
     },
     "774efedf0caf499aa5b8f5bc103c655c": {
      "model_module": "jupyter-js-widgets",
      "model_module_version": "~2.1.4",
      "model_name": "IntSliderModel",
      "state": {
       "_model_module_version": "~2.1.4",
       "_view_module_version": "~2.1.4",
       "description": "vmax",
       "layout": "IPY_MODEL_333b30dd86e545c68d4b8a1b8d4825ae",
       "max": 65535,
       "style": "IPY_MODEL_a860867520b5459595da9a582d56a5af",
       "value": 65535
      }
     },
     "7775b541bc1b42c6b3bc0c155b7d9be1": {
      "model_module": "jupyter-js-widgets",
      "model_module_version": "~2.1.4",
      "model_name": "SliderStyleModel",
      "state": {
       "_model_module_version": "~2.1.4",
       "_view_module_version": "~2.1.4"
      }
     },
     "77b6d87ab95249a0891fe9d65c26a979": {
      "model_module": "jupyter-js-widgets",
      "model_module_version": "~2.1.4",
      "model_name": "SliderStyleModel",
      "state": {
       "_model_module_version": "~2.1.4",
       "_view_module_version": "~2.1.4"
      }
     },
     "77bf0aa436e34a668302a34778919288": {
      "model_module": "jupyter-js-widgets",
      "model_module_version": "~2.1.4",
      "model_name": "LayoutModel",
      "state": {
       "_model_module_version": "~2.1.4",
       "_view_module_version": "~2.1.4"
      }
     },
     "77e2dac2a9d24751ad926b689a661d6b": {
      "model_module": "jupyter-js-widgets",
      "model_module_version": "~2.1.4",
      "model_name": "VBoxModel",
      "state": {
       "_dom_classes": [
        "widget-interact"
       ],
       "_model_module_version": "~2.1.4",
       "_view_module_version": "~2.1.4",
       "children": [
        "IPY_MODEL_a205fecd50b24a8ba491a478eb759ae5",
        "IPY_MODEL_2b5f9750b1514890ae3420fb41bfef23",
        "IPY_MODEL_97d66b160b684bfb88a5ed3e9c021b4a",
        "IPY_MODEL_730fcdaff0d04756a13d5cde179b4950"
       ],
       "layout": "IPY_MODEL_f6ee0615b6be4ee4be63ab8aba281de5"
      }
     },
     "77e31d4e61f246be9d570ac8c8fe4eab": {
      "model_module": "jupyter-js-widgets",
      "model_module_version": "~2.1.4",
      "model_name": "SliderStyleModel",
      "state": {
       "_model_module_version": "~2.1.4",
       "_view_module_version": "~2.1.4"
      }
     },
     "77e4300d78d54e02a1b3ba74e6da541f": {
      "model_module": "jupyter-js-widgets",
      "model_module_version": "~2.1.4",
      "model_name": "SliderStyleModel",
      "state": {
       "_model_module_version": "~2.1.4",
       "_view_module_version": "~2.1.4"
      }
     },
     "786ac57a8de74ae1b95e851f44aa48b4": {
      "model_module": "jupyter-js-widgets",
      "model_module_version": "~2.1.4",
      "model_name": "LayoutModel",
      "state": {
       "_model_module_version": "~2.1.4",
       "_view_module_version": "~2.1.4"
      }
     },
     "78ad15ae45754b6d8dc109e11be38d37": {
      "model_module": "jupyter-js-widgets",
      "model_module_version": "~2.1.4",
      "model_name": "VBoxModel",
      "state": {
       "_dom_classes": [
        "widget-interact"
       ],
       "_model_module_version": "~2.1.4",
       "_view_module_version": "~2.1.4",
       "children": [
        "IPY_MODEL_1bad7f1566b243b0a0f0012345925ec6",
        "IPY_MODEL_28d225dd99fc4153b50c2bdee5fbd476",
        "IPY_MODEL_5c1168fb10d5439d8120b5b9ae151782",
        "IPY_MODEL_6004f15e27154adeb317d0edeed86a45"
       ],
       "layout": "IPY_MODEL_b6c964c4b67a41dcaba84c4b52e7f891"
      }
     },
     "78f0c728d88940fc92366f28bdd68917": {
      "model_module": "jupyter-js-widgets",
      "model_module_version": "~2.1.4",
      "model_name": "DropdownModel",
      "state": {
       "_model_module_version": "~2.1.4",
       "_options_labels": [
        "Projections",
        "Open beam images",
        "Dark images"
       ],
       "_view_module_version": "~2.1.4",
       "description": "ims",
       "layout": "IPY_MODEL_deda82c0711446ba8f898c017030c456",
       "value": "Projections"
      }
     },
     "790331cf31c14c80a9f04beae181fa1d": {
      "model_module": "jupyter-js-widgets",
      "model_module_version": "~2.1.4",
      "model_name": "FloatSliderModel",
      "state": {
       "_model_module_version": "~2.1.4",
       "_view_module_version": "~2.1.4",
       "description": "vmin",
       "layout": "IPY_MODEL_f8c3df37b7974b7aa7b344ffc375ab21",
       "max": 0.03,
       "min": -0.09,
       "step": 0.1,
       "value": -0.03
      }
     },
     "791f4c5cf00f4774b6488eacadae907f": {
      "model_module": "jupyter-js-widgets",
      "model_module_version": "~2.1.4",
      "model_name": "LayoutModel",
      "state": {
       "_model_module_version": "~2.1.4",
       "_view_module_version": "~2.1.4"
      }
     },
     "7950ca760a7642fa8d55d70510d3c768": {
      "model_module": "jupyter-js-widgets",
      "model_module_version": "~2.1.4",
      "model_name": "LayoutModel",
      "state": {
       "_model_module_version": "~2.1.4",
       "_view_module_version": "~2.1.4"
      }
     },
     "79a00c8912d64f3abe4c0b0a39530742": {
      "model_module": "jupyter-js-widgets",
      "model_module_version": "~2.1.4",
      "model_name": "LayoutModel",
      "state": {
       "_model_module_version": "~2.1.4",
       "_view_module_version": "~2.1.4"
      }
     },
     "79c0326fa36540cd98c86079562eaf8b": {
      "model_module": "jupyter-js-widgets",
      "model_module_version": "~2.1.4",
      "model_name": "IntSliderModel",
      "state": {
       "_model_module_version": "~2.1.4",
       "_view_module_version": "~2.1.4",
       "description": "vmin",
       "layout": "IPY_MODEL_8c66f8246a054c8c85acf0248954b0da",
       "max": 65535,
       "style": "IPY_MODEL_581a40571f224198b4c7f67dd197c8c8"
      }
     },
     "79fdef4ac3314e83aeee77388c7a8b34": {
      "model_module": "jupyter-js-widgets",
      "model_module_version": "~2.1.4",
      "model_name": "IntSliderModel",
      "state": {
       "_model_module_version": "~2.1.4",
       "_view_module_version": "~2.1.4",
       "description": "i",
       "layout": "IPY_MODEL_da274c71c70a47d781aac3a217fc49c4",
       "max": 800,
       "style": "IPY_MODEL_fa2ec9ab7327471999e1bb4dd9a82675",
       "value": 585
      }
     },
     "7a60ccb3dd0e493aa842e862c36ca137": {
      "model_module": "jupyter-js-widgets",
      "model_module_version": "~2.1.4",
      "model_name": "LayoutModel",
      "state": {
       "_model_module_version": "~2.1.4",
       "_view_module_version": "~2.1.4"
      }
     },
     "7ab1082c1c6b41b68a9f8bbd165d669e": {
      "model_module": "jupyter-js-widgets",
      "model_module_version": "~2.1.4",
      "model_name": "DropdownModel",
      "state": {
       "_model_module_version": "~2.1.4",
       "_options_labels": [
        "Projections",
        "Open beam images",
        "Dark images"
       ],
       "_view_module_version": "~2.1.4",
       "layout": "IPY_MODEL_b4838f3897ee410a938ab78d929d25cd",
       "value": "Projections"
      }
     },
     "7ae7f230d0514a3cb50187838cd803e7": {
      "model_module": "jupyter-js-widgets",
      "model_module_version": "~2.1.4",
      "model_name": "SliderStyleModel",
      "state": {
       "_model_module_version": "~2.1.4",
       "_view_module_version": "~2.1.4"
      }
     },
     "7b35c627972145db9040689955a3f71a": {
      "model_module": "jupyter-js-widgets",
      "model_module_version": "~2.1.4",
      "model_name": "SliderStyleModel",
      "state": {
       "_model_module_version": "~2.1.4",
       "_view_module_version": "~2.1.4"
      }
     },
     "7b37654f80004c5d8a99f7fdd6b0dbdb": {
      "model_module": "jupyter-js-widgets",
      "model_module_version": "~2.1.4",
      "model_name": "FloatSliderModel",
      "state": {
       "_model_module_version": "~2.1.4",
       "_view_module_version": "~2.1.4",
       "description": "vmax",
       "layout": "IPY_MODEL_d94080a435264988ab28b1014c1dd0e7",
       "max": 1,
       "step": 0.1,
       "value": 1
      }
     },
     "7b6421ddcf8749d5b097be54b49470d5": {
      "model_module": "jupyter-js-widgets",
      "model_module_version": "~2.1.4",
      "model_name": "LayoutModel",
      "state": {
       "_model_module_version": "~2.1.4",
       "_view_module_version": "~2.1.4"
      }
     },
     "7bfeb01d618940729af2c65484d75544": {
      "model_module": "jupyter-js-widgets",
      "model_module_version": "~2.1.4",
      "model_name": "SliderStyleModel",
      "state": {
       "_model_module_version": "~2.1.4",
       "_view_module_version": "~2.1.4"
      }
     },
     "7c2668196bac47b2afb000bd6a33c3e1": {
      "model_module": "jupyter-js-widgets",
      "model_module_version": "~2.1.4",
      "model_name": "FloatSliderModel",
      "state": {
       "_model_module_version": "~2.1.4",
       "_view_module_version": "~2.1.4",
       "description": "vmin",
       "layout": "IPY_MODEL_ba1aa0d24c734c59857d6de59578433f",
       "max": 0.009999999776482582,
       "min": 0,
       "step": 0.001
      }
     },
     "7c36da732ad74883a712c81e62b52b97": {
      "model_module": "jupyter-js-widgets",
      "model_module_version": "~2.1.4",
      "model_name": "OutputModel",
      "state": {
       "_dom_classes": [],
       "_model_module": "jupyter-js-widgets",
       "_model_module_version": "~2.1.4",
       "_view_module": "jupyter-js-widgets",
       "_view_module_version": "~2.1.4",
       "layout": "IPY_MODEL_f178e393bbfd4e5e965eb4f1dd92304e",
       "msg_throttle": 1
      }
     },
     "7c44f5fe78814f8a8c8fc469873546cf": {
      "model_module": "jupyter-js-widgets",
      "model_module_version": "~2.1.4",
      "model_name": "VBoxModel",
      "state": {
       "_dom_classes": [
        "widget-interact"
       ],
       "_model_module_version": "~2.1.4",
       "_view_module_version": "~2.1.4",
       "layout": "IPY_MODEL_b049ff60ce894c35b2f41efe22aa112a"
      }
     },
     "7c9b8e891eca4aa09204b44e42e263eb": {
      "model_module": "jupyter-js-widgets",
      "model_module_version": "~2.1.4",
      "model_name": "DropdownModel",
      "state": {
       "_model_module_version": "~2.1.4",
       "_options_labels": [
        "3",
        "5",
        "7"
       ],
       "_view_module_version": "~2.1.4",
       "description": "size",
       "layout": "IPY_MODEL_5351ba85a4624102aaec5dd016339d20",
       "value": "3"
      }
     },
     "7cba0ed4fa6a49ba9e8dd89919219fc3": {
      "model_module": "jupyter-js-widgets",
      "model_module_version": "~2.1.4",
      "model_name": "SliderStyleModel",
      "state": {
       "_model_module_version": "~2.1.4",
       "_view_module_version": "~2.1.4"
      }
     },
     "7ccd314d7b23480bbca6480f707d4f59": {
      "model_module": "jupyter-js-widgets",
      "model_module_version": "~2.1.4",
      "model_name": "FloatSliderModel",
      "state": {
       "_model_module_version": "~2.1.4",
       "_view_module_version": "~2.1.4",
       "description": "vmax",
       "layout": "IPY_MODEL_aca99ce98cef4bfd899c9cc469cb7dfb",
       "max": 0.009999999776482582,
       "min": 0,
       "step": 0.001,
       "value": 0.009999999776482582
      }
     },
     "7cd4080a206c4f1194e30e2c3bc4f95c": {
      "model_module": "jupyter-js-widgets",
      "model_module_version": "~2.1.4",
      "model_name": "LayoutModel",
      "state": {
       "_model_module_version": "~2.1.4",
       "_view_module_version": "~2.1.4"
      }
     },
     "7ceb46d601914d498bb40aeaed33593e": {
      "model_module": "jupyter-js-widgets",
      "model_module_version": "~2.1.4",
      "model_name": "IntSliderModel",
      "state": {
       "_model_module_version": "~2.1.4",
       "_view_module_version": "~2.1.4",
       "description": "vmax",
       "layout": "IPY_MODEL_d5cfa20cb583462e98f5d18a4dfb0e9c",
       "max": 65535,
       "style": "IPY_MODEL_2be7c74032264665bc3c875e44ccee46",
       "value": 65535
      }
     },
     "7d4b69a159c6430d9bdf5147cbd3382d": {
      "model_module": "jupyter-js-widgets",
      "model_module_version": "~2.1.4",
      "model_name": "LayoutModel",
      "state": {
       "_model_module_version": "~2.1.4",
       "_view_module_version": "~2.1.4"
      }
     },
     "7d5c99b4bfc144d79aff4ffd65bbaea3": {
      "model_module": "jupyter-js-widgets",
      "model_module_version": "~2.1.4",
      "model_name": "LayoutModel",
      "state": {
       "_model_module_version": "~2.1.4",
       "_view_module_version": "~2.1.4"
      }
     },
     "7dc908b4c0c9441695d3fa8d971f44e4": {
      "model_module": "jupyter-js-widgets",
      "model_module_version": "~2.1.4",
      "model_name": "FloatSliderModel",
      "state": {
       "_model_module_version": "~2.1.4",
       "_view_module_version": "~2.1.4",
       "description": "vmin",
       "layout": "IPY_MODEL_c18bea9b1a28433499f49e7bf3ccfd1c",
       "max": 1,
       "step": 0.1
      }
     },
     "7e44207f7d8d4d18b029bf093a6f06cb": {
      "model_module": "jupyter-js-widgets",
      "model_module_version": "~2.1.4",
      "model_name": "FloatSliderModel",
      "state": {
       "_model_module_version": "~2.1.4",
       "_view_module_version": "~2.1.4",
       "description": "vmax",
       "layout": "IPY_MODEL_25ebc3151be441bb9e134c07aa3adacd",
       "max": 0.009999999776482582,
       "min": -0.004999999888241291,
       "step": 0.001,
       "value": 0.009999999776482582
      }
     },
     "7e4c8914e2f84021acfd67fc7997c3a5": {
      "model_module": "jupyter-js-widgets",
      "model_module_version": "~2.1.4",
      "model_name": "VBoxModel",
      "state": {
       "_dom_classes": [
        "widget-interact"
       ],
       "_model_module_version": "~2.1.4",
       "_view_module_version": "~2.1.4",
       "children": [
        "IPY_MODEL_d2be6d297b1c492183d684d62e9df9bc",
        "IPY_MODEL_a37327c672a148a38221f37dd56f3333",
        "IPY_MODEL_b2333f2ca458478f82f527fca58b2784"
       ],
       "layout": "IPY_MODEL_91ac0c7d1b8945de8b0ce32adb4fdce5"
      }
     },
     "7eb17a0167754dd69172834241957abd": {
      "model_module": "jupyter-js-widgets",
      "model_module_version": "~2.1.4",
      "model_name": "SliderStyleModel",
      "state": {
       "_model_module_version": "~2.1.4",
       "_view_module_version": "~2.1.4"
      }
     },
     "7ec987cf50894bf8b495138fdb521b1e": {
      "model_module": "jupyter-js-widgets",
      "model_module_version": "~2.1.4",
      "model_name": "LayoutModel",
      "state": {
       "_model_module_version": "~2.1.4",
       "_view_module_version": "~2.1.4"
      }
     },
     "7f21b3e20eb848b2bf95e402faa85303": {
      "model_module": "jupyter-js-widgets",
      "model_module_version": "~2.1.4",
      "model_name": "LayoutModel",
      "state": {
       "_model_module_version": "~2.1.4",
       "_view_module_version": "~2.1.4"
      }
     },
     "7f6d46678ee84b9c970cfefc0c90000e": {
      "model_module": "jupyter-js-widgets",
      "model_module_version": "~2.1.4",
      "model_name": "LayoutModel",
      "state": {
       "_model_module_version": "~2.1.4",
       "_view_module_version": "~2.1.4"
      }
     },
     "7f80f986aed44176a52af2c84635dc63": {
      "model_module": "jupyter-js-widgets",
      "model_module_version": "~2.1.4",
      "model_name": "IntSliderModel",
      "state": {
       "_model_module_version": "~2.1.4",
       "_view_module_version": "~2.1.4",
       "description": "vmax",
       "layout": "IPY_MODEL_3d30d91ee7a44e7b94b30aeaa35a8515",
       "max": 65535,
       "style": "IPY_MODEL_df9874db921b4bf780761b66d210dfd6",
       "value": 65535
      }
     },
     "804bf62d3b9744df91890db7ed004713": {
      "model_module": "jupyter-js-widgets",
      "model_module_version": "~2.1.4",
      "model_name": "LayoutModel",
      "state": {
       "_model_module_version": "~2.1.4",
       "_view_module_version": "~2.1.4"
      }
     },
     "80627349d8de448fa4489fc84e92543d": {
      "model_module": "jupyter-js-widgets",
      "model_module_version": "~2.1.4",
      "model_name": "LayoutModel",
      "state": {
       "_model_module_version": "~2.1.4",
       "_view_module_version": "~2.1.4"
      }
     },
     "814c00112c034a5c9520585b100bde9c": {
      "model_module": "jupyter-js-widgets",
      "model_module_version": "~2.1.4",
      "model_name": "OutputModel",
      "state": {
       "_dom_classes": [],
       "_model_module": "jupyter-js-widgets",
       "_model_module_version": "~2.1.4",
       "_view_module": "jupyter-js-widgets",
       "_view_module_version": "~2.1.4",
       "layout": "IPY_MODEL_98095a57638d472abf7a4bb20d448c7a",
       "msg_throttle": 1
      }
     },
     "81915a394c42438bb8bac32e9f13295c": {
      "model_module": "jupyter-js-widgets",
      "model_module_version": "~2.1.4",
      "model_name": "LayoutModel",
      "state": {
       "_model_module_version": "~2.1.4",
       "_view_module_version": "~2.1.4"
      }
     },
     "8197d65dc380453fa7e21158dccd0daf": {
      "model_module": "jupyter-js-widgets",
      "model_module_version": "~2.1.4",
      "model_name": "LayoutModel",
      "state": {
       "_model_module_version": "~2.1.4",
       "_view_module_version": "~2.1.4"
      }
     },
     "81df0e93b7cd40d0b263dfaa5330cf70": {
      "model_module": "jupyter-js-widgets",
      "model_module_version": "~2.1.4",
      "model_name": "LayoutModel",
      "state": {
       "_model_module_version": "~2.1.4",
       "_view_module_version": "~2.1.4"
      }
     },
     "81fb1f94dd7c42f2b5c3842670d5b3a1": {
      "model_module": "jupyter-js-widgets",
      "model_module_version": "~2.1.4",
      "model_name": "VBoxModel",
      "state": {
       "_dom_classes": [
        "widget-interact"
       ],
       "_model_module_version": "~2.1.4",
       "_view_module_version": "~2.1.4",
       "children": [
        "IPY_MODEL_531e5bd1e33a43ada998cfaa1eda0f63",
        "IPY_MODEL_d0395a4fa69b42ed8c7bf53745f9ae46",
        "IPY_MODEL_6e17d84cb61343e5bb429add2cd84180",
        "IPY_MODEL_22ef691ff6d6411282dba8fa94f40a23"
       ],
       "layout": "IPY_MODEL_a5a84e4957a8450c945f55ea88a9a988"
      }
     },
     "81fc217a16464a468a54cc1ffee50bb8": {
      "model_module": "jupyter-js-widgets",
      "model_module_version": "~2.1.4",
      "model_name": "LayoutModel",
      "state": {
       "_model_module_version": "~2.1.4",
       "_view_module_version": "~2.1.4"
      }
     },
     "82fab683b6104282a5a8e7768b3da9bb": {
      "model_module": "jupyter-js-widgets",
      "model_module_version": "~2.1.4",
      "model_name": "IntSliderModel",
      "state": {
       "_model_module_version": "~2.1.4",
       "_view_module_version": "~2.1.4",
       "description": "i",
       "layout": "IPY_MODEL_b2a2a970c522486ba69d8c7e59dc7424",
       "max": 800,
       "style": "IPY_MODEL_1832c6f74e724ad5b8027da47f6037aa",
       "value": 350
      }
     },
     "83ea64083ecf463787510b1d7cd08345": {
      "model_module": "jupyter-js-widgets",
      "model_module_version": "~2.1.4",
      "model_name": "DropdownModel",
      "state": {
       "_model_module_version": "~2.1.4",
       "_options_labels": [
        "Projections",
        "Open beam images",
        "Dark images"
       ],
       "_view_module_version": "~2.1.4",
       "description": "ims",
       "layout": "IPY_MODEL_7d4b69a159c6430d9bdf5147cbd3382d",
       "value": "Open beam images"
      }
     },
     "840c234cfa444110bed898e3ee5c8f6c": {
      "model_module": "jupyter-js-widgets",
      "model_module_version": "~2.1.4",
      "model_name": "FloatSliderModel",
      "state": {
       "_model_module_version": "~2.1.4",
       "_view_module_version": "~2.1.4",
       "description": "vmax",
       "layout": "IPY_MODEL_c5efee8488734b538f3bd7ea04ee88a3",
       "max": 0.009999999776482582,
       "min": -0.004999999888241291,
       "step": 0.001,
       "value": 0.009999999776482582
      }
     },
     "84694719e9f34b878df81764da4669e7": {
      "model_module": "jupyter-js-widgets",
      "model_module_version": "~2.1.4",
      "model_name": "OutputModel",
      "state": {
       "_dom_classes": [],
       "_model_module": "jupyter-js-widgets",
       "_model_module_version": "~2.1.4",
       "_view_module": "jupyter-js-widgets",
       "_view_module_version": "~2.1.4",
       "layout": "IPY_MODEL_4fd1e751eb5b4ebbb37818804b07e9e2",
       "msg_throttle": 1
      }
     },
     "847cba517f474328a49c8366c5b5bb8c": {
      "model_module": "jupyter-js-widgets",
      "model_module_version": "~2.1.4",
      "model_name": "LayoutModel",
      "state": {
       "_model_module_version": "~2.1.4",
       "_view_module_version": "~2.1.4"
      }
     },
     "84b5adb853084b9798d5d33a06b2db64": {
      "model_module": "jupyter-js-widgets",
      "model_module_version": "~2.1.4",
      "model_name": "LayoutModel",
      "state": {
       "_model_module_version": "~2.1.4",
       "_view_module_version": "~2.1.4"
      }
     },
     "850aae5265564fc5ac4ca6c943bdbd8b": {
      "model_module": "jupyter-js-widgets",
      "model_module_version": "~2.1.4",
      "model_name": "LayoutModel",
      "state": {
       "_model_module_version": "~2.1.4",
       "_view_module_version": "~2.1.4"
      }
     },
     "8512c488b2764abc979efaf4474674dc": {
      "model_module": "jupyter-js-widgets",
      "model_module_version": "~2.1.4",
      "model_name": "LayoutModel",
      "state": {
       "_model_module_version": "~2.1.4",
       "_view_module_version": "~2.1.4"
      }
     },
     "855a34f046a6444486abf43eca26a24d": {
      "model_module": "jupyter-js-widgets",
      "model_module_version": "~2.1.4",
      "model_name": "VBoxModel",
      "state": {
       "_dom_classes": [
        "widget-interact"
       ],
       "_model_module_version": "~2.1.4",
       "_view_module_version": "~2.1.4",
       "children": [
        "IPY_MODEL_97b6162488674e7b95a4ac3e123b5e90",
        "IPY_MODEL_2eace96e9c8a4b6ea5b5139bcab6ee3c",
        "IPY_MODEL_c9986f430b6a403d8f0fc9660f35c858",
        "IPY_MODEL_c1a7166efde440de874413a8f9f5538e",
        "IPY_MODEL_d9aab57848254a18b574c9c17132f18a"
       ],
       "layout": "IPY_MODEL_64260e5c109b4cc6b35966ad7f3171b0"
      }
     },
     "85d84adb2ea945c7b6274fb24e140032": {
      "model_module": "jupyter-js-widgets",
      "model_module_version": "~2.1.4",
      "model_name": "VBoxModel",
      "state": {
       "_dom_classes": [
        "widget-interact"
       ],
       "_model_module_version": "~2.1.4",
       "_view_module_version": "~2.1.4",
       "children": [
        "IPY_MODEL_c94d257b5378413cb08b9180589f4cd9",
        "IPY_MODEL_d05463d5e56b4b88b65cb1c50e8e0e3e",
        "IPY_MODEL_10295a8639dc4ab0b5f1e81ae9d3a1cb",
        "IPY_MODEL_bb8b6b112ae540fc80e949fc6c7bacff"
       ],
       "layout": "IPY_MODEL_db210198adcb496c922cfcf7d7baa6ad"
      }
     },
     "85f5718965774da08945fa049e07b561": {
      "model_module": "jupyter-js-widgets",
      "model_module_version": "~2.1.4",
      "model_name": "FloatSliderModel",
      "state": {
       "_model_module_version": "~2.1.4",
       "_view_module_version": "~2.1.4",
       "description": "vmax",
       "layout": "IPY_MODEL_1571a72d848c40db9ccf1f4a8d3fbba7",
       "max": 0.015653500333428383,
       "min": -0.020783809944987297,
       "step": 0.001,
       "value": 0.015216190055012707
      }
     },
     "862f5ae7b28540dd8ac3b89285289e49": {
      "model_module": "jupyter-js-widgets",
      "model_module_version": "~2.1.4",
      "model_name": "LayoutModel",
      "state": {
       "_model_module_version": "~2.1.4",
       "_view_module_version": "~2.1.4"
      }
     },
     "864d06d92c9949708f5cf453efdd04d0": {
      "model_module": "jupyter-js-widgets",
      "model_module_version": "~2.1.4",
      "model_name": "SliderStyleModel",
      "state": {
       "_model_module_version": "~2.1.4",
       "_view_module_version": "~2.1.4"
      }
     },
     "8676cf1ebd4f4eafaf35bad40ead8a02": {
      "model_module": "jupyter-js-widgets",
      "model_module_version": "~2.1.4",
      "model_name": "IntSliderModel",
      "state": {
       "_model_module_version": "~2.1.4",
       "_view_module_version": "~2.1.4",
       "description": "vmax",
       "layout": "IPY_MODEL_c795c9843052471682e89087f3caa53d",
       "max": 65535,
       "style": "IPY_MODEL_5788574bd18a453799588c0f2bccdea0",
       "value": 51311
      }
     },
     "86eba644cd714f278fe34170f00085d1": {
      "model_module": "jupyter-js-widgets",
      "model_module_version": "~2.1.4",
      "model_name": "IntSliderModel",
      "state": {
       "_model_module_version": "~2.1.4",
       "_view_module_version": "~2.1.4",
       "description": "i",
       "layout": "IPY_MODEL_298df941f7554284bc3dad47d7ea2186",
       "max": 800,
       "style": "IPY_MODEL_5eb5df451e774afd9938f291697f2797"
      }
     },
     "874ced8e2ef44bea848055ba14c1e053": {
      "model_module": "jupyter-js-widgets",
      "model_module_version": "~2.1.4",
      "model_name": "DropdownModel",
      "state": {
       "_model_module_version": "~2.1.4",
       "_options_labels": [
        "3",
        "5",
        "7"
       ],
       "_view_module_version": "~2.1.4",
       "description": "size",
       "layout": "IPY_MODEL_189b8db0a94748d9b6cb6dd6a5cbbe69",
       "value": "3"
      }
     },
     "875d368d04ca4d70b422452852c3a195": {
      "model_module": "jupyter-js-widgets",
      "model_module_version": "~2.1.4",
      "model_name": "LayoutModel",
      "state": {
       "_model_module_version": "~2.1.4",
       "_view_module_version": "~2.1.4"
      }
     },
     "87f8baf760db41758ad561e3ec924951": {
      "model_module": "jupyter-js-widgets",
      "model_module_version": "~2.1.4",
      "model_name": "LayoutModel",
      "state": {
       "_model_module_version": "~2.1.4",
       "_view_module_version": "~2.1.4"
      }
     },
     "88186722c8c64ddbb137e1cbaa90b70d": {
      "model_module": "jupyter-js-widgets",
      "model_module_version": "~2.1.4",
      "model_name": "LayoutModel",
      "state": {
       "_model_module_version": "~2.1.4",
       "_view_module_version": "~2.1.4"
      }
     },
     "881980471eed4b8fac7a082f0a2e9521": {
      "model_module": "jupyter-js-widgets",
      "model_module_version": "~2.1.4",
      "model_name": "SliderStyleModel",
      "state": {
       "_model_module_version": "~2.1.4",
       "_view_module_version": "~2.1.4"
      }
     },
     "8819af2d583d4bf3bd52cf36f65a4882": {
      "model_module": "jupyter-js-widgets",
      "model_module_version": "~2.1.4",
      "model_name": "LayoutModel",
      "state": {
       "_model_module_version": "~2.1.4",
       "_view_module_version": "~2.1.4"
      }
     },
     "8826f9f9bfae4d6fa7c7ed3eeff70730": {
      "model_module": "jupyter-js-widgets",
      "model_module_version": "~2.1.4",
      "model_name": "LayoutModel",
      "state": {
       "_model_module_version": "~2.1.4",
       "_view_module_version": "~2.1.4"
      }
     },
     "88319bd76753421cad33598e6b4e00d3": {
      "model_module": "jupyter-js-widgets",
      "model_module_version": "~2.1.4",
      "model_name": "DropdownModel",
      "state": {
       "_model_module_version": "~2.1.4",
       "_options_labels": [
        "3",
        "5",
        "7"
       ],
       "_view_module_version": "~2.1.4",
       "description": "size",
       "layout": "IPY_MODEL_163db811f6c84f5d902f972734a1cca0",
       "value": "3"
      }
     },
     "883ca4a2da4d4e9eb09c0f97ebf04ed2": {
      "model_module": "jupyter-js-widgets",
      "model_module_version": "~2.1.4",
      "model_name": "IntSliderModel",
      "state": {
       "_model_module_version": "~2.1.4",
       "_view_module_version": "~2.1.4",
       "description": "i",
       "layout": "IPY_MODEL_bdfe2ab22525496eaa4c556bddad1ab3",
       "max": 369,
       "style": "IPY_MODEL_65cec3b462b64ed38e9d507dee0e6070",
       "value": 150
      }
     },
     "884b2eac4fe245b28439653d286db3c0": {
      "model_module": "jupyter-js-widgets",
      "model_module_version": "~2.1.4",
      "model_name": "LayoutModel",
      "state": {
       "_model_module_version": "~2.1.4",
       "_view_module_version": "~2.1.4"
      }
     },
     "89f412d8ffef471f980736dc26e06310": {
      "model_module": "jupyter-js-widgets",
      "model_module_version": "~2.1.4",
      "model_name": "SliderStyleModel",
      "state": {
       "_model_module_version": "~2.1.4",
       "_view_module_version": "~2.1.4"
      }
     },
     "89fe13002f37460faa0c4a89bf4b6d7f": {
      "model_module": "jupyter-js-widgets",
      "model_module_version": "~2.1.4",
      "model_name": "OutputModel",
      "state": {
       "_dom_classes": [],
       "_model_module": "jupyter-js-widgets",
       "_model_module_version": "~2.1.4",
       "_view_module": "jupyter-js-widgets",
       "_view_module_version": "~2.1.4",
       "layout": "IPY_MODEL_633b5584300b4dc59dcffe0451230418",
       "msg_throttle": 1
      }
     },
     "89ff1788968e4d47b881d27b68dda3a1": {
      "model_module": "jupyter-js-widgets",
      "model_module_version": "~2.1.4",
      "model_name": "FloatSliderModel",
      "state": {
       "_model_module_version": "~2.1.4",
       "_view_module_version": "~2.1.4",
       "description": "vmax",
       "layout": "IPY_MODEL_299eea3b323b4feaba4666631093e4c2",
       "max": 0.078,
       "min": -0.026,
       "step": 0.1,
       "value": 0.026
      }
     },
     "8a072204b59441c1818afcb5b1f9e79c": {
      "model_module": "jupyter-js-widgets",
      "model_module_version": "~2.1.4",
      "model_name": "SliderStyleModel",
      "state": {
       "_model_module_version": "~2.1.4",
       "_view_module_version": "~2.1.4"
      }
     },
     "8a0ac01d30d741819f77563cfeb4f776": {
      "model_module": "jupyter-js-widgets",
      "model_module_version": "~2.1.4",
      "model_name": "VBoxModel",
      "state": {
       "_dom_classes": [
        "widget-interact"
       ],
       "_model_module_version": "~2.1.4",
       "_view_module_version": "~2.1.4",
       "children": [
        "IPY_MODEL_c1cef3df4870493da2643bcb76452ea5",
        "IPY_MODEL_56c8d118c5dc4bcb8572108be1b03e1f",
        "IPY_MODEL_58d2bdda904840a5b515a50335f56f6d"
       ],
       "layout": "IPY_MODEL_1feb132a7e3349228f0c573f7d148c35"
      }
     },
     "8a1570af0a4848a2a0335b6ec7733a9a": {
      "model_module": "jupyter-js-widgets",
      "model_module_version": "~2.1.4",
      "model_name": "LayoutModel",
      "state": {
       "_model_module_version": "~2.1.4",
       "_view_module_version": "~2.1.4"
      }
     },
     "8a6f23bde0a3419f8eaae0f947facdcf": {
      "model_module": "jupyter-js-widgets",
      "model_module_version": "~2.1.4",
      "model_name": "IntSliderModel",
      "state": {
       "_model_module_version": "~2.1.4",
       "_view_module_version": "~2.1.4",
       "description": "i",
       "layout": "IPY_MODEL_fd53c157eb3543e8af67b85cbaa6fd2c",
       "max": 369,
       "style": "IPY_MODEL_77e31d4e61f246be9d570ac8c8fe4eab",
       "value": 150
      }
     },
     "8a891f38e5c74a57b364ba85d47e9432": {
      "model_module": "jupyter-js-widgets",
      "model_module_version": "~2.1.4",
      "model_name": "SliderStyleModel",
      "state": {
       "_model_module_version": "~2.1.4",
       "_view_module_version": "~2.1.4"
      }
     },
     "8a9784052e264e2181ba8c99b56b5faa": {
      "model_module": "jupyter-js-widgets",
      "model_module_version": "~2.1.4",
      "model_name": "LayoutModel",
      "state": {
       "_model_module_version": "~2.1.4",
       "_view_module_version": "~2.1.4"
      }
     },
     "8b225d8d9b0d4b69bd35fdb7bbd79769": {
      "model_module": "jupyter-js-widgets",
      "model_module_version": "~2.1.4",
      "model_name": "LayoutModel",
      "state": {
       "_model_module_version": "~2.1.4",
       "_view_module_version": "~2.1.4"
      }
     },
     "8b47dbd4b1d64d1a95b252f79774c2ac": {
      "model_module": "jupyter-js-widgets",
      "model_module_version": "~2.1.4",
      "model_name": "VBoxModel",
      "state": {
       "_dom_classes": [
        "widget-interact"
       ],
       "_model_module_version": "~2.1.4",
       "_view_module_version": "~2.1.4",
       "children": [
        "IPY_MODEL_2686691a35ad41899795075fbb4d40de",
        "IPY_MODEL_3907ecdd5eed4b2298c96d056d9e3f83",
        "IPY_MODEL_3ee8f0fca770407dbfce0c2678b5f3e7",
        "IPY_MODEL_51ab1b9a3ad84549bc32e9fb6e329932"
       ],
       "layout": "IPY_MODEL_00b01f85e5244e239e282fe1ff9e18ea"
      }
     },
     "8b69d21b0ab943b58ffca05623554109": {
      "model_module": "jupyter-js-widgets",
      "model_module_version": "~2.1.4",
      "model_name": "LayoutModel",
      "state": {
       "_model_module_version": "~2.1.4",
       "_view_module_version": "~2.1.4"
      }
     },
     "8b78ec43ec2748e9a5295ab6dd6e3b36": {
      "model_module": "jupyter-js-widgets",
      "model_module_version": "~2.1.4",
      "model_name": "LayoutModel",
      "state": {
       "_model_module_version": "~2.1.4",
       "_view_module_version": "~2.1.4"
      }
     },
     "8b93a10b85e64b5ebc4ae4e3ffd73874": {
      "model_module": "jupyter-js-widgets",
      "model_module_version": "~2.1.4",
      "model_name": "LayoutModel",
      "state": {
       "_model_module_version": "~2.1.4",
       "_view_module_version": "~2.1.4"
      }
     },
     "8ba5c4919df34181ad0b021288cb6cb5": {
      "model_module": "jupyter-js-widgets",
      "model_module_version": "~2.1.4",
      "model_name": "LayoutModel",
      "state": {
       "_model_module_version": "~2.1.4",
       "_view_module_version": "~2.1.4"
      }
     },
     "8bc772b4a33d419b8dc836cb4047360e": {
      "model_module": "jupyter-js-widgets",
      "model_module_version": "~2.1.4",
      "model_name": "LayoutModel",
      "state": {
       "_model_module_version": "~2.1.4",
       "_view_module_version": "~2.1.4"
      }
     },
     "8bf1a4b6ceb74d87970e3cc7a231caef": {
      "model_module": "jupyter-js-widgets",
      "model_module_version": "~2.1.4",
      "model_name": "LayoutModel",
      "state": {
       "_model_module_version": "~2.1.4",
       "_view_module_version": "~2.1.4"
      }
     },
     "8c5bbb98ac5d45f99276154a129ebf60": {
      "model_module": "jupyter-js-widgets",
      "model_module_version": "~2.1.4",
      "model_name": "OutputModel",
      "state": {
       "_dom_classes": [],
       "_model_module": "jupyter-js-widgets",
       "_model_module_version": "~2.1.4",
       "_view_module": "jupyter-js-widgets",
       "_view_module_version": "~2.1.4",
       "layout": "IPY_MODEL_117f106f2f774d218f679d44b786b96d",
       "msg_throttle": 1
      }
     },
     "8c66f8246a054c8c85acf0248954b0da": {
      "model_module": "jupyter-js-widgets",
      "model_module_version": "~2.1.4",
      "model_name": "LayoutModel",
      "state": {
       "_model_module_version": "~2.1.4",
       "_view_module_version": "~2.1.4"
      }
     },
     "8cbc94b5f3ea4a658c4949b47bea50f2": {
      "model_module": "jupyter-js-widgets",
      "model_module_version": "~2.1.4",
      "model_name": "VBoxModel",
      "state": {
       "_dom_classes": [
        "widget-interact"
       ],
       "_model_module_version": "~2.1.4",
       "_view_module_version": "~2.1.4",
       "children": [
        "IPY_MODEL_f1143d6931c44390b0a40dfb396b0ef1",
        "IPY_MODEL_257469b60a8c4d12a46cdaff75375f9d",
        "IPY_MODEL_4ee18df6c0ef4bc996ddd28afaa5e97f",
        "IPY_MODEL_7c36da732ad74883a712c81e62b52b97"
       ],
       "layout": "IPY_MODEL_6f569ff6d1bd4efa903159bcdb2a6236"
      }
     },
     "8d31019a172e4c8b938e686e11737545": {
      "model_module": "jupyter-js-widgets",
      "model_module_version": "~2.1.4",
      "model_name": "DropdownModel",
      "state": {
       "_model_module_version": "~2.1.4",
       "_options_labels": [
        "Projections",
        "Open beam images",
        "Dark images"
       ],
       "_view_module_version": "~2.1.4",
       "description": "ims",
       "layout": "IPY_MODEL_6ae8d882b0e4426c8b6f5a8e19ea6415",
       "value": "Projections"
      }
     },
     "8d32da79d475456988d0f833bb8d5fb8": {
      "model_module": "jupyter-js-widgets",
      "model_module_version": "~2.1.4",
      "model_name": "LayoutModel",
      "state": {
       "_model_module_version": "~2.1.4",
       "_view_module_version": "~2.1.4"
      }
     },
     "8d4f3c4cb8524262a4d094a40edf6caa": {
      "model_module": "jupyter-js-widgets",
      "model_module_version": "~2.1.4",
      "model_name": "LayoutModel",
      "state": {
       "_model_module_version": "~2.1.4",
       "_view_module_version": "~2.1.4"
      }
     },
     "8d82b8dc6e634f728daa06f4cbb7d43a": {
      "model_module": "jupyter-js-widgets",
      "model_module_version": "~2.1.4",
      "model_name": "VBoxModel",
      "state": {
       "_dom_classes": [
        "widget-interact"
       ],
       "_model_module_version": "~2.1.4",
       "_view_module_version": "~2.1.4",
       "children": [
        "IPY_MODEL_434aaa49a2a2441f82bb8175eb228d42",
        "IPY_MODEL_e9e496f0bc844ad9bc258f9fe48a31c5",
        "IPY_MODEL_01dd77cfe50444fa949d89fb92a6215c",
        "IPY_MODEL_5c0c130742f04d07a6dd14f88392251d"
       ],
       "layout": "IPY_MODEL_6ea853ca40cd4465b7dd829904bcf28f"
      }
     },
     "8db19a34d998442b9bb170a2d610c259": {
      "model_module": "jupyter-js-widgets",
      "model_module_version": "~2.1.4",
      "model_name": "LayoutModel",
      "state": {
       "_model_module_version": "~2.1.4",
       "_view_module_version": "~2.1.4"
      }
     },
     "8df464f1cb7544eb8cdf32acba4dbca5": {
      "model_module": "jupyter-js-widgets",
      "model_module_version": "~2.1.4",
      "model_name": "LayoutModel",
      "state": {
       "_model_module_version": "~2.1.4",
       "_view_module_version": "~2.1.4"
      }
     },
     "8e0f60b372884c6ba0261ec03209363c": {
      "model_module": "jupyter-js-widgets",
      "model_module_version": "~2.1.4",
      "model_name": "VBoxModel",
      "state": {
       "_dom_classes": [
        "widget-interact"
       ],
       "_model_module_version": "~2.1.4",
       "_view_module_version": "~2.1.4",
       "children": [
        "IPY_MODEL_1c45fecff416419faddb6be786cdbda3",
        "IPY_MODEL_86eba644cd714f278fe34170f00085d1",
        "IPY_MODEL_79c0326fa36540cd98c86079562eaf8b",
        "IPY_MODEL_e15ed2be5dfc4136960776d07cd42d1e",
        "IPY_MODEL_f8c8284f580142beb35d2b15a277a100"
       ],
       "layout": "IPY_MODEL_b65724b7a58e41b3b93cd03a7f999b35"
      }
     },
     "8e975eeeb0aa4c77b49711b5d88caacc": {
      "model_module": "jupyter-js-widgets",
      "model_module_version": "~2.1.4",
      "model_name": "VBoxModel",
      "state": {
       "_dom_classes": [
        "widget-interact"
       ],
       "_model_module_version": "~2.1.4",
       "_view_module_version": "~2.1.4",
       "children": [
        "IPY_MODEL_e49c64698891408ea6eaa327264b8287",
        "IPY_MODEL_f169723897b348fbbf8d5c90d00037e8"
       ],
       "layout": "IPY_MODEL_acc7ead0a5544a2ab83ef85d3d7dd027"
      }
     },
     "8eaa09653d5d40feb1559b3e6d7a87d9": {
      "model_module": "jupyter-js-widgets",
      "model_module_version": "~2.1.4",
      "model_name": "IntSliderModel",
      "state": {
       "_model_module_version": "~2.1.4",
       "_view_module_version": "~2.1.4",
       "description": "vmax",
       "layout": "IPY_MODEL_4ca8399f3247497a8dd63c727cc4829e",
       "max": 65535,
       "style": "IPY_MODEL_7775b541bc1b42c6b3bc0c155b7d9be1",
       "value": 65535
      }
     },
     "8ead3da5a3cd404dade1b915363ad0d7": {
      "model_module": "jupyter-js-widgets",
      "model_module_version": "~2.1.4",
      "model_name": "FloatSliderModel",
      "state": {
       "_model_module_version": "~2.1.4",
       "_view_module_version": "~2.1.4",
       "description": "vmin",
       "layout": "IPY_MODEL_b4303bb6e5924afab52a667a69b3bd18",
       "max": 1,
       "step": 0.1
      }
     },
     "8eba827b38334833a6bbb22fa8c8171a": {
      "model_module": "jupyter-js-widgets",
      "model_module_version": "~2.1.4",
      "model_name": "VBoxModel",
      "state": {
       "_dom_classes": [
        "widget-interact"
       ],
       "_model_module_version": "~2.1.4",
       "_view_module_version": "~2.1.4",
       "children": [
        "IPY_MODEL_6c9edcb188794b19a11f1442871afe3f",
        "IPY_MODEL_6c13a5e2454a465087bb766528eb1d79",
        "IPY_MODEL_aad9c2f2b32a492b8a6a33f9f72bc0f3",
        "IPY_MODEL_7ceb46d601914d498bb40aeaed33593e",
        "IPY_MODEL_52682ff8f60542c6a9cc48c6cca5a637"
       ],
       "layout": "IPY_MODEL_5b7c3d25a41a4adeaedce8b861501661"
      }
     },
     "8ec3eeb2856744228d0d7a21f51b5cf4": {
      "model_module": "jupyter-js-widgets",
      "model_module_version": "~2.1.4",
      "model_name": "SliderStyleModel",
      "state": {
       "_model_module_version": "~2.1.4",
       "_view_module_version": "~2.1.4"
      }
     },
     "8f00eb682bf54a238da4c2710bf5961d": {
      "model_module": "jupyter-js-widgets",
      "model_module_version": "~2.1.4",
      "model_name": "LayoutModel",
      "state": {
       "_model_module_version": "~2.1.4",
       "_view_module_version": "~2.1.4"
      }
     },
     "8f74636f1e0e49c095bfbed80a6961da": {
      "model_module": "jupyter-js-widgets",
      "model_module_version": "~2.1.4",
      "model_name": "LayoutModel",
      "state": {
       "_model_module_version": "~2.1.4",
       "_view_module_version": "~2.1.4"
      }
     },
     "8fd0d4643a3c4510bac4338c19601ddc": {
      "model_module": "jupyter-js-widgets",
      "model_module_version": "~2.1.4",
      "model_name": "OutputModel",
      "state": {
       "_dom_classes": [],
       "_model_module": "jupyter-js-widgets",
       "_model_module_version": "~2.1.4",
       "_view_module": "jupyter-js-widgets",
       "_view_module_version": "~2.1.4",
       "layout": "IPY_MODEL_394a73bce11c45e285bd415a5982672a",
       "msg_throttle": 1
      }
     },
     "8fd6e9e0a547488c96894036b9470a2e": {
      "model_module": "jupyter-js-widgets",
      "model_module_version": "~2.1.4",
      "model_name": "IntSliderModel",
      "state": {
       "_model_module_version": "~2.1.4",
       "_view_module_version": "~2.1.4",
       "description": "i",
       "layout": "IPY_MODEL_00cc1747864347aa9f326026eddd8fff",
       "max": 369,
       "style": "IPY_MODEL_2b507b23ed1041c38d1b2a8d4d50549d",
       "value": 197
      }
     },
     "8fe856a06dfa4da18fc5a0d60d19d2ee": {
      "model_module": "jupyter-js-widgets",
      "model_module_version": "~2.1.4",
      "model_name": "LayoutModel",
      "state": {
       "_model_module_version": "~2.1.4",
       "_view_module_version": "~2.1.4"
      }
     },
     "902b0a5c3ab248ff873929a119846d88": {
      "model_module": "jupyter-js-widgets",
      "model_module_version": "~2.1.4",
      "model_name": "LayoutModel",
      "state": {
       "_model_module_version": "~2.1.4",
       "_view_module_version": "~2.1.4"
      }
     },
     "9030b27555804f26af3aa6ed3e997e22": {
      "model_module": "jupyter-js-widgets",
      "model_module_version": "~2.1.4",
      "model_name": "LayoutModel",
      "state": {
       "_model_module_version": "~2.1.4",
       "_view_module_version": "~2.1.4"
      }
     },
     "9030eb6439ae4267b58cb30132cbd9bb": {
      "model_module": "jupyter-js-widgets",
      "model_module_version": "~2.1.4",
      "model_name": "SliderStyleModel",
      "state": {
       "_model_module_version": "~2.1.4",
       "_view_module_version": "~2.1.4"
      }
     },
     "90592d96034641c2b0a692e1744a9d8c": {
      "model_module": "jupyter-js-widgets",
      "model_module_version": "~2.1.4",
      "model_name": "LayoutModel",
      "state": {
       "_model_module_version": "~2.1.4",
       "_view_module_version": "~2.1.4"
      }
     },
     "905d4ff6027b473093c2b304ce63de78": {
      "model_module": "jupyter-js-widgets",
      "model_module_version": "~2.1.4",
      "model_name": "LayoutModel",
      "state": {
       "_model_module_version": "~2.1.4",
       "_view_module_version": "~2.1.4"
      }
     },
     "9076a29ec7a34df9b007ed0ae4ebb5cf": {
      "model_module": "jupyter-js-widgets",
      "model_module_version": "~2.1.4",
      "model_name": "IntSliderModel",
      "state": {
       "_model_module_version": "~2.1.4",
       "_view_module_version": "~2.1.4",
       "description": "i",
       "layout": "IPY_MODEL_cbdbf770e99548eab79a4bd69f29dffd",
       "max": 800,
       "style": "IPY_MODEL_37aa69331cff4148bcd00f90feb69699",
       "value": 400
      }
     },
     "90a6033edece4664b278dea0610c8f64": {
      "model_module": "jupyter-js-widgets",
      "model_module_version": "~2.1.4",
      "model_name": "SliderStyleModel",
      "state": {
       "_model_module_version": "~2.1.4",
       "_view_module_version": "~2.1.4"
      }
     },
     "90b5cd54a8314a4aad73b37106fc8330": {
      "model_module": "jupyter-js-widgets",
      "model_module_version": "~2.1.4",
      "model_name": "OutputModel",
      "state": {
       "_dom_classes": [],
       "_model_module": "jupyter-js-widgets",
       "_model_module_version": "~2.1.4",
       "_view_module": "jupyter-js-widgets",
       "_view_module_version": "~2.1.4",
       "layout": "IPY_MODEL_f6b1fd81dd0842dca9069664953b6d21",
       "msg_throttle": 1
      }
     },
     "90c0d78cb1574151bba615cf6343875f": {
      "model_module": "jupyter-js-widgets",
      "model_module_version": "~2.1.4",
      "model_name": "LayoutModel",
      "state": {
       "_model_module_version": "~2.1.4",
       "_view_module_version": "~2.1.4"
      }
     },
     "90feb99aa8cd4173884a270316660e82": {
      "model_module": "jupyter-js-widgets",
      "model_module_version": "~2.1.4",
      "model_name": "LayoutModel",
      "state": {
       "_model_module_version": "~2.1.4",
       "_view_module_version": "~2.1.4"
      }
     },
     "91058ee2eace438e80a4bfdc59c67e23": {
      "model_module": "jupyter-js-widgets",
      "model_module_version": "~2.1.4",
      "model_name": "IntSliderModel",
      "state": {
       "_model_module_version": "~2.1.4",
       "_view_module_version": "~2.1.4",
       "description": "i",
       "layout": "IPY_MODEL_03de6bf91f9e49a49ef6e25993c378df",
       "max": 600,
       "min": -200,
       "style": "IPY_MODEL_6fac86f8dbbd41aeb138feb47442117e",
       "value": 200
      }
     },
     "911747d2f08242c0806f21157098b4bb": {
      "model_module": "jupyter-js-widgets",
      "model_module_version": "~2.1.4",
      "model_name": "DropdownModel",
      "state": {
       "_model_module_version": "~2.1.4",
       "_options_labels": [
        "Projections",
        "Open beam images",
        "Dark images"
       ],
       "_view_module_version": "~2.1.4",
       "description": "ims",
       "layout": "IPY_MODEL_59e00f28e13545b1a9b3883a559ffe90",
       "value": "Projections"
      }
     },
     "914bfe851f57419f91f8406a2cb17e7d": {
      "model_module": "jupyter-js-widgets",
      "model_module_version": "~2.1.4",
      "model_name": "LayoutModel",
      "state": {
       "_model_module_version": "~2.1.4",
       "_view_module_version": "~2.1.4"
      }
     },
     "918495d80d8a4782bb1008a404f87def": {
      "model_module": "jupyter-js-widgets",
      "model_module_version": "~2.1.4",
      "model_name": "LayoutModel",
      "state": {
       "_model_module_version": "~2.1.4",
       "_view_module_version": "~2.1.4"
      }
     },
     "91ac0c7d1b8945de8b0ce32adb4fdce5": {
      "model_module": "jupyter-js-widgets",
      "model_module_version": "~2.1.4",
      "model_name": "LayoutModel",
      "state": {
       "_model_module_version": "~2.1.4",
       "_view_module_version": "~2.1.4"
      }
     },
     "92228cfbbc634cfea85bb7c54b41f856": {
      "model_module": "jupyter-js-widgets",
      "model_module_version": "~2.1.4",
      "model_name": "IntSliderModel",
      "state": {
       "_model_module_version": "~2.1.4",
       "_view_module_version": "~2.1.4",
       "description": "i",
       "layout": "IPY_MODEL_14a6a29d36ac43a0a230c8419d560fc3",
       "max": 369,
       "style": "IPY_MODEL_14e00029e53c406c8fa974ce80402a55",
       "value": 150
      }
     },
     "92b41ea39b79418da4cb422c34198114": {
      "model_module": "jupyter-js-widgets",
      "model_module_version": "~2.1.4",
      "model_name": "LayoutModel",
      "state": {
       "_model_module_version": "~2.1.4",
       "_view_module_version": "~2.1.4"
      }
     },
     "92cacce59edc434788859c636a4ef57e": {
      "model_module": "jupyter-js-widgets",
      "model_module_version": "~2.1.4",
      "model_name": "LayoutModel",
      "state": {
       "_model_module_version": "~2.1.4",
       "_view_module_version": "~2.1.4"
      }
     },
     "92e05be4954d4a4589fae9b6f7562b51": {
      "model_module": "jupyter-js-widgets",
      "model_module_version": "~2.1.4",
      "model_name": "LayoutModel",
      "state": {
       "_model_module_version": "~2.1.4",
       "_view_module_version": "~2.1.4"
      }
     },
     "92e3b3070e22460f9bc866d88352e5ff": {
      "model_module": "jupyter-js-widgets",
      "model_module_version": "~2.1.4",
      "model_name": "IntSliderModel",
      "state": {
       "_model_module_version": "~2.1.4",
       "_view_module_version": "~2.1.4",
       "description": "i",
       "layout": "IPY_MODEL_e03a6be686a44b27bf3b006035930185",
       "max": 369,
       "style": "IPY_MODEL_a4aab279ae96433798ef1c60675a33ff",
       "value": 150
      }
     },
     "92f4dd4c6c9a4025a394fdd6bfcd7022": {
      "model_module": "jupyter-js-widgets",
      "model_module_version": "~2.1.4",
      "model_name": "FloatSliderModel",
      "state": {
       "_model_module_version": "~2.1.4",
       "_view_module_version": "~2.1.4",
       "description": "vmin",
       "layout": "IPY_MODEL_599693cfd2a448aeb5e87776810a9d9e",
       "max": 1,
       "step": 0.1
      }
     },
     "9306558ccec9434b9feb37715fd423ae": {
      "model_module": "jupyter-js-widgets",
      "model_module_version": "~2.1.4",
      "model_name": "IntSliderModel",
      "state": {
       "_model_module_version": "~2.1.4",
       "_view_module_version": "~2.1.4",
       "description": "i",
       "layout": "IPY_MODEL_57e29a8da4c2412b907ab38d7a290ee5",
       "max": 369,
       "style": "IPY_MODEL_ab779953cf6a4c9d98b755128dada98e",
       "value": 118
      }
     },
     "938402220d3740308b7ccd7ef35880f8": {
      "model_module": "jupyter-js-widgets",
      "model_module_version": "~2.1.4",
      "model_name": "LayoutModel",
      "state": {
       "_model_module_version": "~2.1.4",
       "_view_module_version": "~2.1.4"
      }
     },
     "93c3053fb6ec47b9b4e9c7aed72122d5": {
      "model_module": "jupyter-js-widgets",
      "model_module_version": "~2.1.4",
      "model_name": "LayoutModel",
      "state": {
       "_model_module_version": "~2.1.4",
       "_view_module_version": "~2.1.4"
      }
     },
     "93e6c34bd4ae4364bc575e0feceb2125": {
      "model_module": "jupyter-js-widgets",
      "model_module_version": "~2.1.4",
      "model_name": "LayoutModel",
      "state": {
       "_model_module_version": "~2.1.4",
       "_view_module_version": "~2.1.4"
      }
     },
     "93e8c7816e164bb0953f00c3bb27a51b": {
      "model_module": "jupyter-js-widgets",
      "model_module_version": "~2.1.4",
      "model_name": "LayoutModel",
      "state": {
       "_model_module_version": "~2.1.4",
       "_view_module_version": "~2.1.4"
      }
     },
     "93ebdd0d90e54fe1b0addc8fdb7195f5": {
      "model_module": "jupyter-js-widgets",
      "model_module_version": "~2.1.4",
      "model_name": "SliderStyleModel",
      "state": {
       "_model_module_version": "~2.1.4",
       "_view_module_version": "~2.1.4"
      }
     },
     "94cac28a495a42018d2b42870f385f30": {
      "model_module": "jupyter-js-widgets",
      "model_module_version": "~2.1.4",
      "model_name": "FloatSliderModel",
      "state": {
       "_model_module_version": "~2.1.4",
       "_view_module_version": "~2.1.4",
       "description": "vmax",
       "layout": "IPY_MODEL_0433c6d6f95847bf99da61f595e48e54",
       "max": 0.009999999776482582,
       "min": -0.007000000216066837,
       "step": 0.001,
       "value": 0.009999999776482582
      }
     },
     "94f4033f5153425b935a2ffe4dcc2aae": {
      "model_module": "jupyter-js-widgets",
      "model_module_version": "~2.1.4",
      "model_name": "DropdownModel",
      "state": {
       "_model_module_version": "~2.1.4",
       "_options_labels": [
        "Projections",
        "Open beam images",
        "Dark images"
       ],
       "_view_module_version": "~2.1.4",
       "description": "ims",
       "layout": "IPY_MODEL_5ac6eee6a3b844c8933363c1929e2846",
       "value": "Projections"
      }
     },
     "951c54a25fb94956a318b6f45b551166": {
      "model_module": "jupyter-js-widgets",
      "model_module_version": "~2.1.4",
      "model_name": "VBoxModel",
      "state": {
       "_dom_classes": [
        "widget-interact"
       ],
       "_model_module_version": "~2.1.4",
       "_view_module_version": "~2.1.4",
       "children": [
        "IPY_MODEL_bb343242309c4fdfa26d929ac6fd8a1a",
        "IPY_MODEL_998e9f1fb25b418d873c0d4a437e9947",
        "IPY_MODEL_7ccd314d7b23480bbca6480f707d4f59",
        "IPY_MODEL_b8ba99d8e3084e0bbf382ffb0390ca29"
       ],
       "layout": "IPY_MODEL_e211affe4617424caa73add24e1d1580"
      }
     },
     "953052c16e37456f887a7548c4b43d79": {
      "model_module": "jupyter-js-widgets",
      "model_module_version": "~2.1.4",
      "model_name": "LayoutModel",
      "state": {
       "_model_module_version": "~2.1.4",
       "_view_module_version": "~2.1.4"
      }
     },
     "959bb466e0a44d9db3814f2548c906b1": {
      "model_module": "jupyter-js-widgets",
      "model_module_version": "~2.1.4",
      "model_name": "LayoutModel",
      "state": {
       "_model_module_version": "~2.1.4",
       "_view_module_version": "~2.1.4"
      }
     },
     "95a7022deeef4fa4b88d4f57b651c7e9": {
      "model_module": "jupyter-js-widgets",
      "model_module_version": "~2.1.4",
      "model_name": "LayoutModel",
      "state": {
       "_model_module_version": "~2.1.4",
       "_view_module_version": "~2.1.4"
      }
     },
     "95d2481dc4e1403ea0b431092323e472": {
      "model_module": "jupyter-js-widgets",
      "model_module_version": "~2.1.4",
      "model_name": "LayoutModel",
      "state": {
       "_model_module_version": "~2.1.4",
       "_view_module_version": "~2.1.4"
      }
     },
     "95f0894fc5c24ce4b672015097dace5a": {
      "model_module": "jupyter-js-widgets",
      "model_module_version": "~2.1.4",
      "model_name": "OutputModel",
      "state": {
       "_dom_classes": [],
       "_model_module": "jupyter-js-widgets",
       "_model_module_version": "~2.1.4",
       "_view_module": "jupyter-js-widgets",
       "_view_module_version": "~2.1.4",
       "layout": "IPY_MODEL_400e430594224b21b337f16831abdc20",
       "msg_throttle": 1
      }
     },
     "964128e0fc08408b8a97d8cacf0a13bb": {
      "model_module": "jupyter-js-widgets",
      "model_module_version": "~2.1.4",
      "model_name": "LayoutModel",
      "state": {
       "_model_module_version": "~2.1.4",
       "_view_module_version": "~2.1.4"
      }
     },
     "96620e37ebca4be7897ed6ec4d848d87": {
      "model_module": "jupyter-js-widgets",
      "model_module_version": "~2.1.4",
      "model_name": "LayoutModel",
      "state": {
       "_model_module_version": "~2.1.4",
       "_view_module_version": "~2.1.4"
      }
     },
     "967da51cef9f4dbdb91b5d5e89f652ad": {
      "model_module": "jupyter-js-widgets",
      "model_module_version": "~2.1.4",
      "model_name": "SliderStyleModel",
      "state": {
       "_model_module_version": "~2.1.4",
       "_view_module_version": "~2.1.4"
      }
     },
     "9683353b0c1b4cd8987becbce6d8f893": {
      "model_module": "jupyter-js-widgets",
      "model_module_version": "~2.1.4",
      "model_name": "LayoutModel",
      "state": {
       "_model_module_version": "~2.1.4",
       "_view_module_version": "~2.1.4"
      }
     },
     "969683698221437dbadbd24c70c01d2c": {
      "model_module": "jupyter-js-widgets",
      "model_module_version": "~2.1.4",
      "model_name": "IntSliderModel",
      "state": {
       "_model_module_version": "~2.1.4",
       "_view_module_version": "~2.1.4",
       "description": "i",
       "layout": "IPY_MODEL_57eda9a3b62740ceac88f5f9cd5e428e",
       "max": 600,
       "min": -200,
       "style": "IPY_MODEL_0e9dabed3d634369899ba489cdf27343",
       "value": 166
      }
     },
     "969e0f2681d249afb9fff938a824f529": {
      "model_module": "jupyter-js-widgets",
      "model_module_version": "~2.1.4",
      "model_name": "LayoutModel",
      "state": {
       "_model_module_version": "~2.1.4",
       "_view_module_version": "~2.1.4"
      }
     },
     "96fd8e681b42425f89e2d0135ec3d668": {
      "model_module": "jupyter-js-widgets",
      "model_module_version": "~2.1.4",
      "model_name": "OutputModel",
      "state": {
       "_dom_classes": [],
       "_model_module": "jupyter-js-widgets",
       "_model_module_version": "~2.1.4",
       "_view_module": "jupyter-js-widgets",
       "_view_module_version": "~2.1.4",
       "layout": "IPY_MODEL_3d29717aff5f4031acee792b31248d68",
       "msg_throttle": 1
      }
     },
     "97318983af3f46cdba5d2b06d2430a1c": {
      "model_module": "jupyter-js-widgets",
      "model_module_version": "~2.1.4",
      "model_name": "SliderStyleModel",
      "state": {
       "_model_module_version": "~2.1.4",
       "_view_module_version": "~2.1.4"
      }
     },
     "9763b96b3d0143f1b70ffd75246e4ee1": {
      "model_module": "jupyter-js-widgets",
      "model_module_version": "~2.1.4",
      "model_name": "LayoutModel",
      "state": {
       "_model_module_version": "~2.1.4",
       "_view_module_version": "~2.1.4"
      }
     },
     "97a54bf34be941da9640413efe624b80": {
      "model_module": "jupyter-js-widgets",
      "model_module_version": "~2.1.4",
      "model_name": "FloatSliderModel",
      "state": {
       "_model_module_version": "~2.1.4",
       "_view_module_version": "~2.1.4",
       "description": "vmax",
       "layout": "IPY_MODEL_1d316807991a4b20b0efd7e6a16a441c",
       "max": 0.015653500333428383,
       "min": -0.020783809944987297,
       "step": 0.001,
       "value": 0.015653500333428383
      }
     },
     "97b6162488674e7b95a4ac3e123b5e90": {
      "model_module": "jupyter-js-widgets",
      "model_module_version": "~2.1.4",
      "model_name": "DropdownModel",
      "state": {
       "_model_module_version": "~2.1.4",
       "_options_labels": [
        "Projections",
        "Open beam images",
        "Dark images"
       ],
       "_view_module_version": "~2.1.4",
       "description": "ims",
       "layout": "IPY_MODEL_8b93a10b85e64b5ebc4ae4e3ffd73874",
       "value": "Projections"
      }
     },
     "97b899022be84bc992dcb966ddb599b6": {
      "model_module": "jupyter-js-widgets",
      "model_module_version": "~2.1.4",
      "model_name": "OutputModel",
      "state": {
       "_dom_classes": [],
       "_model_module": "jupyter-js-widgets",
       "_model_module_version": "~2.1.4",
       "_view_module": "jupyter-js-widgets",
       "_view_module_version": "~2.1.4",
       "layout": "IPY_MODEL_5c5b4a9c8b0d4134b5fa71d6676382e6",
       "msg_throttle": 1
      }
     },
     "97d66b160b684bfb88a5ed3e9c021b4a": {
      "model_module": "jupyter-js-widgets",
      "model_module_version": "~2.1.4",
      "model_name": "FloatSliderModel",
      "state": {
       "_model_module_version": "~2.1.4",
       "_view_module_version": "~2.1.4",
       "description": "vmax",
       "layout": "IPY_MODEL_d9f1916cf7cb48739c707c0b57addee3",
       "max": 0.010969985276460648,
       "min": -0.020783809944987297,
       "step": 0.001,
       "value": 0.010969985276460648
      }
     },
     "98095337ef264cf384395292fac90f67": {
      "model_module": "jupyter-js-widgets",
      "model_module_version": "~2.1.4",
      "model_name": "LayoutModel",
      "state": {
       "_model_module_version": "~2.1.4",
       "_view_module_version": "~2.1.4"
      }
     },
     "98095a57638d472abf7a4bb20d448c7a": {
      "model_module": "jupyter-js-widgets",
      "model_module_version": "~2.1.4",
      "model_name": "LayoutModel",
      "state": {
       "_model_module_version": "~2.1.4",
       "_view_module_version": "~2.1.4"
      }
     },
     "9867d8b992df4e6fa311732b05e55017": {
      "model_module": "jupyter-js-widgets",
      "model_module_version": "~2.1.4",
      "model_name": "LayoutModel",
      "state": {
       "_model_module_version": "~2.1.4",
       "_view_module_version": "~2.1.4"
      }
     },
     "98794d2a444e4bbca8218f76fb0e0cd3": {
      "model_module": "jupyter-js-widgets",
      "model_module_version": "~2.1.4",
      "model_name": "LayoutModel",
      "state": {
       "_model_module_version": "~2.1.4",
       "_view_module_version": "~2.1.4"
      }
     },
     "98d9101f656049aab64b8599f7808542": {
      "model_module": "jupyter-js-widgets",
      "model_module_version": "~2.1.4",
      "model_name": "LayoutModel",
      "state": {
       "_model_module_version": "~2.1.4",
       "_view_module_version": "~2.1.4"
      }
     },
     "98e8c622512447b98d7befb9a4f48f7b": {
      "model_module": "jupyter-js-widgets",
      "model_module_version": "~2.1.4",
      "model_name": "LayoutModel",
      "state": {
       "_model_module_version": "~2.1.4",
       "_view_module_version": "~2.1.4"
      }
     },
     "98f9b09b66b844239d788b674616e769": {
      "model_module": "jupyter-js-widgets",
      "model_module_version": "~2.1.4",
      "model_name": "IntSliderModel",
      "state": {
       "_model_module_version": "~2.1.4",
       "_view_module_version": "~2.1.4",
       "description": "vmax",
       "layout": "IPY_MODEL_556648568b67417db573e2ef27728ff4",
       "max": 65535,
       "style": "IPY_MODEL_42b1705969d94fb0ac518b2fedadb79e",
       "value": 65535
      }
     },
     "991f78352f114186b02d55b56a5c3f5b": {
      "model_module": "jupyter-js-widgets",
      "model_module_version": "~2.1.4",
      "model_name": "FloatSliderModel",
      "state": {
       "_model_module_version": "~2.1.4",
       "_view_module_version": "~2.1.4",
       "description": "vmax",
       "layout": "IPY_MODEL_6ed3e79133e344aea09904b2cdf906d6",
       "max": 0.015653500333428383,
       "min": -0.020783809944987297,
       "step": 0.001,
       "value": 0.015653500333428383
      }
     },
     "9951b6e5dfce4a3e84c0bda5e199867e": {
      "model_module": "jupyter-js-widgets",
      "model_module_version": "~2.1.4",
      "model_name": "IntSliderModel",
      "state": {
       "_model_module_version": "~2.1.4",
       "_view_module_version": "~2.1.4",
       "description": "i",
       "layout": "IPY_MODEL_248630b34db44da1bffc185a36e92cdf",
       "max": 369,
       "style": "IPY_MODEL_e7b1692f35004fd19717d69423a072af",
       "value": 179
      }
     },
     "9962af3933fb44f5921b9950fab3a931": {
      "model_module": "jupyter-js-widgets",
      "model_module_version": "~2.1.4",
      "model_name": "LayoutModel",
      "state": {
       "_model_module_version": "~2.1.4",
       "_view_module_version": "~2.1.4"
      }
     },
     "998e9f1fb25b418d873c0d4a437e9947": {
      "model_module": "jupyter-js-widgets",
      "model_module_version": "~2.1.4",
      "model_name": "FloatSliderModel",
      "state": {
       "_model_module_version": "~2.1.4",
       "_view_module_version": "~2.1.4",
       "description": "vmin",
       "layout": "IPY_MODEL_da6d7e8bc19f423aa8e6090eea27dab5",
       "max": 0.009999999776482582,
       "min": 0,
       "step": 0.001
      }
     },
     "9a1667a400a54501ac80947691790329": {
      "model_module": "jupyter-js-widgets",
      "model_module_version": "~2.1.4",
      "model_name": "LayoutModel",
      "state": {
       "_model_module_version": "~2.1.4",
       "_view_module_version": "~2.1.4"
      }
     },
     "9a3ba26cd61b4afbbfc713f1b1156361": {
      "model_module": "jupyter-js-widgets",
      "model_module_version": "~2.1.4",
      "model_name": "SliderStyleModel",
      "state": {
       "_model_module_version": "~2.1.4",
       "_view_module_version": "~2.1.4"
      }
     },
     "9a5c6fb3319e4bf398096e47539d2255": {
      "model_module": "jupyter-js-widgets",
      "model_module_version": "~2.1.4",
      "model_name": "LayoutModel",
      "state": {
       "_model_module_version": "~2.1.4",
       "_view_module_version": "~2.1.4"
      }
     },
     "9a8cf81d53334148937bd58178161b70": {
      "model_module": "jupyter-js-widgets",
      "model_module_version": "~2.1.4",
      "model_name": "SliderStyleModel",
      "state": {
       "_model_module_version": "~2.1.4",
       "_view_module_version": "~2.1.4"
      }
     },
     "9a99b92410334e70aab9f5458aa512f8": {
      "model_module": "jupyter-js-widgets",
      "model_module_version": "~2.1.4",
      "model_name": "LayoutModel",
      "state": {
       "_model_module_version": "~2.1.4",
       "_view_module_version": "~2.1.4"
      }
     },
     "9b649595b4eb4ab2ac2669df08f394bb": {
      "model_module": "jupyter-js-widgets",
      "model_module_version": "~2.1.4",
      "model_name": "LayoutModel",
      "state": {
       "_model_module_version": "~2.1.4",
       "_view_module_version": "~2.1.4"
      }
     },
     "9b6aba2be8374203834efca335cd19c5": {
      "model_module": "jupyter-js-widgets",
      "model_module_version": "~2.1.4",
      "model_name": "FloatSliderModel",
      "state": {
       "_model_module_version": "~2.1.4",
       "_view_module_version": "~2.1.4",
       "description": "vmax",
       "layout": "IPY_MODEL_d7b6bb2830bc41288f468f65358302da",
       "max": 0.008999999612569809,
       "min": -0.0010000000474974513,
       "readout_format": ".3f",
       "step": 0.001,
       "value": 0.008999999612569809
      }
     },
     "9b78dd6a8fa7483cad737781a83edeb4": {
      "model_module": "jupyter-js-widgets",
      "model_module_version": "~2.1.4",
      "model_name": "FloatSliderModel",
      "state": {
       "_model_module_version": "~2.1.4",
       "_view_module_version": "~2.1.4",
       "description": "vmin",
       "layout": "IPY_MODEL_3a47b026b7be48ba8dc49628ef7a620a",
       "max": 0.015653500333428383,
       "min": -0.020783809944987297,
       "step": 0.001,
       "value": -0.00378
      }
     },
     "9b836578f19441caa3d36c8f400cd970": {
      "model_module": "jupyter-js-widgets",
      "model_module_version": "~2.1.4",
      "model_name": "LayoutModel",
      "state": {
       "_model_module_version": "~2.1.4",
       "_view_module_version": "~2.1.4"
      }
     },
     "9bdbd117e60d4ad4b4d99a7a89248e7b": {
      "model_module": "jupyter-js-widgets",
      "model_module_version": "~2.1.4",
      "model_name": "VBoxModel",
      "state": {
       "_dom_classes": [
        "widget-interact"
       ],
       "_model_module_version": "~2.1.4",
       "_view_module_version": "~2.1.4",
       "layout": "IPY_MODEL_a9b773fd39d14df2a95ec6fa311ca8f8"
      }
     },
     "9bf8210cc83f4f96934a2810f19f238b": {
      "model_module": "jupyter-js-widgets",
      "model_module_version": "~2.1.4",
      "model_name": "LayoutModel",
      "state": {
       "_model_module_version": "~2.1.4",
       "_view_module_version": "~2.1.4"
      }
     },
     "9c10a3670ee449f1867f5a7cc988f304": {
      "model_module": "jupyter-js-widgets",
      "model_module_version": "~2.1.4",
      "model_name": "VBoxModel",
      "state": {
       "_dom_classes": [
        "widget-interact"
       ],
       "_model_module_version": "~2.1.4",
       "_view_module_version": "~2.1.4",
       "children": [
        "IPY_MODEL_76fc0995f8f146eab4cf1b8b4568b9b6",
        "IPY_MODEL_556f72dcf9b34625926d6af6e5e924cc",
        "IPY_MODEL_65981aa7e0f24245bccb470297f99c77",
        "IPY_MODEL_e11be750441b42bdabe4dc1a26d08813",
        "IPY_MODEL_bac89e7a807541a4b8858734956566ae"
       ],
       "layout": "IPY_MODEL_4bfc27695a60402bae66cf4938cf5900"
      }
     },
     "9c1fdb01b6a04f6bbfca9827a808e908": {
      "model_module": "jupyter-js-widgets",
      "model_module_version": "~2.1.4",
      "model_name": "LayoutModel",
      "state": {
       "_model_module_version": "~2.1.4",
       "_view_module_version": "~2.1.4"
      }
     },
     "9c4aab1860ee4f7f825419bd0fc6dd28": {
      "model_module": "jupyter-js-widgets",
      "model_module_version": "~2.1.4",
      "model_name": "LayoutModel",
      "state": {
       "_model_module_version": "~2.1.4",
       "_view_module_version": "~2.1.4"
      }
     },
     "9c4c3840ae3c4bcf8512c745f45b4413": {
      "model_module": "jupyter-js-widgets",
      "model_module_version": "~2.1.4",
      "model_name": "LayoutModel",
      "state": {
       "_model_module_version": "~2.1.4",
       "_view_module_version": "~2.1.4"
      }
     },
     "9c907668fd024c60ada89930618d359c": {
      "model_module": "jupyter-js-widgets",
      "model_module_version": "~2.1.4",
      "model_name": "DropdownModel",
      "state": {
       "_model_module_version": "~2.1.4",
       "_options_labels": [
        "3",
        "5",
        "7"
       ],
       "_view_module_version": "~2.1.4",
       "description": "size",
       "layout": "IPY_MODEL_1efd944ebf534de0853a06d7f43aceeb",
       "value": "3"
      }
     },
     "9cd1c447367e474193abaf48ac93bbfc": {
      "model_module": "jupyter-js-widgets",
      "model_module_version": "~2.1.4",
      "model_name": "LayoutModel",
      "state": {
       "_model_module_version": "~2.1.4",
       "_view_module_version": "~2.1.4"
      }
     },
     "9cd92a5ff2954d5088d4a592a0ec35c2": {
      "model_module": "jupyter-js-widgets",
      "model_module_version": "~2.1.4",
      "model_name": "VBoxModel",
      "state": {
       "_dom_classes": [
        "widget-interact"
       ],
       "_model_module_version": "~2.1.4",
       "_view_module_version": "~2.1.4",
       "children": [
        "IPY_MODEL_482125f6b1b149a4a267788773c55b71",
        "IPY_MODEL_a85f4c1b3892483ebe2cae298e5dc83a",
        "IPY_MODEL_c9bf6c2e4a4a4356be7939aaccedb16c"
       ],
       "layout": "IPY_MODEL_2b3df9012f7d4b74bc960791f84a9d4e"
      }
     },
     "9cf36d77a1724038a04f40a19d4b1bae": {
      "model_module": "jupyter-js-widgets",
      "model_module_version": "~2.1.4",
      "model_name": "LayoutModel",
      "state": {
       "_model_module_version": "~2.1.4",
       "_view_module_version": "~2.1.4"
      }
     },
     "9d132941b2c84509aa4c1bcc54e14ece": {
      "model_module": "jupyter-js-widgets",
      "model_module_version": "~2.1.4",
      "model_name": "LayoutModel",
      "state": {
       "_model_module_version": "~2.1.4",
       "_view_module_version": "~2.1.4"
      }
     },
     "9d6fdce4d52e4261b0d625843496963d": {
      "model_module": "jupyter-js-widgets",
      "model_module_version": "~2.1.4",
      "model_name": "LayoutModel",
      "state": {
       "_model_module_version": "~2.1.4",
       "_view_module_version": "~2.1.4"
      }
     },
     "9d8385e2cbfb4f3e9cc55e375ae9c614": {
      "model_module": "jupyter-js-widgets",
      "model_module_version": "~2.1.4",
      "model_name": "OutputModel",
      "state": {
       "_dom_classes": [],
       "_model_module": "jupyter-js-widgets",
       "_model_module_version": "~2.1.4",
       "_view_module": "jupyter-js-widgets",
       "_view_module_version": "~2.1.4",
       "layout": "IPY_MODEL_b07b1cb060b8478c84088926b0424793",
       "msg_throttle": 1
      }
     },
     "9d9d68d18565485a9d24959ed6ea3681": {
      "model_module": "jupyter-js-widgets",
      "model_module_version": "~2.1.4",
      "model_name": "IntSliderModel",
      "state": {
       "_model_module_version": "~2.1.4",
       "_view_module_version": "~2.1.4",
       "description": "vmax",
       "layout": "IPY_MODEL_27ee6eda19834fbf8266010d5fa1067d",
       "max": 65535,
       "style": "IPY_MODEL_4c144bf2a74745e29c78ecd76be938ec",
       "value": 65535
      }
     },
     "9da9aa059fce4f0db68803ca8f137372": {
      "model_module": "jupyter-js-widgets",
      "model_module_version": "~2.1.4",
      "model_name": "LayoutModel",
      "state": {
       "_model_module_version": "~2.1.4",
       "_view_module_version": "~2.1.4"
      }
     },
     "9dabbe8db0244a719f9c0041392f0357": {
      "model_module": "jupyter-js-widgets",
      "model_module_version": "~2.1.4",
      "model_name": "OutputModel",
      "state": {
       "_dom_classes": [],
       "_model_module": "jupyter-js-widgets",
       "_model_module_version": "~2.1.4",
       "_view_module": "jupyter-js-widgets",
       "_view_module_version": "~2.1.4",
       "layout": "IPY_MODEL_a4e5627a06614efeb9598db39b8eb895",
       "msg_throttle": 1
      }
     },
     "9e15c41170bc404e80c840ec53ec070b": {
      "model_module": "jupyter-js-widgets",
      "model_module_version": "~2.1.4",
      "model_name": "IntSliderModel",
      "state": {
       "_model_module_version": "~2.1.4",
       "_view_module_version": "~2.1.4",
       "description": "vmax",
       "layout": "IPY_MODEL_04e312e71fe3463d92d73d472235fbc1",
       "max": 196605,
       "min": -65535,
       "style": "IPY_MODEL_0475f556857648e290d1a58e1bd590c9",
       "value": 44063
      }
     },
     "9ead08f56a7546de81dc83bcdc0e4c02": {
      "model_module": "jupyter-js-widgets",
      "model_module_version": "~2.1.4",
      "model_name": "DropdownModel",
      "state": {
       "_model_module_version": "~2.1.4",
       "_options_labels": [
        "Projections",
        "Open beam images",
        "Dark images"
       ],
       "_view_module_version": "~2.1.4",
       "layout": "IPY_MODEL_7284f23af436483e82224f4ecc068dbb",
       "value": "Projections"
      }
     },
     "9f2cf1369f134b4db9f4055441db34a9": {
      "model_module": "jupyter-js-widgets",
      "model_module_version": "~2.1.4",
      "model_name": "DropdownModel",
      "state": {
       "_model_module_version": "~2.1.4",
       "_options_labels": [
        "Projections",
        "Open beam images",
        "Dark images"
       ],
       "_view_module_version": "~2.1.4",
       "layout": "IPY_MODEL_b4782dd1942c47889efc6ebbc06a846e",
       "value": "Projections"
      }
     },
     "9f5f17d7dff64e86aa766f7c36c2afb2": {
      "model_module": "jupyter-js-widgets",
      "model_module_version": "~2.1.4",
      "model_name": "LayoutModel",
      "state": {
       "_model_module_version": "~2.1.4",
       "_view_module_version": "~2.1.4"
      }
     },
     "9fdfaf20a9e44796a00b11d007be0228": {
      "model_module": "jupyter-js-widgets",
      "model_module_version": "~2.1.4",
      "model_name": "IntSliderModel",
      "state": {
       "_model_module_version": "~2.1.4",
       "_view_module_version": "~2.1.4",
       "description": "i",
       "layout": "IPY_MODEL_2a39635ca0ad4da587ae1c09a4410553",
       "max": 369,
       "style": "IPY_MODEL_b37d36b44d1a413f80dcf737cead3c56",
       "value": 150
      }
     },
     "a05f8d5590194d778ba55528c9b23c2f": {
      "model_module": "jupyter-js-widgets",
      "model_module_version": "~2.1.4",
      "model_name": "VBoxModel",
      "state": {
       "_dom_classes": [
        "widget-interact"
       ],
       "_model_module_version": "~2.1.4",
       "_view_module_version": "~2.1.4",
       "children": [
        "IPY_MODEL_4a46058ab0704a1bba261d9a5cd32c40",
        "IPY_MODEL_a10401bdbbea4d45b17427997db79710",
        "IPY_MODEL_1992db6c018c4a638d60830c55cfde9b",
        "IPY_MODEL_239338bba7c84b4d95c53e3df0266b56"
       ],
       "layout": "IPY_MODEL_ba9f135f99824316a9ec610b598d27d9"
      }
     },
     "a0a9bef9815b4ccc852f461285354875": {
      "model_module": "jupyter-js-widgets",
      "model_module_version": "~2.1.4",
      "model_name": "LayoutModel",
      "state": {
       "_model_module_version": "~2.1.4",
       "_view_module_version": "~2.1.4"
      }
     },
     "a0d327aec069433ba77e9215dacf1e23": {
      "model_module": "jupyter-js-widgets",
      "model_module_version": "~2.1.4",
      "model_name": "SliderStyleModel",
      "state": {
       "_model_module_version": "~2.1.4",
       "_view_module_version": "~2.1.4"
      }
     },
     "a0de2516898a49b18cf57ef22ab2a1b3": {
      "model_module": "jupyter-js-widgets",
      "model_module_version": "~2.1.4",
      "model_name": "LayoutModel",
      "state": {
       "_model_module_version": "~2.1.4",
       "_view_module_version": "~2.1.4"
      }
     },
     "a10401bdbbea4d45b17427997db79710": {
      "model_module": "jupyter-js-widgets",
      "model_module_version": "~2.1.4",
      "model_name": "FloatSliderModel",
      "state": {
       "_model_module_version": "~2.1.4",
       "_view_module_version": "~2.1.4",
       "description": "vmin",
       "layout": "IPY_MODEL_b09a5dfdbde34c579f182ae4559537b7",
       "max": 0.015653500333428383,
       "min": -0.020783809944987297,
       "step": 0.00014233324327506125,
       "value": -0.00513
      }
     },
     "a123c444db6a48aab957669ec86d42d5": {
      "model_module": "jupyter-js-widgets",
      "model_module_version": "~2.1.4",
      "model_name": "FloatSliderModel",
      "state": {
       "_model_module_version": "~2.1.4",
       "_view_module_version": "~2.1.4",
       "description": "vmin",
       "layout": "IPY_MODEL_5e695f15131e4e54ae4cd894f12c5ecf",
       "max": 0.015653500333428383,
       "min": -0.020783809944987297,
       "step": 0.001,
       "value": -0.00278
      }
     },
     "a125324c0267408fb4c02f75fd923a56": {
      "model_module": "jupyter-js-widgets",
      "model_module_version": "~2.1.4",
      "model_name": "LayoutModel",
      "state": {
       "_model_module_version": "~2.1.4",
       "_view_module_version": "~2.1.4"
      }
     },
     "a12b4a7e2936442bbbdf9023702cce74": {
      "model_module": "jupyter-js-widgets",
      "model_module_version": "~2.1.4",
      "model_name": "LayoutModel",
      "state": {
       "_model_module_version": "~2.1.4",
       "_view_module_version": "~2.1.4"
      }
     },
     "a176886cf9ee473db6b6529ebb118cc1": {
      "model_module": "jupyter-js-widgets",
      "model_module_version": "~2.1.4",
      "model_name": "IntSliderModel",
      "state": {
       "_model_module_version": "~2.1.4",
       "_view_module_version": "~2.1.4",
       "description": "i",
       "layout": "IPY_MODEL_4d2866d25f6e4856bef317d7c9410503",
       "max": 800,
       "style": "IPY_MODEL_35d43eb1fbc14740bade413235744cd6",
       "value": 166
      }
     },
     "a19fd442db214a6fa487edfa9dcbab9a": {
      "model_module": "jupyter-js-widgets",
      "model_module_version": "~2.1.4",
      "model_name": "DropdownModel",
      "state": {
       "_model_module_version": "~2.1.4",
       "_options_labels": [
        "Projections",
        "Open beam images",
        "Dark images"
       ],
       "_view_module_version": "~2.1.4",
       "description": "ims",
       "layout": "IPY_MODEL_3c8fd1b2c3b44253bd2427a11800d965",
       "value": "Projections"
      }
     },
     "a1b81be078ff49d89975106f1c7eca0d": {
      "model_module": "jupyter-js-widgets",
      "model_module_version": "~2.1.4",
      "model_name": "LayoutModel",
      "state": {
       "_model_module_version": "~2.1.4",
       "_view_module_version": "~2.1.4"
      }
     },
     "a1bbce1ec5f74b95b47a834f41117f7a": {
      "model_module": "jupyter-js-widgets",
      "model_module_version": "~2.1.4",
      "model_name": "LayoutModel",
      "state": {
       "_model_module_version": "~2.1.4",
       "_view_module_version": "~2.1.4"
      }
     },
     "a205fecd50b24a8ba491a478eb759ae5": {
      "model_module": "jupyter-js-widgets",
      "model_module_version": "~2.1.4",
      "model_name": "IntSliderModel",
      "state": {
       "_model_module_version": "~2.1.4",
       "_view_module_version": "~2.1.4",
       "description": "i",
       "layout": "IPY_MODEL_81df0e93b7cd40d0b263dfaa5330cf70",
       "max": 369,
       "style": "IPY_MODEL_00ea75783f5242fab87ba211a538b955",
       "value": 150
      }
     },
     "a21e5cf3d4b34d98959aad13b87b4ec8": {
      "model_module": "jupyter-js-widgets",
      "model_module_version": "~2.1.4",
      "model_name": "SliderStyleModel",
      "state": {
       "_model_module_version": "~2.1.4",
       "_view_module_version": "~2.1.4"
      }
     },
     "a21fb88576974f2f93a6aaad585eca8f": {
      "model_module": "jupyter-js-widgets",
      "model_module_version": "~2.1.4",
      "model_name": "IntSliderModel",
      "state": {
       "_model_module_version": "~2.1.4",
       "_view_module_version": "~2.1.4",
       "description": "vmin",
       "layout": "IPY_MODEL_1652c3b171784ad48ffb9112c6e6df63",
       "max": 65535,
       "step": 10,
       "style": "IPY_MODEL_4dcea4bd0d1f474280f722d2140eded1",
       "value": 32760
      }
     },
     "a238facc5bdf4fb6ad90c79265a6f8d9": {
      "model_module": "jupyter-js-widgets",
      "model_module_version": "~2.1.4",
      "model_name": "SliderStyleModel",
      "state": {
       "_model_module_version": "~2.1.4",
       "_view_module_version": "~2.1.4"
      }
     },
     "a27df6d8d16b430082efe958c02da592": {
      "model_module": "jupyter-js-widgets",
      "model_module_version": "~2.1.4",
      "model_name": "OutputModel",
      "state": {
       "_dom_classes": [],
       "_model_module": "jupyter-js-widgets",
       "_model_module_version": "~2.1.4",
       "_view_module": "jupyter-js-widgets",
       "_view_module_version": "~2.1.4",
       "layout": "IPY_MODEL_2b06f7b147984a5fb6180b9b471afde9",
       "msg_throttle": 1
      }
     },
     "a29cb48c92b24f3497efba01ced7dbb8": {
      "model_module": "jupyter-js-widgets",
      "model_module_version": "~2.1.4",
      "model_name": "FloatSliderModel",
      "state": {
       "_model_module_version": "~2.1.4",
       "_view_module_version": "~2.1.4",
       "description": "vmax",
       "layout": "IPY_MODEL_87f8baf760db41758ad561e3ec924951",
       "max": 0.078,
       "min": -0.026,
       "step": 0.1,
       "value": 0.026
      }
     },
     "a2aa22e2f3f44efa8bdee82d32f2f01a": {
      "model_module": "jupyter-js-widgets",
      "model_module_version": "~2.1.4",
      "model_name": "IntSliderModel",
      "state": {
       "_model_module_version": "~2.1.4",
       "_view_module_version": "~2.1.4",
       "description": "i",
       "layout": "IPY_MODEL_244a25f439c542f397184b505a420e13",
       "max": 369,
       "style": "IPY_MODEL_967da51cef9f4dbdb91b5d5e89f652ad",
       "value": 150
      }
     },
     "a2ba6d37590e48a8ad0c99193f8669dc": {
      "model_module": "jupyter-js-widgets",
      "model_module_version": "~2.1.4",
      "model_name": "LayoutModel",
      "state": {
       "_model_module_version": "~2.1.4",
       "_view_module_version": "~2.1.4"
      }
     },
     "a32589d0e3f04607ba89823c286eb677": {
      "model_module": "jupyter-js-widgets",
      "model_module_version": "~2.1.4",
      "model_name": "LayoutModel",
      "state": {
       "_model_module_version": "~2.1.4",
       "_view_module_version": "~2.1.4"
      }
     },
     "a351022757df479fbb86bba5f4677a72": {
      "model_module": "jupyter-js-widgets",
      "model_module_version": "~2.1.4",
      "model_name": "SliderStyleModel",
      "state": {
       "_model_module_version": "~2.1.4",
       "_view_module_version": "~2.1.4"
      }
     },
     "a36675fb276d45b0a7c444266ec1877f": {
      "model_module": "jupyter-js-widgets",
      "model_module_version": "~2.1.4",
      "model_name": "LayoutModel",
      "state": {
       "_model_module_version": "~2.1.4",
       "_view_module_version": "~2.1.4"
      }
     },
     "a37327c672a148a38221f37dd56f3333": {
      "model_module": "jupyter-js-widgets",
      "model_module_version": "~2.1.4",
      "model_name": "DropdownModel",
      "state": {
       "_model_module_version": "~2.1.4",
       "_options_labels": [
        "3",
        "5",
        "7"
       ],
       "_view_module_version": "~2.1.4",
       "description": "size",
       "layout": "IPY_MODEL_a2ba6d37590e48a8ad0c99193f8669dc",
       "value": "3"
      }
     },
     "a399770f722c42099b015b80b232d193": {
      "model_module": "jupyter-js-widgets",
      "model_module_version": "~2.1.4",
      "model_name": "SliderStyleModel",
      "state": {
       "_model_module_version": "~2.1.4",
       "_view_module_version": "~2.1.4"
      }
     },
     "a3da71f8ae254b799d33e5ea872e357c": {
      "model_module": "jupyter-js-widgets",
      "model_module_version": "~2.1.4",
      "model_name": "DropdownModel",
      "state": {
       "_model_module_version": "~2.1.4",
       "_options_labels": [
        "Projections",
        "Open beam images",
        "Dark images"
       ],
       "_view_module_version": "~2.1.4",
       "description": "ims",
       "layout": "IPY_MODEL_8826f9f9bfae4d6fa7c7ed3eeff70730",
       "value": "Projections"
      }
     },
     "a40b1f4a24804f03a415aec304f62c7e": {
      "model_module": "jupyter-js-widgets",
      "model_module_version": "~2.1.4",
      "model_name": "SliderStyleModel",
      "state": {
       "_model_module_version": "~2.1.4",
       "_view_module_version": "~2.1.4"
      }
     },
     "a471893235f54b48be4b241fca0e9b8e": {
      "model_module": "jupyter-js-widgets",
      "model_module_version": "~2.1.4",
      "model_name": "LayoutModel",
      "state": {
       "_model_module_version": "~2.1.4",
       "_view_module_version": "~2.1.4"
      }
     },
     "a4aab279ae96433798ef1c60675a33ff": {
      "model_module": "jupyter-js-widgets",
      "model_module_version": "~2.1.4",
      "model_name": "SliderStyleModel",
      "state": {
       "_model_module_version": "~2.1.4",
       "_view_module_version": "~2.1.4"
      }
     },
     "a4e5627a06614efeb9598db39b8eb895": {
      "model_module": "jupyter-js-widgets",
      "model_module_version": "~2.1.4",
      "model_name": "LayoutModel",
      "state": {
       "_model_module_version": "~2.1.4",
       "_view_module_version": "~2.1.4"
      }
     },
     "a4f0631c09b54cb0b985cb19be1debe3": {
      "model_module": "jupyter-js-widgets",
      "model_module_version": "~2.1.4",
      "model_name": "OutputModel",
      "state": {
       "_dom_classes": [],
       "_model_module": "jupyter-js-widgets",
       "_model_module_version": "~2.1.4",
       "_view_module": "jupyter-js-widgets",
       "_view_module_version": "~2.1.4",
       "layout": "IPY_MODEL_ff786c6b33164644a57aad5375732953",
       "msg_throttle": 1
      }
     },
     "a51fa8495448493ca3004551b99ae32d": {
      "model_module": "jupyter-js-widgets",
      "model_module_version": "~2.1.4",
      "model_name": "OutputModel",
      "state": {
       "_dom_classes": [],
       "_model_module": "jupyter-js-widgets",
       "_model_module_version": "~2.1.4",
       "_view_module": "jupyter-js-widgets",
       "_view_module_version": "~2.1.4",
       "layout": "IPY_MODEL_a5abbbba50584d2694396549822ff65a",
       "msg_throttle": 1
      }
     },
     "a5248bc9916c44bdacbbca1168c2067d": {
      "model_module": "jupyter-js-widgets",
      "model_module_version": "~2.1.4",
      "model_name": "LayoutModel",
      "state": {
       "_model_module_version": "~2.1.4",
       "_view_module_version": "~2.1.4"
      }
     },
     "a5385c1d47dc41159e2bcf17d2d6cd75": {
      "model_module": "jupyter-js-widgets",
      "model_module_version": "~2.1.4",
      "model_name": "DropdownModel",
      "state": {
       "_model_module_version": "~2.1.4",
       "_options_labels": [
        "3",
        "5",
        "7"
       ],
       "_view_module_version": "~2.1.4",
       "description": "size",
       "layout": "IPY_MODEL_b2e8f9cc0a8643ef922bdb43f74f8134",
       "value": "3"
      }
     },
     "a5a84e4957a8450c945f55ea88a9a988": {
      "model_module": "jupyter-js-widgets",
      "model_module_version": "~2.1.4",
      "model_name": "LayoutModel",
      "state": {
       "_model_module_version": "~2.1.4",
       "_view_module_version": "~2.1.4"
      }
     },
     "a5a8b01d9d9a47c7a5c8d6b6aa457870": {
      "model_module": "jupyter-js-widgets",
      "model_module_version": "~2.1.4",
      "model_name": "SliderStyleModel",
      "state": {
       "_model_module_version": "~2.1.4",
       "_view_module_version": "~2.1.4"
      }
     },
     "a5abbbba50584d2694396549822ff65a": {
      "model_module": "jupyter-js-widgets",
      "model_module_version": "~2.1.4",
      "model_name": "LayoutModel",
      "state": {
       "_model_module_version": "~2.1.4",
       "_view_module_version": "~2.1.4"
      }
     },
     "a5b35f052a684e24914fbaaf86a443dd": {
      "model_module": "jupyter-js-widgets",
      "model_module_version": "~2.1.4",
      "model_name": "VBoxModel",
      "state": {
       "_dom_classes": [
        "widget-interact"
       ],
       "_model_module_version": "~2.1.4",
       "_view_module_version": "~2.1.4",
       "children": [
        "IPY_MODEL_05ebd25ee8744fd2a2f78ba742d4e657",
        "IPY_MODEL_74e4fc51c4b74ff1a1b15a1ef232387b",
        "IPY_MODEL_89ff1788968e4d47b881d27b68dda3a1",
        "IPY_MODEL_384b9f260cf44acbb795382ee7a9c768"
       ],
       "layout": "IPY_MODEL_258fab6201814ab3b721cea6d23a30fb"
      }
     },
     "a5e911f8457042e3a1d229a30cf984bd": {
      "model_module": "jupyter-js-widgets",
      "model_module_version": "~2.1.4",
      "model_name": "VBoxModel",
      "state": {
       "_dom_classes": [
        "widget-interact"
       ],
       "_model_module_version": "~2.1.4",
       "_view_module_version": "~2.1.4",
       "layout": "IPY_MODEL_e6275c8c1ca248fe90d369b201a8294f"
      }
     },
     "a5eeb505b5ee41a8be715348e4da54fd": {
      "model_module": "jupyter-js-widgets",
      "model_module_version": "~2.1.4",
      "model_name": "DropdownModel",
      "state": {
       "_model_module_version": "~2.1.4",
       "_options_labels": [
        "Projections",
        "Open beam images",
        "Dark images"
       ],
       "_view_module_version": "~2.1.4",
       "description": "ims",
       "layout": "IPY_MODEL_96620e37ebca4be7897ed6ec4d848d87",
       "value": "Projections"
      }
     },
     "a5fb938611814944b452355eea393b89": {
      "model_module": "jupyter-js-widgets",
      "model_module_version": "~2.1.4",
      "model_name": "VBoxModel",
      "state": {
       "_dom_classes": [
        "widget-interact"
       ],
       "_model_module_version": "~2.1.4",
       "_view_module_version": "~2.1.4",
       "children": [
        "IPY_MODEL_75ec1a648d8a4f7187292d4ceb9e9432",
        "IPY_MODEL_487d1d4d83b44906b37a02de8488dd33",
        "IPY_MODEL_ee489b7b500049f997dfa80a3ff0fa73",
        "IPY_MODEL_2ddfc5cb653044f7a397f817ec086239"
       ],
       "layout": "IPY_MODEL_f5b2370d9bfb41ca99667b31fe6d6b5f"
      }
     },
     "a63a372264cd421a8713b47b12f9e99a": {
      "model_module": "jupyter-js-widgets",
      "model_module_version": "~2.1.4",
      "model_name": "LayoutModel",
      "state": {
       "_model_module_version": "~2.1.4",
       "_view_module_version": "~2.1.4"
      }
     },
     "a6604ac5e4c14469b0bb756f22373093": {
      "model_module": "jupyter-js-widgets",
      "model_module_version": "~2.1.4",
      "model_name": "LayoutModel",
      "state": {
       "_model_module_version": "~2.1.4",
       "_view_module_version": "~2.1.4"
      }
     },
     "a6ea38194c0648a3bed3f2819cf23edb": {
      "model_module": "jupyter-js-widgets",
      "model_module_version": "~2.1.4",
      "model_name": "OutputModel",
      "state": {
       "_dom_classes": [],
       "_model_module": "jupyter-js-widgets",
       "_model_module_version": "~2.1.4",
       "_view_module": "jupyter-js-widgets",
       "_view_module_version": "~2.1.4",
       "layout": "IPY_MODEL_007c89829aab451a8a03fdc4040193e5",
       "msg_throttle": 1
      }
     },
     "a728e8de84e043c39c65fab2100feefe": {
      "model_module": "jupyter-js-widgets",
      "model_module_version": "~2.1.4",
      "model_name": "IntSliderModel",
      "state": {
       "_model_module_version": "~2.1.4",
       "_view_module_version": "~2.1.4",
       "description": "vmin",
       "layout": "IPY_MODEL_b9c40de5e4784507934c404f46475d21",
       "max": 65535,
       "style": "IPY_MODEL_a351022757df479fbb86bba5f4677a72"
      }
     },
     "a7732eb17d294f54b9a550385e84c820": {
      "model_module": "jupyter-js-widgets",
      "model_module_version": "~2.1.4",
      "model_name": "IntSliderModel",
      "state": {
       "_model_module_version": "~2.1.4",
       "_view_module_version": "~2.1.4",
       "description": "vmax",
       "layout": "IPY_MODEL_33bdf427175444e493a729686d56799a",
       "max": 65535,
       "style": "IPY_MODEL_a8fa2a2d252149a9bcd6389abbb21a27",
       "value": 65535
      }
     },
     "a7c8a629cda846acae12ad7dda641884": {
      "model_module": "jupyter-js-widgets",
      "model_module_version": "~2.1.4",
      "model_name": "DropdownModel",
      "state": {
       "_model_module_version": "~2.1.4",
       "_options_labels": [
        "10",
        "100",
        "250",
        "500",
        "750",
        "1000"
       ],
       "_view_module_version": "~2.1.4",
       "description": "diff",
       "layout": "IPY_MODEL_17bb6705137847b881434b695dbcdfc7",
       "value": "1000"
      }
     },
     "a7cd6a2bfd2c4a53823095c5c131f61c": {
      "model_module": "jupyter-js-widgets",
      "model_module_version": "~2.1.4",
      "model_name": "IntSliderModel",
      "state": {
       "_model_module_version": "~2.1.4",
       "_view_module_version": "~2.1.4",
       "description": "vmax",
       "layout": "IPY_MODEL_6462e69cc198425b8394ddddb0823ea0",
       "max": 65535,
       "style": "IPY_MODEL_2494985ac2584bcebf9881c3a69916c4",
       "value": 65535
      }
     },
     "a7e1495bdc114f2da999d0202649bfcc": {
      "model_module": "jupyter-js-widgets",
      "model_module_version": "~2.1.4",
      "model_name": "IntSliderModel",
      "state": {
       "_model_module_version": "~2.1.4",
       "_view_module_version": "~2.1.4",
       "description": "i",
       "layout": "IPY_MODEL_e3b0a0a63b6641b898b97cbaee256ef5",
       "max": 369,
       "style": "IPY_MODEL_93ebdd0d90e54fe1b0addc8fdb7195f5",
       "value": 150
      }
     },
     "a8031dc5ccae41668294bf0ee3393ec6": {
      "model_module": "jupyter-js-widgets",
      "model_module_version": "~2.1.4",
      "model_name": "VBoxModel",
      "state": {
       "_dom_classes": [
        "widget-interact"
       ],
       "_model_module_version": "~2.1.4",
       "_view_module_version": "~2.1.4",
       "children": [
        "IPY_MODEL_0aa04b7b27bc423992b9ac81ab05703b",
        "IPY_MODEL_61e96e3d3f1c47bb97bd3367166e5d09"
       ],
       "layout": "IPY_MODEL_30717d36d7a6431eaf69e697e888fce8"
      }
     },
     "a85f4c1b3892483ebe2cae298e5dc83a": {
      "model_module": "jupyter-js-widgets",
      "model_module_version": "~2.1.4",
      "model_name": "DropdownModel",
      "state": {
       "_model_module_version": "~2.1.4",
       "_options_labels": [
        "3",
        "5",
        "7"
       ],
       "_view_module_version": "~2.1.4",
       "description": "size",
       "layout": "IPY_MODEL_5c11763444ff4a708136bebd3319c16f",
       "value": "3"
      }
     },
     "a860867520b5459595da9a582d56a5af": {
      "model_module": "jupyter-js-widgets",
      "model_module_version": "~2.1.4",
      "model_name": "SliderStyleModel",
      "state": {
       "_model_module_version": "~2.1.4",
       "_view_module_version": "~2.1.4"
      }
     },
     "a8add150f61b43c2886d0055e774e752": {
      "model_module": "jupyter-js-widgets",
      "model_module_version": "~2.1.4",
      "model_name": "SliderStyleModel",
      "state": {
       "_model_module_version": "~2.1.4",
       "_view_module_version": "~2.1.4"
      }
     },
     "a8bcd242ddbf4a43b8e917a222ecdbe5": {
      "model_module": "jupyter-js-widgets",
      "model_module_version": "~2.1.4",
      "model_name": "VBoxModel",
      "state": {
       "_dom_classes": [
        "widget-interact"
       ],
       "_model_module_version": "~2.1.4",
       "_view_module_version": "~2.1.4",
       "children": [
        "IPY_MODEL_e098694f21fe45c993c9bfadca0e59ef",
        "IPY_MODEL_e0511d13b59c4ef8a3a0519da23d19e4"
       ],
       "layout": "IPY_MODEL_1402ee8a25f942ef8474584ee652d513"
      }
     },
     "a8fa2a2d252149a9bcd6389abbb21a27": {
      "model_module": "jupyter-js-widgets",
      "model_module_version": "~2.1.4",
      "model_name": "SliderStyleModel",
      "state": {
       "_model_module_version": "~2.1.4",
       "_view_module_version": "~2.1.4"
      }
     },
     "a92a26370a904dfe9eed02ae89f3218e": {
      "model_module": "jupyter-js-widgets",
      "model_module_version": "~2.1.4",
      "model_name": "LayoutModel",
      "state": {
       "_model_module_version": "~2.1.4",
       "_view_module_version": "~2.1.4"
      }
     },
     "a9395c1bd8f74dd99713bff9fbb89f6b": {
      "model_module": "jupyter-js-widgets",
      "model_module_version": "~2.1.4",
      "model_name": "IntSliderModel",
      "state": {
       "_model_module_version": "~2.1.4",
       "_view_module_version": "~2.1.4",
       "description": "i",
       "layout": "IPY_MODEL_f490b44a29bd48d58ae092f81ad35e3f",
       "max": 800,
       "style": "IPY_MODEL_7b35c627972145db9040689955a3f71a"
      }
     },
     "a93b549f63e341b1996645f036e37111": {
      "model_module": "jupyter-js-widgets",
      "model_module_version": "~2.1.4",
      "model_name": "SliderStyleModel",
      "state": {
       "_model_module_version": "~2.1.4",
       "_view_module_version": "~2.1.4"
      }
     },
     "a9644260ef9149e5bc7dc7b4ebc1fa94": {
      "model_module": "jupyter-js-widgets",
      "model_module_version": "~2.1.4",
      "model_name": "LayoutModel",
      "state": {
       "_model_module_version": "~2.1.4",
       "_view_module_version": "~2.1.4"
      }
     },
     "a96783e0446a4457b1811c28bb605a25": {
      "model_module": "jupyter-js-widgets",
      "model_module_version": "~2.1.4",
      "model_name": "LayoutModel",
      "state": {
       "_model_module_version": "~2.1.4",
       "_view_module_version": "~2.1.4"
      }
     },
     "a9b773fd39d14df2a95ec6fa311ca8f8": {
      "model_module": "jupyter-js-widgets",
      "model_module_version": "~2.1.4",
      "model_name": "LayoutModel",
      "state": {
       "_model_module_version": "~2.1.4",
       "_view_module_version": "~2.1.4"
      }
     },
     "a9c9dfac56874bc7858cb9abf1e813ad": {
      "model_module": "jupyter-js-widgets",
      "model_module_version": "~2.1.4",
      "model_name": "VBoxModel",
      "state": {
       "_dom_classes": [
        "widget-interact"
       ],
       "_model_module_version": "~2.1.4",
       "_view_module_version": "~2.1.4",
       "children": [
        "IPY_MODEL_54d0420ee50744b69533fa036748d4b8",
        "IPY_MODEL_d399db4566b84bf9933cc8322cc1c294",
        "IPY_MODEL_75e99f5ac0d44784b9e5a71c81ba2cf5",
        "IPY_MODEL_054fb7ab31e044f7bfeedc78e07faf1b"
       ],
       "layout": "IPY_MODEL_5a175e56d2d1478f9f62b73c469ad6cc"
      }
     },
     "a9dde58c5e7b48c4a4ec99838cbd2cf4": {
      "model_module": "jupyter-js-widgets",
      "model_module_version": "~2.1.4",
      "model_name": "LayoutModel",
      "state": {
       "_model_module_version": "~2.1.4",
       "_view_module_version": "~2.1.4"
      }
     },
     "aad9c2f2b32a492b8a6a33f9f72bc0f3": {
      "model_module": "jupyter-js-widgets",
      "model_module_version": "~2.1.4",
      "model_name": "IntSliderModel",
      "state": {
       "_model_module_version": "~2.1.4",
       "_view_module_version": "~2.1.4",
       "description": "vmin",
       "layout": "IPY_MODEL_ab8a7939201b4f88976e4974ac6bfaca",
       "max": 65535,
       "style": "IPY_MODEL_f30797aa1f834493ac06fd6ed943103b"
      }
     },
     "aadc32066bab40bdac1ad6d2a5d430f6": {
      "model_module": "jupyter-js-widgets",
      "model_module_version": "~2.1.4",
      "model_name": "SliderStyleModel",
      "state": {
       "_model_module_version": "~2.1.4",
       "_view_module_version": "~2.1.4"
      }
     },
     "ab15e6f9a25b48bbbcda5f015916b506": {
      "model_module": "jupyter-js-widgets",
      "model_module_version": "~2.1.4",
      "model_name": "LayoutModel",
      "state": {
       "_model_module_version": "~2.1.4",
       "_view_module_version": "~2.1.4"
      }
     },
     "ab19f67f2d814f8f86bb634128a08510": {
      "model_module": "jupyter-js-widgets",
      "model_module_version": "~2.1.4",
      "model_name": "LayoutModel",
      "state": {
       "_model_module_version": "~2.1.4",
       "_view_module_version": "~2.1.4"
      }
     },
     "ab267072c45a409184071a41fb1deb9d": {
      "model_module": "jupyter-js-widgets",
      "model_module_version": "~2.1.4",
      "model_name": "LayoutModel",
      "state": {
       "_model_module_version": "~2.1.4",
       "_view_module_version": "~2.1.4"
      }
     },
     "ab779953cf6a4c9d98b755128dada98e": {
      "model_module": "jupyter-js-widgets",
      "model_module_version": "~2.1.4",
      "model_name": "SliderStyleModel",
      "state": {
       "_model_module_version": "~2.1.4",
       "_view_module_version": "~2.1.4"
      }
     },
     "ab8a7939201b4f88976e4974ac6bfaca": {
      "model_module": "jupyter-js-widgets",
      "model_module_version": "~2.1.4",
      "model_name": "LayoutModel",
      "state": {
       "_model_module_version": "~2.1.4",
       "_view_module_version": "~2.1.4"
      }
     },
     "abdadfd7f60b4802bf2782e26989d174": {
      "model_module": "jupyter-js-widgets",
      "model_module_version": "~2.1.4",
      "model_name": "LayoutModel",
      "state": {
       "_model_module_version": "~2.1.4",
       "_view_module_version": "~2.1.4"
      }
     },
     "ac16483f4336408daaac6175224c9f12": {
      "model_module": "jupyter-js-widgets",
      "model_module_version": "~2.1.4",
      "model_name": "LayoutModel",
      "state": {
       "_model_module_version": "~2.1.4",
       "_view_module_version": "~2.1.4"
      }
     },
     "ac3b7ba596ac4d7481ccb65426bd0d78": {
      "model_module": "jupyter-js-widgets",
      "model_module_version": "~2.1.4",
      "model_name": "IntSliderModel",
      "state": {
       "_model_module_version": "~2.1.4",
       "_view_module_version": "~2.1.4",
       "description": "vmax",
       "layout": "IPY_MODEL_d27bcda0fdae4811a3a67eb8820f7659",
       "max": 65535,
       "style": "IPY_MODEL_a21e5cf3d4b34d98959aad13b87b4ec8",
       "value": 65535
      }
     },
     "aca99ce98cef4bfd899c9cc469cb7dfb": {
      "model_module": "jupyter-js-widgets",
      "model_module_version": "~2.1.4",
      "model_name": "LayoutModel",
      "state": {
       "_model_module_version": "~2.1.4",
       "_view_module_version": "~2.1.4"
      }
     },
     "acac5269613c4eb9999f948da1c4fa5d": {
      "model_module": "jupyter-js-widgets",
      "model_module_version": "~2.1.4",
      "model_name": "VBoxModel",
      "state": {
       "_dom_classes": [
        "widget-interact"
       ],
       "_model_module_version": "~2.1.4",
       "_view_module_version": "~2.1.4",
       "children": [
        "IPY_MODEL_04cf29f6bf3c4f6f997aeadbb8678d25",
        "IPY_MODEL_1622eec504f44534abce450bc061c6a4",
        "IPY_MODEL_308731867f8f4edaba4e5311627038bc",
        "IPY_MODEL_e2c89f6fb1134d0db7f4c86c7f738cc3",
        "IPY_MODEL_03b5765ddbcc475b8a764fa3a4f41667"
       ],
       "layout": "IPY_MODEL_98e8c622512447b98d7befb9a4f48f7b"
      }
     },
     "acc7ead0a5544a2ab83ef85d3d7dd027": {
      "model_module": "jupyter-js-widgets",
      "model_module_version": "~2.1.4",
      "model_name": "LayoutModel",
      "state": {
       "_model_module_version": "~2.1.4",
       "_view_module_version": "~2.1.4"
      }
     },
     "acec90ac12ec4249b44ee8031a3f5138": {
      "model_module": "jupyter-js-widgets",
      "model_module_version": "~2.1.4",
      "model_name": "LayoutModel",
      "state": {
       "_model_module_version": "~2.1.4",
       "_view_module_version": "~2.1.4"
      }
     },
     "ad15e1fae5a74c16aa2a96b731ba81f4": {
      "model_module": "jupyter-js-widgets",
      "model_module_version": "~2.1.4",
      "model_name": "LayoutModel",
      "state": {
       "_model_module_version": "~2.1.4",
       "_view_module_version": "~2.1.4"
      }
     },
     "ad56e14eac314a68a44c52f681fee595": {
      "model_module": "jupyter-js-widgets",
      "model_module_version": "~2.1.4",
      "model_name": "SliderStyleModel",
      "state": {
       "_model_module_version": "~2.1.4",
       "_view_module_version": "~2.1.4"
      }
     },
     "ad68c5f17bce4f03b4b99e0af44e8ba4": {
      "model_module": "jupyter-js-widgets",
      "model_module_version": "~2.1.4",
      "model_name": "LayoutModel",
      "state": {
       "_model_module_version": "~2.1.4",
       "_view_module_version": "~2.1.4"
      }
     },
     "ad8ac44c23904637a6e2d4fb6361495e": {
      "model_module": "jupyter-js-widgets",
      "model_module_version": "~2.1.4",
      "model_name": "IntSliderModel",
      "state": {
       "_model_module_version": "~2.1.4",
       "_view_module_version": "~2.1.4",
       "description": "vmin",
       "layout": "IPY_MODEL_3c68da0a50944739986853f0dd5e59ae",
       "max": 65535,
       "style": "IPY_MODEL_c1ca409739bb41af9ae540de284c6081"
      }
     },
     "adc72a8ac3a24163953fd2ea115c5441": {
      "model_module": "jupyter-js-widgets",
      "model_module_version": "~2.1.4",
      "model_name": "VBoxModel",
      "state": {
       "_dom_classes": [
        "widget-interact"
       ],
       "_model_module_version": "~2.1.4",
       "_view_module_version": "~2.1.4",
       "children": [
        "IPY_MODEL_736b3cd5b1cd4d2eb170953099c6bc92",
        "IPY_MODEL_b53b2c2f3e5e4948a78648eb4b7ef28f",
        "IPY_MODEL_c79d5f6a67b74690b2ffcb9785aafea5"
       ],
       "layout": "IPY_MODEL_de050c01c4a44ed2acce7a4b72ccf959"
      }
     },
     "ae15c16bf60043788a0e79fc4874007d": {
      "model_module": "jupyter-js-widgets",
      "model_module_version": "~2.1.4",
      "model_name": "LayoutModel",
      "state": {
       "_model_module_version": "~2.1.4",
       "_view_module_version": "~2.1.4"
      }
     },
     "ae2352b155894457b9c9811b08f739ae": {
      "model_module": "jupyter-js-widgets",
      "model_module_version": "~2.1.4",
      "model_name": "LayoutModel",
      "state": {
       "_model_module_version": "~2.1.4",
       "_view_module_version": "~2.1.4"
      }
     },
     "ae4d68b49544431ab507823dda0ca50b": {
      "model_module": "jupyter-js-widgets",
      "model_module_version": "~2.1.4",
      "model_name": "LayoutModel",
      "state": {
       "_model_module_version": "~2.1.4",
       "_view_module_version": "~2.1.4"
      }
     },
     "ae58a7e4df1a4f0b9de214e8299ecc8a": {
      "model_module": "jupyter-js-widgets",
      "model_module_version": "~2.1.4",
      "model_name": "VBoxModel",
      "state": {
       "_dom_classes": [
        "widget-interact"
       ],
       "_model_module_version": "~2.1.4",
       "_view_module_version": "~2.1.4",
       "children": [
        "IPY_MODEL_4738a70508a34a9b856f5dd5992a1c94",
        "IPY_MODEL_3afdec896732486fae9744832ee9ef94",
        "IPY_MODEL_0f4efb3201e14a5f9083bd706f362eba",
        "IPY_MODEL_7f80f986aed44176a52af2c84635dc63",
        "IPY_MODEL_1bbe4cc779d54931aea4bf335ad31b92"
       ],
       "layout": "IPY_MODEL_02c12be037e14dc385716ddd9ecddb09"
      }
     },
     "ae712843620e40778e5cdffc6c605f80": {
      "model_module": "jupyter-js-widgets",
      "model_module_version": "~2.1.4",
      "model_name": "IntSliderModel",
      "state": {
       "_model_module_version": "~2.1.4",
       "_view_module_version": "~2.1.4",
       "description": "i",
       "layout": "IPY_MODEL_d6cd69bd70ba4ef3ae3d8daaacf30024",
       "max": 369,
       "style": "IPY_MODEL_6b8b1d37035a464aa17942f4adad3650",
       "value": 150
      }
     },
     "ae724c1671e8499190d1435b4d32a19a": {
      "model_module": "jupyter-js-widgets",
      "model_module_version": "~2.1.4",
      "model_name": "LayoutModel",
      "state": {
       "_model_module_version": "~2.1.4",
       "_view_module_version": "~2.1.4"
      }
     },
     "aeba23126155458ba05b393c3ccdc0a6": {
      "model_module": "jupyter-js-widgets",
      "model_module_version": "~2.1.4",
      "model_name": "FloatSliderModel",
      "state": {
       "_model_module_version": "~2.1.4",
       "_view_module_version": "~2.1.4",
       "description": "vmin",
       "layout": "IPY_MODEL_708dd96405314d559316db27d949fd93",
       "max": 1.4,
       "step": 0.1
      }
     },
     "af43b226f987473ebd74aaac843bd35d": {
      "model_module": "jupyter-js-widgets",
      "model_module_version": "~2.1.4",
      "model_name": "LayoutModel",
      "state": {
       "_model_module_version": "~2.1.4",
       "_view_module_version": "~2.1.4"
      }
     },
     "af8fc53eae32414d8b9991cff9831c0f": {
      "model_module": "jupyter-js-widgets",
      "model_module_version": "~2.1.4",
      "model_name": "IntSliderModel",
      "state": {
       "_model_module_version": "~2.1.4",
       "_view_module_version": "~2.1.4",
       "description": "i",
       "layout": "IPY_MODEL_094bda9aef3047f9bc48290f9d3c552a",
       "max": 800,
       "style": "IPY_MODEL_a238facc5bdf4fb6ad90c79265a6f8d9"
      }
     },
     "af9ce2b589f54a7587025b24a1b2ecbe": {
      "model_module": "jupyter-js-widgets",
      "model_module_version": "~2.1.4",
      "model_name": "LayoutModel",
      "state": {
       "_model_module_version": "~2.1.4",
       "_view_module_version": "~2.1.4"
      }
     },
     "afa24784edbc4d19bbef914374f58aff": {
      "model_module": "jupyter-js-widgets",
      "model_module_version": "~2.1.4",
      "model_name": "VBoxModel",
      "state": {
       "_dom_classes": [
        "widget-interact"
       ],
       "_model_module_version": "~2.1.4",
       "_view_module_version": "~2.1.4",
       "children": [
        "IPY_MODEL_3b2a94210f7e410991ede8e46f0ed76e",
        "IPY_MODEL_b949caa6abd5408b8539f24d5a688474"
       ],
       "layout": "IPY_MODEL_46a2b5f741a14e7a89e303e86206f47e"
      }
     },
     "b0100f9eb24f4504988af88fec3e96d6": {
      "model_module": "jupyter-js-widgets",
      "model_module_version": "~2.1.4",
      "model_name": "LayoutModel",
      "state": {
       "_model_module_version": "~2.1.4",
       "_view_module_version": "~2.1.4"
      }
     },
     "b049ff60ce894c35b2f41efe22aa112a": {
      "model_module": "jupyter-js-widgets",
      "model_module_version": "~2.1.4",
      "model_name": "LayoutModel",
      "state": {
       "_model_module_version": "~2.1.4",
       "_view_module_version": "~2.1.4"
      }
     },
     "b05d75fae0b24a2dadc2a188fd69e0bd": {
      "model_module": "jupyter-js-widgets",
      "model_module_version": "~2.1.4",
      "model_name": "IntSliderModel",
      "state": {
       "_model_module_version": "~2.1.4",
       "_view_module_version": "~2.1.4",
       "description": "vmin",
       "layout": "IPY_MODEL_02c6344a276b4146832f907c10e3a0bb",
       "max": 65535,
       "style": "IPY_MODEL_ea50f4ae8a564196acaab8050484c77c"
      }
     },
     "b07a82e8bc0246669fb89e80446ba796": {
      "model_module": "jupyter-js-widgets",
      "model_module_version": "~2.1.4",
      "model_name": "LayoutModel",
      "state": {
       "_model_module_version": "~2.1.4",
       "_view_module_version": "~2.1.4"
      }
     },
     "b07b1cb060b8478c84088926b0424793": {
      "model_module": "jupyter-js-widgets",
      "model_module_version": "~2.1.4",
      "model_name": "LayoutModel",
      "state": {
       "_model_module_version": "~2.1.4",
       "_view_module_version": "~2.1.4"
      }
     },
     "b09a5dfdbde34c579f182ae4559537b7": {
      "model_module": "jupyter-js-widgets",
      "model_module_version": "~2.1.4",
      "model_name": "LayoutModel",
      "state": {
       "_model_module_version": "~2.1.4",
       "_view_module_version": "~2.1.4"
      }
     },
     "b0ac5edb31aa4107ab16b275010dc007": {
      "model_module": "jupyter-js-widgets",
      "model_module_version": "~2.1.4",
      "model_name": "LayoutModel",
      "state": {
       "_model_module_version": "~2.1.4",
       "_view_module_version": "~2.1.4"
      }
     },
     "b0f51a2f4dea467fbc14b1b4b94206c9": {
      "model_module": "jupyter-js-widgets",
      "model_module_version": "~2.1.4",
      "model_name": "LayoutModel",
      "state": {
       "_model_module_version": "~2.1.4",
       "_view_module_version": "~2.1.4"
      }
     },
     "b0fdba2d8ca246de8ccbf8c9b91445e9": {
      "model_module": "jupyter-js-widgets",
      "model_module_version": "~2.1.4",
      "model_name": "LayoutModel",
      "state": {
       "_model_module_version": "~2.1.4",
       "_view_module_version": "~2.1.4"
      }
     },
     "b11adc6f2daf495eb17ba7a50c3d2ac7": {
      "model_module": "jupyter-js-widgets",
      "model_module_version": "~2.1.4",
      "model_name": "LayoutModel",
      "state": {
       "_model_module_version": "~2.1.4",
       "_view_module_version": "~2.1.4"
      }
     },
     "b13fb1ba7c1e4cbc8456a76d34498ace": {
      "model_module": "jupyter-js-widgets",
      "model_module_version": "~2.1.4",
      "model_name": "SliderStyleModel",
      "state": {
       "_model_module_version": "~2.1.4",
       "_view_module_version": "~2.1.4"
      }
     },
     "b155bc99bd4644bcbdd5a8b50dcec64b": {
      "model_module": "jupyter-js-widgets",
      "model_module_version": "~2.1.4",
      "model_name": "DropdownModel",
      "state": {
       "_model_module_version": "~2.1.4",
       "_options_labels": [
        "Projections",
        "Open beam images",
        "Dark images"
       ],
       "_view_module_version": "~2.1.4",
       "description": "ims",
       "layout": "IPY_MODEL_875d368d04ca4d70b422452852c3a195",
       "value": "Projections"
      }
     },
     "b16b62d3547144a8a85e00a3cbd2a548": {
      "model_module": "jupyter-js-widgets",
      "model_module_version": "~2.1.4",
      "model_name": "LayoutModel",
      "state": {
       "_model_module_version": "~2.1.4",
       "_view_module_version": "~2.1.4"
      }
     },
     "b16e922ebafb42988d3ade3c63567c96": {
      "model_module": "jupyter-js-widgets",
      "model_module_version": "~2.1.4",
      "model_name": "FloatSliderModel",
      "state": {
       "_model_module_version": "~2.1.4",
       "_view_module_version": "~2.1.4",
       "description": "vmax",
       "layout": "IPY_MODEL_efc7b3411fcd43c3b0909fba825b1579",
       "max": 0.009999999776482582,
       "min": -0.004999999888241291,
       "step": 0.001,
       "value": 0.009999999776482582
      }
     },
     "b174d3eb160d4cc6b3abe89e76e7a6c9": {
      "model_module": "jupyter-js-widgets",
      "model_module_version": "~2.1.4",
      "model_name": "LayoutModel",
      "state": {
       "_model_module_version": "~2.1.4",
       "_view_module_version": "~2.1.4"
      }
     },
     "b1b04bc420bd4e8c94995cceb1928bc3": {
      "model_module": "jupyter-js-widgets",
      "model_module_version": "~2.1.4",
      "model_name": "LayoutModel",
      "state": {
       "_model_module_version": "~2.1.4",
       "_view_module_version": "~2.1.4"
      }
     },
     "b20ea9d44717428d9eb506331f012283": {
      "model_module": "jupyter-js-widgets",
      "model_module_version": "~2.1.4",
      "model_name": "LayoutModel",
      "state": {
       "_model_module_version": "~2.1.4",
       "_view_module_version": "~2.1.4"
      }
     },
     "b2333f2ca458478f82f527fca58b2784": {
      "model_module": "jupyter-js-widgets",
      "model_module_version": "~2.1.4",
      "model_name": "OutputModel",
      "state": {
       "_dom_classes": [],
       "_model_module": "jupyter-js-widgets",
       "_model_module_version": "~2.1.4",
       "_view_module": "jupyter-js-widgets",
       "_view_module_version": "~2.1.4",
       "layout": "IPY_MODEL_804bf62d3b9744df91890db7ed004713",
       "msg_throttle": 1
      }
     },
     "b2a2a970c522486ba69d8c7e59dc7424": {
      "model_module": "jupyter-js-widgets",
      "model_module_version": "~2.1.4",
      "model_name": "LayoutModel",
      "state": {
       "_model_module_version": "~2.1.4",
       "_view_module_version": "~2.1.4"
      }
     },
     "b2cbdd9b07d0449a9301575f52d7f0ba": {
      "model_module": "jupyter-js-widgets",
      "model_module_version": "~2.1.4",
      "model_name": "LayoutModel",
      "state": {
       "_model_module_version": "~2.1.4",
       "_view_module_version": "~2.1.4"
      }
     },
     "b2e8f9cc0a8643ef922bdb43f74f8134": {
      "model_module": "jupyter-js-widgets",
      "model_module_version": "~2.1.4",
      "model_name": "LayoutModel",
      "state": {
       "_model_module_version": "~2.1.4",
       "_view_module_version": "~2.1.4"
      }
     },
     "b2f514941219450eb43a0fc09f9439d5": {
      "model_module": "jupyter-js-widgets",
      "model_module_version": "~2.1.4",
      "model_name": "LayoutModel",
      "state": {
       "_model_module_version": "~2.1.4",
       "_view_module_version": "~2.1.4"
      }
     },
     "b33db7ca9ce44a0ebbadc4d5b610ff1d": {
      "model_module": "jupyter-js-widgets",
      "model_module_version": "~2.1.4",
      "model_name": "SliderStyleModel",
      "state": {
       "_model_module_version": "~2.1.4",
       "_view_module_version": "~2.1.4"
      }
     },
     "b37d36b44d1a413f80dcf737cead3c56": {
      "model_module": "jupyter-js-widgets",
      "model_module_version": "~2.1.4",
      "model_name": "SliderStyleModel",
      "state": {
       "_model_module_version": "~2.1.4",
       "_view_module_version": "~2.1.4"
      }
     },
     "b3d8bfe199c94cbf80ea3be4939a74e2": {
      "model_module": "jupyter-js-widgets",
      "model_module_version": "~2.1.4",
      "model_name": "SliderStyleModel",
      "state": {
       "_model_module_version": "~2.1.4",
       "_view_module_version": "~2.1.4"
      }
     },
     "b4303bb6e5924afab52a667a69b3bd18": {
      "model_module": "jupyter-js-widgets",
      "model_module_version": "~2.1.4",
      "model_name": "LayoutModel",
      "state": {
       "_model_module_version": "~2.1.4",
       "_view_module_version": "~2.1.4"
      }
     },
     "b435f0b79f6f4ec59d357c0996b2d5ca": {
      "model_module": "jupyter-js-widgets",
      "model_module_version": "~2.1.4",
      "model_name": "IntSliderModel",
      "state": {
       "_model_module_version": "~2.1.4",
       "_view_module_version": "~2.1.4",
       "description": "vmax",
       "layout": "IPY_MODEL_8bc772b4a33d419b8dc836cb4047360e",
       "max": 65535,
       "style": "IPY_MODEL_77e4300d78d54e02a1b3ba74e6da541f",
       "value": 65535
      }
     },
     "b4719edf87b34a70b086769548464b11": {
      "model_module": "jupyter-js-widgets",
      "model_module_version": "~2.1.4",
      "model_name": "OutputModel",
      "state": {
       "_dom_classes": [],
       "_model_module": "jupyter-js-widgets",
       "_model_module_version": "~2.1.4",
       "_view_module": "jupyter-js-widgets",
       "_view_module_version": "~2.1.4",
       "layout": "IPY_MODEL_a36675fb276d45b0a7c444266ec1877f",
       "msg_throttle": 1
      }
     },
     "b4782dd1942c47889efc6ebbc06a846e": {
      "model_module": "jupyter-js-widgets",
      "model_module_version": "~2.1.4",
      "model_name": "LayoutModel",
      "state": {
       "_model_module_version": "~2.1.4",
       "_view_module_version": "~2.1.4"
      }
     },
     "b4838f3897ee410a938ab78d929d25cd": {
      "model_module": "jupyter-js-widgets",
      "model_module_version": "~2.1.4",
      "model_name": "LayoutModel",
      "state": {
       "_model_module_version": "~2.1.4",
       "_view_module_version": "~2.1.4"
      }
     },
     "b4c453f5b79440e1888ced58257c1dd0": {
      "model_module": "jupyter-js-widgets",
      "model_module_version": "~2.1.4",
      "model_name": "FloatSliderModel",
      "state": {
       "_model_module_version": "~2.1.4",
       "_view_module_version": "~2.1.4",
       "description": "vmin",
       "layout": "IPY_MODEL_18e58770df014a3597da836bdb112700",
       "max": 0.015653500333428383,
       "min": -0.020783809944987297,
       "step": 0.001,
       "value": -0.020783809944987297
      }
     },
     "b4f44bce1f4c439c8b91b470bbf9c8ff": {
      "model_module": "jupyter-js-widgets",
      "model_module_version": "~2.1.4",
      "model_name": "DropdownModel",
      "state": {
       "_model_module_version": "~2.1.4",
       "_options_labels": [
        "Projections",
        "Open beam images",
        "Dark images"
       ],
       "_view_module_version": "~2.1.4",
       "description": "ims",
       "layout": "IPY_MODEL_a32589d0e3f04607ba89823c286eb677",
       "value": "Projections"
      }
     },
     "b50497100c4f46f1bdfc260297309ca6": {
      "model_module": "jupyter-js-widgets",
      "model_module_version": "~2.1.4",
      "model_name": "IntSliderModel",
      "state": {
       "_model_module_version": "~2.1.4",
       "_view_module_version": "~2.1.4",
       "description": "i",
       "layout": "IPY_MODEL_b547b83385f5406b99e40b3bbcd0662f",
       "max": 800,
       "style": "IPY_MODEL_a5a8b01d9d9a47c7a5c8d6b6aa457870",
       "value": 400
      }
     },
     "b51f972b40b44075bd09376cb153268a": {
      "model_module": "jupyter-js-widgets",
      "model_module_version": "~2.1.4",
      "model_name": "LayoutModel",
      "state": {
       "_model_module_version": "~2.1.4",
       "_view_module_version": "~2.1.4"
      }
     },
     "b53b2c2f3e5e4948a78648eb4b7ef28f": {
      "model_module": "jupyter-js-widgets",
      "model_module_version": "~2.1.4",
      "model_name": "DropdownModel",
      "state": {
       "_model_module_version": "~2.1.4",
       "_options_labels": [
        "3",
        "5",
        "7"
       ],
       "_view_module_version": "~2.1.4",
       "description": "size",
       "layout": "IPY_MODEL_92b41ea39b79418da4cb422c34198114",
       "value": "3"
      }
     },
     "b5444f5b8e294ff2a8519546913125b5": {
      "model_module": "jupyter-js-widgets",
      "model_module_version": "~2.1.4",
      "model_name": "LayoutModel",
      "state": {
       "_model_module_version": "~2.1.4",
       "_view_module_version": "~2.1.4"
      }
     },
     "b547b83385f5406b99e40b3bbcd0662f": {
      "model_module": "jupyter-js-widgets",
      "model_module_version": "~2.1.4",
      "model_name": "LayoutModel",
      "state": {
       "_model_module_version": "~2.1.4",
       "_view_module_version": "~2.1.4"
      }
     },
     "b561617208264fdca338f3853266e07d": {
      "model_module": "jupyter-js-widgets",
      "model_module_version": "~2.1.4",
      "model_name": "SliderStyleModel",
      "state": {
       "_model_module_version": "~2.1.4",
       "_view_module_version": "~2.1.4"
      }
     },
     "b56503c616cd42bbb618247d179efda2": {
      "model_module": "jupyter-js-widgets",
      "model_module_version": "~2.1.4",
      "model_name": "LayoutModel",
      "state": {
       "_model_module_version": "~2.1.4",
       "_view_module_version": "~2.1.4"
      }
     },
     "b585ec43855e46d4bec8ebfbd491e240": {
      "model_module": "jupyter-js-widgets",
      "model_module_version": "~2.1.4",
      "model_name": "SliderStyleModel",
      "state": {
       "_model_module_version": "~2.1.4",
       "_view_module_version": "~2.1.4"
      }
     },
     "b5cd42cb647c4727910e12ea006ea893": {
      "model_module": "jupyter-js-widgets",
      "model_module_version": "~2.1.4",
      "model_name": "LayoutModel",
      "state": {
       "_model_module_version": "~2.1.4",
       "_view_module_version": "~2.1.4"
      }
     },
     "b5d35dd9c2094fd7be1dcc9159085be6": {
      "model_module": "jupyter-js-widgets",
      "model_module_version": "~2.1.4",
      "model_name": "SliderStyleModel",
      "state": {
       "_model_module_version": "~2.1.4",
       "_view_module_version": "~2.1.4"
      }
     },
     "b60a403dbefd4f06b95b005a74d87350": {
      "model_module": "jupyter-js-widgets",
      "model_module_version": "~2.1.4",
      "model_name": "LayoutModel",
      "state": {
       "_model_module_version": "~2.1.4",
       "_view_module_version": "~2.1.4"
      }
     },
     "b613feae79724e31b6b4c38b65c42293": {
      "model_module": "jupyter-js-widgets",
      "model_module_version": "~2.1.4",
      "model_name": "LayoutModel",
      "state": {
       "_model_module_version": "~2.1.4",
       "_view_module_version": "~2.1.4"
      }
     },
     "b61523972ac947aca694c6c0dec37fd0": {
      "model_module": "jupyter-js-widgets",
      "model_module_version": "~2.1.4",
      "model_name": "IntSliderModel",
      "state": {
       "_model_module_version": "~2.1.4",
       "_view_module_version": "~2.1.4",
       "description": "i",
       "layout": "IPY_MODEL_b6a79c2fd7b84d3d9345fcd566e7431b",
       "max": 800,
       "style": "IPY_MODEL_0ca5ceaa655d4c44815a5c172ccec0a8",
       "value": 400
      }
     },
     "b65724b7a58e41b3b93cd03a7f999b35": {
      "model_module": "jupyter-js-widgets",
      "model_module_version": "~2.1.4",
      "model_name": "LayoutModel",
      "state": {
       "_model_module_version": "~2.1.4",
       "_view_module_version": "~2.1.4"
      }
     },
     "b6a79c2fd7b84d3d9345fcd566e7431b": {
      "model_module": "jupyter-js-widgets",
      "model_module_version": "~2.1.4",
      "model_name": "LayoutModel",
      "state": {
       "_model_module_version": "~2.1.4",
       "_view_module_version": "~2.1.4"
      }
     },
     "b6c964c4b67a41dcaba84c4b52e7f891": {
      "model_module": "jupyter-js-widgets",
      "model_module_version": "~2.1.4",
      "model_name": "LayoutModel",
      "state": {
       "_model_module_version": "~2.1.4",
       "_view_module_version": "~2.1.4"
      }
     },
     "b6f623b472a84567aaba02028423b405": {
      "model_module": "jupyter-js-widgets",
      "model_module_version": "~2.1.4",
      "model_name": "IntSliderModel",
      "state": {
       "_model_module_version": "~2.1.4",
       "_view_module_version": "~2.1.4",
       "description": "vmin",
       "layout": "IPY_MODEL_54f513fae4464d87a853bb49e2788d99",
       "max": 65535,
       "style": "IPY_MODEL_413a1ba0c10d43bea655a074eecb9ffc"
      }
     },
     "b7732e044b4e48c68f825bcf748f5418": {
      "model_module": "jupyter-js-widgets",
      "model_module_version": "~2.1.4",
      "model_name": "LayoutModel",
      "state": {
       "_model_module_version": "~2.1.4",
       "_view_module_version": "~2.1.4"
      }
     },
     "b79c0c695b064ad593c1eb69aa0f63cb": {
      "model_module": "jupyter-js-widgets",
      "model_module_version": "~2.1.4",
      "model_name": "FloatSliderModel",
      "state": {
       "_model_module_version": "~2.1.4",
       "_view_module_version": "~2.1.4",
       "description": "vmax",
       "layout": "IPY_MODEL_ddd4615eb4c546aba33f0b4a7ea271db",
       "max": 0.010969985276460648,
       "min": -0.007000000216066837,
       "step": 0.001,
       "value": 0.008
      }
     },
     "b7b7917c4c934c37abad0d91641458e9": {
      "model_module": "jupyter-js-widgets",
      "model_module_version": "~2.1.4",
      "model_name": "LayoutModel",
      "state": {
       "_model_module_version": "~2.1.4",
       "_view_module_version": "~2.1.4"
      }
     },
     "b7bcc5dfe62a43138c3854a8dbf511a9": {
      "model_module": "jupyter-js-widgets",
      "model_module_version": "~2.1.4",
      "model_name": "IntSliderModel",
      "state": {
       "_model_module_version": "~2.1.4",
       "_view_module_version": "~2.1.4",
       "description": "i",
       "layout": "IPY_MODEL_ae4d68b49544431ab507823dda0ca50b",
       "max": 800,
       "style": "IPY_MODEL_ba8d2b3efe004608b660b240b1bff5ce",
       "value": 455
      }
     },
     "b7d07fb348e5470494d5a998a9e2b210": {
      "model_module": "jupyter-js-widgets",
      "model_module_version": "~2.1.4",
      "model_name": "SliderStyleModel",
      "state": {
       "_model_module_version": "~2.1.4",
       "_view_module_version": "~2.1.4"
      }
     },
     "b81544181fbf4b0eb051b72aa1098db9": {
      "model_module": "jupyter-js-widgets",
      "model_module_version": "~2.1.4",
      "model_name": "DropdownModel",
      "state": {
       "_model_module_version": "~2.1.4",
       "_options_labels": [
        "Projections",
        "Open beam images",
        "Dark images"
       ],
       "_view_module_version": "~2.1.4",
       "description": "ims",
       "layout": "IPY_MODEL_c9223ac8c62242b6b5a68074dd8ffedd",
       "value": "Projections"
      }
     },
     "b891659b966241a3b8de961ccc4fada2": {
      "model_module": "jupyter-js-widgets",
      "model_module_version": "~2.1.4",
      "model_name": "IntSliderModel",
      "state": {
       "_model_module_version": "~2.1.4",
       "_view_module_version": "~2.1.4",
       "description": "vmin",
       "layout": "IPY_MODEL_e72fd3b520d049b988ee74d83139e78f",
       "max": 65535,
       "style": "IPY_MODEL_d1b2c90b58e347a884c32a4f8cbd19d3"
      }
     },
     "b8b0fbc527df44d3ba5b456b29adcf22": {
      "model_module": "jupyter-js-widgets",
      "model_module_version": "~2.1.4",
      "model_name": "IntSliderModel",
      "state": {
       "_model_module_version": "~2.1.4",
       "_view_module_version": "~2.1.4",
       "description": "vmin",
       "layout": "IPY_MODEL_ea1ad277f8d24dce99986ac0456d257d",
       "max": 65535,
       "style": "IPY_MODEL_b5d35dd9c2094fd7be1dcc9159085be6"
      }
     },
     "b8ba99d8e3084e0bbf382ffb0390ca29": {
      "model_module": "jupyter-js-widgets",
      "model_module_version": "~2.1.4",
      "model_name": "OutputModel",
      "state": {
       "_dom_classes": [],
       "_model_module": "jupyter-js-widgets",
       "_model_module_version": "~2.1.4",
       "_view_module": "jupyter-js-widgets",
       "_view_module_version": "~2.1.4",
       "layout": "IPY_MODEL_13e9d4c43a95417880903c4df8c8e682",
       "msg_throttle": 1
      }
     },
     "b91acf97d75b40ecb3ae2b37fb40367e": {
      "model_module": "jupyter-js-widgets",
      "model_module_version": "~2.1.4",
      "model_name": "LayoutModel",
      "state": {
       "_model_module_version": "~2.1.4",
       "_view_module_version": "~2.1.4"
      }
     },
     "b927cdee1b1f4fb9a3e297ae2b4f944a": {
      "model_module": "jupyter-js-widgets",
      "model_module_version": "~2.1.4",
      "model_name": "OutputModel",
      "state": {
       "_dom_classes": [],
       "_model_module": "jupyter-js-widgets",
       "_model_module_version": "~2.1.4",
       "_view_module": "jupyter-js-widgets",
       "_view_module_version": "~2.1.4",
       "layout": "IPY_MODEL_6f4e35e65c6040a08fdd4e6d9ee29b94",
       "msg_throttle": 1
      }
     },
     "b941239405ac4e9db2bf1cf0f65023ce": {
      "model_module": "jupyter-js-widgets",
      "model_module_version": "~2.1.4",
      "model_name": "LayoutModel",
      "state": {
       "_model_module_version": "~2.1.4",
       "_view_module_version": "~2.1.4"
      }
     },
     "b949caa6abd5408b8539f24d5a688474": {
      "model_module": "jupyter-js-widgets",
      "model_module_version": "~2.1.4",
      "model_name": "OutputModel",
      "state": {
       "_dom_classes": [],
       "_model_module": "jupyter-js-widgets",
       "_model_module_version": "~2.1.4",
       "_view_module": "jupyter-js-widgets",
       "_view_module_version": "~2.1.4",
       "layout": "IPY_MODEL_507ea09556fe4187b85ed8bbcdb0c236",
       "msg_throttle": 1
      }
     },
     "b99b399e29764056b34dfbe19398e11c": {
      "model_module": "jupyter-js-widgets",
      "model_module_version": "~2.1.4",
      "model_name": "LayoutModel",
      "state": {
       "_model_module_version": "~2.1.4",
       "_view_module_version": "~2.1.4"
      }
     },
     "b9c40de5e4784507934c404f46475d21": {
      "model_module": "jupyter-js-widgets",
      "model_module_version": "~2.1.4",
      "model_name": "LayoutModel",
      "state": {
       "_model_module_version": "~2.1.4",
       "_view_module_version": "~2.1.4"
      }
     },
     "b9cbd4b576b340839196aa5b8d64ddd8": {
      "model_module": "jupyter-js-widgets",
      "model_module_version": "~2.1.4",
      "model_name": "IntSliderModel",
      "state": {
       "_model_module_version": "~2.1.4",
       "_view_module_version": "~2.1.4",
       "description": "vmin",
       "layout": "IPY_MODEL_a6604ac5e4c14469b0bb756f22373093",
       "max": 65535,
       "style": "IPY_MODEL_cee51737dfac4425bf8035bae0d5afae"
      }
     },
     "ba1aa0d24c734c59857d6de59578433f": {
      "model_module": "jupyter-js-widgets",
      "model_module_version": "~2.1.4",
      "model_name": "LayoutModel",
      "state": {
       "_model_module_version": "~2.1.4",
       "_view_module_version": "~2.1.4"
      }
     },
     "ba86abd0920849d692d7efcfc1a4c3c4": {
      "model_module": "jupyter-js-widgets",
      "model_module_version": "~2.1.4",
      "model_name": "LayoutModel",
      "state": {
       "_model_module_version": "~2.1.4",
       "_view_module_version": "~2.1.4"
      }
     },
     "ba8d2b3efe004608b660b240b1bff5ce": {
      "model_module": "jupyter-js-widgets",
      "model_module_version": "~2.1.4",
      "model_name": "SliderStyleModel",
      "state": {
       "_model_module_version": "~2.1.4",
       "_view_module_version": "~2.1.4"
      }
     },
     "ba9f135f99824316a9ec610b598d27d9": {
      "model_module": "jupyter-js-widgets",
      "model_module_version": "~2.1.4",
      "model_name": "LayoutModel",
      "state": {
       "_model_module_version": "~2.1.4",
       "_view_module_version": "~2.1.4"
      }
     },
     "bac89e7a807541a4b8858734956566ae": {
      "model_module": "jupyter-js-widgets",
      "model_module_version": "~2.1.4",
      "model_name": "OutputModel",
      "state": {
       "_dom_classes": [],
       "_model_module": "jupyter-js-widgets",
       "_model_module_version": "~2.1.4",
       "_view_module": "jupyter-js-widgets",
       "_view_module_version": "~2.1.4",
       "layout": "IPY_MODEL_fb96d5d5737c4c5f90a5787b59d2bd28",
       "msg_throttle": 1
      }
     },
     "bb343242309c4fdfa26d929ac6fd8a1a": {
      "model_module": "jupyter-js-widgets",
      "model_module_version": "~2.1.4",
      "model_name": "IntSliderModel",
      "state": {
       "_model_module_version": "~2.1.4",
       "_view_module_version": "~2.1.4",
       "description": "i",
       "layout": "IPY_MODEL_8b78ec43ec2748e9a5295ab6dd6e3b36",
       "max": 369,
       "style": "IPY_MODEL_d34aeb4d670f416980831f11c6d6883a",
       "value": 150
      }
     },
     "bb8b6b112ae540fc80e949fc6c7bacff": {
      "model_module": "jupyter-js-widgets",
      "model_module_version": "~2.1.4",
      "model_name": "OutputModel",
      "state": {
       "_dom_classes": [],
       "_model_module": "jupyter-js-widgets",
       "_model_module_version": "~2.1.4",
       "_view_module": "jupyter-js-widgets",
       "_view_module_version": "~2.1.4",
       "layout": "IPY_MODEL_c382fbcbfc8f4ec595924d040b5b4e44",
       "msg_throttle": 1
      }
     },
     "bc2e42febb0e4717a10bc10e2d7ac457": {
      "model_module": "jupyter-js-widgets",
      "model_module_version": "~2.1.4",
      "model_name": "FloatSliderModel",
      "state": {
       "_model_module_version": "~2.1.4",
       "_view_module_version": "~2.1.4",
       "description": "vmax",
       "layout": "IPY_MODEL_dc1d07e896bf433ab9e7aad40f377cf0",
       "max": 0.015653500333428383,
       "min": -0.020783809944987297,
       "step": 0.001,
       "value": 0.00322
      }
     },
     "bc337e99a09f4c7a81137f0d70914c4c": {
      "model_module": "jupyter-js-widgets",
      "model_module_version": "~2.1.4",
      "model_name": "LayoutModel",
      "state": {
       "_model_module_version": "~2.1.4",
       "_view_module_version": "~2.1.4"
      }
     },
     "bc4b0a6f9d134a1dbfba55caa9b6794b": {
      "model_module": "jupyter-js-widgets",
      "model_module_version": "~2.1.4",
      "model_name": "OutputModel",
      "state": {
       "_dom_classes": [],
       "_model_module": "jupyter-js-widgets",
       "_model_module_version": "~2.1.4",
       "_view_module": "jupyter-js-widgets",
       "_view_module_version": "~2.1.4",
       "layout": "IPY_MODEL_7043874f96f84808b374041baf1b7fff",
       "msg_throttle": 1
      }
     },
     "bc5a42cf705c4148b6331b8699ad6764": {
      "model_module": "jupyter-js-widgets",
      "model_module_version": "~2.1.4",
      "model_name": "LayoutModel",
      "state": {
       "_model_module_version": "~2.1.4",
       "_view_module_version": "~2.1.4"
      }
     },
     "bc99f91618c440f7b2f3d7c9056a84c0": {
      "model_module": "jupyter-js-widgets",
      "model_module_version": "~2.1.4",
      "model_name": "LayoutModel",
      "state": {
       "_model_module_version": "~2.1.4",
       "_view_module_version": "~2.1.4"
      }
     },
     "bcc848fce3be4074b7abf6c42f21eb72": {
      "model_module": "jupyter-js-widgets",
      "model_module_version": "~2.1.4",
      "model_name": "VBoxModel",
      "state": {
       "_dom_classes": [
        "widget-interact"
       ],
       "_model_module_version": "~2.1.4",
       "_view_module_version": "~2.1.4",
       "children": [
        "IPY_MODEL_60b913cad82949d9b28ded6a5cb18b1d",
        "IPY_MODEL_c961225725c94f368a0829d1a86fef47",
        "IPY_MODEL_c2da66ed5a9248029236a506357343a9",
        "IPY_MODEL_da7ad75c8ca6453d91059eac492508a7",
        "IPY_MODEL_f3b992a276e2472795a5c69002e980d6"
       ],
       "layout": "IPY_MODEL_850aae5265564fc5ac4ca6c943bdbd8b"
      }
     },
     "bceaa03126314a21bdf158d4fe5703ac": {
      "model_module": "jupyter-js-widgets",
      "model_module_version": "~2.1.4",
      "model_name": "LayoutModel",
      "state": {
       "_model_module_version": "~2.1.4",
       "_view_module_version": "~2.1.4"
      }
     },
     "bd314f6fdf794431969784215137d668": {
      "model_module": "jupyter-js-widgets",
      "model_module_version": "~2.1.4",
      "model_name": "VBoxModel",
      "state": {
       "_dom_classes": [
        "widget-interact"
       ],
       "_model_module_version": "~2.1.4",
       "_view_module_version": "~2.1.4",
       "children": [
        "IPY_MODEL_d6ba1f050e0c4c249c4d007e654f9f4a",
        "IPY_MODEL_fc8ce8312a124ed89fd31d9d0797571e",
        "IPY_MODEL_7c9b8e891eca4aa09204b44e42e263eb",
        "IPY_MODEL_bfc8195d6d904bfb9813b66bba8cf0ab",
        "IPY_MODEL_b05d75fae0b24a2dadc2a188fd69e0bd",
        "IPY_MODEL_db2e1db3dd7743feae562733c03239c3",
        "IPY_MODEL_617c735344174b17abcea9f385ffc078"
       ],
       "layout": "IPY_MODEL_905d4ff6027b473093c2b304ce63de78"
      }
     },
     "bd38a3c86acf431a853f8a2d56cadc17": {
      "model_module": "jupyter-js-widgets",
      "model_module_version": "~2.1.4",
      "model_name": "LayoutModel",
      "state": {
       "_model_module_version": "~2.1.4",
       "_view_module_version": "~2.1.4"
      }
     },
     "bd721f5e1c4647da9e3d13606e109652": {
      "model_module": "jupyter-js-widgets",
      "model_module_version": "~2.1.4",
      "model_name": "OutputModel",
      "state": {
       "_dom_classes": [],
       "_model_module": "jupyter-js-widgets",
       "_model_module_version": "~2.1.4",
       "_view_module": "jupyter-js-widgets",
       "_view_module_version": "~2.1.4",
       "layout": "IPY_MODEL_9683353b0c1b4cd8987becbce6d8f893",
       "msg_throttle": 1
      }
     },
     "bdb57d4595f74ecc83a18faffd8dc8bb": {
      "model_module": "jupyter-js-widgets",
      "model_module_version": "~2.1.4",
      "model_name": "LayoutModel",
      "state": {
       "_model_module_version": "~2.1.4",
       "_view_module_version": "~2.1.4"
      }
     },
     "bdb9c4eaf8ac46bfb8e7187a21ce8148": {
      "model_module": "jupyter-js-widgets",
      "model_module_version": "~2.1.4",
      "model_name": "SliderStyleModel",
      "state": {
       "_model_module_version": "~2.1.4",
       "_view_module_version": "~2.1.4"
      }
     },
     "bdfe2ab22525496eaa4c556bddad1ab3": {
      "model_module": "jupyter-js-widgets",
      "model_module_version": "~2.1.4",
      "model_name": "LayoutModel",
      "state": {
       "_model_module_version": "~2.1.4",
       "_view_module_version": "~2.1.4"
      }
     },
     "bece6be21d424325bbe815a8801ad4a9": {
      "model_module": "jupyter-js-widgets",
      "model_module_version": "~2.1.4",
      "model_name": "DropdownModel",
      "state": {
       "_model_module_version": "~2.1.4",
       "_options_labels": [
        "Projections",
        "Open beam images",
        "Dark images"
       ],
       "_view_module_version": "~2.1.4",
       "description": "ims",
       "layout": "IPY_MODEL_9da9aa059fce4f0db68803ca8f137372",
       "value": "Projections"
      }
     },
     "beec8be1e14746509a71c76cee298b18": {
      "model_module": "jupyter-js-widgets",
      "model_module_version": "~2.1.4",
      "model_name": "LayoutModel",
      "state": {
       "_model_module_version": "~2.1.4",
       "_view_module_version": "~2.1.4"
      }
     },
     "bf076f9f529947bdae07f13be4abdaac": {
      "model_module": "jupyter-js-widgets",
      "model_module_version": "~2.1.4",
      "model_name": "IntSliderModel",
      "state": {
       "_model_module_version": "~2.1.4",
       "_view_module_version": "~2.1.4",
       "description": "i",
       "layout": "IPY_MODEL_6a39aaf70fff4a4c82d83aa05f4e055a",
       "max": 800,
       "style": "IPY_MODEL_7bfeb01d618940729af2c65484d75544",
       "value": 197
      }
     },
     "bf33866b9fd3426fac130cc258770657": {
      "model_module": "jupyter-js-widgets",
      "model_module_version": "~2.1.4",
      "model_name": "DropdownModel",
      "state": {
       "_model_module_version": "~2.1.4",
       "_options_labels": [
        "Projections",
        "Open beam images",
        "Dark images"
       ],
       "_view_module_version": "~2.1.4",
       "description": "ims",
       "layout": "IPY_MODEL_49c32a763eef4c179708efdb629cbf15",
       "value": "Projections"
      }
     },
     "bfc8195d6d904bfb9813b66bba8cf0ab": {
      "model_module": "jupyter-js-widgets",
      "model_module_version": "~2.1.4",
      "model_name": "IntSliderModel",
      "state": {
       "_model_module_version": "~2.1.4",
       "_view_module_version": "~2.1.4",
       "description": "i",
       "layout": "IPY_MODEL_1dbfc897a8b34e2188723a31d5a7ef2c",
       "max": 800,
       "style": "IPY_MODEL_f55aeee7f96f4e188a4ead4dcc64f0a8"
      }
     },
     "bfed9c638a834c91955048277f31518c": {
      "model_module": "jupyter-js-widgets",
      "model_module_version": "~2.1.4",
      "model_name": "IntSliderModel",
      "state": {
       "_model_module_version": "~2.1.4",
       "_view_module_version": "~2.1.4",
       "description": "vmin",
       "layout": "IPY_MODEL_ea504bd8969640c3aaf06184ba02d74b",
       "max": 65535,
       "style": "IPY_MODEL_280c8a18397e4ce99357f9ccdd1e2793"
      }
     },
     "c0462da754f9466c9c35057afe3ef4bc": {
      "model_module": "jupyter-js-widgets",
      "model_module_version": "~2.1.4",
      "model_name": "IntSliderModel",
      "state": {
       "_model_module_version": "~2.1.4",
       "_view_module_version": "~2.1.4",
       "description": "i",
       "layout": "IPY_MODEL_0bdebc39aec84ec9b497a7b4e27b874e",
       "max": 600,
       "min": -200,
       "style": "IPY_MODEL_c4b89bcc687c449880b5f1ba734d2ce5",
       "value": 200
      }
     },
     "c053f80f140144ebb13968c479ebf88f": {
      "model_module": "jupyter-js-widgets",
      "model_module_version": "~2.1.4",
      "model_name": "LayoutModel",
      "state": {
       "_model_module_version": "~2.1.4",
       "_view_module_version": "~2.1.4"
      }
     },
     "c07243f67601486883d384246255a9a5": {
      "model_module": "jupyter-js-widgets",
      "model_module_version": "~2.1.4",
      "model_name": "LayoutModel",
      "state": {
       "_model_module_version": "~2.1.4",
       "_view_module_version": "~2.1.4"
      }
     },
     "c0771e83660f46d99a7a8f7c990a6fa0": {
      "model_module": "jupyter-js-widgets",
      "model_module_version": "~2.1.4",
      "model_name": "SliderStyleModel",
      "state": {
       "_model_module_version": "~2.1.4",
       "_view_module_version": "~2.1.4"
      }
     },
     "c0f5a1c0fe3445b6b2f1dd37df0dff62": {
      "model_module": "jupyter-js-widgets",
      "model_module_version": "~2.1.4",
      "model_name": "OutputModel",
      "state": {
       "_dom_classes": [],
       "_model_module": "jupyter-js-widgets",
       "_model_module_version": "~2.1.4",
       "_view_module": "jupyter-js-widgets",
       "_view_module_version": "~2.1.4",
       "layout": "IPY_MODEL_b0100f9eb24f4504988af88fec3e96d6",
       "msg_throttle": 1
      }
     },
     "c10b311860d04a64bea6779a98b205d6": {
      "model_module": "jupyter-js-widgets",
      "model_module_version": "~2.1.4",
      "model_name": "LayoutModel",
      "state": {
       "_model_module_version": "~2.1.4",
       "_view_module_version": "~2.1.4"
      }
     },
     "c12e8ad870d34e0eb47dfe44d0ea1eb1": {
      "model_module": "jupyter-js-widgets",
      "model_module_version": "~2.1.4",
      "model_name": "LayoutModel",
      "state": {
       "_model_module_version": "~2.1.4",
       "_view_module_version": "~2.1.4"
      }
     },
     "c13750f0d8784ca8957671094fad51a4": {
      "model_module": "jupyter-js-widgets",
      "model_module_version": "~2.1.4",
      "model_name": "LayoutModel",
      "state": {
       "_model_module_version": "~2.1.4",
       "_view_module_version": "~2.1.4"
      }
     },
     "c18bea9b1a28433499f49e7bf3ccfd1c": {
      "model_module": "jupyter-js-widgets",
      "model_module_version": "~2.1.4",
      "model_name": "LayoutModel",
      "state": {
       "_model_module_version": "~2.1.4",
       "_view_module_version": "~2.1.4"
      }
     },
     "c1a7166efde440de874413a8f9f5538e": {
      "model_module": "jupyter-js-widgets",
      "model_module_version": "~2.1.4",
      "model_name": "IntSliderModel",
      "state": {
       "_model_module_version": "~2.1.4",
       "_view_module_version": "~2.1.4",
       "description": "vmax",
       "layout": "IPY_MODEL_1c15d23964f74a048afb0158f8fafb3b",
       "max": 65535,
       "style": "IPY_MODEL_2c1e40780a57445eaa351054d75d9f3e",
       "value": 65535
      }
     },
     "c1a7a69814a04b549a413b6fd66d69df": {
      "model_module": "jupyter-js-widgets",
      "model_module_version": "~2.1.4",
      "model_name": "LayoutModel",
      "state": {
       "_model_module_version": "~2.1.4",
       "_view_module_version": "~2.1.4"
      }
     },
     "c1ca409739bb41af9ae540de284c6081": {
      "model_module": "jupyter-js-widgets",
      "model_module_version": "~2.1.4",
      "model_name": "SliderStyleModel",
      "state": {
       "_model_module_version": "~2.1.4",
       "_view_module_version": "~2.1.4"
      }
     },
     "c1cef3df4870493da2643bcb76452ea5": {
      "model_module": "jupyter-js-widgets",
      "model_module_version": "~2.1.4",
      "model_name": "DropdownModel",
      "state": {
       "_model_module_version": "~2.1.4",
       "_options_labels": [
        "10",
        "100",
        "500",
        "1000"
       ],
       "_view_module_version": "~2.1.4",
       "description": "diff",
       "layout": "IPY_MODEL_f6492f5f14094fd4b3f5a81bdd005e1a",
       "value": "1000"
      }
     },
     "c1e187501b24485189aa1d09f009ff5c": {
      "model_module": "jupyter-js-widgets",
      "model_module_version": "~2.1.4",
      "model_name": "LayoutModel",
      "state": {
       "_model_module_version": "~2.1.4",
       "_view_module_version": "~2.1.4"
      }
     },
     "c2344470661a41a4b42ec3524ac4f1f4": {
      "model_module": "jupyter-js-widgets",
      "model_module_version": "~2.1.4",
      "model_name": "LayoutModel",
      "state": {
       "_model_module_version": "~2.1.4",
       "_view_module_version": "~2.1.4"
      }
     },
     "c2da66ed5a9248029236a506357343a9": {
      "model_module": "jupyter-js-widgets",
      "model_module_version": "~2.1.4",
      "model_name": "IntSliderModel",
      "state": {
       "_model_module_version": "~2.1.4",
       "_view_module_version": "~2.1.4",
       "description": "vmin",
       "layout": "IPY_MODEL_ee5180595293462d8047e47d17f30b72",
       "max": 65535,
       "style": "IPY_MODEL_bdb9c4eaf8ac46bfb8e7187a21ce8148"
      }
     },
     "c382fbcbfc8f4ec595924d040b5b4e44": {
      "model_module": "jupyter-js-widgets",
      "model_module_version": "~2.1.4",
      "model_name": "LayoutModel",
      "state": {
       "_model_module_version": "~2.1.4",
       "_view_module_version": "~2.1.4"
      }
     },
     "c3d62784804e4efcbc83216c0f97912d": {
      "model_module": "jupyter-js-widgets",
      "model_module_version": "~2.1.4",
      "model_name": "SliderStyleModel",
      "state": {
       "_model_module_version": "~2.1.4",
       "_view_module_version": "~2.1.4"
      }
     },
     "c3f45ba387a145c884aa34093c9a5eba": {
      "model_module": "jupyter-js-widgets",
      "model_module_version": "~2.1.4",
      "model_name": "LayoutModel",
      "state": {
       "_model_module_version": "~2.1.4",
       "_view_module_version": "~2.1.4"
      }
     },
     "c43bf8c82bda4e54b8648353a42efe2b": {
      "model_module": "jupyter-js-widgets",
      "model_module_version": "~2.1.4",
      "model_name": "IntSliderModel",
      "state": {
       "_model_module_version": "~2.1.4",
       "_view_module_version": "~2.1.4",
       "description": "i",
       "layout": "IPY_MODEL_6f45334a3e22492e9d1c8ae348911c03",
       "max": 369,
       "style": "IPY_MODEL_c0771e83660f46d99a7a8f7c990a6fa0",
       "value": 76
      }
     },
     "c448dc25bf2949e59cc6068b2f15a71e": {
      "model_module": "jupyter-js-widgets",
      "model_module_version": "~2.1.4",
      "model_name": "LayoutModel",
      "state": {
       "_model_module_version": "~2.1.4",
       "_view_module_version": "~2.1.4"
      }
     },
     "c4b89bcc687c449880b5f1ba734d2ce5": {
      "model_module": "jupyter-js-widgets",
      "model_module_version": "~2.1.4",
      "model_name": "SliderStyleModel",
      "state": {
       "_model_module_version": "~2.1.4",
       "_view_module_version": "~2.1.4"
      }
     },
     "c4d2939249f24fe5bdaebba9650d0e9e": {
      "model_module": "jupyter-js-widgets",
      "model_module_version": "~2.1.4",
      "model_name": "LayoutModel",
      "state": {
       "_model_module_version": "~2.1.4",
       "_view_module_version": "~2.1.4"
      }
     },
     "c51432c6340b4dd282b4026d28970158": {
      "model_module": "jupyter-js-widgets",
      "model_module_version": "~2.1.4",
      "model_name": "SliderStyleModel",
      "state": {
       "_model_module_version": "~2.1.4",
       "_view_module_version": "~2.1.4"
      }
     },
     "c5c91efe07d94523bcc49615a6869c41": {
      "model_module": "jupyter-js-widgets",
      "model_module_version": "~2.1.4",
      "model_name": "LayoutModel",
      "state": {
       "_model_module_version": "~2.1.4",
       "_view_module_version": "~2.1.4"
      }
     },
     "c5d27323ff5840c2bcdc0f3e5b103b61": {
      "model_module": "jupyter-js-widgets",
      "model_module_version": "~2.1.4",
      "model_name": "LayoutModel",
      "state": {
       "_model_module_version": "~2.1.4",
       "_view_module_version": "~2.1.4"
      }
     },
     "c5db0be11412404284580a03c9fb4a42": {
      "model_module": "jupyter-js-widgets",
      "model_module_version": "~2.1.4",
      "model_name": "VBoxModel",
      "state": {
       "_dom_classes": [
        "widget-interact"
       ],
       "_model_module_version": "~2.1.4",
       "_view_module_version": "~2.1.4",
       "children": [
        "IPY_MODEL_78f0c728d88940fc92366f28bdd68917",
        "IPY_MODEL_5eaaf6f5c3d5460095fe446ac727ae37",
        "IPY_MODEL_f67738ff35a4451abdfa7dd3e9403b44",
        "IPY_MODEL_4e1428cc1a934022b142539c50b5fd7a",
        "IPY_MODEL_27c6e80b1cfc4a7187f4ff10787d6106"
       ],
       "layout": "IPY_MODEL_75cea502ec4847eeb6878129097adb69"
      }
     },
     "c5efee8488734b538f3bd7ea04ee88a3": {
      "model_module": "jupyter-js-widgets",
      "model_module_version": "~2.1.4",
      "model_name": "LayoutModel",
      "state": {
       "_model_module_version": "~2.1.4",
       "_view_module_version": "~2.1.4"
      }
     },
     "c5f48f9a2dc0499eaf41c64503ab1e67": {
      "model_module": "jupyter-js-widgets",
      "model_module_version": "~2.1.4",
      "model_name": "SliderStyleModel",
      "state": {
       "_model_module_version": "~2.1.4",
       "_view_module_version": "~2.1.4"
      }
     },
     "c628e6ea332f439db76bec5afe63af03": {
      "model_module": "jupyter-js-widgets",
      "model_module_version": "~2.1.4",
      "model_name": "LayoutModel",
      "state": {
       "_model_module_version": "~2.1.4",
       "_view_module_version": "~2.1.4"
      }
     },
     "c62ff0a8c0b4480da2226d2ccd858fce": {
      "model_module": "jupyter-js-widgets",
      "model_module_version": "~2.1.4",
      "model_name": "IntSliderModel",
      "state": {
       "_model_module_version": "~2.1.4",
       "_view_module_version": "~2.1.4",
       "description": "i",
       "layout": "IPY_MODEL_1434737d2b9d4a37a50440f34f4bf61f",
       "max": 800,
       "style": "IPY_MODEL_db6672cd40134a16bb19464ebaf6b55e",
       "value": 400
      }
     },
     "c643c11cf893417a8f0375a2c6bfe949": {
      "model_module": "jupyter-js-widgets",
      "model_module_version": "~2.1.4",
      "model_name": "DropdownModel",
      "state": {
       "_model_module_version": "~2.1.4",
       "_options_labels": [
        "Projections",
        "Open beam images",
        "Dark images"
       ],
       "_view_module_version": "~2.1.4",
       "description": "ims",
       "layout": "IPY_MODEL_6324b5c76c36451f8c27305420348d38",
       "value": "Projections"
      }
     },
     "c644f008fc5041f39c6dc2797c66b907": {
      "model_module": "jupyter-js-widgets",
      "model_module_version": "~2.1.4",
      "model_name": "DropdownModel",
      "state": {
       "_model_module_version": "~2.1.4",
       "_options_labels": [
        "3",
        "5",
        "7"
       ],
       "_view_module_version": "~2.1.4",
       "description": "size",
       "layout": "IPY_MODEL_ad15e1fae5a74c16aa2a96b731ba81f4",
       "value": "7"
      }
     },
     "c6594ebc84244bd7b71358bbeab92968": {
      "model_module": "jupyter-js-widgets",
      "model_module_version": "~2.1.4",
      "model_name": "LayoutModel",
      "state": {
       "_model_module_version": "~2.1.4",
       "_view_module_version": "~2.1.4"
      }
     },
     "c6a3e3b9191c4e38b9b28ee41fbfb68d": {
      "model_module": "jupyter-js-widgets",
      "model_module_version": "~2.1.4",
      "model_name": "FloatSliderModel",
      "state": {
       "_model_module_version": "~2.1.4",
       "_view_module_version": "~2.1.4",
       "description": "vmin",
       "layout": "IPY_MODEL_98095337ef264cf384395292fac90f67",
       "max": 0.03,
       "min": -0.09,
       "step": 0.1,
       "value": -0.03
      }
     },
     "c6d92f5bd95e4b5dad1a25d889bb6972": {
      "model_module": "jupyter-js-widgets",
      "model_module_version": "~2.1.4",
      "model_name": "OutputModel",
      "state": {
       "_dom_classes": [],
       "_model_module": "jupyter-js-widgets",
       "_model_module_version": "~2.1.4",
       "_view_module": "jupyter-js-widgets",
       "_view_module_version": "~2.1.4",
       "layout": "IPY_MODEL_beec8be1e14746509a71c76cee298b18",
       "msg_throttle": 1
      }
     },
     "c7271518116e4cc8a8c0a94a1bc24d89": {
      "model_module": "jupyter-js-widgets",
      "model_module_version": "~2.1.4",
      "model_name": "LayoutModel",
      "state": {
       "_model_module_version": "~2.1.4",
       "_view_module_version": "~2.1.4"
      }
     },
     "c75acb67e2184ada9b8bd9ec3f7888a4": {
      "model_module": "jupyter-js-widgets",
      "model_module_version": "~2.1.4",
      "model_name": "IntSliderModel",
      "state": {
       "_model_module_version": "~2.1.4",
       "_view_module_version": "~2.1.4",
       "description": "i",
       "layout": "IPY_MODEL_194fffd796554f1aa06c2b13faa0fbf2",
       "max": 369,
       "style": "IPY_MODEL_2a7537968f3744a9a16c9568442a0205",
       "value": 150
      }
     },
     "c795c9843052471682e89087f3caa53d": {
      "model_module": "jupyter-js-widgets",
      "model_module_version": "~2.1.4",
      "model_name": "LayoutModel",
      "state": {
       "_model_module_version": "~2.1.4",
       "_view_module_version": "~2.1.4"
      }
     },
     "c79d5f6a67b74690b2ffcb9785aafea5": {
      "model_module": "jupyter-js-widgets",
      "model_module_version": "~2.1.4",
      "model_name": "OutputModel",
      "state": {
       "_dom_classes": [],
       "_model_module": "jupyter-js-widgets",
       "_model_module_version": "~2.1.4",
       "_view_module": "jupyter-js-widgets",
       "_view_module_version": "~2.1.4",
       "layout": "IPY_MODEL_8f00eb682bf54a238da4c2710bf5961d",
       "msg_throttle": 1
      }
     },
     "c7f35fcd89374d2684bb21d7ecb2a817": {
      "model_module": "jupyter-js-widgets",
      "model_module_version": "~2.1.4",
      "model_name": "SliderStyleModel",
      "state": {
       "_model_module_version": "~2.1.4",
       "_view_module_version": "~2.1.4"
      }
     },
     "c8413b5f34cf437fa7b4137f64056be9": {
      "model_module": "jupyter-js-widgets",
      "model_module_version": "~2.1.4",
      "model_name": "SliderStyleModel",
      "state": {
       "_model_module_version": "~2.1.4",
       "_view_module_version": "~2.1.4"
      }
     },
     "c8b1563608bb470a8df3d0312500be27": {
      "model_module": "jupyter-js-widgets",
      "model_module_version": "~2.1.4",
      "model_name": "OutputModel",
      "state": {
       "_dom_classes": [],
       "_model_module": "jupyter-js-widgets",
       "_model_module_version": "~2.1.4",
       "_view_module": "jupyter-js-widgets",
       "_view_module_version": "~2.1.4",
       "layout": "IPY_MODEL_19f86bfca17649e19e3d496deda8b72d",
       "msg_throttle": 1
      }
     },
     "c90e63e7b8974b74844251d230ccc5ba": {
      "model_module": "jupyter-js-widgets",
      "model_module_version": "~2.1.4",
      "model_name": "FloatSliderModel",
      "state": {
       "_model_module_version": "~2.1.4",
       "_view_module_version": "~2.1.4",
       "description": "vmin",
       "layout": "IPY_MODEL_a9dde58c5e7b48c4a4ec99838cbd2cf4",
       "max": 0.03,
       "min": -0.09,
       "step": 0.1,
       "value": -0.09
      }
     },
     "c9223ac8c62242b6b5a68074dd8ffedd": {
      "model_module": "jupyter-js-widgets",
      "model_module_version": "~2.1.4",
      "model_name": "LayoutModel",
      "state": {
       "_model_module_version": "~2.1.4",
       "_view_module_version": "~2.1.4"
      }
     },
     "c94d257b5378413cb08b9180589f4cd9": {
      "model_module": "jupyter-js-widgets",
      "model_module_version": "~2.1.4",
      "model_name": "IntSliderModel",
      "state": {
       "_model_module_version": "~2.1.4",
       "_view_module_version": "~2.1.4",
       "description": "i",
       "layout": "IPY_MODEL_8fe856a06dfa4da18fc5a0d60d19d2ee",
       "max": 800,
       "style": "IPY_MODEL_6725f8dc3880435c96cbe32ca46352f8",
       "value": 60
      }
     },
     "c961225725c94f368a0829d1a86fef47": {
      "model_module": "jupyter-js-widgets",
      "model_module_version": "~2.1.4",
      "model_name": "IntSliderModel",
      "state": {
       "_model_module_version": "~2.1.4",
       "_view_module_version": "~2.1.4",
       "description": "i",
       "layout": "IPY_MODEL_9b649595b4eb4ab2ac2669df08f394bb",
       "max": 800,
       "style": "IPY_MODEL_dfdaec09dce04f36957c7c80cd1c3572",
       "value": 400
      }
     },
     "c97e446ff8cd4ccaa17785c34b321301": {
      "model_module": "jupyter-js-widgets",
      "model_module_version": "~2.1.4",
      "model_name": "IntSliderModel",
      "state": {
       "_model_module_version": "~2.1.4",
       "_view_module_version": "~2.1.4",
       "description": "i",
       "layout": "IPY_MODEL_0f41b94fc0fe4e3a8e7ec034e7ce487a",
       "max": 800,
       "style": "IPY_MODEL_28b3b367638843dc88c2ef01f634a68e",
       "value": 488
      }
     },
     "c9986f430b6a403d8f0fc9660f35c858": {
      "model_module": "jupyter-js-widgets",
      "model_module_version": "~2.1.4",
      "model_name": "IntSliderModel",
      "state": {
       "_model_module_version": "~2.1.4",
       "_view_module_version": "~2.1.4",
       "description": "vmin",
       "layout": "IPY_MODEL_b5444f5b8e294ff2a8519546913125b5",
       "max": 65535,
       "style": "IPY_MODEL_ee6629adbdbf44078476db753ae5325e"
      }
     },
     "c9bf6c2e4a4a4356be7939aaccedb16c": {
      "model_module": "jupyter-js-widgets",
      "model_module_version": "~2.1.4",
      "model_name": "OutputModel",
      "state": {
       "_dom_classes": [],
       "_model_module": "jupyter-js-widgets",
       "_model_module_version": "~2.1.4",
       "_view_module": "jupyter-js-widgets",
       "_view_module_version": "~2.1.4",
       "layout": "IPY_MODEL_4744221c68ae4828aa16e28fb72f9a36",
       "msg_throttle": 1
      }
     },
     "c9c894aa1d4540fba63bda438bc6ec50": {
      "model_module": "jupyter-js-widgets",
      "model_module_version": "~2.1.4",
      "model_name": "OutputModel",
      "state": {
       "_dom_classes": [],
       "_model_module": "jupyter-js-widgets",
       "_model_module_version": "~2.1.4",
       "_view_module": "jupyter-js-widgets",
       "_view_module_version": "~2.1.4",
       "layout": "IPY_MODEL_1529b42e972e4f5182d61ddb37eb61a7",
       "msg_throttle": 1
      }
     },
     "ca3b537e61af4ec986ff5a32eee0de5d": {
      "model_module": "jupyter-js-widgets",
      "model_module_version": "~2.1.4",
      "model_name": "LayoutModel",
      "state": {
       "_model_module_version": "~2.1.4",
       "_view_module_version": "~2.1.4"
      }
     },
     "ca81171dccf846dda142f4e8fdb2e536": {
      "model_module": "jupyter-js-widgets",
      "model_module_version": "~2.1.4",
      "model_name": "LayoutModel",
      "state": {
       "_model_module_version": "~2.1.4",
       "_view_module_version": "~2.1.4"
      }
     },
     "ca86f2a13a0f49ae874b56f2f00a5363": {
      "model_module": "jupyter-js-widgets",
      "model_module_version": "~2.1.4",
      "model_name": "DropdownModel",
      "state": {
       "_model_module_version": "~2.1.4",
       "_options_labels": [
        "Projections",
        "Open beam images",
        "Dark images"
       ],
       "_view_module_version": "~2.1.4",
       "layout": "IPY_MODEL_c7271518116e4cc8a8c0a94a1bc24d89",
       "value": "Open beam images"
      }
     },
     "ca8cc6a62fe2451589a630def915fdd4": {
      "model_module": "jupyter-js-widgets",
      "model_module_version": "~2.1.4",
      "model_name": "FloatSliderModel",
      "state": {
       "_model_module_version": "~2.1.4",
       "_view_module_version": "~2.1.4",
       "description": "vmin",
       "layout": "IPY_MODEL_eb219affa230469da0852ac39a2583fe",
       "max": 0.009999999776482582,
       "min": -0.004999999888241291,
       "step": 0.001,
       "value": -0.004999999888241291
      }
     },
     "cab48e1f703044119365a01906bbe92a": {
      "model_module": "jupyter-js-widgets",
      "model_module_version": "~2.1.4",
      "model_name": "LayoutModel",
      "state": {
       "_model_module_version": "~2.1.4",
       "_view_module_version": "~2.1.4"
      }
     },
     "caf731788f0341599254b33cc26eacb4": {
      "model_module": "jupyter-js-widgets",
      "model_module_version": "~2.1.4",
      "model_name": "FloatSliderModel",
      "state": {
       "_model_module_version": "~2.1.4",
       "_view_module_version": "~2.1.4",
       "description": "vmax",
       "layout": "IPY_MODEL_3fe36d31584b43e58fb8416a2d6a98ad",
       "max": 1.4,
       "step": 0.1,
       "value": 1.4
      }
     },
     "cb48777859054c8eadf4f3b010295122": {
      "model_module": "jupyter-js-widgets",
      "model_module_version": "~2.1.4",
      "model_name": "VBoxModel",
      "state": {
       "_dom_classes": [
        "widget-interact"
       ],
       "_model_module_version": "~2.1.4",
       "_view_module_version": "~2.1.4",
       "children": [
        "IPY_MODEL_453dbee36f584ef9836ffb73f1143a1f",
        "IPY_MODEL_15ba364c744543228c1932c97e14aa4e",
        "IPY_MODEL_b6f623b472a84567aaba02028423b405",
        "IPY_MODEL_f9d8cfab0e334783bdbae853db04084a",
        "IPY_MODEL_ec00485f74a94f60b14176b0c2b5e980"
       ],
       "layout": "IPY_MODEL_0990e7e4a7a74aff9670fd2e2b7fe76c"
      }
     },
     "cb79283f8ddb4b10b80c274f06a74fcf": {
      "model_module": "jupyter-js-widgets",
      "model_module_version": "~2.1.4",
      "model_name": "LayoutModel",
      "state": {
       "_model_module_version": "~2.1.4",
       "_view_module_version": "~2.1.4"
      }
     },
     "cb7995de872149869ef066bff35d7f96": {
      "model_module": "jupyter-js-widgets",
      "model_module_version": "~2.1.4",
      "model_name": "SliderStyleModel",
      "state": {
       "_model_module_version": "~2.1.4",
       "_view_module_version": "~2.1.4"
      }
     },
     "cba6a09128a94acdbae828623e54a08b": {
      "model_module": "jupyter-js-widgets",
      "model_module_version": "~2.1.4",
      "model_name": "DropdownModel",
      "state": {
       "_model_module_version": "~2.1.4",
       "_options_labels": [
        "Projections",
        "Open beam images",
        "Dark images"
       ],
       "_view_module_version": "~2.1.4",
       "description": "ims",
       "layout": "IPY_MODEL_918495d80d8a4782bb1008a404f87def",
       "value": "Projections"
      }
     },
     "cbd342fa4bf94b3eaa7aaef56bf137fc": {
      "model_module": "jupyter-js-widgets",
      "model_module_version": "~2.1.4",
      "model_name": "SliderStyleModel",
      "state": {
       "_model_module_version": "~2.1.4",
       "_view_module_version": "~2.1.4"
      }
     },
     "cbdbf770e99548eab79a4bd69f29dffd": {
      "model_module": "jupyter-js-widgets",
      "model_module_version": "~2.1.4",
      "model_name": "LayoutModel",
      "state": {
       "_model_module_version": "~2.1.4",
       "_view_module_version": "~2.1.4"
      }
     },
     "cc1320b14a2e4caa9a4306ad06500d4c": {
      "model_module": "jupyter-js-widgets",
      "model_module_version": "~2.1.4",
      "model_name": "LayoutModel",
      "state": {
       "_model_module_version": "~2.1.4",
       "_view_module_version": "~2.1.4"
      }
     },
     "cc5b5924e0f44e468fc6dd785a60144d": {
      "model_module": "jupyter-js-widgets",
      "model_module_version": "~2.1.4",
      "model_name": "OutputModel",
      "state": {
       "_dom_classes": [],
       "_model_module": "jupyter-js-widgets",
       "_model_module_version": "~2.1.4",
       "_view_module": "jupyter-js-widgets",
       "_view_module_version": "~2.1.4",
       "layout": "IPY_MODEL_4aa1c06a2af742ffb5594fcb09235cbe",
       "msg_throttle": 1
      }
     },
     "cc96a07990f04524ab0e4dfdac0f1f10": {
      "model_module": "jupyter-js-widgets",
      "model_module_version": "~2.1.4",
      "model_name": "SliderStyleModel",
      "state": {
       "_model_module_version": "~2.1.4",
       "_view_module_version": "~2.1.4"
      }
     },
     "cd7590f97f714bdcad125cc10af0dbb3": {
      "model_module": "jupyter-js-widgets",
      "model_module_version": "~2.1.4",
      "model_name": "VBoxModel",
      "state": {
       "_dom_classes": [
        "widget-interact"
       ],
       "_model_module_version": "~2.1.4",
       "_view_module_version": "~2.1.4",
       "children": [
        "IPY_MODEL_509541bef6554701b86cb87367f02ba0",
        "IPY_MODEL_8ead3da5a3cd404dade1b915363ad0d7",
        "IPY_MODEL_fb51077a814b43acbbbe92965d7e637d",
        "IPY_MODEL_ce4a27d0bbb8473db4eb2b92b6b4ee57"
       ],
       "layout": "IPY_MODEL_643d8194c4c143198a2c0a5a7e67c3ac"
      }
     },
     "cda548ff3fdd434db66d5a1312b044c0": {
      "model_module": "jupyter-js-widgets",
      "model_module_version": "~2.1.4",
      "model_name": "LayoutModel",
      "state": {
       "_model_module_version": "~2.1.4",
       "_view_module_version": "~2.1.4"
      }
     },
     "ce11cba607ce43b1afe2e2d030a55500": {
      "model_module": "jupyter-js-widgets",
      "model_module_version": "~2.1.4",
      "model_name": "LayoutModel",
      "state": {
       "_model_module_version": "~2.1.4",
       "_view_module_version": "~2.1.4"
      }
     },
     "ce4a27d0bbb8473db4eb2b92b6b4ee57": {
      "model_module": "jupyter-js-widgets",
      "model_module_version": "~2.1.4",
      "model_name": "OutputModel",
      "state": {
       "_dom_classes": [],
       "_model_module": "jupyter-js-widgets",
       "_model_module_version": "~2.1.4",
       "_view_module": "jupyter-js-widgets",
       "_view_module_version": "~2.1.4",
       "layout": "IPY_MODEL_6a9ab9b664f24dcebad05b7734b5cb8b",
       "msg_throttle": 1
      }
     },
     "ce5fc5dc445d4629bda3bee9c024d581": {
      "model_module": "jupyter-js-widgets",
      "model_module_version": "~2.1.4",
      "model_name": "IntSliderModel",
      "state": {
       "_model_module_version": "~2.1.4",
       "_view_module_version": "~2.1.4",
       "description": "vmin",
       "layout": "IPY_MODEL_791f4c5cf00f4774b6488eacadae907f",
       "max": 65535,
       "style": "IPY_MODEL_a93b549f63e341b1996645f036e37111"
      }
     },
     "ce94850c361542edab13f9a2f448d67c": {
      "model_module": "jupyter-js-widgets",
      "model_module_version": "~2.1.4",
      "model_name": "LayoutModel",
      "state": {
       "_model_module_version": "~2.1.4",
       "_view_module_version": "~2.1.4"
      }
     },
     "cecef6fd32aa40ddbfff5ed95809087a": {
      "model_module": "jupyter-js-widgets",
      "model_module_version": "~2.1.4",
      "model_name": "LayoutModel",
      "state": {
       "_model_module_version": "~2.1.4",
       "_view_module_version": "~2.1.4"
      }
     },
     "cee51737dfac4425bf8035bae0d5afae": {
      "model_module": "jupyter-js-widgets",
      "model_module_version": "~2.1.4",
      "model_name": "SliderStyleModel",
      "state": {
       "_model_module_version": "~2.1.4",
       "_view_module_version": "~2.1.4"
      }
     },
     "cf0dbc29a97f461794ea257ee2f19eb6": {
      "model_module": "jupyter-js-widgets",
      "model_module_version": "~2.1.4",
      "model_name": "IntSliderModel",
      "state": {
       "_model_module_version": "~2.1.4",
       "_view_module_version": "~2.1.4",
       "description": "i",
       "layout": "IPY_MODEL_f76a4bed05bc4e8eb6798d85fd3e3686",
       "max": 369,
       "style": "IPY_MODEL_5b7611458e4b4e17872cd3f75f505f1c",
       "value": 150
      }
     },
     "cfda0aa82c074f9bb9a4e6a0864b014b": {
      "model_module": "jupyter-js-widgets",
      "model_module_version": "~2.1.4",
      "model_name": "IntSliderModel",
      "state": {
       "_model_module_version": "~2.1.4",
       "_view_module_version": "~2.1.4",
       "description": "i",
       "layout": "IPY_MODEL_410d0bea958e4b45b37b5250bebdbc62",
       "max": 800,
       "style": "IPY_MODEL_e5167d301fc6467596e28ce1ed3df6cb"
      }
     },
     "cfe3d69ea9a34a3ba41dd09330ad35e1": {
      "model_module": "jupyter-js-widgets",
      "model_module_version": "~2.1.4",
      "model_name": "LayoutModel",
      "state": {
       "_model_module_version": "~2.1.4",
       "_view_module_version": "~2.1.4"
      }
     },
     "cfed4b862ea54adba7fd8e5c7424268c": {
      "model_module": "jupyter-js-widgets",
      "model_module_version": "~2.1.4",
      "model_name": "LayoutModel",
      "state": {
       "_model_module_version": "~2.1.4",
       "_view_module_version": "~2.1.4"
      }
     },
     "d0395a4fa69b42ed8c7bf53745f9ae46": {
      "model_module": "jupyter-js-widgets",
      "model_module_version": "~2.1.4",
      "model_name": "FloatSliderModel",
      "state": {
       "_model_module_version": "~2.1.4",
       "_view_module_version": "~2.1.4",
       "description": "vmin",
       "layout": "IPY_MODEL_f77882486a4442a9b8768abe08c60e33",
       "max": 0.009999999776482582,
       "min": -0.007000000216066837,
       "step": 0.001,
       "value": -0.002
      }
     },
     "d04231326ff14238bf13e01c5ff57edb": {
      "model_module": "jupyter-js-widgets",
      "model_module_version": "~2.1.4",
      "model_name": "LayoutModel",
      "state": {
       "_model_module_version": "~2.1.4",
       "_view_module_version": "~2.1.4"
      }
     },
     "d05463d5e56b4b88b65cb1c50e8e0e3e": {
      "model_module": "jupyter-js-widgets",
      "model_module_version": "~2.1.4",
      "model_name": "FloatSliderModel",
      "state": {
       "_model_module_version": "~2.1.4",
       "_view_module_version": "~2.1.4",
       "description": "vmin",
       "layout": "IPY_MODEL_e05cafe2c13e4d5988b00da679451712",
       "max": 1,
       "step": 0.1
      }
     },
     "d0d02cea4bcc4007b0f80506304a5a46": {
      "model_module": "jupyter-js-widgets",
      "model_module_version": "~2.1.4",
      "model_name": "LayoutModel",
      "state": {
       "_model_module_version": "~2.1.4",
       "_view_module_version": "~2.1.4"
      }
     },
     "d0e4a96bb0e14f7885a4f74c962410c7": {
      "model_module": "jupyter-js-widgets",
      "model_module_version": "~2.1.4",
      "model_name": "LayoutModel",
      "state": {
       "_model_module_version": "~2.1.4",
       "_view_module_version": "~2.1.4"
      }
     },
     "d10caa2a3bd14dde961bf20eed91fec2": {
      "model_module": "jupyter-js-widgets",
      "model_module_version": "~2.1.4",
      "model_name": "IntSliderModel",
      "state": {
       "_model_module_version": "~2.1.4",
       "_view_module_version": "~2.1.4",
       "description": "vmin",
       "layout": "IPY_MODEL_0c161bb75582425d9829194c3c73ae58",
       "max": 65535,
       "style": "IPY_MODEL_d9f7ef2b452c40bf8cce4039611c3814"
      }
     },
     "d10f6997ea834de1b02f424923af5a0f": {
      "model_module": "jupyter-js-widgets",
      "model_module_version": "~2.1.4",
      "model_name": "SliderStyleModel",
      "state": {
       "_model_module_version": "~2.1.4",
       "_view_module_version": "~2.1.4"
      }
     },
     "d12eec57882b4cca8b26642ac5321bea": {
      "model_module": "jupyter-js-widgets",
      "model_module_version": "~2.1.4",
      "model_name": "LayoutModel",
      "state": {
       "_model_module_version": "~2.1.4",
       "_view_module_version": "~2.1.4"
      }
     },
     "d1b2c90b58e347a884c32a4f8cbd19d3": {
      "model_module": "jupyter-js-widgets",
      "model_module_version": "~2.1.4",
      "model_name": "SliderStyleModel",
      "state": {
       "_model_module_version": "~2.1.4",
       "_view_module_version": "~2.1.4"
      }
     },
     "d1f5d379985942b29e96f006f5531c55": {
      "model_module": "jupyter-js-widgets",
      "model_module_version": "~2.1.4",
      "model_name": "LayoutModel",
      "state": {
       "_model_module_version": "~2.1.4",
       "_view_module_version": "~2.1.4"
      }
     },
     "d23c6f7acb01482f815c74c2bdb33894": {
      "model_module": "jupyter-js-widgets",
      "model_module_version": "~2.1.4",
      "model_name": "LayoutModel",
      "state": {
       "_model_module_version": "~2.1.4",
       "_view_module_version": "~2.1.4"
      }
     },
     "d27bcda0fdae4811a3a67eb8820f7659": {
      "model_module": "jupyter-js-widgets",
      "model_module_version": "~2.1.4",
      "model_name": "LayoutModel",
      "state": {
       "_model_module_version": "~2.1.4",
       "_view_module_version": "~2.1.4"
      }
     },
     "d2be6d297b1c492183d684d62e9df9bc": {
      "model_module": "jupyter-js-widgets",
      "model_module_version": "~2.1.4",
      "model_name": "DropdownModel",
      "state": {
       "_model_module_version": "~2.1.4",
       "_options_labels": [
        "10",
        "100",
        "500",
        "1000"
       ],
       "_view_module_version": "~2.1.4",
       "description": "diff",
       "layout": "IPY_MODEL_061aebb3f67a4a98a23a29a1c3c21897",
       "value": "1000"
      }
     },
     "d2d4753b4e3d4ec3b66b0e7430b80b6a": {
      "model_module": "jupyter-js-widgets",
      "model_module_version": "~2.1.4",
      "model_name": "VBoxModel",
      "state": {
       "_dom_classes": [
        "widget-interact"
       ],
       "_model_module_version": "~2.1.4",
       "_view_module_version": "~2.1.4",
       "children": [
        "IPY_MODEL_883ca4a2da4d4e9eb09c0f97ebf04ed2",
        "IPY_MODEL_b4c453f5b79440e1888ced58257c1dd0",
        "IPY_MODEL_210628b6340f493fa61735a755a74301",
        "IPY_MODEL_5a3e276543e44646903787ff2b9158e4"
       ],
       "layout": "IPY_MODEL_21ee275b4430482096ec42747c26bf02"
      }
     },
     "d2e613df053a4773a81557c29b53bdbd": {
      "model_module": "jupyter-js-widgets",
      "model_module_version": "~2.1.4",
      "model_name": "LayoutModel",
      "state": {
       "_model_module_version": "~2.1.4",
       "_view_module_version": "~2.1.4"
      }
     },
     "d30facfe48df468cae8fd7b23d6abdb5": {
      "model_module": "jupyter-js-widgets",
      "model_module_version": "~2.1.4",
      "model_name": "IntSliderModel",
      "state": {
       "_model_module_version": "~2.1.4",
       "_view_module_version": "~2.1.4",
       "description": "vmax",
       "layout": "IPY_MODEL_2fd64cdf89c045619bf2114d5adf9e99",
       "max": 65535,
       "style": "IPY_MODEL_4895971377cb485a9af6d6c2794d2d56",
       "value": 65535
      }
     },
     "d334f626b8dd40219120e214a095d55c": {
      "model_module": "jupyter-js-widgets",
      "model_module_version": "~2.1.4",
      "model_name": "LayoutModel",
      "state": {
       "_model_module_version": "~2.1.4",
       "_view_module_version": "~2.1.4"
      }
     },
     "d34aeb4d670f416980831f11c6d6883a": {
      "model_module": "jupyter-js-widgets",
      "model_module_version": "~2.1.4",
      "model_name": "SliderStyleModel",
      "state": {
       "_model_module_version": "~2.1.4",
       "_view_module_version": "~2.1.4"
      }
     },
     "d35daad89f1247048ee09de97116fafe": {
      "model_module": "jupyter-js-widgets",
      "model_module_version": "~2.1.4",
      "model_name": "VBoxModel",
      "state": {
       "_dom_classes": [
        "widget-interact"
       ],
       "_model_module_version": "~2.1.4",
       "_view_module_version": "~2.1.4",
       "children": [
        "IPY_MODEL_274c67a887cc448a98ff9174b093c15a",
        "IPY_MODEL_6818cf2118ac4137802ebfcd12805e9b",
        "IPY_MODEL_3264785ede254224a015e9568de244db",
        "IPY_MODEL_e4109493d8da44d59904173b8ae41f96"
       ],
       "layout": "IPY_MODEL_1cd1d923a1cb491481988a6f7703639a"
      }
     },
     "d373eabcd8bb489a9c2b56f34d453a62": {
      "model_module": "jupyter-js-widgets",
      "model_module_version": "~2.1.4",
      "model_name": "SliderStyleModel",
      "state": {
       "_model_module_version": "~2.1.4",
       "_view_module_version": "~2.1.4"
      }
     },
     "d38fec5feb8443349daf6675f8b43934": {
      "model_module": "jupyter-js-widgets",
      "model_module_version": "~2.1.4",
      "model_name": "IntSliderModel",
      "state": {
       "_model_module_version": "~2.1.4",
       "_view_module_version": "~2.1.4",
       "description": "i",
       "layout": "IPY_MODEL_3d45876b5fd94ae98a689fa2cf0939cb",
       "max": 800,
       "style": "IPY_MODEL_fb7db51365d044b083e4df00503915e5"
      }
     },
     "d399db4566b84bf9933cc8322cc1c294": {
      "model_module": "jupyter-js-widgets",
      "model_module_version": "~2.1.4",
      "model_name": "FloatSliderModel",
      "state": {
       "_model_module_version": "~2.1.4",
       "_view_module_version": "~2.1.4",
       "description": "vmin",
       "layout": "IPY_MODEL_65430231e938493a8b96879ae77db05e",
       "max": 1,
       "step": 0.1,
       "value": 0.2
      }
     },
     "d3adf7db2e8844c7b455b8756b176c95": {
      "model_module": "jupyter-js-widgets",
      "model_module_version": "~2.1.4",
      "model_name": "VBoxModel",
      "state": {
       "_dom_classes": [
        "widget-interact"
       ],
       "_model_module_version": "~2.1.4",
       "_view_module_version": "~2.1.4",
       "layout": "IPY_MODEL_ae15c16bf60043788a0e79fc4874007d"
      }
     },
     "d3f7b8737d01490d926f06280a2e4709": {
      "model_module": "jupyter-js-widgets",
      "model_module_version": "~2.1.4",
      "model_name": "SliderStyleModel",
      "state": {
       "_model_module_version": "~2.1.4",
       "_view_module_version": "~2.1.4"
      }
     },
     "d40e2bf61c5f44eead6cd7fc3383d125": {
      "model_module": "jupyter-js-widgets",
      "model_module_version": "~2.1.4",
      "model_name": "LayoutModel",
      "state": {
       "_model_module_version": "~2.1.4",
       "_view_module_version": "~2.1.4"
      }
     },
     "d4fab5c18ca64c76a4a1eb3be36ebc55": {
      "model_module": "jupyter-js-widgets",
      "model_module_version": "~2.1.4",
      "model_name": "LayoutModel",
      "state": {
       "_model_module_version": "~2.1.4",
       "_view_module_version": "~2.1.4"
      }
     },
     "d5046b17c7d348b8b60cccaa125ecc4f": {
      "model_module": "jupyter-js-widgets",
      "model_module_version": "~2.1.4",
      "model_name": "VBoxModel",
      "state": {
       "_dom_classes": [
        "widget-interact"
       ],
       "_model_module_version": "~2.1.4",
       "_view_module_version": "~2.1.4",
       "children": [
        "IPY_MODEL_c643c11cf893417a8f0375a2c6bfe949",
        "IPY_MODEL_64ec6367b81e46ad80525919cc8fe6ee",
        "IPY_MODEL_0f2cd0344b074a83b66ed38b386ac560",
        "IPY_MODEL_f2a1f1e676d94f09af1ed71bc3f03eab",
        "IPY_MODEL_fb1df127bc8b46f097086c43cce7dd0d"
       ],
       "layout": "IPY_MODEL_9cf36d77a1724038a04f40a19d4b1bae"
      }
     },
     "d5105323904d4422999693e2fbc193ef": {
      "model_module": "jupyter-js-widgets",
      "model_module_version": "~2.1.4",
      "model_name": "VBoxModel",
      "state": {
       "_dom_classes": [
        "widget-interact"
       ],
       "_model_module_version": "~2.1.4",
       "_view_module_version": "~2.1.4",
       "children": [
        "IPY_MODEL_6db3d1e0d6e343eb82415f470b680bac",
        "IPY_MODEL_e2830df1f5c2458c97c590d5cb83066e",
        "IPY_MODEL_85f5718965774da08945fa049e07b561",
        "IPY_MODEL_451b238948a2450a91a76e91295d86aa"
       ],
       "layout": "IPY_MODEL_8d32da79d475456988d0f833bb8d5fb8"
      }
     },
     "d553fa6b0c914ae0b6c79684f1e8fb6c": {
      "model_module": "jupyter-js-widgets",
      "model_module_version": "~2.1.4",
      "model_name": "SliderStyleModel",
      "state": {
       "_model_module_version": "~2.1.4",
       "_view_module_version": "~2.1.4"
      }
     },
     "d56e5b403daf4df89526a97b16c19dac": {
      "model_module": "jupyter-js-widgets",
      "model_module_version": "~2.1.4",
      "model_name": "LayoutModel",
      "state": {
       "_model_module_version": "~2.1.4",
       "_view_module_version": "~2.1.4"
      }
     },
     "d5cfa20cb583462e98f5d18a4dfb0e9c": {
      "model_module": "jupyter-js-widgets",
      "model_module_version": "~2.1.4",
      "model_name": "LayoutModel",
      "state": {
       "_model_module_version": "~2.1.4",
       "_view_module_version": "~2.1.4"
      }
     },
     "d6ba1f050e0c4c249c4d007e654f9f4a": {
      "model_module": "jupyter-js-widgets",
      "model_module_version": "~2.1.4",
      "model_name": "DropdownModel",
      "state": {
       "_model_module_version": "~2.1.4",
       "_options_labels": [
        "Projections",
        "Open beam images",
        "Dark images"
       ],
       "_view_module_version": "~2.1.4",
       "description": "ims",
       "layout": "IPY_MODEL_81915a394c42438bb8bac32e9f13295c",
       "value": "Projections"
      }
     },
     "d6cd69bd70ba4ef3ae3d8daaacf30024": {
      "model_module": "jupyter-js-widgets",
      "model_module_version": "~2.1.4",
      "model_name": "LayoutModel",
      "state": {
       "_model_module_version": "~2.1.4",
       "_view_module_version": "~2.1.4"
      }
     },
     "d70f211336e44442b126f04ed1df6ae8": {
      "model_module": "jupyter-js-widgets",
      "model_module_version": "~2.1.4",
      "model_name": "LayoutModel",
      "state": {
       "_model_module_version": "~2.1.4",
       "_view_module_version": "~2.1.4"
      }
     },
     "d795921b340c4c69b7dd940aa93092ba": {
      "model_module": "jupyter-js-widgets",
      "model_module_version": "~2.1.4",
      "model_name": "LayoutModel",
      "state": {
       "_model_module_version": "~2.1.4",
       "_view_module_version": "~2.1.4"
      }
     },
     "d7a91997127c4eda9f08e6abaa02acee": {
      "model_module": "jupyter-js-widgets",
      "model_module_version": "~2.1.4",
      "model_name": "OutputModel",
      "state": {
       "_dom_classes": [],
       "_model_module": "jupyter-js-widgets",
       "_model_module_version": "~2.1.4",
       "_view_module": "jupyter-js-widgets",
       "_view_module_version": "~2.1.4",
       "layout": "IPY_MODEL_c1e187501b24485189aa1d09f009ff5c",
       "msg_throttle": 1
      }
     },
     "d7b6bb2830bc41288f468f65358302da": {
      "model_module": "jupyter-js-widgets",
      "model_module_version": "~2.1.4",
      "model_name": "LayoutModel",
      "state": {
       "_model_module_version": "~2.1.4",
       "_view_module_version": "~2.1.4"
      }
     },
     "d7e26106c4ed406c989436ee7d3bfe94": {
      "model_module": "jupyter-js-widgets",
      "model_module_version": "~2.1.4",
      "model_name": "LayoutModel",
      "state": {
       "_model_module_version": "~2.1.4",
       "_view_module_version": "~2.1.4"
      }
     },
     "d7f8440853664baa89ff8ce7739ea4de": {
      "model_module": "jupyter-js-widgets",
      "model_module_version": "~2.1.4",
      "model_name": "DropdownModel",
      "state": {
       "_model_module_version": "~2.1.4",
       "_options_labels": [
        "Projections",
        "Open beam images",
        "Dark images"
       ],
       "_view_module_version": "~2.1.4",
       "description": "ims",
       "layout": "IPY_MODEL_9c1fdb01b6a04f6bbfca9827a808e908",
       "value": "Projections"
      }
     },
     "d83aeb2f29c74f7194dc8e792fba22a4": {
      "model_module": "jupyter-js-widgets",
      "model_module_version": "~2.1.4",
      "model_name": "OutputModel",
      "state": {
       "_dom_classes": [],
       "_model_module": "jupyter-js-widgets",
       "_model_module_version": "~2.1.4",
       "_view_module": "jupyter-js-widgets",
       "_view_module_version": "~2.1.4",
       "layout": "IPY_MODEL_a92a26370a904dfe9eed02ae89f3218e",
       "msg_throttle": 1
      }
     },
     "d856cdda558a469496591fed5f1c0eb1": {
      "model_module": "jupyter-js-widgets",
      "model_module_version": "~2.1.4",
      "model_name": "OutputModel",
      "state": {
       "_dom_classes": [],
       "_model_module": "jupyter-js-widgets",
       "_model_module_version": "~2.1.4",
       "_view_module": "jupyter-js-widgets",
       "_view_module_version": "~2.1.4",
       "layout": "IPY_MODEL_e3eef6c60c214b198977d86365d74222",
       "msg_throttle": 1
      }
     },
     "d85fa7345d3b4bc98d0061918da54821": {
      "model_module": "jupyter-js-widgets",
      "model_module_version": "~2.1.4",
      "model_name": "VBoxModel",
      "state": {
       "_dom_classes": [
        "widget-interact"
       ],
       "_model_module_version": "~2.1.4",
       "_view_module_version": "~2.1.4",
       "children": [
        "IPY_MODEL_6726b23f69b14b958fd9f7ccbd1f33e0",
        "IPY_MODEL_26ca88d200c64749b58f56a6f1221c95"
       ],
       "layout": "IPY_MODEL_bc99f91618c440f7b2f3d7c9056a84c0"
      }
     },
     "d88a1e0cf1d5460eb251bcc6874b5e00": {
      "model_module": "jupyter-js-widgets",
      "model_module_version": "~2.1.4",
      "model_name": "LayoutModel",
      "state": {
       "_model_module_version": "~2.1.4",
       "_view_module_version": "~2.1.4"
      }
     },
     "d8ca75316c414a18a8edf877944d4309": {
      "model_module": "jupyter-js-widgets",
      "model_module_version": "~2.1.4",
      "model_name": "OutputModel",
      "state": {
       "_dom_classes": [],
       "_model_module": "jupyter-js-widgets",
       "_model_module_version": "~2.1.4",
       "_view_module": "jupyter-js-widgets",
       "_view_module_version": "~2.1.4",
       "layout": "IPY_MODEL_3a0c318aec24479fac3b702fc9d7c252",
       "msg_throttle": 1
      }
     },
     "d94080a435264988ab28b1014c1dd0e7": {
      "model_module": "jupyter-js-widgets",
      "model_module_version": "~2.1.4",
      "model_name": "LayoutModel",
      "state": {
       "_model_module_version": "~2.1.4",
       "_view_module_version": "~2.1.4"
      }
     },
     "d9aab57848254a18b574c9c17132f18a": {
      "model_module": "jupyter-js-widgets",
      "model_module_version": "~2.1.4",
      "model_name": "OutputModel",
      "state": {
       "_dom_classes": [],
       "_model_module": "jupyter-js-widgets",
       "_model_module_version": "~2.1.4",
       "_view_module": "jupyter-js-widgets",
       "_view_module_version": "~2.1.4",
       "layout": "IPY_MODEL_5fd9b017912a457ebffeb910ce1c9859",
       "msg_throttle": 1
      }
     },
     "d9f1916cf7cb48739c707c0b57addee3": {
      "model_module": "jupyter-js-widgets",
      "model_module_version": "~2.1.4",
      "model_name": "LayoutModel",
      "state": {
       "_model_module_version": "~2.1.4",
       "_view_module_version": "~2.1.4"
      }
     },
     "d9f7ef2b452c40bf8cce4039611c3814": {
      "model_module": "jupyter-js-widgets",
      "model_module_version": "~2.1.4",
      "model_name": "SliderStyleModel",
      "state": {
       "_model_module_version": "~2.1.4",
       "_view_module_version": "~2.1.4"
      }
     },
     "da274c71c70a47d781aac3a217fc49c4": {
      "model_module": "jupyter-js-widgets",
      "model_module_version": "~2.1.4",
      "model_name": "LayoutModel",
      "state": {
       "_model_module_version": "~2.1.4",
       "_view_module_version": "~2.1.4"
      }
     },
     "da2d52724d2d400f93612d2a832af961": {
      "model_module": "jupyter-js-widgets",
      "model_module_version": "~2.1.4",
      "model_name": "LayoutModel",
      "state": {
       "_model_module_version": "~2.1.4",
       "_view_module_version": "~2.1.4"
      }
     },
     "da2fe0e948594069a64084a145f47d05": {
      "model_module": "jupyter-js-widgets",
      "model_module_version": "~2.1.4",
      "model_name": "VBoxModel",
      "state": {
       "_dom_classes": [
        "widget-interact"
       ],
       "_model_module_version": "~2.1.4",
       "_view_module_version": "~2.1.4",
       "children": [
        "IPY_MODEL_335e044a76d34996bcdc3a7ed9e95842",
        "IPY_MODEL_12637d8a9d7145b68d6ac8739bfa88d0",
        "IPY_MODEL_097aaa3d348d4397badda1067ca8defc",
        "IPY_MODEL_542c0f3f2399436cae8eaf4acc12f8e3",
        "IPY_MODEL_bd721f5e1c4647da9e3d13606e109652"
       ],
       "layout": "IPY_MODEL_3b9a92d306104760b87a32c46423c60d"
      }
     },
     "da6d7e8bc19f423aa8e6090eea27dab5": {
      "model_module": "jupyter-js-widgets",
      "model_module_version": "~2.1.4",
      "model_name": "LayoutModel",
      "state": {
       "_model_module_version": "~2.1.4",
       "_view_module_version": "~2.1.4"
      }
     },
     "da7ad75c8ca6453d91059eac492508a7": {
      "model_module": "jupyter-js-widgets",
      "model_module_version": "~2.1.4",
      "model_name": "IntSliderModel",
      "state": {
       "_model_module_version": "~2.1.4",
       "_view_module_version": "~2.1.4",
       "description": "vmax",
       "layout": "IPY_MODEL_44a2fbfc75d64533830537060b5667b1",
       "max": 196605,
       "min": -65535,
       "style": "IPY_MODEL_f74dcd97ad2c4af793f366117653dbcb",
       "value": 65535
      }
     },
     "da82304be83e42679f0f4010ca9f9265": {
      "model_module": "jupyter-js-widgets",
      "model_module_version": "~2.1.4",
      "model_name": "FloatSliderModel",
      "state": {
       "_model_module_version": "~2.1.4",
       "_view_module_version": "~2.1.4",
       "description": "vmax",
       "layout": "IPY_MODEL_b0f51a2f4dea467fbc14b1b4b94206c9",
       "max": 0.009999999776482582,
       "min": -0.005170748569071293,
       "step": 0.001,
       "value": 0.009999999776482582
      }
     },
     "daae0d87afc0411a832ecf36f0dc41a8": {
      "model_module": "jupyter-js-widgets",
      "model_module_version": "~2.1.4",
      "model_name": "SliderStyleModel",
      "state": {
       "_model_module_version": "~2.1.4",
       "_view_module_version": "~2.1.4"
      }
     },
     "db191a6c8f914c2382a442054b260071": {
      "model_module": "jupyter-js-widgets",
      "model_module_version": "~2.1.4",
      "model_name": "OutputModel",
      "state": {
       "_dom_classes": [],
       "_model_module": "jupyter-js-widgets",
       "_model_module_version": "~2.1.4",
       "_view_module": "jupyter-js-widgets",
       "_view_module_version": "~2.1.4",
       "layout": "IPY_MODEL_3f210b263a1e48f093adfad7cbcd0649",
       "msg_throttle": 1
      }
     },
     "db210198adcb496c922cfcf7d7baa6ad": {
      "model_module": "jupyter-js-widgets",
      "model_module_version": "~2.1.4",
      "model_name": "LayoutModel",
      "state": {
       "_model_module_version": "~2.1.4",
       "_view_module_version": "~2.1.4"
      }
     },
     "db2e1db3dd7743feae562733c03239c3": {
      "model_module": "jupyter-js-widgets",
      "model_module_version": "~2.1.4",
      "model_name": "IntSliderModel",
      "state": {
       "_model_module_version": "~2.1.4",
       "_view_module_version": "~2.1.4",
       "description": "vmax",
       "layout": "IPY_MODEL_00c75ffd322c42539994ad4d9f32bc4a",
       "max": 65535,
       "style": "IPY_MODEL_22e351117314431cba0f105ed1a87640",
       "value": 65535
      }
     },
     "db6672cd40134a16bb19464ebaf6b55e": {
      "model_module": "jupyter-js-widgets",
      "model_module_version": "~2.1.4",
      "model_name": "SliderStyleModel",
      "state": {
       "_model_module_version": "~2.1.4",
       "_view_module_version": "~2.1.4"
      }
     },
     "dc0ef82302744edfb35737eb4466759a": {
      "model_module": "jupyter-js-widgets",
      "model_module_version": "~2.1.4",
      "model_name": "LayoutModel",
      "state": {
       "_model_module_version": "~2.1.4",
       "_view_module_version": "~2.1.4"
      }
     },
     "dc1d07e896bf433ab9e7aad40f377cf0": {
      "model_module": "jupyter-js-widgets",
      "model_module_version": "~2.1.4",
      "model_name": "LayoutModel",
      "state": {
       "_model_module_version": "~2.1.4",
       "_view_module_version": "~2.1.4"
      }
     },
     "dca9c68de17d41fca8a97d657358d7cd": {
      "model_module": "jupyter-js-widgets",
      "model_module_version": "~2.1.4",
      "model_name": "SliderStyleModel",
      "state": {
       "_model_module_version": "~2.1.4",
       "_view_module_version": "~2.1.4"
      }
     },
     "dcc76d4d3f2d4caf8cd791df1bb91111": {
      "model_module": "jupyter-js-widgets",
      "model_module_version": "~2.1.4",
      "model_name": "LayoutModel",
      "state": {
       "_model_module_version": "~2.1.4",
       "_view_module_version": "~2.1.4"
      }
     },
     "dccec6413fde42da93fe042144e9c3c7": {
      "model_module": "jupyter-js-widgets",
      "model_module_version": "~2.1.4",
      "model_name": "IntSliderModel",
      "state": {
       "_model_module_version": "~2.1.4",
       "_view_module_version": "~2.1.4",
       "description": "i",
       "layout": "IPY_MODEL_2b9a38cced5441a8be8f93d556527943",
       "max": 800,
       "style": "IPY_MODEL_439f5cb30d894490b274f7c67f384679"
      }
     },
     "dceefe8885194aa2a87c5009e56f6587": {
      "model_module": "jupyter-js-widgets",
      "model_module_version": "~2.1.4",
      "model_name": "LayoutModel",
      "state": {
       "_model_module_version": "~2.1.4",
       "_view_module_version": "~2.1.4"
      }
     },
     "dd01fc1120a34be5b58844424d0ab26a": {
      "model_module": "jupyter-js-widgets",
      "model_module_version": "~2.1.4",
      "model_name": "VBoxModel",
      "state": {
       "_dom_classes": [
        "widget-interact"
       ],
       "_model_module_version": "~2.1.4",
       "_view_module_version": "~2.1.4",
       "children": [
        "IPY_MODEL_b4f44bce1f4c439c8b91b470bbf9c8ff",
        "IPY_MODEL_b50497100c4f46f1bdfc260297309ca6",
        "IPY_MODEL_f663974125bb46889d54932e503b4e97"
       ],
       "layout": "IPY_MODEL_9d6fdce4d52e4261b0d625843496963d"
      }
     },
     "dd0b36fee27c4189bf8fc5771af52ad3": {
      "model_module": "jupyter-js-widgets",
      "model_module_version": "~2.1.4",
      "model_name": "OutputModel",
      "state": {
       "_dom_classes": [],
       "_model_module": "jupyter-js-widgets",
       "_model_module_version": "~2.1.4",
       "_view_module": "jupyter-js-widgets",
       "_view_module_version": "~2.1.4",
       "layout": "IPY_MODEL_02d24ede26884fe1adcc3a113f3fa47a",
       "msg_throttle": 1
      }
     },
     "dd254f150dbd4c20b8380f375c8d1d33": {
      "model_module": "jupyter-js-widgets",
      "model_module_version": "~2.1.4",
      "model_name": "OutputModel",
      "state": {
       "_dom_classes": [],
       "_model_module": "jupyter-js-widgets",
       "_model_module_version": "~2.1.4",
       "_view_module": "jupyter-js-widgets",
       "_view_module_version": "~2.1.4",
       "layout": "IPY_MODEL_cab48e1f703044119365a01906bbe92a",
       "msg_throttle": 1
      }
     },
     "dd2626d41ce647b5b56b5148db218112": {
      "model_module": "jupyter-js-widgets",
      "model_module_version": "~2.1.4",
      "model_name": "IntSliderModel",
      "state": {
       "_model_module_version": "~2.1.4",
       "_view_module_version": "~2.1.4",
       "description": "i",
       "layout": "IPY_MODEL_08630f01ed004499890364565d0f41f5",
       "max": 800,
       "style": "IPY_MODEL_cb7995de872149869ef066bff35d7f96"
      }
     },
     "ddd4615eb4c546aba33f0b4a7ea271db": {
      "model_module": "jupyter-js-widgets",
      "model_module_version": "~2.1.4",
      "model_name": "LayoutModel",
      "state": {
       "_model_module_version": "~2.1.4",
       "_view_module_version": "~2.1.4"
      }
     },
     "de050c01c4a44ed2acce7a4b72ccf959": {
      "model_module": "jupyter-js-widgets",
      "model_module_version": "~2.1.4",
      "model_name": "LayoutModel",
      "state": {
       "_model_module_version": "~2.1.4",
       "_view_module_version": "~2.1.4"
      }
     },
     "de136459f0654034bd835df62fdfa80f": {
      "model_module": "jupyter-js-widgets",
      "model_module_version": "~2.1.4",
      "model_name": "VBoxModel",
      "state": {
       "_dom_classes": [
        "widget-interact"
       ],
       "_model_module_version": "~2.1.4",
       "_view_module_version": "~2.1.4",
       "children": [
        "IPY_MODEL_cf0dbc29a97f461794ea257ee2f19eb6",
        "IPY_MODEL_e9fee54822d54e7da385e57291bfb15f",
        "IPY_MODEL_b16e922ebafb42988d3ade3c63567c96",
        "IPY_MODEL_4ac19b83204848dcaed93293fab17651"
       ],
       "layout": "IPY_MODEL_2861aee50dc7418a8b4bf4acff180783"
      }
     },
     "de1c062455d84c5c97f3d36c78e4ac4b": {
      "model_module": "jupyter-js-widgets",
      "model_module_version": "~2.1.4",
      "model_name": "IntSliderModel",
      "state": {
       "_model_module_version": "~2.1.4",
       "_view_module_version": "~2.1.4",
       "description": "i",
       "layout": "IPY_MODEL_a471893235f54b48be4b241fca0e9b8e",
       "max": 369,
       "style": "IPY_MODEL_512fd77a976148f296b6ac78d4ab4fd0",
       "value": 227
      }
     },
     "de3a7a3e1d77434c8a24debf0bdb11d4": {
      "model_module": "jupyter-js-widgets",
      "model_module_version": "~2.1.4",
      "model_name": "VBoxModel",
      "state": {
       "_dom_classes": [
        "widget-interact"
       ],
       "_model_module_version": "~2.1.4",
       "_view_module_version": "~2.1.4",
       "children": [
        "IPY_MODEL_c97e446ff8cd4ccaa17785c34b321301",
        "IPY_MODEL_1e71755c208a46a39c964da0a40be7eb"
       ],
       "layout": "IPY_MODEL_e87c3ab81d314a1e83627e359f9bed7e"
      }
     },
     "de90413a547340239348cad9ee3dd294": {
      "model_module": "jupyter-js-widgets",
      "model_module_version": "~2.1.4",
      "model_name": "VBoxModel",
      "state": {
       "_dom_classes": [
        "widget-interact"
       ],
       "_model_module_version": "~2.1.4",
       "_view_module_version": "~2.1.4",
       "children": [
        "IPY_MODEL_eac64b7da1564cc79acedb0a3a030a8f",
        "IPY_MODEL_92f4dd4c6c9a4025a394fdd6bfcd7022",
        "IPY_MODEL_58467eba2740499fa03042483d1ade80",
        "IPY_MODEL_69a906a9a3fc468ea3cef4ad51f3b32a"
       ],
       "layout": "IPY_MODEL_34bba7a008f248d98b8f989f588b6398"
      }
     },
     "deba4360caf144c3bebb375a36718e37": {
      "model_module": "jupyter-js-widgets",
      "model_module_version": "~2.1.4",
      "model_name": "VBoxModel",
      "state": {
       "_dom_classes": [
        "widget-interact"
       ],
       "_model_module_version": "~2.1.4",
       "_view_module_version": "~2.1.4",
       "children": [
        "IPY_MODEL_5509693f9ceb4b459646317c9ed730c4",
        "IPY_MODEL_aeba23126155458ba05b393c3ccdc0a6",
        "IPY_MODEL_caf731788f0341599254b33cc26eacb4",
        "IPY_MODEL_0530a8aa8abd4574bc97a0d0127960db"
       ],
       "layout": "IPY_MODEL_acec90ac12ec4249b44ee8031a3f5138"
      }
     },
     "dec9a998346e40da89c487d990b9912d": {
      "model_module": "jupyter-js-widgets",
      "model_module_version": "~2.1.4",
      "model_name": "LayoutModel",
      "state": {
       "_model_module_version": "~2.1.4",
       "_view_module_version": "~2.1.4"
      }
     },
     "deda82c0711446ba8f898c017030c456": {
      "model_module": "jupyter-js-widgets",
      "model_module_version": "~2.1.4",
      "model_name": "LayoutModel",
      "state": {
       "_model_module_version": "~2.1.4",
       "_view_module_version": "~2.1.4"
      }
     },
     "df5f8e0ee5604f27bc4e29c0d4c3383e": {
      "model_module": "jupyter-js-widgets",
      "model_module_version": "~2.1.4",
      "model_name": "DropdownModel",
      "state": {
       "_model_module_version": "~2.1.4",
       "_options_labels": [
        "3",
        "5",
        "7"
       ],
       "_view_module_version": "~2.1.4",
       "description": "size",
       "layout": "IPY_MODEL_93e8c7816e164bb0953f00c3bb27a51b",
       "value": "3"
      }
     },
     "df9874db921b4bf780761b66d210dfd6": {
      "model_module": "jupyter-js-widgets",
      "model_module_version": "~2.1.4",
      "model_name": "SliderStyleModel",
      "state": {
       "_model_module_version": "~2.1.4",
       "_view_module_version": "~2.1.4"
      }
     },
     "dfbe9ea704e54d029687a1ce026cc8c3": {
      "model_module": "jupyter-js-widgets",
      "model_module_version": "~2.1.4",
      "model_name": "IntSliderModel",
      "state": {
       "_model_module_version": "~2.1.4",
       "_view_module_version": "~2.1.4",
       "description": "i",
       "layout": "IPY_MODEL_66da13d47d4441618962664a67adf3f8",
       "max": 800,
       "style": "IPY_MODEL_a0d327aec069433ba77e9215dacf1e23"
      }
     },
     "dfdaec09dce04f36957c7c80cd1c3572": {
      "model_module": "jupyter-js-widgets",
      "model_module_version": "~2.1.4",
      "model_name": "SliderStyleModel",
      "state": {
       "_model_module_version": "~2.1.4",
       "_view_module_version": "~2.1.4"
      }
     },
     "e01d02ab7113406d85a41353d284e2d4": {
      "model_module": "jupyter-js-widgets",
      "model_module_version": "~2.1.4",
      "model_name": "IntSliderModel",
      "state": {
       "_model_module_version": "~2.1.4",
       "_view_module_version": "~2.1.4",
       "description": "vmax",
       "layout": "IPY_MODEL_22dd886ad8be4c5090b95b32613af167",
       "max": 65535,
       "style": "IPY_MODEL_8a891f38e5c74a57b364ba85d47e9432",
       "value": 65535
      }
     },
     "e03a6be686a44b27bf3b006035930185": {
      "model_module": "jupyter-js-widgets",
      "model_module_version": "~2.1.4",
      "model_name": "LayoutModel",
      "state": {
       "_model_module_version": "~2.1.4",
       "_view_module_version": "~2.1.4"
      }
     },
     "e0511d13b59c4ef8a3a0519da23d19e4": {
      "model_module": "jupyter-js-widgets",
      "model_module_version": "~2.1.4",
      "model_name": "OutputModel",
      "state": {
       "_dom_classes": [],
       "_model_module": "jupyter-js-widgets",
       "_model_module_version": "~2.1.4",
       "_view_module": "jupyter-js-widgets",
       "_view_module_version": "~2.1.4",
       "layout": "IPY_MODEL_e71c046204384fa3a4a4bf88b5f672df",
       "msg_throttle": 1
      }
     },
     "e05cafe2c13e4d5988b00da679451712": {
      "model_module": "jupyter-js-widgets",
      "model_module_version": "~2.1.4",
      "model_name": "LayoutModel",
      "state": {
       "_model_module_version": "~2.1.4",
       "_view_module_version": "~2.1.4"
      }
     },
     "e098694f21fe45c993c9bfadca0e59ef": {
      "model_module": "jupyter-js-widgets",
      "model_module_version": "~2.1.4",
      "model_name": "IntSliderModel",
      "state": {
       "_model_module_version": "~2.1.4",
       "_view_module_version": "~2.1.4",
       "description": "i",
       "layout": "IPY_MODEL_b2f514941219450eb43a0fc09f9439d5",
       "max": 800,
       "style": "IPY_MODEL_d10f6997ea834de1b02f424923af5a0f",
       "value": 572
      }
     },
     "e0b1095333654cc0affa6f02ae0afff3": {
      "model_module": "jupyter-js-widgets",
      "model_module_version": "~2.1.4",
      "model_name": "FloatSliderModel",
      "state": {
       "_model_module_version": "~2.1.4",
       "_view_module_version": "~2.1.4",
       "description": "vmax",
       "layout": "IPY_MODEL_674a1e9b6fe44409ab39dbcbe99624cc",
       "max": 0.009999999776482582,
       "min": 0,
       "step": 0.001,
       "value": 0.009999999776482582
      }
     },
     "e0dc556fc2e44736801aba4cfe97079f": {
      "model_module": "jupyter-js-widgets",
      "model_module_version": "~2.1.4",
      "model_name": "LayoutModel",
      "state": {
       "_model_module_version": "~2.1.4",
       "_view_module_version": "~2.1.4"
      }
     },
     "e11be750441b42bdabe4dc1a26d08813": {
      "model_module": "jupyter-js-widgets",
      "model_module_version": "~2.1.4",
      "model_name": "IntSliderModel",
      "state": {
       "_model_module_version": "~2.1.4",
       "_view_module_version": "~2.1.4",
       "description": "vmax",
       "layout": "IPY_MODEL_7f21b3e20eb848b2bf95e402faa85303",
       "max": 65535,
       "style": "IPY_MODEL_604242b5015b4efdb2960bc8342d2866",
       "value": 65535
      }
     },
     "e12b0f69b5394f5ba56634df5fbdd9c0": {
      "model_module": "jupyter-js-widgets",
      "model_module_version": "~2.1.4",
      "model_name": "FloatSliderModel",
      "state": {
       "_model_module_version": "~2.1.4",
       "_view_module_version": "~2.1.4",
       "description": "vmax",
       "layout": "IPY_MODEL_b56503c616cd42bbb618247d179efda2",
       "max": 0.009999999776482582,
       "min": -0.005170748569071293,
       "readout_format": ".3f",
       "step": 0.001,
       "value": 0.00683
      }
     },
     "e15ed2be5dfc4136960776d07cd42d1e": {
      "model_module": "jupyter-js-widgets",
      "model_module_version": "~2.1.4",
      "model_name": "IntSliderModel",
      "state": {
       "_model_module_version": "~2.1.4",
       "_view_module_version": "~2.1.4",
       "description": "vmax",
       "layout": "IPY_MODEL_4e22be24acae4d488c2d8cd62912a793",
       "max": 65535,
       "style": "IPY_MODEL_c3d62784804e4efcbc83216c0f97912d",
       "value": 65535
      }
     },
     "e1a39c8e0c624fd2984f1109e0310a3a": {
      "model_module": "jupyter-js-widgets",
      "model_module_version": "~2.1.4",
      "model_name": "VBoxModel",
      "state": {
       "_dom_classes": [
        "widget-interact"
       ],
       "_model_module_version": "~2.1.4",
       "_view_module_version": "~2.1.4",
       "children": [
        "IPY_MODEL_c62ff0a8c0b4480da2226d2ccd858fce",
        "IPY_MODEL_e94f50811f32415188e417667f609cc4"
       ],
       "layout": "IPY_MODEL_662d49d5ef4e4dca8cf4563ed487106b"
      }
     },
     "e202ba2a34764922951ab5d9f37ab182": {
      "model_module": "jupyter-js-widgets",
      "model_module_version": "~2.1.4",
      "model_name": "LayoutModel",
      "state": {
       "_model_module_version": "~2.1.4",
       "_view_module_version": "~2.1.4"
      }
     },
     "e211affe4617424caa73add24e1d1580": {
      "model_module": "jupyter-js-widgets",
      "model_module_version": "~2.1.4",
      "model_name": "LayoutModel",
      "state": {
       "_model_module_version": "~2.1.4",
       "_view_module_version": "~2.1.4"
      }
     },
     "e2830df1f5c2458c97c590d5cb83066e": {
      "model_module": "jupyter-js-widgets",
      "model_module_version": "~2.1.4",
      "model_name": "FloatSliderModel",
      "state": {
       "_model_module_version": "~2.1.4",
       "_view_module_version": "~2.1.4",
       "description": "vmin",
       "layout": "IPY_MODEL_75e1f667d4b241d38357da9cc6d30bb9",
       "max": 0.015653500333428383,
       "min": -0.020783809944987297,
       "step": 0.001,
       "value": -0.00378
      }
     },
     "e292dd198e1047fbb8b25c1b9ec8095c": {
      "model_module": "jupyter-js-widgets",
      "model_module_version": "~2.1.4",
      "model_name": "DropdownModel",
      "state": {
       "_model_module_version": "~2.1.4",
       "_options_labels": [
        "10",
        "100",
        "250",
        "500",
        "750",
        "1000"
       ],
       "_view_module_version": "~2.1.4",
       "description": "diff",
       "layout": "IPY_MODEL_61d19dcb34f64135b0ec9baca10f230c",
       "value": "1000"
      }
     },
     "e2c89f6fb1134d0db7f4c86c7f738cc3": {
      "model_module": "jupyter-js-widgets",
      "model_module_version": "~2.1.4",
      "model_name": "IntSliderModel",
      "state": {
       "_model_module_version": "~2.1.4",
       "_view_module_version": "~2.1.4",
       "description": "vmax",
       "layout": "IPY_MODEL_e6c480dee1cf4358b7881ff34ee7826c",
       "max": 65535,
       "style": "IPY_MODEL_0f5e1413e96248a584969dbc1ca9032c",
       "value": 65535
      }
     },
     "e2d0dcd0950c468ea821cba9823cc011": {
      "model_module": "jupyter-js-widgets",
      "model_module_version": "~2.1.4",
      "model_name": "OutputModel",
      "state": {
       "_dom_classes": [],
       "_model_module": "jupyter-js-widgets",
       "_model_module_version": "~2.1.4",
       "_view_module": "jupyter-js-widgets",
       "_view_module_version": "~2.1.4",
       "layout": "IPY_MODEL_e67e6be32076490994c7ffc16c59b612",
       "msg_throttle": 1
      }
     },
     "e2f73c30bde84140913db0c3fd234dea": {
      "model_module": "jupyter-js-widgets",
      "model_module_version": "~2.1.4",
      "model_name": "FloatSliderModel",
      "state": {
       "_model_module_version": "~2.1.4",
       "_view_module_version": "~2.1.4",
       "description": "vmin",
       "layout": "IPY_MODEL_bd38a3c86acf431a853f8a2d56cadc17",
       "max": 0.010969985276460648,
       "min": -0.007000000216066837,
       "step": 0.001,
       "value": -0.003
      }
     },
     "e303e6f322904db6ba01683f8aa7bf32": {
      "model_module": "jupyter-js-widgets",
      "model_module_version": "~2.1.4",
      "model_name": "DropdownModel",
      "state": {
       "_model_module_version": "~2.1.4",
       "_options_labels": [
        "Projections",
        "Open beam images",
        "Dark images"
       ],
       "_view_module_version": "~2.1.4",
       "layout": "IPY_MODEL_b613feae79724e31b6b4c38b65c42293",
       "value": "Projections"
      }
     },
     "e3b0a0a63b6641b898b97cbaee256ef5": {
      "model_module": "jupyter-js-widgets",
      "model_module_version": "~2.1.4",
      "model_name": "LayoutModel",
      "state": {
       "_model_module_version": "~2.1.4",
       "_view_module_version": "~2.1.4"
      }
     },
     "e3b7afc29e0649ef994cdaa95c69a756": {
      "model_module": "jupyter-js-widgets",
      "model_module_version": "~2.1.4",
      "model_name": "IntSliderModel",
      "state": {
       "_model_module_version": "~2.1.4",
       "_view_module_version": "~2.1.4",
       "description": "i",
       "layout": "IPY_MODEL_4babb9a503c647c8aa1d24a6c1cf417f",
       "max": 800,
       "style": "IPY_MODEL_2f025772a8bf449a8455199fde064312"
      }
     },
     "e3eef6c60c214b198977d86365d74222": {
      "model_module": "jupyter-js-widgets",
      "model_module_version": "~2.1.4",
      "model_name": "LayoutModel",
      "state": {
       "_model_module_version": "~2.1.4",
       "_view_module_version": "~2.1.4"
      }
     },
     "e4109493d8da44d59904173b8ae41f96": {
      "model_module": "jupyter-js-widgets",
      "model_module_version": "~2.1.4",
      "model_name": "OutputModel",
      "state": {
       "_dom_classes": [],
       "_model_module": "jupyter-js-widgets",
       "_model_module_version": "~2.1.4",
       "_view_module": "jupyter-js-widgets",
       "_view_module_version": "~2.1.4",
       "layout": "IPY_MODEL_473030c292434c0584b5bc25407184d7",
       "msg_throttle": 1
      }
     },
     "e49c64698891408ea6eaa327264b8287": {
      "model_module": "jupyter-js-widgets",
      "model_module_version": "~2.1.4",
      "model_name": "IntSliderModel",
      "state": {
       "_model_module_version": "~2.1.4",
       "_view_module_version": "~2.1.4",
       "description": "i",
       "layout": "IPY_MODEL_e52c410a579f4afc923676e4430cb1dc",
       "max": 800,
       "style": "IPY_MODEL_47384ef95dd14d2bba9f6095576a846c",
       "value": 400
      }
     },
     "e4e75ec367274e108671365a0398361e": {
      "model_module": "jupyter-js-widgets",
      "model_module_version": "~2.1.4",
      "model_name": "DropdownModel",
      "state": {
       "_model_module_version": "~2.1.4",
       "_options_labels": [
        "Projections",
        "Open beam images",
        "Dark images"
       ],
       "_view_module_version": "~2.1.4",
       "description": "ims",
       "layout": "IPY_MODEL_8d4f3c4cb8524262a4d094a40edf6caa",
       "value": "Projections"
      }
     },
     "e4fc968d4f8643a09bddd4177c7372c7": {
      "model_module": "jupyter-js-widgets",
      "model_module_version": "~2.1.4",
      "model_name": "LayoutModel",
      "state": {
       "_model_module_version": "~2.1.4",
       "_view_module_version": "~2.1.4"
      }
     },
     "e5167d301fc6467596e28ce1ed3df6cb": {
      "model_module": "jupyter-js-widgets",
      "model_module_version": "~2.1.4",
      "model_name": "SliderStyleModel",
      "state": {
       "_model_module_version": "~2.1.4",
       "_view_module_version": "~2.1.4"
      }
     },
     "e52c410a579f4afc923676e4430cb1dc": {
      "model_module": "jupyter-js-widgets",
      "model_module_version": "~2.1.4",
      "model_name": "LayoutModel",
      "state": {
       "_model_module_version": "~2.1.4",
       "_view_module_version": "~2.1.4"
      }
     },
     "e535535231a44ee88068c9631fd7df3b": {
      "model_module": "jupyter-js-widgets",
      "model_module_version": "~2.1.4",
      "model_name": "FloatSliderModel",
      "state": {
       "_model_module_version": "~2.1.4",
       "_view_module_version": "~2.1.4",
       "description": "vmin",
       "layout": "IPY_MODEL_8819af2d583d4bf3bd52cf36f65a4882",
       "max": 0.009999999776482582,
       "min": -0.004999999888241291,
       "step": 0.001,
       "value": -0.004
      }
     },
     "e5a0ed4cd3d54dc0b7003055b4b251c8": {
      "model_module": "jupyter-js-widgets",
      "model_module_version": "~2.1.4",
      "model_name": "LayoutModel",
      "state": {
       "_model_module_version": "~2.1.4",
       "_view_module_version": "~2.1.4"
      }
     },
     "e5e4b26d954d41cda51e6d8d46ecc53d": {
      "model_module": "jupyter-js-widgets",
      "model_module_version": "~2.1.4",
      "model_name": "LayoutModel",
      "state": {
       "_model_module_version": "~2.1.4",
       "_view_module_version": "~2.1.4"
      }
     },
     "e60cff02e5484b25931312c3b865feb7": {
      "model_module": "jupyter-js-widgets",
      "model_module_version": "~2.1.4",
      "model_name": "LayoutModel",
      "state": {
       "_model_module_version": "~2.1.4",
       "_view_module_version": "~2.1.4"
      }
     },
     "e6275c8c1ca248fe90d369b201a8294f": {
      "model_module": "jupyter-js-widgets",
      "model_module_version": "~2.1.4",
      "model_name": "LayoutModel",
      "state": {
       "_model_module_version": "~2.1.4",
       "_view_module_version": "~2.1.4"
      }
     },
     "e668785ff5474f11928bd003fe13b182": {
      "model_module": "jupyter-js-widgets",
      "model_module_version": "~2.1.4",
      "model_name": "OutputModel",
      "state": {
       "_dom_classes": [],
       "_model_module": "jupyter-js-widgets",
       "_model_module_version": "~2.1.4",
       "_view_module": "jupyter-js-widgets",
       "_view_module_version": "~2.1.4",
       "layout": "IPY_MODEL_8512c488b2764abc979efaf4474674dc",
       "msg_throttle": 1
      }
     },
     "e67e6be32076490994c7ffc16c59b612": {
      "model_module": "jupyter-js-widgets",
      "model_module_version": "~2.1.4",
      "model_name": "LayoutModel",
      "state": {
       "_model_module_version": "~2.1.4",
       "_view_module_version": "~2.1.4"
      }
     },
     "e6b9a49f9e6744e4adee7f5095b09e18": {
      "model_module": "jupyter-js-widgets",
      "model_module_version": "~2.1.4",
      "model_name": "OutputModel",
      "state": {
       "_dom_classes": [],
       "_model_module": "jupyter-js-widgets",
       "_model_module_version": "~2.1.4",
       "_view_module": "jupyter-js-widgets",
       "_view_module_version": "~2.1.4",
       "layout": "IPY_MODEL_9f5f17d7dff64e86aa766f7c36c2afb2",
       "msg_throttle": 1
      }
     },
     "e6c480dee1cf4358b7881ff34ee7826c": {
      "model_module": "jupyter-js-widgets",
      "model_module_version": "~2.1.4",
      "model_name": "LayoutModel",
      "state": {
       "_model_module_version": "~2.1.4",
       "_view_module_version": "~2.1.4"
      }
     },
     "e6def0bfb6d045fabed2426c26c1d7f2": {
      "model_module": "jupyter-js-widgets",
      "model_module_version": "~2.1.4",
      "model_name": "SliderStyleModel",
      "state": {
       "_model_module_version": "~2.1.4",
       "_view_module_version": "~2.1.4"
      }
     },
     "e6ee14e8f390404ab4218c10a4f6ca71": {
      "model_module": "jupyter-js-widgets",
      "model_module_version": "~2.1.4",
      "model_name": "LayoutModel",
      "state": {
       "_model_module_version": "~2.1.4",
       "_view_module_version": "~2.1.4"
      }
     },
     "e6f2fdea18e94b54a1068e3805826a9c": {
      "model_module": "jupyter-js-widgets",
      "model_module_version": "~2.1.4",
      "model_name": "IntSliderModel",
      "state": {
       "_model_module_version": "~2.1.4",
       "_view_module_version": "~2.1.4",
       "description": "i",
       "layout": "IPY_MODEL_d56e5b403daf4df89526a97b16c19dac",
       "max": 800,
       "style": "IPY_MODEL_56ce175bc9714667a82a607f401f50b1"
      }
     },
     "e71c046204384fa3a4a4bf88b5f672df": {
      "model_module": "jupyter-js-widgets",
      "model_module_version": "~2.1.4",
      "model_name": "LayoutModel",
      "state": {
       "_model_module_version": "~2.1.4",
       "_view_module_version": "~2.1.4"
      }
     },
     "e72fd3b520d049b988ee74d83139e78f": {
      "model_module": "jupyter-js-widgets",
      "model_module_version": "~2.1.4",
      "model_name": "LayoutModel",
      "state": {
       "_model_module_version": "~2.1.4",
       "_view_module_version": "~2.1.4"
      }
     },
     "e7594df32a734e469182af450b69bbe9": {
      "model_module": "jupyter-js-widgets",
      "model_module_version": "~2.1.4",
      "model_name": "SliderStyleModel",
      "state": {
       "_model_module_version": "~2.1.4",
       "_view_module_version": "~2.1.4"
      }
     },
     "e786fd68162a4531a55a755db581f54f": {
      "model_module": "jupyter-js-widgets",
      "model_module_version": "~2.1.4",
      "model_name": "LayoutModel",
      "state": {
       "_model_module_version": "~2.1.4",
       "_view_module_version": "~2.1.4"
      }
     },
     "e788f80af9f64573a06350b873d19762": {
      "model_module": "jupyter-js-widgets",
      "model_module_version": "~2.1.4",
      "model_name": "VBoxModel",
      "state": {
       "_dom_classes": [
        "widget-interact"
       ],
       "_model_module_version": "~2.1.4",
       "_view_module_version": "~2.1.4",
       "children": [
        "IPY_MODEL_f468a7ecde954584857113c13094c456",
        "IPY_MODEL_d38fec5feb8443349daf6675f8b43934",
        "IPY_MODEL_6cbe56841ff740d6a741514260ca3800",
        "IPY_MODEL_056d86cd3d384e4b960529ed072bb136",
        "IPY_MODEL_f0917ec682954eb498bc994708965193"
       ],
       "layout": "IPY_MODEL_cecef6fd32aa40ddbfff5ed95809087a"
      }
     },
     "e7b1692f35004fd19717d69423a072af": {
      "model_module": "jupyter-js-widgets",
      "model_module_version": "~2.1.4",
      "model_name": "SliderStyleModel",
      "state": {
       "_model_module_version": "~2.1.4",
       "_view_module_version": "~2.1.4"
      }
     },
     "e7d8f137c797478da3638d46b85864b5": {
      "model_module": "jupyter-js-widgets",
      "model_module_version": "~2.1.4",
      "model_name": "LayoutModel",
      "state": {
       "_model_module_version": "~2.1.4",
       "_view_module_version": "~2.1.4"
      }
     },
     "e80593651b8c4d90a14d937e396e291d": {
      "model_module": "jupyter-js-widgets",
      "model_module_version": "~2.1.4",
      "model_name": "VBoxModel",
      "state": {
       "_dom_classes": [
        "widget-interact"
       ],
       "_model_module_version": "~2.1.4",
       "_view_module_version": "~2.1.4",
       "children": [
        "IPY_MODEL_007d72e6275d4be6824ad88754bc723f",
        "IPY_MODEL_51457d611d464f2b9aa28cba4bdd490d",
        "IPY_MODEL_ff500948fa1e4a0da46d02e4a831ac39",
        "IPY_MODEL_a7732eb17d294f54b9a550385e84c820",
        "IPY_MODEL_db191a6c8f914c2382a442054b260071"
       ],
       "layout": "IPY_MODEL_964128e0fc08408b8a97d8cacf0a13bb"
      }
     },
     "e805de422b0a4cbebd4925e21a371cf3": {
      "model_module": "jupyter-js-widgets",
      "model_module_version": "~2.1.4",
      "model_name": "IntSliderModel",
      "state": {
       "_model_module_version": "~2.1.4",
       "_view_module_version": "~2.1.4",
       "description": "i",
       "layout": "IPY_MODEL_fa16f72dad744af1bb89be3d93222512",
       "max": 369,
       "style": "IPY_MODEL_ff547cc3ac5e4a72aeacc2eb91c508ff",
       "value": 58
      }
     },
     "e822aeafbf60452b9ef5b061115ffb9e": {
      "model_module": "jupyter-js-widgets",
      "model_module_version": "~2.1.4",
      "model_name": "SliderStyleModel",
      "state": {
       "_model_module_version": "~2.1.4",
       "_view_module_version": "~2.1.4"
      }
     },
     "e84009630aaa4de8b8418d041400c6fb": {
      "model_module": "jupyter-js-widgets",
      "model_module_version": "~2.1.4",
      "model_name": "SliderStyleModel",
      "state": {
       "_model_module_version": "~2.1.4",
       "_view_module_version": "~2.1.4"
      }
     },
     "e87c3ab81d314a1e83627e359f9bed7e": {
      "model_module": "jupyter-js-widgets",
      "model_module_version": "~2.1.4",
      "model_name": "LayoutModel",
      "state": {
       "_model_module_version": "~2.1.4",
       "_view_module_version": "~2.1.4"
      }
     },
     "e94f50811f32415188e417667f609cc4": {
      "model_module": "jupyter-js-widgets",
      "model_module_version": "~2.1.4",
      "model_name": "OutputModel",
      "state": {
       "_dom_classes": [],
       "_model_module": "jupyter-js-widgets",
       "_model_module_version": "~2.1.4",
       "_view_module": "jupyter-js-widgets",
       "_view_module_version": "~2.1.4",
       "layout": "IPY_MODEL_441331df1152404cb41c9e4603d92f6d",
       "msg_throttle": 1
      }
     },
     "e961123fc5994bb7872670a5e69287b5": {
      "model_module": "jupyter-js-widgets",
      "model_module_version": "~2.1.4",
      "model_name": "SliderStyleModel",
      "state": {
       "_model_module_version": "~2.1.4",
       "_view_module_version": "~2.1.4"
      }
     },
     "e9e496f0bc844ad9bc258f9fe48a31c5": {
      "model_module": "jupyter-js-widgets",
      "model_module_version": "~2.1.4",
      "model_name": "FloatSliderModel",
      "state": {
       "_model_module_version": "~2.1.4",
       "_view_module_version": "~2.1.4",
       "description": "vmin",
       "layout": "IPY_MODEL_3c80fac7c307472eb55021dfdd53d7ed",
       "max": 0.009999999776482582,
       "min": -0.005170748569071293,
       "readout_format": ".3f",
       "step": 0.1,
       "value": -0.005170748569071293
      }
     },
     "e9fee54822d54e7da385e57291bfb15f": {
      "model_module": "jupyter-js-widgets",
      "model_module_version": "~2.1.4",
      "model_name": "FloatSliderModel",
      "state": {
       "_model_module_version": "~2.1.4",
       "_view_module_version": "~2.1.4",
       "description": "vmin",
       "layout": "IPY_MODEL_92e05be4954d4a4589fae9b6f7562b51",
       "max": 0.009999999776482582,
       "min": -0.004999999888241291,
       "step": 0.001,
       "value": -0.004999999888241291
      }
     },
     "e9ffbd6f00ba4eeda133bf1b0664b76d": {
      "model_module": "jupyter-js-widgets",
      "model_module_version": "~2.1.4",
      "model_name": "LayoutModel",
      "state": {
       "_model_module_version": "~2.1.4",
       "_view_module_version": "~2.1.4"
      }
     },
     "ea1ad277f8d24dce99986ac0456d257d": {
      "model_module": "jupyter-js-widgets",
      "model_module_version": "~2.1.4",
      "model_name": "LayoutModel",
      "state": {
       "_model_module_version": "~2.1.4",
       "_view_module_version": "~2.1.4"
      }
     },
     "ea1aebd4be984c37b676b5c87a2bc145": {
      "model_module": "jupyter-js-widgets",
      "model_module_version": "~2.1.4",
      "model_name": "LayoutModel",
      "state": {
       "_model_module_version": "~2.1.4",
       "_view_module_version": "~2.1.4"
      }
     },
     "ea504bd8969640c3aaf06184ba02d74b": {
      "model_module": "jupyter-js-widgets",
      "model_module_version": "~2.1.4",
      "model_name": "LayoutModel",
      "state": {
       "_model_module_version": "~2.1.4",
       "_view_module_version": "~2.1.4"
      }
     },
     "ea50f4ae8a564196acaab8050484c77c": {
      "model_module": "jupyter-js-widgets",
      "model_module_version": "~2.1.4",
      "model_name": "SliderStyleModel",
      "state": {
       "_model_module_version": "~2.1.4",
       "_view_module_version": "~2.1.4"
      }
     },
     "ea74c8bdea55451a9ee749f50e4cc77f": {
      "model_module": "jupyter-js-widgets",
      "model_module_version": "~2.1.4",
      "model_name": "LayoutModel",
      "state": {
       "_model_module_version": "~2.1.4",
       "_view_module_version": "~2.1.4"
      }
     },
     "ea92e51e7d6d42ddbc7e8d192b09253a": {
      "model_module": "jupyter-js-widgets",
      "model_module_version": "~2.1.4",
      "model_name": "DropdownModel",
      "state": {
       "_model_module_version": "~2.1.4",
       "_options_labels": [
        "10",
        "100",
        "500",
        "1000"
       ],
       "_view_module_version": "~2.1.4",
       "description": "diff",
       "layout": "IPY_MODEL_4a86172d818d45cc8541347a3f5cebb0",
       "value": "1000"
      }
     },
     "eaaa0023876341b2be09ff8bacfa40d4": {
      "model_module": "jupyter-js-widgets",
      "model_module_version": "~2.1.4",
      "model_name": "LayoutModel",
      "state": {
       "_model_module_version": "~2.1.4",
       "_view_module_version": "~2.1.4"
      }
     },
     "eac58d8b3d6b47a0a0a57a6f1a40356f": {
      "model_module": "jupyter-js-widgets",
      "model_module_version": "~2.1.4",
      "model_name": "SliderStyleModel",
      "state": {
       "_model_module_version": "~2.1.4",
       "_view_module_version": "~2.1.4"
      }
     },
     "eac64b7da1564cc79acedb0a3a030a8f": {
      "model_module": "jupyter-js-widgets",
      "model_module_version": "~2.1.4",
      "model_name": "IntSliderModel",
      "state": {
       "_model_module_version": "~2.1.4",
       "_view_module_version": "~2.1.4",
       "description": "i",
       "layout": "IPY_MODEL_9867d8b992df4e6fa311732b05e55017",
       "max": 800,
       "style": "IPY_MODEL_3a68d9f63bdb4711a3604ff4c25736bd"
      }
     },
     "eacddac28a404cabb668b5bf96be78d5": {
      "model_module": "jupyter-js-widgets",
      "model_module_version": "~2.1.4",
      "model_name": "IntSliderModel",
      "state": {
       "_model_module_version": "~2.1.4",
       "_view_module_version": "~2.1.4",
       "description": "vmin",
       "layout": "IPY_MODEL_9030b27555804f26af3aa6ed3e997e22",
       "max": 1,
       "style": "IPY_MODEL_6affee628303411ca8b2ed0c412a638b"
      }
     },
     "eb219affa230469da0852ac39a2583fe": {
      "model_module": "jupyter-js-widgets",
      "model_module_version": "~2.1.4",
      "model_name": "LayoutModel",
      "state": {
       "_model_module_version": "~2.1.4",
       "_view_module_version": "~2.1.4"
      }
     },
     "eb60724fa6cb45308626073dd91e996f": {
      "model_module": "jupyter-js-widgets",
      "model_module_version": "~2.1.4",
      "model_name": "IntSliderModel",
      "state": {
       "_model_module_version": "~2.1.4",
       "_view_module_version": "~2.1.4",
       "description": "vmax",
       "layout": "IPY_MODEL_93e6c34bd4ae4364bc575e0feceb2125",
       "max": 65535,
       "style": "IPY_MODEL_b561617208264fdca338f3853266e07d",
       "value": 65535
      }
     },
     "eb961537982c45ad88c6d43cead368e4": {
      "model_module": "jupyter-js-widgets",
      "model_module_version": "~2.1.4",
      "model_name": "DropdownModel",
      "state": {
       "_model_module_version": "~2.1.4",
       "_options_labels": [
        "3",
        "5",
        "7"
       ],
       "_view_module_version": "~2.1.4",
       "description": "size",
       "layout": "IPY_MODEL_721c83cf1feb41d488232455ffbb864e",
       "value": "3"
      }
     },
     "ebbc14d838c9444f9327e3b5eb53f99a": {
      "model_module": "jupyter-js-widgets",
      "model_module_version": "~2.1.4",
      "model_name": "SliderStyleModel",
      "state": {
       "_model_module_version": "~2.1.4",
       "_view_module_version": "~2.1.4"
      }
     },
     "ebd2dda6e8324d7ab2d056c8721720aa": {
      "model_module": "jupyter-js-widgets",
      "model_module_version": "~2.1.4",
      "model_name": "LayoutModel",
      "state": {
       "_model_module_version": "~2.1.4",
       "_view_module_version": "~2.1.4"
      }
     },
     "ec00485f74a94f60b14176b0c2b5e980": {
      "model_module": "jupyter-js-widgets",
      "model_module_version": "~2.1.4",
      "model_name": "OutputModel",
      "state": {
       "_dom_classes": [],
       "_model_module": "jupyter-js-widgets",
       "_model_module_version": "~2.1.4",
       "_view_module": "jupyter-js-widgets",
       "_view_module_version": "~2.1.4",
       "layout": "IPY_MODEL_75a8ddf8af964105836c282c7ddf4e00",
       "msg_throttle": 1
      }
     },
     "ec0e4fbeeef24e93b5b7d3b03226444c": {
      "model_module": "jupyter-js-widgets",
      "model_module_version": "~2.1.4",
      "model_name": "LayoutModel",
      "state": {
       "_model_module_version": "~2.1.4",
       "_view_module_version": "~2.1.4"
      }
     },
     "ec23d410ab1c4aa7927f98fd7d3e3279": {
      "model_module": "jupyter-js-widgets",
      "model_module_version": "~2.1.4",
      "model_name": "SliderStyleModel",
      "state": {
       "_model_module_version": "~2.1.4",
       "_view_module_version": "~2.1.4"
      }
     },
     "ed41591bd6a847c4900dbfc746f4b224": {
      "model_module": "jupyter-js-widgets",
      "model_module_version": "~2.1.4",
      "model_name": "SliderStyleModel",
      "state": {
       "_model_module_version": "~2.1.4",
       "_view_module_version": "~2.1.4"
      }
     },
     "eda167bab3354121b697a6cbbfe15c20": {
      "model_module": "jupyter-js-widgets",
      "model_module_version": "~2.1.4",
      "model_name": "LayoutModel",
      "state": {
       "_model_module_version": "~2.1.4",
       "_view_module_version": "~2.1.4"
      }
     },
     "edcf7b3329f7492dbb558b45880b3fa2": {
      "model_module": "jupyter-js-widgets",
      "model_module_version": "~2.1.4",
      "model_name": "LayoutModel",
      "state": {
       "_model_module_version": "~2.1.4",
       "_view_module_version": "~2.1.4"
      }
     },
     "ee01252007eb45d19c7dc3fc5dfcc6cd": {
      "model_module": "jupyter-js-widgets",
      "model_module_version": "~2.1.4",
      "model_name": "LayoutModel",
      "state": {
       "_model_module_version": "~2.1.4",
       "_view_module_version": "~2.1.4"
      }
     },
     "ee3b2e4bc2d54971a34958917413d7de": {
      "model_module": "jupyter-js-widgets",
      "model_module_version": "~2.1.4",
      "model_name": "IntSliderModel",
      "state": {
       "_model_module_version": "~2.1.4",
       "_view_module_version": "~2.1.4",
       "description": "i",
       "layout": "IPY_MODEL_b7732e044b4e48c68f825bcf748f5418",
       "max": 369,
       "style": "IPY_MODEL_9030eb6439ae4267b58cb30132cbd9bb",
       "value": 150
      }
     },
     "ee489b7b500049f997dfa80a3ff0fa73": {
      "model_module": "jupyter-js-widgets",
      "model_module_version": "~2.1.4",
      "model_name": "FloatSliderModel",
      "state": {
       "_model_module_version": "~2.1.4",
       "_view_module_version": "~2.1.4",
       "description": "vmax",
       "layout": "IPY_MODEL_0ed31c310b5f4a9eb17bd70ac47beffd",
       "max": 0.015653500333428383,
       "min": -0.020783809944987297,
       "step": 0.001,
       "value": 0.01322
      }
     },
     "ee5180595293462d8047e47d17f30b72": {
      "model_module": "jupyter-js-widgets",
      "model_module_version": "~2.1.4",
      "model_name": "LayoutModel",
      "state": {
       "_model_module_version": "~2.1.4",
       "_view_module_version": "~2.1.4"
      }
     },
     "ee6629adbdbf44078476db753ae5325e": {
      "model_module": "jupyter-js-widgets",
      "model_module_version": "~2.1.4",
      "model_name": "SliderStyleModel",
      "state": {
       "_model_module_version": "~2.1.4",
       "_view_module_version": "~2.1.4"
      }
     },
     "ee996f7967d2499b91940fdc383770fa": {
      "model_module": "jupyter-js-widgets",
      "model_module_version": "~2.1.4",
      "model_name": "VBoxModel",
      "state": {
       "_dom_classes": [
        "widget-interact"
       ],
       "_model_module_version": "~2.1.4",
       "_view_module_version": "~2.1.4",
       "children": [
        "IPY_MODEL_254489f1b9f24d3b817e0288cbbf47e5",
        "IPY_MODEL_2eea14482e664dd68208ad91691863b2",
        "IPY_MODEL_991f78352f114186b02d55b56a5c3f5b",
        "IPY_MODEL_284c51d6e2b34415af9f884bdb2c6f24"
       ],
       "layout": "IPY_MODEL_c5c91efe07d94523bcc49615a6869c41"
      }
     },
     "ef5798a0225b48398972ce5433e9c4c5": {
      "model_module": "jupyter-js-widgets",
      "model_module_version": "~2.1.4",
      "model_name": "SliderStyleModel",
      "state": {
       "_model_module_version": "~2.1.4",
       "_view_module_version": "~2.1.4"
      }
     },
     "ef6df42c06e549939cc5b550c2619fdd": {
      "model_module": "jupyter-js-widgets",
      "model_module_version": "~2.1.4",
      "model_name": "IntSliderModel",
      "state": {
       "_model_module_version": "~2.1.4",
       "_view_module_version": "~2.1.4",
       "description": "vmin",
       "layout": "IPY_MODEL_90c0d78cb1574151bba615cf6343875f",
       "max": 65535,
       "style": "IPY_MODEL_a399770f722c42099b015b80b232d193"
      }
     },
     "efc2f4d0a7c9444ca675b696f7ea0bad": {
      "model_module": "jupyter-js-widgets",
      "model_module_version": "~2.1.4",
      "model_name": "SliderStyleModel",
      "state": {
       "_model_module_version": "~2.1.4",
       "_view_module_version": "~2.1.4"
      }
     },
     "efc7b3411fcd43c3b0909fba825b1579": {
      "model_module": "jupyter-js-widgets",
      "model_module_version": "~2.1.4",
      "model_name": "LayoutModel",
      "state": {
       "_model_module_version": "~2.1.4",
       "_view_module_version": "~2.1.4"
      }
     },
     "efcad43fa91542578a2c516d66933047": {
      "model_module": "jupyter-js-widgets",
      "model_module_version": "~2.1.4",
      "model_name": "IntSliderModel",
      "state": {
       "_model_module_version": "~2.1.4",
       "_view_module_version": "~2.1.4",
       "description": "i",
       "layout": "IPY_MODEL_1d0529a62ba34f4a9cac72d2bc402b5c",
       "max": 800,
       "style": "IPY_MODEL_89f412d8ffef471f980736dc26e06310"
      }
     },
     "f0052ca9b59645eeacd63a6174e213f2": {
      "model_module": "jupyter-js-widgets",
      "model_module_version": "~2.1.4",
      "model_name": "OutputModel",
      "state": {
       "_dom_classes": [],
       "_model_module": "jupyter-js-widgets",
       "_model_module_version": "~2.1.4",
       "_view_module": "jupyter-js-widgets",
       "_view_module_version": "~2.1.4",
       "layout": "IPY_MODEL_529c6d2c74e44032abb4fa21a61e9f66",
       "msg_throttle": 1
      }
     },
     "f0917ec682954eb498bc994708965193": {
      "model_module": "jupyter-js-widgets",
      "model_module_version": "~2.1.4",
      "model_name": "OutputModel",
      "state": {
       "_dom_classes": [],
       "_model_module": "jupyter-js-widgets",
       "_model_module_version": "~2.1.4",
       "_view_module": "jupyter-js-widgets",
       "_view_module_version": "~2.1.4",
       "layout": "IPY_MODEL_417faccab4c94505ab81deb4920ff77e",
       "msg_throttle": 1
      }
     },
     "f0abe1f9522f495b8c1a7792e2213619": {
      "model_module": "jupyter-js-widgets",
      "model_module_version": "~2.1.4",
      "model_name": "VBoxModel",
      "state": {
       "_dom_classes": [
        "widget-interact"
       ],
       "_model_module_version": "~2.1.4",
       "_view_module_version": "~2.1.4",
       "children": [
        "IPY_MODEL_62fd61092fc04c72ae88ed1f621e0647",
        "IPY_MODEL_7dc908b4c0c9441695d3fa8d971f44e4",
        "IPY_MODEL_3f8e0548651a4beabb9fb1c0469dfec9",
        "IPY_MODEL_20ccfab7c65145458d44b960d1baa0ea"
       ],
       "layout": "IPY_MODEL_70875e05e4cb467c8fa2aff45ce289c3"
      }
     },
     "f1143d6931c44390b0a40dfb396b0ef1": {
      "model_module": "jupyter-js-widgets",
      "model_module_version": "~2.1.4",
      "model_name": "IntSliderModel",
      "state": {
       "_model_module_version": "~2.1.4",
       "_view_module_version": "~2.1.4",
       "description": "i",
       "layout": "IPY_MODEL_76370756d9f04867b2d5fcb129d3c44f",
       "max": 600,
       "min": -200,
       "style": "IPY_MODEL_4e23eef385404bf3b99a31cedddf4027",
       "value": 200
      }
     },
     "f1645ad6b58c470492d10d11882428fe": {
      "model_module": "jupyter-js-widgets",
      "model_module_version": "~2.1.4",
      "model_name": "LayoutModel",
      "state": {
       "_model_module_version": "~2.1.4",
       "_view_module_version": "~2.1.4"
      }
     },
     "f169723897b348fbbf8d5c90d00037e8": {
      "model_module": "jupyter-js-widgets",
      "model_module_version": "~2.1.4",
      "model_name": "OutputModel",
      "state": {
       "_dom_classes": [],
       "_model_module": "jupyter-js-widgets",
       "_model_module_version": "~2.1.4",
       "_view_module": "jupyter-js-widgets",
       "_view_module_version": "~2.1.4",
       "layout": "IPY_MODEL_53bd050ea49240889729582a26d7bb81",
       "msg_throttle": 1
      }
     },
     "f178e393bbfd4e5e965eb4f1dd92304e": {
      "model_module": "jupyter-js-widgets",
      "model_module_version": "~2.1.4",
      "model_name": "LayoutModel",
      "state": {
       "_model_module_version": "~2.1.4",
       "_view_module_version": "~2.1.4"
      }
     },
     "f24e90b8ea0b4ec4b94c49267ff965ca": {
      "model_module": "jupyter-js-widgets",
      "model_module_version": "~2.1.4",
      "model_name": "LayoutModel",
      "state": {
       "_model_module_version": "~2.1.4",
       "_view_module_version": "~2.1.4"
      }
     },
     "f2a1f1e676d94f09af1ed71bc3f03eab": {
      "model_module": "jupyter-js-widgets",
      "model_module_version": "~2.1.4",
      "model_name": "IntSliderModel",
      "state": {
       "_model_module_version": "~2.1.4",
       "_view_module_version": "~2.1.4",
       "description": "vmax",
       "layout": "IPY_MODEL_6f881bff1bb1415ab15a9231093b8e22",
       "max": 65535,
       "style": "IPY_MODEL_ef5798a0225b48398972ce5433e9c4c5",
       "value": 65535
      }
     },
     "f2e2f5c9f4734e9a90be5ed70c23eabd": {
      "model_module": "jupyter-js-widgets",
      "model_module_version": "~2.1.4",
      "model_name": "VBoxModel",
      "state": {
       "_dom_classes": [
        "widget-interact"
       ],
       "_model_module_version": "~2.1.4",
       "_view_module_version": "~2.1.4",
       "children": [
        "IPY_MODEL_c75acb67e2184ada9b8bd9ec3f7888a4",
        "IPY_MODEL_ca8cc6a62fe2451589a630def915fdd4",
        "IPY_MODEL_64a2cd9801f14f22a0967acbce3919da",
        "IPY_MODEL_751d7d61f41341e0a47ce0e914765a08"
       ],
       "layout": "IPY_MODEL_d70f211336e44442b126f04ed1df6ae8"
      }
     },
     "f30797aa1f834493ac06fd6ed943103b": {
      "model_module": "jupyter-js-widgets",
      "model_module_version": "~2.1.4",
      "model_name": "SliderStyleModel",
      "state": {
       "_model_module_version": "~2.1.4",
       "_view_module_version": "~2.1.4"
      }
     },
     "f34bca96f92c4b1e94cf3022590e18ab": {
      "model_module": "jupyter-js-widgets",
      "model_module_version": "~2.1.4",
      "model_name": "LayoutModel",
      "state": {
       "_model_module_version": "~2.1.4",
       "_view_module_version": "~2.1.4"
      }
     },
     "f35053c33b9947759cce29b6c0c6dceb": {
      "model_module": "jupyter-js-widgets",
      "model_module_version": "~2.1.4",
      "model_name": "FloatSliderModel",
      "state": {
       "_model_module_version": "~2.1.4",
       "_view_module_version": "~2.1.4",
       "description": "vmin",
       "layout": "IPY_MODEL_8a9784052e264e2181ba8c99b56b5faa",
       "max": 0.015653500333428383,
       "min": -0.020783809944987297,
       "step": 0.1,
       "value": -0.020783809944987297
      }
     },
     "f3a5c822f5e14c95be4009171b184da7": {
      "model_module": "jupyter-js-widgets",
      "model_module_version": "~2.1.4",
      "model_name": "LayoutModel",
      "state": {
       "_model_module_version": "~2.1.4",
       "_view_module_version": "~2.1.4"
      }
     },
     "f3b992a276e2472795a5c69002e980d6": {
      "model_module": "jupyter-js-widgets",
      "model_module_version": "~2.1.4",
      "model_name": "OutputModel",
      "state": {
       "_dom_classes": [],
       "_model_module": "jupyter-js-widgets",
       "_model_module_version": "~2.1.4",
       "_view_module": "jupyter-js-widgets",
       "_view_module_version": "~2.1.4",
       "layout": "IPY_MODEL_61b3b6779e704354b13219f6b02d45b9",
       "msg_throttle": 1
      }
     },
     "f3c2297b7c7a4e5f9cf17bafe73df6c2": {
      "model_module": "jupyter-js-widgets",
      "model_module_version": "~2.1.4",
      "model_name": "LayoutModel",
      "state": {
       "_model_module_version": "~2.1.4",
       "_view_module_version": "~2.1.4"
      }
     },
     "f468a7ecde954584857113c13094c456": {
      "model_module": "jupyter-js-widgets",
      "model_module_version": "~2.1.4",
      "model_name": "DropdownModel",
      "state": {
       "_model_module_version": "~2.1.4",
       "_options_labels": [
        "Projections",
        "Open beam images",
        "Dark images"
       ],
       "_view_module_version": "~2.1.4",
       "description": "ims",
       "layout": "IPY_MODEL_eda167bab3354121b697a6cbbfe15c20",
       "value": "Projections"
      }
     },
     "f490b44a29bd48d58ae092f81ad35e3f": {
      "model_module": "jupyter-js-widgets",
      "model_module_version": "~2.1.4",
      "model_name": "LayoutModel",
      "state": {
       "_model_module_version": "~2.1.4",
       "_view_module_version": "~2.1.4"
      }
     },
     "f53b8eb4e09346b5bdeed93f061f6100": {
      "model_module": "jupyter-js-widgets",
      "model_module_version": "~2.1.4",
      "model_name": "SliderStyleModel",
      "state": {
       "_model_module_version": "~2.1.4",
       "_view_module_version": "~2.1.4"
      }
     },
     "f55aeee7f96f4e188a4ead4dcc64f0a8": {
      "model_module": "jupyter-js-widgets",
      "model_module_version": "~2.1.4",
      "model_name": "SliderStyleModel",
      "state": {
       "_model_module_version": "~2.1.4",
       "_view_module_version": "~2.1.4"
      }
     },
     "f57b50e844c24ce8b8c77d3282865cf4": {
      "model_module": "jupyter-js-widgets",
      "model_module_version": "~2.1.4",
      "model_name": "VBoxModel",
      "state": {
       "_dom_classes": [
        "widget-interact"
       ],
       "_model_module_version": "~2.1.4",
       "_view_module_version": "~2.1.4",
       "children": [
        "IPY_MODEL_75fd76cae21149e8843ae905d49fb154",
        "IPY_MODEL_a5385c1d47dc41159e2bcf17d2d6cd75",
        "IPY_MODEL_e2d0dcd0950c468ea821cba9823cc011"
       ],
       "layout": "IPY_MODEL_5b421bf3ebb2437598e0a42c5ff463e5"
      }
     },
     "f5b2370d9bfb41ca99667b31fe6d6b5f": {
      "model_module": "jupyter-js-widgets",
      "model_module_version": "~2.1.4",
      "model_name": "LayoutModel",
      "state": {
       "_model_module_version": "~2.1.4",
       "_view_module_version": "~2.1.4"
      }
     },
     "f61d6fee01c94aaba6e9b56f517a8964": {
      "model_module": "jupyter-js-widgets",
      "model_module_version": "~2.1.4",
      "model_name": "LayoutModel",
      "state": {
       "_model_module_version": "~2.1.4",
       "_view_module_version": "~2.1.4"
      }
     },
     "f62d20623c4e461282c83420d031cb21": {
      "model_module": "jupyter-js-widgets",
      "model_module_version": "~2.1.4",
      "model_name": "LayoutModel",
      "state": {
       "_model_module_version": "~2.1.4",
       "_view_module_version": "~2.1.4"
      }
     },
     "f6492f5f14094fd4b3f5a81bdd005e1a": {
      "model_module": "jupyter-js-widgets",
      "model_module_version": "~2.1.4",
      "model_name": "LayoutModel",
      "state": {
       "_model_module_version": "~2.1.4",
       "_view_module_version": "~2.1.4"
      }
     },
     "f663974125bb46889d54932e503b4e97": {
      "model_module": "jupyter-js-widgets",
      "model_module_version": "~2.1.4",
      "model_name": "OutputModel",
      "state": {
       "_dom_classes": [],
       "_model_module": "jupyter-js-widgets",
       "_model_module_version": "~2.1.4",
       "_view_module": "jupyter-js-widgets",
       "_view_module_version": "~2.1.4",
       "layout": "IPY_MODEL_af43b226f987473ebd74aaac843bd35d",
       "msg_throttle": 1
      }
     },
     "f66849ca8a864236aadf8da3a0b177bb": {
      "model_module": "jupyter-js-widgets",
      "model_module_version": "~2.1.4",
      "model_name": "IntSliderModel",
      "state": {
       "_model_module_version": "~2.1.4",
       "_view_module_version": "~2.1.4",
       "description": "vmax",
       "layout": "IPY_MODEL_f79996815c1b430cbb3ec6449859e71c",
       "max": 65535,
       "style": "IPY_MODEL_48d9a6356e614d37891f6e05a6796ea7",
       "value": 65535
      }
     },
     "f670e17db8664f9da10e2be2255560a2": {
      "model_module": "jupyter-js-widgets",
      "model_module_version": "~2.1.4",
      "model_name": "VBoxModel",
      "state": {
       "_dom_classes": [
        "widget-interact"
       ],
       "_model_module_version": "~2.1.4",
       "_view_module_version": "~2.1.4",
       "children": [
        "IPY_MODEL_efcad43fa91542578a2c516d66933047",
        "IPY_MODEL_4392d21b174a4170b8c648d637271092",
        "IPY_MODEL_7b37654f80004c5d8a99f7fdd6b0dbdb",
        "IPY_MODEL_2ab15b5b8ecf498dbd13abc69de51994"
       ],
       "layout": "IPY_MODEL_ae2352b155894457b9c9811b08f739ae"
      }
     },
     "f67738ff35a4451abdfa7dd3e9403b44": {
      "model_module": "jupyter-js-widgets",
      "model_module_version": "~2.1.4",
      "model_name": "IntSliderModel",
      "state": {
       "_model_module_version": "~2.1.4",
       "_view_module_version": "~2.1.4",
       "description": "vmin",
       "layout": "IPY_MODEL_9c4aab1860ee4f7f825419bd0fc6dd28",
       "max": 65535,
       "style": "IPY_MODEL_c8413b5f34cf437fa7b4137f64056be9"
      }
     },
     "f6b1fd81dd0842dca9069664953b6d21": {
      "model_module": "jupyter-js-widgets",
      "model_module_version": "~2.1.4",
      "model_name": "LayoutModel",
      "state": {
       "_model_module_version": "~2.1.4",
       "_view_module_version": "~2.1.4"
      }
     },
     "f6dc20dc59d248bd89d79cd812ee964f": {
      "model_module": "jupyter-js-widgets",
      "model_module_version": "~2.1.4",
      "model_name": "VBoxModel",
      "state": {
       "_dom_classes": [
        "widget-interact"
       ],
       "_model_module_version": "~2.1.4",
       "_view_module_version": "~2.1.4",
       "children": [
        "IPY_MODEL_a2aa22e2f3f44efa8bdee82d32f2f01a",
        "IPY_MODEL_59e806fca6fe4c12ab15120e1d51ae19",
        "IPY_MODEL_3adecba310544ac6b2ca967185b59518",
        "IPY_MODEL_8c5bbb98ac5d45f99276154a129ebf60"
       ],
       "layout": "IPY_MODEL_2b99d48268a4499caabc60dd64c6766c"
      }
     },
     "f6dc352658de4bab902b5518a91d14f4": {
      "model_module": "jupyter-js-widgets",
      "model_module_version": "~2.1.4",
      "model_name": "OutputModel",
      "state": {
       "_dom_classes": [],
       "_model_module": "jupyter-js-widgets",
       "_model_module_version": "~2.1.4",
       "_view_module": "jupyter-js-widgets",
       "_view_module_version": "~2.1.4",
       "layout": "IPY_MODEL_4b121c96a9a14f4682e9e709d063f14c",
       "msg_throttle": 1
      }
     },
     "f6ee0615b6be4ee4be63ab8aba281de5": {
      "model_module": "jupyter-js-widgets",
      "model_module_version": "~2.1.4",
      "model_name": "LayoutModel",
      "state": {
       "_model_module_version": "~2.1.4",
       "_view_module_version": "~2.1.4"
      }
     },
     "f701de0c011c47629756245087acbe78": {
      "model_module": "jupyter-js-widgets",
      "model_module_version": "~2.1.4",
      "model_name": "LayoutModel",
      "state": {
       "_model_module_version": "~2.1.4",
       "_view_module_version": "~2.1.4"
      }
     },
     "f726590b1b104d9a8faa170416824c2d": {
      "model_module": "jupyter-js-widgets",
      "model_module_version": "~2.1.4",
      "model_name": "IntSliderModel",
      "state": {
       "_model_module_version": "~2.1.4",
       "_view_module_version": "~2.1.4",
       "description": "i",
       "layout": "IPY_MODEL_005a7a4f423c4c6c86b7f67b1a9ed769",
       "max": 800,
       "style": "IPY_MODEL_ff8e37b5afe64a4bbfe2579092830de4"
      }
     },
     "f729d4d1484d47dcb3fe023831fa65db": {
      "model_module": "jupyter-js-widgets",
      "model_module_version": "~2.1.4",
      "model_name": "IntSliderModel",
      "state": {
       "_model_module_version": "~2.1.4",
       "_view_module_version": "~2.1.4",
       "description": "i",
       "layout": "IPY_MODEL_4790598404b3413ca74846a98eab448a",
       "max": 800,
       "style": "IPY_MODEL_1664705f880243a4add82c796b28c530",
       "value": 400
      }
     },
     "f74dcd97ad2c4af793f366117653dbcb": {
      "model_module": "jupyter-js-widgets",
      "model_module_version": "~2.1.4",
      "model_name": "SliderStyleModel",
      "state": {
       "_model_module_version": "~2.1.4",
       "_view_module_version": "~2.1.4"
      }
     },
     "f76a4bed05bc4e8eb6798d85fd3e3686": {
      "model_module": "jupyter-js-widgets",
      "model_module_version": "~2.1.4",
      "model_name": "LayoutModel",
      "state": {
       "_model_module_version": "~2.1.4",
       "_view_module_version": "~2.1.4"
      }
     },
     "f77882486a4442a9b8768abe08c60e33": {
      "model_module": "jupyter-js-widgets",
      "model_module_version": "~2.1.4",
      "model_name": "LayoutModel",
      "state": {
       "_model_module_version": "~2.1.4",
       "_view_module_version": "~2.1.4"
      }
     },
     "f79996815c1b430cbb3ec6449859e71c": {
      "model_module": "jupyter-js-widgets",
      "model_module_version": "~2.1.4",
      "model_name": "LayoutModel",
      "state": {
       "_model_module_version": "~2.1.4",
       "_view_module_version": "~2.1.4"
      }
     },
     "f7c60321d2f64809996ec8c7bd600000": {
      "model_module": "jupyter-js-widgets",
      "model_module_version": "~2.1.4",
      "model_name": "LayoutModel",
      "state": {
       "_model_module_version": "~2.1.4",
       "_view_module_version": "~2.1.4"
      }
     },
     "f805ef9c707840d988f1ee327cf58d17": {
      "model_module": "jupyter-js-widgets",
      "model_module_version": "~2.1.4",
      "model_name": "IntSliderModel",
      "state": {
       "_model_module_version": "~2.1.4",
       "_view_module_version": "~2.1.4",
       "description": "vmin",
       "layout": "IPY_MODEL_ab267072c45a409184071a41fb1deb9d",
       "max": 65535,
       "style": "IPY_MODEL_dca9c68de17d41fca8a97d657358d7cd"
      }
     },
     "f83706516c864f11b21ded900074f642": {
      "model_module": "jupyter-js-widgets",
      "model_module_version": "~2.1.4",
      "model_name": "LayoutModel",
      "state": {
       "_model_module_version": "~2.1.4",
       "_view_module_version": "~2.1.4"
      }
     },
     "f853adc07d044a84bbe38b56654dfe9d": {
      "model_module": "jupyter-js-widgets",
      "model_module_version": "~2.1.4",
      "model_name": "DropdownModel",
      "state": {
       "_model_module_version": "~2.1.4",
       "_options_labels": [
        "Projections",
        "Open beam images",
        "Dark images"
       ],
       "_view_module_version": "~2.1.4",
       "description": "ims",
       "layout": "IPY_MODEL_0b44d4cb89fe43758bc0e8a4482a0142",
       "value": "Projections"
      }
     },
     "f86d3f6cc0164584b2e221fdf18b0b8b": {
      "model_module": "jupyter-js-widgets",
      "model_module_version": "~2.1.4",
      "model_name": "VBoxModel",
      "state": {
       "_dom_classes": [
        "widget-interact"
       ],
       "_model_module_version": "~2.1.4",
       "_view_module_version": "~2.1.4",
       "children": [
        "IPY_MODEL_18f75b3e0e064fea92e0ab2290428a7c",
        "IPY_MODEL_cfda0aa82c074f9bb9a4e6a0864b014b",
        "IPY_MODEL_41631bb627e14b149b69ce9eb68b9d9c",
        "IPY_MODEL_eb60724fa6cb45308626073dd91e996f",
        "IPY_MODEL_a27df6d8d16b430082efe958c02da592"
       ],
       "layout": "IPY_MODEL_5450004eabf6423cabdbcdba4ce1b524"
      }
     },
     "f88a59fe9b3f4963af3e3ddd0ff45748": {
      "model_module": "jupyter-js-widgets",
      "model_module_version": "~2.1.4",
      "model_name": "FloatSliderModel",
      "state": {
       "_model_module_version": "~2.1.4",
       "_view_module_version": "~2.1.4",
       "description": "vmax",
       "layout": "IPY_MODEL_b07a82e8bc0246669fb89e80446ba796",
       "max": 0.015653500333428383,
       "min": -0.020783809944987297,
       "step": 0.001,
       "value": 0.00722
      }
     },
     "f891c708ee3e42f28bde8a0a7014eac4": {
      "model_module": "jupyter-js-widgets",
      "model_module_version": "~2.1.4",
      "model_name": "LayoutModel",
      "state": {
       "_model_module_version": "~2.1.4",
       "_view_module_version": "~2.1.4"
      }
     },
     "f8af37fe2679436d966fdfea37e578c0": {
      "model_module": "jupyter-js-widgets",
      "model_module_version": "~2.1.4",
      "model_name": "IntSliderModel",
      "state": {
       "_model_module_version": "~2.1.4",
       "_view_module_version": "~2.1.4",
       "description": "i",
       "layout": "IPY_MODEL_46efee66f7c447d6b5e22802c7f27253",
       "max": 800,
       "style": "IPY_MODEL_ebbc14d838c9444f9327e3b5eb53f99a"
      }
     },
     "f8c3df37b7974b7aa7b344ffc375ab21": {
      "model_module": "jupyter-js-widgets",
      "model_module_version": "~2.1.4",
      "model_name": "LayoutModel",
      "state": {
       "_model_module_version": "~2.1.4",
       "_view_module_version": "~2.1.4"
      }
     },
     "f8c805c2bdf140e38c3587ca1654a369": {
      "model_module": "jupyter-js-widgets",
      "model_module_version": "~2.1.4",
      "model_name": "SliderStyleModel",
      "state": {
       "_model_module_version": "~2.1.4",
       "_view_module_version": "~2.1.4"
      }
     },
     "f8c8284f580142beb35d2b15a277a100": {
      "model_module": "jupyter-js-widgets",
      "model_module_version": "~2.1.4",
      "model_name": "OutputModel",
      "state": {
       "_dom_classes": [],
       "_model_module": "jupyter-js-widgets",
       "_model_module_version": "~2.1.4",
       "_view_module": "jupyter-js-widgets",
       "_view_module_version": "~2.1.4",
       "layout": "IPY_MODEL_4944f05afbcf4d0db6b313c433e94a59",
       "msg_throttle": 1
      }
     },
     "f8cda9b41feb470686b8d8529111b224": {
      "model_module": "jupyter-js-widgets",
      "model_module_version": "~2.1.4",
      "model_name": "DropdownModel",
      "state": {
       "_model_module_version": "~2.1.4",
       "_options_labels": [
        "Projections",
        "Open beam images",
        "Dark images"
       ],
       "_view_module_version": "~2.1.4",
       "description": "ims",
       "layout": "IPY_MODEL_8bf1a4b6ceb74d87970e3cc7a231caef",
       "value": "Projections"
      }
     },
     "f909f9c549d94c3caa9a8468cb911fab": {
      "model_module": "jupyter-js-widgets",
      "model_module_version": "~2.1.4",
      "model_name": "DropdownModel",
      "state": {
       "_model_module_version": "~2.1.4",
       "_options_labels": [
        "10",
        "100",
        "500",
        "1000"
       ],
       "_view_module_version": "~2.1.4",
       "description": "diff",
       "layout": "IPY_MODEL_3fadd05b3ef146198dd02dc892c3f3b4",
       "value": "10"
      }
     },
     "f931a63cd7934dcda9b6033105a00f04": {
      "model_module": "jupyter-js-widgets",
      "model_module_version": "~2.1.4",
      "model_name": "VBoxModel",
      "state": {
       "_dom_classes": [
        "widget-interact"
       ],
       "_model_module_version": "~2.1.4",
       "_view_module_version": "~2.1.4",
       "children": [
        "IPY_MODEL_969683698221437dbadbd24c70c01d2c",
        "IPY_MODEL_790331cf31c14c80a9f04beae181fa1d",
        "IPY_MODEL_a29cb48c92b24f3497efba01ced7dbb8",
        "IPY_MODEL_35f29d99860d4e8d8ddc11d76712ca6d"
       ],
       "layout": "IPY_MODEL_22e507d468214c2f9be0d71e910c75b6"
      }
     },
     "f955df4f790d4ce2ab7c6c3cbf3102a8": {
      "model_module": "jupyter-js-widgets",
      "model_module_version": "~2.1.4",
      "model_name": "FloatSliderModel",
      "state": {
       "_model_module_version": "~2.1.4",
       "_view_module_version": "~2.1.4",
       "description": "vmin",
       "layout": "IPY_MODEL_3f93c554d2fa4218a4798807f101419c",
       "max": 0.015653500333428383,
       "min": -0.020783809944987297,
       "step": 0.001,
       "value": -0.00078
      }
     },
     "f95a4f1fad5f4e4481f2f95534f1f17d": {
      "model_module": "jupyter-js-widgets",
      "model_module_version": "~2.1.4",
      "model_name": "DropdownModel",
      "state": {
       "_model_module_version": "~2.1.4",
       "_options_labels": [
        "Projections",
        "Open beam images",
        "Dark images"
       ],
       "_view_module_version": "~2.1.4",
       "description": "ims",
       "layout": "IPY_MODEL_520deb91a07a47508e334f2bcda6e05d",
       "value": "Projections"
      }
     },
     "f9d8cfab0e334783bdbae853db04084a": {
      "model_module": "jupyter-js-widgets",
      "model_module_version": "~2.1.4",
      "model_name": "DropdownModel",
      "state": {
       "_model_module_version": "~2.1.4",
       "_options_labels": [
        "0",
        "10000",
        "65535"
       ],
       "_view_module_version": "~2.1.4",
       "description": "vmax",
       "layout": "IPY_MODEL_6501bb5e284c4f658949f03d23ccbc40",
       "value": "65535"
      }
     },
     "f9e8c745b1af41378c7ac0a9155d7f3c": {
      "model_module": "jupyter-js-widgets",
      "model_module_version": "~2.1.4",
      "model_name": "DropdownModel",
      "state": {
       "_model_module_version": "~2.1.4",
       "_options_labels": [
        "Projections",
        "Open beam images",
        "Dark images"
       ],
       "_view_module_version": "~2.1.4",
       "description": "ims",
       "layout": "IPY_MODEL_c10b311860d04a64bea6779a98b205d6",
       "value": "Projections"
      }
     },
     "fa0fb33c45474f72b42446cc99d7a788": {
      "model_module": "jupyter-js-widgets",
      "model_module_version": "~2.1.4",
      "model_name": "LayoutModel",
      "state": {
       "_model_module_version": "~2.1.4",
       "_view_module_version": "~2.1.4"
      }
     },
     "fa16f72dad744af1bb89be3d93222512": {
      "model_module": "jupyter-js-widgets",
      "model_module_version": "~2.1.4",
      "model_name": "LayoutModel",
      "state": {
       "_model_module_version": "~2.1.4",
       "_view_module_version": "~2.1.4"
      }
     },
     "fa2ec9ab7327471999e1bb4dd9a82675": {
      "model_module": "jupyter-js-widgets",
      "model_module_version": "~2.1.4",
      "model_name": "SliderStyleModel",
      "state": {
       "_model_module_version": "~2.1.4",
       "_view_module_version": "~2.1.4"
      }
     },
     "fa351b3f4e3746309e65546646f98588": {
      "model_module": "jupyter-js-widgets",
      "model_module_version": "~2.1.4",
      "model_name": "LayoutModel",
      "state": {
       "_model_module_version": "~2.1.4",
       "_view_module_version": "~2.1.4"
      }
     },
     "fa4e041079a2474c985f63466078f987": {
      "model_module": "jupyter-js-widgets",
      "model_module_version": "~2.1.4",
      "model_name": "FloatSliderModel",
      "state": {
       "_model_module_version": "~2.1.4",
       "_view_module_version": "~2.1.4",
       "description": "vmin",
       "layout": "IPY_MODEL_1648feb503a44764a3719e24a5c32ec0",
       "max": 0.009999999776482582,
       "min": -0.005170748569071293,
       "readout_format": ".3f",
       "step": 0.001,
       "value": -0.00117
      }
     },
     "fa52a103cdb2475eb48a0da3c9baa5f7": {
      "model_module": "jupyter-js-widgets",
      "model_module_version": "~2.1.4",
      "model_name": "SliderStyleModel",
      "state": {
       "_model_module_version": "~2.1.4",
       "_view_module_version": "~2.1.4"
      }
     },
     "fa5394f8aa2644b1b4ba1fc35662ffa1": {
      "model_module": "jupyter-js-widgets",
      "model_module_version": "~2.1.4",
      "model_name": "OutputModel",
      "state": {
       "_dom_classes": [],
       "_model_module": "jupyter-js-widgets",
       "_model_module_version": "~2.1.4",
       "_view_module": "jupyter-js-widgets",
       "_view_module_version": "~2.1.4",
       "layout": "IPY_MODEL_5676c2ced68343b4996d1bcc5df2e329",
       "msg_throttle": 1
      }
     },
     "fa7f6f66bebe43ffaa23cbbfc1cab09c": {
      "model_module": "jupyter-js-widgets",
      "model_module_version": "~2.1.4",
      "model_name": "OutputModel",
      "state": {
       "_dom_classes": [],
       "_model_module": "jupyter-js-widgets",
       "_model_module_version": "~2.1.4",
       "_view_module": "jupyter-js-widgets",
       "_view_module_version": "~2.1.4",
       "layout": "IPY_MODEL_053cebca330b4e4abe47930d19de133b",
       "msg_throttle": 1
      }
     },
     "fa87502602784591893b35c3d2030305": {
      "model_module": "jupyter-js-widgets",
      "model_module_version": "~2.1.4",
      "model_name": "OutputModel",
      "state": {
       "_dom_classes": [],
       "_model_module": "jupyter-js-widgets",
       "_model_module_version": "~2.1.4",
       "_view_module": "jupyter-js-widgets",
       "_view_module_version": "~2.1.4",
       "layout": "IPY_MODEL_c2344470661a41a4b42ec3524ac4f1f4",
       "msg_throttle": 1
      }
     },
     "faec9eb91b084186b4d8f92b6c5ec6e5": {
      "model_module": "jupyter-js-widgets",
      "model_module_version": "~2.1.4",
      "model_name": "VBoxModel",
      "state": {
       "_dom_classes": [
        "widget-interact"
       ],
       "_model_module_version": "~2.1.4",
       "_view_module_version": "~2.1.4",
       "children": [
        "IPY_MODEL_342b7f07c32c4f1bac35b4d0698016b0",
        "IPY_MODEL_b61523972ac947aca694c6c0dec37fd0",
        "IPY_MODEL_2e0c066e1a3a489dbdd3ff71799dbcac",
        "IPY_MODEL_4004b7d97f184e08b6a254c6c5e55904",
        "IPY_MODEL_14389f835e204f33a0a680afa34d650b"
       ],
       "layout": "IPY_MODEL_b91acf97d75b40ecb3ae2b37fb40367e"
      }
     },
     "fb1df127bc8b46f097086c43cce7dd0d": {
      "model_module": "jupyter-js-widgets",
      "model_module_version": "~2.1.4",
      "model_name": "OutputModel",
      "state": {
       "_dom_classes": [],
       "_model_module": "jupyter-js-widgets",
       "_model_module_version": "~2.1.4",
       "_view_module": "jupyter-js-widgets",
       "_view_module_version": "~2.1.4",
       "layout": "IPY_MODEL_93c3053fb6ec47b9b4e9c7aed72122d5",
       "msg_throttle": 1
      }
     },
     "fb51077a814b43acbbbe92965d7e637d": {
      "model_module": "jupyter-js-widgets",
      "model_module_version": "~2.1.4",
      "model_name": "FloatSliderModel",
      "state": {
       "_model_module_version": "~2.1.4",
       "_view_module_version": "~2.1.4",
       "description": "vmax",
       "layout": "IPY_MODEL_953052c16e37456f887a7548c4b43d79",
       "max": 1,
       "step": 0.1,
       "value": 1
      }
     },
     "fb73b1b46be74cae859fc3134a1f504b": {
      "model_module": "jupyter-js-widgets",
      "model_module_version": "~2.1.4",
      "model_name": "DropdownModel",
      "state": {
       "_model_module_version": "~2.1.4",
       "_options_labels": [
        "10",
        "100",
        "250",
        "500",
        "750",
        "1000"
       ],
       "_view_module_version": "~2.1.4",
       "description": "diff",
       "layout": "IPY_MODEL_a96783e0446a4457b1811c28bb605a25",
       "value": "1000"
      }
     },
     "fb7db51365d044b083e4df00503915e5": {
      "model_module": "jupyter-js-widgets",
      "model_module_version": "~2.1.4",
      "model_name": "SliderStyleModel",
      "state": {
       "_model_module_version": "~2.1.4",
       "_view_module_version": "~2.1.4"
      }
     },
     "fb96d5d5737c4c5f90a5787b59d2bd28": {
      "model_module": "jupyter-js-widgets",
      "model_module_version": "~2.1.4",
      "model_name": "LayoutModel",
      "state": {
       "_model_module_version": "~2.1.4",
       "_view_module_version": "~2.1.4"
      }
     },
     "fbbc204476e140c4bd4f664254bd7b7d": {
      "model_module": "jupyter-js-widgets",
      "model_module_version": "~2.1.4",
      "model_name": "LayoutModel",
      "state": {
       "_model_module_version": "~2.1.4",
       "_view_module_version": "~2.1.4"
      }
     },
     "fbe7c49cad11418394297f2fa488dc85": {
      "model_module": "jupyter-js-widgets",
      "model_module_version": "~2.1.4",
      "model_name": "IntSliderModel",
      "state": {
       "_model_module_version": "~2.1.4",
       "_view_module_version": "~2.1.4",
       "description": "vmax",
       "layout": "IPY_MODEL_8197d65dc380453fa7e21158dccd0daf",
       "max": 65535,
       "style": "IPY_MODEL_881980471eed4b8fac7a082f0a2e9521",
       "value": 65535
      }
     },
     "fc7df9c4f7da481b96b79d7170ba871c": {
      "model_module": "jupyter-js-widgets",
      "model_module_version": "~2.1.4",
      "model_name": "LayoutModel",
      "state": {
       "_model_module_version": "~2.1.4",
       "_view_module_version": "~2.1.4"
      }
     },
     "fc8ce8312a124ed89fd31d9d0797571e": {
      "model_module": "jupyter-js-widgets",
      "model_module_version": "~2.1.4",
      "model_name": "DropdownModel",
      "state": {
       "_model_module_version": "~2.1.4",
       "_options_labels": [
        "10",
        "100",
        "500",
        "1000"
       ],
       "_view_module_version": "~2.1.4",
       "description": "diff",
       "layout": "IPY_MODEL_84b5adb853084b9798d5d33a06b2db64",
       "value": "1000"
      }
     },
     "fce9a7a560834bc18d3a47d2f9a0b590": {
      "model_module": "jupyter-js-widgets",
      "model_module_version": "~2.1.4",
      "model_name": "VBoxModel",
      "state": {
       "_dom_classes": [
        "widget-interact"
       ],
       "_model_module_version": "~2.1.4",
       "_view_module_version": "~2.1.4",
       "children": [
        "IPY_MODEL_ee3b2e4bc2d54971a34958917413d7de",
        "IPY_MODEL_216f7e53507444098ea7e0e04447ce4c",
        "IPY_MODEL_588e187315f945ba84be2d60883355ca",
        "IPY_MODEL_fa5394f8aa2644b1b4ba1fc35662ffa1"
       ],
       "layout": "IPY_MODEL_c053f80f140144ebb13968c479ebf88f"
      }
     },
     "fd29b0ae863f41b38d0328c1efa2346b": {
      "model_module": "jupyter-js-widgets",
      "model_module_version": "~2.1.4",
      "model_name": "VBoxModel",
      "state": {
       "_dom_classes": [
        "widget-interact"
       ],
       "_model_module_version": "~2.1.4",
       "_view_module_version": "~2.1.4",
       "children": [
        "IPY_MODEL_911747d2f08242c0806f21157098b4bb",
        "IPY_MODEL_6bf9ed34443645c0837ac669d5bf7b5b",
        "IPY_MODEL_710f4f84aa6d448db89a37b1d42033ad",
        "IPY_MODEL_f8af37fe2679436d966fdfea37e578c0",
        "IPY_MODEL_72a1212d690b431589970ab6dae6a818",
        "IPY_MODEL_774efedf0caf499aa5b8f5bc103c655c",
        "IPY_MODEL_c9c894aa1d4540fba63bda438bc6ec50"
       ],
       "layout": "IPY_MODEL_6fd9881d715140c48668207ee73d4a6b"
      }
     },
     "fd2bd3de83f14bfcb1521c3ca894521c": {
      "model_module": "jupyter-js-widgets",
      "model_module_version": "~2.1.4",
      "model_name": "VBoxModel",
      "state": {
       "_dom_classes": [
        "widget-interact"
       ],
       "_model_module_version": "~2.1.4",
       "_view_module_version": "~2.1.4",
       "children": [
        "IPY_MODEL_e292dd198e1047fbb8b25c1b9ec8095c",
        "IPY_MODEL_9c907668fd024c60ada89930618d359c",
        "IPY_MODEL_e668785ff5474f11928bd003fe13b182"
       ],
       "layout": "IPY_MODEL_cc1320b14a2e4caa9a4306ad06500d4c"
      }
     },
     "fd53c157eb3543e8af67b85cbaa6fd2c": {
      "model_module": "jupyter-js-widgets",
      "model_module_version": "~2.1.4",
      "model_name": "LayoutModel",
      "state": {
       "_model_module_version": "~2.1.4",
       "_view_module_version": "~2.1.4"
      }
     },
     "fd57304b736b4347b0e59e56d7d61ad4": {
      "model_module": "jupyter-js-widgets",
      "model_module_version": "~2.1.4",
      "model_name": "VBoxModel",
      "state": {
       "_dom_classes": [
        "widget-interact"
       ],
       "_model_module_version": "~2.1.4",
       "_view_module_version": "~2.1.4",
       "children": [
        "IPY_MODEL_5158f269782246be9f7fa8af0c1b7a06",
        "IPY_MODEL_39926c3372ec4096b249aff409be88c2",
        "IPY_MODEL_b891659b966241a3b8de961ccc4fada2",
        "IPY_MODEL_4633c84b1b794a9a94d3069751d2e816",
        "IPY_MODEL_96fd8e681b42425f89e2d0135ec3d668"
       ],
       "layout": "IPY_MODEL_26c575198f564fcd850e8bd4f20c56ec"
      }
     },
     "fdb8e5372aa344e8999e28df31b18e96": {
      "model_module": "jupyter-js-widgets",
      "model_module_version": "~2.1.4",
      "model_name": "FloatSliderModel",
      "state": {
       "_model_module_version": "~2.1.4",
       "_view_module_version": "~2.1.4",
       "description": "vmax",
       "layout": "IPY_MODEL_f3a5c822f5e14c95be4009171b184da7",
       "max": 0.009999999776482582,
       "min": -0.005170748569071293,
       "readout_format": ".3f",
       "step": 0.001,
       "value": 0.00883
      }
     },
     "ff0be982d77a434b9f71e65ef10de8bb": {
      "model_module": "jupyter-js-widgets",
      "model_module_version": "~2.1.4",
      "model_name": "LayoutModel",
      "state": {
       "_model_module_version": "~2.1.4",
       "_view_module_version": "~2.1.4"
      }
     },
     "ff500948fa1e4a0da46d02e4a831ac39": {
      "model_module": "jupyter-js-widgets",
      "model_module_version": "~2.1.4",
      "model_name": "IntSliderModel",
      "state": {
       "_model_module_version": "~2.1.4",
       "_view_module_version": "~2.1.4",
       "description": "vmin",
       "layout": "IPY_MODEL_c3f45ba387a145c884aa34093c9a5eba",
       "max": 65535,
       "style": "IPY_MODEL_301c790bfcf14f6ab043f6db2b77eaf3"
      }
     },
     "ff547cc3ac5e4a72aeacc2eb91c508ff": {
      "model_module": "jupyter-js-widgets",
      "model_module_version": "~2.1.4",
      "model_name": "SliderStyleModel",
      "state": {
       "_model_module_version": "~2.1.4",
       "_view_module_version": "~2.1.4"
      }
     },
     "ff5c766904d14a33ae6275ddd220d199": {
      "model_module": "jupyter-js-widgets",
      "model_module_version": "~2.1.4",
      "model_name": "LayoutModel",
      "state": {
       "_model_module_version": "~2.1.4",
       "_view_module_version": "~2.1.4"
      }
     },
     "ff786c6b33164644a57aad5375732953": {
      "model_module": "jupyter-js-widgets",
      "model_module_version": "~2.1.4",
      "model_name": "LayoutModel",
      "state": {
       "_model_module_version": "~2.1.4",
       "_view_module_version": "~2.1.4"
      }
     },
     "ff8e37b5afe64a4bbfe2579092830de4": {
      "model_module": "jupyter-js-widgets",
      "model_module_version": "~2.1.4",
      "model_name": "SliderStyleModel",
      "state": {
       "_model_module_version": "~2.1.4",
       "_view_module_version": "~2.1.4"
      }
     },
     "ffa66bea1eee4078b68c882304925b85": {
      "model_module": "jupyter-js-widgets",
      "model_module_version": "~2.1.4",
      "model_name": "LayoutModel",
      "state": {
       "_model_module_version": "~2.1.4",
       "_view_module_version": "~2.1.4"
      }
     }
    },
    "version_major": 1,
    "version_minor": 0
   }
  }
 },
 "nbformat": 4,
 "nbformat_minor": 2
}
